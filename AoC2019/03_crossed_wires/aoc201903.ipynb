{
  "cells": [
    {
      "cell_type": "markdown",
      "id": "dDZWBB4Ll10C",
      "metadata": {
        "id": "dDZWBB4Ll10C"
      },
      "source": [
        "# Advent of Code Puzzles\n",
        "[Advent of Code 2019](https://adventofcode.com/2019) | [reddit/adventofcode](https://www.reddit.com/r/adventofcode/)"
      ]
    },
    {
      "cell_type": "code",
      "execution_count": 3,
      "id": "ri3O_1i3l2mo",
      "metadata": {
        "id": "ri3O_1i3l2mo"
      },
      "outputs": [],
      "source": [
        "from pathlib import Path\n",
        "import pandas as pd\n",
        "import numpy as np"
      ]
    },
    {
      "cell_type": "markdown",
      "id": "TnFAd8h1l8NI",
      "metadata": {
        "id": "TnFAd8h1l8NI"
      },
      "source": [
        "## [Day 03](https://adventofcode.com/2021/day/03): Crossed Wires \n",
        "### Part I\n",
        "- **Unknown**: The [Manhattan distance](https://en.wikipedia.org/wiki/Taxicab_geometry) from the central port to the closest intersection.\n",
        "- **Data**: Two wire's paths\n",
        "- **Condition**:\n",
        "    - A wire crossing with itself doesn't count.\n",
        "- **Plan**:\n",
        "    - Parse paths\n",
        "    - Learn to analyze and represent paths\n",
        "\n"
      ]
    },
    {
      "cell_type": "code",
      "execution_count": 16,
      "id": "1efb947a",
      "metadata": {},
      "outputs": [
        {
          "name": "stdout",
          "output_type": "stream",
          "text": [
            "('x', 11)\n",
            "('y', 12)\n",
            "('x', -20)\n",
            "('y', -2)\n",
            "get_xy() warning: Unknown move X12\n",
            "('NA', 0)\n"
          ]
        }
      ],
      "source": [
        "def get_xy(move):\n",
        "    \"\"\"Transform move to axis + directed lenght\"\"\"\n",
        "    what = move[0]\n",
        "    how = int(move[1:])\n",
        "    if what in ['R', 'L']:\n",
        "        ax = 'x'\n",
        "        di = how if what == 'R' else -how\n",
        "    elif what in ['U','D']:\n",
        "        ax = 'y'\n",
        "        di = how if what == 'U' else -how\n",
        "    else:\n",
        "        ax, di = \"NA\" , 0\n",
        "        print(f\"get_xy() warning: Unknown move {move}\")\n",
        "\n",
        "    return (ax, di)\n",
        "\n",
        "for move in ['R11', 'U12', 'L20', 'D2', 'X12']:\n",
        "    print(get_xy(move))"
      ]
    },
    {
      "cell_type": "code",
      "execution_count": 17,
      "id": "HZXVSS9bl736",
      "metadata": {
        "id": "HZXVSS9bl736"
      },
      "outputs": [
        {
          "name": "stdout",
          "output_type": "stream",
          "text": [
            "[[('x', 8), ('y', 5), ('x', -5), ('y', -3)], [('y', 7), ('x', 6), ('y', -4), ('x', -4)]]\n",
            "301 301\n"
          ]
        }
      ],
      "source": [
        "def parse(file):\n",
        "    \"\"\"Parse input to two list with an ax and a direction\"\"\"\n",
        "    txt = Path(file).read_text().strip()\n",
        "    wires = [line.split(',') for line in txt.split('\\n')]\n",
        "    for wire in wires:\n",
        "        for m in range(len(wire)):\n",
        "            wire[m] = get_xy(wire[m])\n",
        "    return wires\n",
        "wires1 = parse('example1.txt')\n",
        "print(wires1)\n",
        "wiresx = parse('input.txt')\n",
        "print(len(wiresx[0]), len(wiresx[1]))"
      ]
    },
    {
      "cell_type": "markdown",
      "id": "a9e9a1f8",
      "metadata": {},
      "source": [
        "The `parse()` function returns two lists of movements. I need to clarify the terms and concepts.\n",
        "\n",
        "This representation can be friendly for determining the shape of matrices and initializing two grids of wires.\n",
        "\n",
        "After adding two grids it will be possible to find the Manhattan distances from the central port to all intersections and return the minimum distance."
      ]
    },
    {
      "cell_type": "code",
      "execution_count": null,
      "id": "98b299a2",
      "metadata": {},
      "outputs": [],
      "source": []
    },
    {
      "cell_type": "code",
      "execution_count": null,
      "id": "f13111df",
      "metadata": {},
      "outputs": [],
      "source": []
    },
    {
      "cell_type": "code",
      "execution_count": null,
      "id": "50ad1401",
      "metadata": {},
      "outputs": [],
      "source": []
    },
    {
      "cell_type": "markdown",
      "id": "77043854",
      "metadata": {},
      "source": [
        "\n",
        "### Part II\n",
        "- **Unknown**: \n",
        "- **Data**: \n",
        "- **Condition**:\n",
        "- **Plan**:\n"
      ]
    }
  ],
  "metadata": {
    "kernelspec": {
      "display_name": "Python 3",
      "language": "python",
      "name": "python3"
    },
    "language_info": {
      "codemirror_mode": {
        "name": "ipython",
        "version": 3
      },
      "file_extension": ".py",
      "mimetype": "text/x-python",
      "name": "python",
      "nbconvert_exporter": "python",
      "pygments_lexer": "ipython3",
      "version": "3.9.9"
    }
  },
  "nbformat": 4,
  "nbformat_minor": 5
}
