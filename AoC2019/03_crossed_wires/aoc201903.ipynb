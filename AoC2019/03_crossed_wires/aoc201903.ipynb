{
  "cells": [
    {
      "cell_type": "markdown",
      "id": "dDZWBB4Ll10C",
      "metadata": {
        "id": "dDZWBB4Ll10C"
      },
      "source": [
        "# Advent of Code Puzzles\n",
        "[Advent of Code 2019](https://adventofcode.com/2019) | [reddit/adventofcode](https://www.reddit.com/r/adventofcode/)"
      ]
    },
    {
      "cell_type": "code",
      "execution_count": 1,
      "id": "ri3O_1i3l2mo",
      "metadata": {
        "id": "ri3O_1i3l2mo"
      },
      "outputs": [],
      "source": [
        "from pathlib import Path\n",
        "import pandas as pd\n",
        "import numpy as np"
      ]
    },
    {
      "cell_type": "markdown",
      "id": "TnFAd8h1l8NI",
      "metadata": {
        "id": "TnFAd8h1l8NI"
      },
      "source": [
        "## [Day 03](https://adventofcode.com/2019/day/3): Crossed Wires \n",
        "### Part I\n",
        "- **Unknown**: The [Manhattan distance](https://en.wikipedia.org/wiki/Taxicab_geometry) from the central port to the closest intersection.\n",
        "- **Data**: Two wire's paths\n",
        "- **Condition**:\n",
        "    - A wire crossing with itself doesn't count.\n",
        "- **Plan**:\n",
        "    - Parse paths to get two lists of segments. Each segment is a double of an axis (category) and a vector (positive or negative number). > `parse()`\n",
        "    - Calculate grid shape and determine the central port position. > `calculate_limits()` &\n",
        "    ```python\n",
        "        # Calculate extent\n",
        "        shapes = np.array([calculate_limits(wires[0]), calculate_limits(wires[1])])\n",
        "        extent = [shapes.min(axis=0)[:,0], shapes.max(axis=0)[:,1]]\n",
        "\n",
        "        # Initialize central port (start) and grids\n",
        "        start = np.abs(extent[0])\n",
        "        shape = start + extent[1] + [2,2]\n",
        "        g1 = np.zeros(shape).astype(int)\n",
        "        g2 = np.zeros(shape).astype(int)\n",
        "    ```\n",
        "    - Trace both wires separately using segments > `trace_wire()` & `write_segm()`\n",
        "    - Add both grids > `map_wires()`\n",
        "    - Find all intersections (where value == 2)\n",
        "    - Calculate the Manhatan distances from start and return the minimum distance > `solve_part1()`\n",
        "\n"
      ]
    },
    {
      "cell_type": "code",
      "execution_count": 2,
      "id": "1efb947a",
      "metadata": {},
      "outputs": [
        {
          "name": "stdout",
          "output_type": "stream",
          "text": [
            "('x', 11)\n",
            "('y', 12)\n",
            "('x', -20)\n",
            "('y', -2)\n",
            "get_xy() warning: An unknown segment X12\n",
            "('X', 12)\n"
          ]
        }
      ],
      "source": [
        "def get_xy(segm):\n",
        "    \"\"\"Transform segments to an axis (cat) + a vector (num).\"\"\"\n",
        "    cat = segm[0]\n",
        "    num = int(segm[1:])\n",
        "    if cat in ['R', 'L']:\n",
        "        ax = 'x'\n",
        "        di = num if cat == 'R' else -num\n",
        "    elif cat in ['U','D']:\n",
        "        ax = 'y'\n",
        "        di = num if cat == 'U' else -num\n",
        "    else:\n",
        "        ax, di = cat, num\n",
        "        print(f\"get_xy() warning: An unknown segment {segm}\")\n",
        "\n",
        "    return (ax, di)\n",
        "\n",
        "for segm in ['R11', 'U12', 'L20', 'D2', 'X12']:\n",
        "    print(get_xy(segm))"
      ]
    },
    {
      "cell_type": "code",
      "execution_count": 3,
      "id": "HZXVSS9bl736",
      "metadata": {
        "id": "HZXVSS9bl736"
      },
      "outputs": [
        {
          "name": "stdout",
          "output_type": "stream",
          "text": [
            "[[('x', 8), ('y', 5), ('x', -5), ('y', -3)], [('y', 7), ('x', 6), ('y', -4), ('x', -4)]]\n",
            "301 301\n"
          ]
        }
      ],
      "source": [
        "def parse(file):\n",
        "    \"\"\"Parse input to two list with segments (axis, direction)\"\"\"\n",
        "    txt = Path(file).read_text().strip()\n",
        "    wires = [line.split(',') for line in txt.split('\\n')]\n",
        "    for wire in wires:\n",
        "        for segm in range(len(wire)):\n",
        "            wire[segm] = get_xy(wire[segm])\n",
        "    return wires\n",
        "wires1 = parse('example1.txt')\n",
        "print(wires1)\n",
        "wiresx = parse('input.txt')\n",
        "print(len(wiresx[0]), len(wiresx[1]))"
      ]
    },
    {
      "cell_type": "code",
      "execution_count": 4,
      "id": "98b299a2",
      "metadata": {},
      "outputs": [
        {
          "name": "stdout",
          "output_type": "stream",
          "text": [
            "[[0 8]\n",
            " [0 5]]\n",
            "[[0 6]\n",
            " [0 7]]\n",
            "[[-4937  2909]\n",
            " [-1184 10352]]\n",
            "[[-8412     0]\n",
            " [-5080  3210]]\n"
          ]
        }
      ],
      "source": [
        "def calculate_limits(wire):\n",
        "    \"\"\"Calculate limits of a wire topology.\"\"\"\n",
        "    # Initialize limits = [xmin, xmax, ymin, ymax]\n",
        "    limits = [0, 0, 0, 0]\n",
        "    # Initialize a variable for tracing position\n",
        "    coords = [0, 0]\n",
        "    # Trace the wire\n",
        "    for ax, di in wire:\n",
        "        # Update a position and check limits\n",
        "        if ax == 'x':\n",
        "            coords[0] += di\n",
        "            limits[0] = min(limits[0], coords[0])\n",
        "            limits[1] = max(limits[1], coords[0])\n",
        "        else:\n",
        "            coords[1] += di\n",
        "            limits[2] = min(limits[2], coords[1])\n",
        "            limits[3] = max(limits[3], coords[1])\n",
        "    return np.array(limits).reshape((2,2))\n",
        "\n",
        "for wires in [wires1, wiresx]:\n",
        "    for wire in wires:\n",
        "        print(calculate_limits(wire))"
      ]
    },
    {
      "cell_type": "code",
      "execution_count": 5,
      "id": "e380d0e9",
      "metadata": {},
      "outputs": [],
      "source": [
        "def write_segm(grid, start, segm):\n",
        "    \"\"\"Place the segment to the grid\"\"\"\n",
        "    ax, di = segm\n",
        "    sx, sy = start \n",
        "    if ax == 'x' and di > 0:\n",
        "        for idx in range(1, di+1):\n",
        "            grid[sx + idx, sy] = 1\n",
        "    elif ax == 'x' and di < 0:\n",
        "        for idx in range(1, np.abs(di)+1):\n",
        "            grid[sx - idx, sy] = 1\n",
        "    elif ax == 'y' and di > 0:\n",
        "        for idx in range(1, di+1):\n",
        "            grid[sx, sy + idx] = 1\n",
        "    elif ax == 'y' and di < 0:\n",
        "        for idx in range(1, np.abs(di)+1):\n",
        "            grid[sx, sy - idx] = 1\n",
        "    else:\n",
        "        print(f\"write_segm() warning: something got wrong with start={start} and segm={segm}\")\n",
        "    \n",
        "    return \n",
        "\n",
        "def trace_wire(grid, start, wire):\n",
        "    \"\"\"Write segments of the wire to the grid\"\"\"\n",
        "\n",
        "    pos = start.copy() # To ensure same start for both grids\n",
        "    for segm in wire:\n",
        "        write_segm(grid,pos,segm)\n",
        "        ax, di = segm\n",
        "        if ax == 'x':\n",
        "            pos[0] += di\n",
        "        else:\n",
        "            pos[1] += di\n",
        "        # print(f\"segm={segm}, pos={pos}\")\n",
        "    return"
      ]
    },
    {
      "cell_type": "code",
      "execution_count": 6,
      "id": "02000aa7",
      "metadata": {},
      "outputs": [],
      "source": [
        "def map_wires(input):\n",
        "    \"\"\"Return the grid with wires mapped.\"\"\"\n",
        "\n",
        "    # Read input\n",
        "    wires = parse(input)\n",
        "    \n",
        "    # Calculate extent\n",
        "    shapes = np.array([calculate_limits(wires[0]), calculate_limits(wires[1])])\n",
        "    extent = [shapes.min(axis=0)[:,0], shapes.max(axis=0)[:,1]]\n",
        "\n",
        "    # Initialize grids\n",
        "    start = np.abs(extent[0])\n",
        "    shape = start + extent[1] + [2,2]\n",
        "    g1 = np.zeros(shape).astype(int)\n",
        "    g2 = np.zeros(shape).astype(int)\n",
        "    print(g1.shape, g2.shape, start)\n",
        "\n",
        "    # Trace wires\n",
        "    trace_wire(g1, start, wires[0])\n",
        "    assert start.all() == np.abs(extent[0]).all()\n",
        "    trace_wire(g2, start, wires[1])\n",
        "\n",
        "    # Add grids\n",
        "    return g1 + g2, start\n",
        "\n",
        "def solve_part1(input):\n",
        "    \"\"\"Solve part 1\"\"\"\n",
        "\n",
        "    out, start = map_wires(input)\n",
        "\n",
        "    # Find all intersections\n",
        "    x, y = np.asarray(out == 2).nonzero()\n",
        "    intersections = np.array(list(zip(x,y)))\n",
        " \n",
        "    return min([x+y for x,y in np.abs(intersections-start)])"
      ]
    },
    {
      "cell_type": "code",
      "execution_count": 7,
      "id": "70b6be75",
      "metadata": {},
      "outputs": [
        {
          "name": "stdout",
          "output_type": "stream",
          "text": [
            "(10, 9) (10, 9) [0 0]\n",
            "(240, 149) (240, 149) [ 0 30]\n",
            "(181, 122) (181, 122) [ 0 16]\n",
            "(11323, 15434) (11323, 15434) [8412 5080]\n"
          ]
        },
        {
          "data": {
            "text/plain": [
              "True"
            ]
          },
          "execution_count": 7,
          "metadata": {},
          "output_type": "execute_result"
        }
      ],
      "source": [
        "assert solve_part1('example1.txt') == 6\n",
        "assert solve_part1('example2.txt') == 159\n",
        "assert solve_part1('example3.txt') == 135\n",
        "assert solve_part1('input.txt') == 2050"
      ]
    },
    {
      "cell_type": "markdown",
      "id": "77043854",
      "metadata": {},
      "source": [
        "\n",
        "### Part II\n",
        "- **Unknown**: The sum of the fewest combined steps both wires must take to reach an intersection.\n",
        "- **Data**: Same as in part I.\n",
        "- **Condition**:\n",
        "    - If a wire visits a position on the grid multiple times, use the steps value from the first time it visits that position when calculating the total value of a specific intersection.\n",
        "- **Plan**:\n"
      ]
    },
    {
      "cell_type": "code",
      "execution_count": 8,
      "id": "cbf6a4f4",
      "metadata": {},
      "outputs": [
        {
          "name": "stdout",
          "output_type": "stream",
          "text": [
            "(10, 9) (10, 9) [0 0]\n"
          ]
        },
        {
          "data": {
            "text/plain": [
              "(array([[0, 1, 1, 1, 1, 1, 1, 1, 0],\n",
              "        [1, 0, 0, 0, 0, 0, 0, 1, 0],\n",
              "        [1, 0, 0, 1, 0, 0, 0, 1, 0],\n",
              "        [1, 0, 1, 2, 1, 1, 0, 1, 0],\n",
              "        [1, 0, 0, 1, 0, 1, 0, 1, 0],\n",
              "        [1, 0, 0, 1, 0, 1, 0, 1, 0],\n",
              "        [1, 0, 0, 1, 1, 2, 1, 1, 0],\n",
              "        [1, 0, 0, 0, 0, 1, 0, 0, 0],\n",
              "        [1, 1, 1, 1, 1, 1, 0, 0, 0],\n",
              "        [0, 0, 0, 0, 0, 0, 0, 0, 0]]),\n",
              " array([0, 0]),\n",
              " array([[3, 3],\n",
              "        [6, 5]], dtype=int64))"
            ]
          },
          "execution_count": 8,
          "metadata": {},
          "output_type": "execute_result"
        }
      ],
      "source": [
        "def get_grid_intersections(input):\n",
        "    \"\"\"Return mapped wires, the central port position and intersections\"\"\"\n",
        "\n",
        "    out, start = map_wires(input)\n",
        "\n",
        "    # Find all intersections\n",
        "    x, y = np.asarray(out == 2).nonzero()\n",
        "    intersections = np.array(list(zip(x,y)))\n",
        " \n",
        "    return out, start, intersections\n",
        "\n",
        "out, cp, isons = get_grid_intersections('example1.txt')\n",
        "out, cp, isons"
      ]
    },
    {
      "cell_type": "code",
      "execution_count": null,
      "id": "02ec7b2d",
      "metadata": {},
      "outputs": [],
      "source": []
    }
  ],
  "metadata": {
    "kernelspec": {
      "display_name": "Python 3",
      "language": "python",
      "name": "python3"
    },
    "language_info": {
      "codemirror_mode": {
        "name": "ipython",
        "version": 3
      },
      "file_extension": ".py",
      "mimetype": "text/x-python",
      "name": "python",
      "nbconvert_exporter": "python",
      "pygments_lexer": "ipython3",
      "version": "3.9.9"
    }
  },
  "nbformat": 4,
  "nbformat_minor": 5
}
