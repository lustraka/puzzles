{
 "cells": [
  {
   "cell_type": "markdown",
   "metadata": {},
   "source": [
    "# [Day 02](https://adventofcode.com/2019/day/2) : 1202 Program Alarm"
   ]
  },
  {
   "cell_type": "markdown",
   "metadata": {},
   "source": [
    "First implementation of part1:\n",
    "```python\n",
    "def part1(data):\n",
    "    \"\"\"Solve part 1\"\"\"\n",
    "\n",
    "    # Run the code\n",
    "    i = 0\n",
    "    while data[i] != 99:\n",
    "        if data[i] == 1:\n",
    "            data[data[i+3]] = data[data[i+1]] + data[data[i+2]]\n",
    "        else:\n",
    "            data[data[i+3]] = data[data[i+1]] * data[data[i+2]]\n",
    "        i += 4\n",
    "    return data[0]\n",
    "```"
   ]
  },
  {
   "cell_type": "code",
   "execution_count": 1,
   "metadata": {},
   "outputs": [],
   "source": [
    "import aoc201902 as aoc"
   ]
  },
  {
   "cell_type": "code",
   "execution_count": 2,
   "metadata": {},
   "outputs": [
    {
     "data": {
      "text/plain": [
       "3409710"
      ]
     },
     "execution_count": 2,
     "metadata": {},
     "output_type": "execute_result"
    }
   ],
   "source": [
    "data = aoc.parse('input.txt', 12, 2)\n",
    "aoc.part1(data.copy())"
   ]
  },
  {
   "cell_type": "code",
   "execution_count": 3,
   "metadata": {},
   "outputs": [
    {
     "data": {
      "text/plain": [
       "7912"
      ]
     },
     "execution_count": 3,
     "metadata": {},
     "output_type": "execute_result"
    }
   ],
   "source": [
    "aoc.part2(data)"
   ]
  }
 ],
 "metadata": {
  "interpreter": {
   "hash": "ca367ec2123462f39d29b1cb00fbec81c42b60930943c35eba205ccbd8e96ce2"
  },
  "kernelspec": {
   "display_name": "Python 3.9.9 64-bit (windows store)",
   "language": "python",
   "name": "python3"
  },
  "language_info": {
   "codemirror_mode": {
    "name": "ipython",
    "version": 3
   },
   "file_extension": ".py",
   "mimetype": "text/x-python",
   "name": "python",
   "nbconvert_exporter": "python",
   "pygments_lexer": "ipython3",
   "version": "3.9.9"
  },
  "orig_nbformat": 4
 },
 "nbformat": 4,
 "nbformat_minor": 2
}
