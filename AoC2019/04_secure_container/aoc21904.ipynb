{
 "cells": [
  {
   "cell_type": "markdown",
   "metadata": {},
   "source": [
    "# [Day 04: Secure Container](https://adventofcode.com/2019/day/4)\n",
    "\n",
    "## Part I\n",
    "- **Unknown**: The count of six-digit numbers within the given range meeting the conditon.\n",
    "- **Data**: The range\n",
    "- **Condition**:\n",
    "  - There has to be at least one double = two adjacent digits same.\n",
    "  - Going from left to right, the digits never decrease.\n",
    "- **Plan**\n",
    "  - Analyze the contitions to get a function $y = f(x).\n",
    "  - Get results by calculating $f(max) - f(min)$."
   ]
  },
  {
   "cell_type": "code",
   "execution_count": 5,
   "metadata": {},
   "outputs": [],
   "source": [
    "min, max =  246540, 787419"
   ]
  },
  {
   "cell_type": "markdown",
   "metadata": {},
   "source": [
    "$f(99) = 10$, because len(00, 11, 22, 33, ..., 99) = 10.\n",
    "\n",
    "$f(999) = 100$ \n",
    "Pattern | Count | Subsum | Limit\n",
    "-|-|-|-\n",
    "00x | 10 | | 009\n",
    "0xx | 9 | 19 | 099\n",
    "11x | 9 | | 119\n",
    "1xx | 8 | 17 | 199\n",
    "22x | 8 |  | 229\n",
    "2xx | 7 | 15 | 299\n",
    "33x | 7 |  | 339\n",
    "3xx | 6 | 13 | 399\n",
    "44x | 6 |  | 449\n",
    "4xx | 5 | 11 | 499\n",
    "55x | 5 |  | 559\n",
    "5xx | 4 | 9 | 599\n",
    "66x | 4 |  | 669\n",
    "6xx | 3 | 7 | 699\n",
    "77x | 3 |  | 779\n",
    "7xx | 2 | 5 | 799\n",
    "88x | 2 |  | 889\n",
    "8xx | 1 | 3 | 899\n",
    "999 | 1 | 1 | 999"
   ]
  },
  {
   "cell_type": "code",
   "execution_count": 4,
   "metadata": {},
   "outputs": [
    {
     "data": {
      "text/plain": [
       "100"
      ]
     },
     "execution_count": 4,
     "metadata": {},
     "output_type": "execute_result"
    }
   ],
   "source": [
    "sum(list(range(1,20,2)))"
   ]
  },
  {
   "cell_type": "code",
   "execution_count": null,
   "metadata": {},
   "outputs": [],
   "source": []
  }
 ],
 "metadata": {
  "interpreter": {
   "hash": "7abf9b56ac517bedcfc5fddd01d3dc81f318d12e43fd744a3fbbe0f69873f226"
  },
  "kernelspec": {
   "display_name": "Python 3.9.7 64-bit ('base': conda)",
   "language": "python",
   "name": "python3"
  },
  "language_info": {
   "codemirror_mode": {
    "name": "ipython",
    "version": 3
   },
   "file_extension": ".py",
   "mimetype": "text/x-python",
   "name": "python",
   "nbconvert_exporter": "python",
   "pygments_lexer": "ipython3",
   "version": "3.9.7"
  },
  "orig_nbformat": 4
 },
 "nbformat": 4,
 "nbformat_minor": 2
}
