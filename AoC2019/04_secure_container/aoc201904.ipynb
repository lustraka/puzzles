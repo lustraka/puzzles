{
 "cells": [
  {
   "cell_type": "markdown",
   "metadata": {},
   "source": [
    "# [Day 04: Secure Container](https://adventofcode.com/2019/day/4)\n",
    "\n",
    "## Part I\n",
    "- **Unknown**: The count of six-digit numbers within the given range meeting the conditon.\n",
    "- **Data**: The range\n",
    "- **Condition**:\n",
    "  - There has to be at least one double = two adjacent digits same.\n",
    "  - Going from left to right, the digits never decrease.\n",
    "- **Plan 1**:\n",
    "  - Analyze the contitions to get a function $y = f(x).\n",
    "  - Get results by calculating $f(max) - f(min)$.\n",
    "  - > This approach is demanding and difficult to operationalize.\n",
    "\n",
    "- **Plan 2**:\n",
    "  - Iterate over all numbers in the interval and check the condition.\n",
    "  - Number never decreases if `(s := list(str(n))) == sorted(s)`\n",
    "  - Check adjacent digit using `collection.Counter()`\n",
    "  - Use [type conversion](https://www.geeksforgeeks.org/type-conversion-python/) to increment variable with `bool()` and the [set operation](https://realpython.com/python-sets/) `x & y`, i.e. intersection."
   ]
  },
  {
   "cell_type": "code",
   "execution_count": 12,
   "metadata": {},
   "outputs": [],
   "source": [
    "from collections import Counter\n",
    "min, max =  246540, 787419"
   ]
  },
  {
   "cell_type": "markdown",
   "metadata": {},
   "source": [
    "$f(99) = 10$, because len(00, 11, 22, 33, ..., 99) = 10.\n",
    "\n",
    "$f(999) = 100$ \n",
    "Pattern | Count | Subsum | Limit\n",
    "-|-|-|-\n",
    "00x | 10 | | 009\n",
    "0xx | 9 | 19 | 099\n",
    "11x | 9 | | 119\n",
    "1xx | 8 | 17 | 199\n",
    "22x | 8 |  | 229\n",
    "2xx | 7 | 15 | 299\n",
    "33x | 7 |  | 339\n",
    "3xx | 6 | 13 | 399\n",
    "44x | 6 |  | 449\n",
    "4xx | 5 | 11 | 499\n",
    "55x | 5 |  | 559\n",
    "5xx | 4 | 9 | 599\n",
    "66x | 4 |  | 669\n",
    "6xx | 3 | 7 | 699\n",
    "77x | 3 |  | 779\n",
    "7xx | 2 | 5 | 799\n",
    "88x | 2 |  | 889\n",
    "8xx | 1 | 3 | 899\n",
    "999 | 1 | 1 | 999"
   ]
  },
  {
   "cell_type": "code",
   "execution_count": 30,
   "metadata": {},
   "outputs": [
    {
     "name": "stdout",
     "output_type": "stream",
     "text": [
      "111111 : True\n",
      "['1', '1', '1', '1', '1', '1'] {6} Counter({'1': 6})\n",
      "boolean : True 1\n",
      "223450 : False\n",
      "['2', '2', '3', '4', '5', '0'] {1, 2} Counter({'2': 2, '3': 1, '4': 1, '5': 1, '0': 1})\n",
      "boolean : True 1\n",
      "123789 : True\n",
      "['1', '2', '3', '7', '8', '9'] {1} Counter({'1': 1, '2': 1, '3': 1, '7': 1, '8': 1, '9': 1})\n",
      "boolean : False 0\n",
      "122345 : True\n",
      "['1', '2', '2', '3', '4', '5'] {1, 2} Counter({'2': 2, '1': 1, '3': 1, '4': 1, '5': 1})\n",
      "boolean : True 1\n"
     ]
    }
   ],
   "source": [
    "for n in [111111, 223450, 123789, 122345]:\n",
    "    print(n, ':', (s := list(str(n))) == sorted(s))\n",
    "    print(s, c := set(Counter(s).values()), Counter(s))\n",
    "    print('boolean :', b := bool(c & {2, 3, 4, 5, 6}), 0 + b)"
   ]
  },
  {
   "cell_type": "code",
   "execution_count": 27,
   "metadata": {},
   "outputs": [
    {
     "data": {
      "text/plain": [
       "81"
      ]
     },
     "execution_count": 27,
     "metadata": {},
     "output_type": "execute_result"
    }
   ],
   "source": [
    "def solve_part1(min, max):\n",
    "    \"\"\"Count codes satisfying condition\"\"\"\n",
    "    ncodes = 0\n",
    "    for n in range(min, max+1):\n",
    "        if (s := list(str(n))) == sorted(s):\n",
    "            c = set(Counter(s).values())\n",
    "\n",
    "            ncodes += bool(c & {2, 3, 4, 5, 6})\n",
    "    return ncodes\n",
    "solve_part1(100,999)"
   ]
  },
  {
   "cell_type": "code",
   "execution_count": 28,
   "metadata": {},
   "outputs": [
    {
     "data": {
      "text/plain": [
       "1063"
      ]
     },
     "execution_count": 28,
     "metadata": {},
     "output_type": "execute_result"
    }
   ],
   "source": [
    "solve_part1(min,max)"
   ]
  },
  {
   "cell_type": "code",
   "execution_count": 29,
   "metadata": {},
   "outputs": [
    {
     "data": {
      "text/plain": [
       "686"
      ]
     },
     "execution_count": 29,
     "metadata": {},
     "output_type": "execute_result"
    }
   ],
   "source": [
    "def solve_part1(min, max):\n",
    "    \"\"\"Count codes satisfying condition\"\"\"\n",
    "    ncodes = 0\n",
    "    for n in range(min, max+1):\n",
    "        if (s := list(str(n))) == sorted(s):\n",
    "            c = set(Counter(s).values())\n",
    "\n",
    "            ncodes += bool(c & {2})\n",
    "    return ncodes\n",
    "\n",
    "solve_part1(min,max)"
   ]
  },
  {
   "cell_type": "code",
   "execution_count": null,
   "metadata": {},
   "outputs": [],
   "source": []
  }
 ],
 "metadata": {
  "interpreter": {
   "hash": "7abf9b56ac517bedcfc5fddd01d3dc81f318d12e43fd744a3fbbe0f69873f226"
  },
  "kernelspec": {
   "display_name": "Python 3.9.7 64-bit ('base': conda)",
   "language": "python",
   "name": "python3"
  },
  "language_info": {
   "codemirror_mode": {
    "name": "ipython",
    "version": 3
   },
   "file_extension": ".py",
   "mimetype": "text/x-python",
   "name": "python",
   "nbconvert_exporter": "python",
   "pygments_lexer": "ipython3",
   "version": "3.9.7"
  },
  "orig_nbformat": 4
 },
 "nbformat": 4,
 "nbformat_minor": 2
}
