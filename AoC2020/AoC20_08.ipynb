{
 "cells": [
  {
   "cell_type": "markdown",
   "metadata": {},
   "source": [
    "# [Day 8](https://adventofcode.com/2020/day/8) : Handheld Halting\n",
    "## Part I"
   ]
  },
  {
   "cell_type": "code",
   "execution_count": 2,
   "metadata": {},
   "outputs": [],
   "source": [
    "# Import dependencies\n",
    "from pathlib import Path"
   ]
  },
  {
   "cell_type": "code",
   "execution_count": 3,
   "metadata": {},
   "outputs": [
    {
     "data": {
      "text/plain": [
       "[['nop', 0],\n",
       " ['acc', 1],\n",
       " ['jmp', 4],\n",
       " ['acc', 3],\n",
       " ['jmp', -3],\n",
       " ['acc', -99],\n",
       " ['acc', 1],\n",
       " ['jmp', -4],\n",
       " ['acc', 6]]"
      ]
     },
     "execution_count": 3,
     "metadata": {},
     "output_type": "execute_result"
    }
   ],
   "source": [
    "def parse(test=True):\n",
    "    filename = './data/AoC20_08t.txt' if test else './data/AoC20_08.txt'\n",
    "    lines = Path(filename).read_text().split('\\n')\n",
    "    instructions = []\n",
    "    for line in lines:\n",
    "        parts = line.split()\n",
    "        sign = parts[1][0]\n",
    "        parts[1] = parts[1][1:]\n",
    "        instructions.append([parts[0],int(parts[1]) if sign == '+' else -1*int(parts[1])])\n",
    "    return instructions\n",
    "parse()"
   ]
  },
  {
   "cell_type": "code",
   "execution_count": 12,
   "metadata": {},
   "outputs": [
    {
     "data": {
      "text/plain": [
       "5"
      ]
     },
     "execution_count": 12,
     "metadata": {},
     "output_type": "execute_result"
    }
   ],
   "source": [
    "def solve_part1(test=True):\n",
    "    prg = parse(test)\n",
    "    cursor = 0\n",
    "    visited = []\n",
    "    accum = 0\n",
    "    while True:\n",
    "        if cursor not in visited:\n",
    "            visited.append(cursor)\n",
    "            op, arg = prg[cursor]\n",
    "            # print(f\"Process {op} {arg} on line {cursor}\")\n",
    "            if op == 'nop':\n",
    "                cursor += 1\n",
    "            elif op == 'jmp':\n",
    "                cursor += arg\n",
    "            elif op == 'acc':\n",
    "                cursor += 1\n",
    "                accum += arg\n",
    "        else:\n",
    "            break\n",
    "    return accum\n",
    "\n",
    "solve_part1()"
   ]
  },
  {
   "cell_type": "code",
   "execution_count": 13,
   "metadata": {},
   "outputs": [
    {
     "data": {
      "text/plain": [
       "1563"
      ]
     },
     "execution_count": 13,
     "metadata": {},
     "output_type": "execute_result"
    }
   ],
   "source": [
    "solve_part1(False)"
   ]
  },
  {
   "cell_type": "markdown",
   "metadata": {},
   "source": [
    "# Part II"
   ]
  },
  {
   "cell_type": "code",
   "execution_count": 19,
   "metadata": {},
   "outputs": [
    {
     "name": "stdout",
     "output_type": "stream",
     "text": [
      "Testing instruction on row 7: ['jmp', 7] -> ['nop', -4]. Here accum = 8, cursor = 9\n"
     ]
    },
    {
     "data": {
      "text/plain": [
       "8"
      ]
     },
     "execution_count": 19,
     "metadata": {},
     "output_type": "execute_result"
    }
   ],
   "source": [
    "def solve_part2(test=True):\n",
    "    prg = parse(test)\n",
    "    testset = [[ins[0],prg.index(ins)] for ins in prg if ins[0] in ['jmp','nop']]\n",
    "    #print(testset)\n",
    "    for tst in testset:\n",
    "        prg = parse(test)\n",
    "        cursor = 0\n",
    "        visited = []\n",
    "        accum = 0\n",
    "        if tst[0] == 'nop':\n",
    "            prg[tst[1]][0] = 'jmp'\n",
    "        else:\n",
    "            prg[tst[1]][0] = 'nop'\n",
    "        #print(f\"Testing instruction on row {test[1]}: {test} -> {prg[test[1]]}\")\n",
    "        while cursor != len(prg):\n",
    "            if cursor not in visited:\n",
    "                visited.append(cursor)\n",
    "                op, arg = prg[cursor]\n",
    "                #print(f\"Process {op} {arg} on line {cursor}\")\n",
    "                if op == 'nop':\n",
    "                    cursor += 1\n",
    "                elif op == 'jmp':\n",
    "                    cursor += arg\n",
    "                elif op == 'acc':\n",
    "                    cursor += 1\n",
    "                    accum += arg\n",
    "            else:\n",
    "                # print(accum,cursor)\n",
    "                break\n",
    "        if cursor == len(prg):\n",
    "            print(f\"Testing instruction on row {tst[1]}: {tst} -> {prg[tst[1]]}. Here accum = {accum}, cursor = {cursor}\")\n",
    "            return accum\n",
    "    return False\n",
    "\n",
    "solve_part2()\n"
   ]
  },
  {
   "cell_type": "code",
   "execution_count": 20,
   "metadata": {},
   "outputs": [
    {
     "name": "stdout",
     "output_type": "stream",
     "text": [
      "Testing instruction on row 498: ['jmp', 498] -> ['nop', -118]. Here accum = 767, cursor = 649\n"
     ]
    },
    {
     "data": {
      "text/plain": [
       "767"
      ]
     },
     "execution_count": 20,
     "metadata": {},
     "output_type": "execute_result"
    }
   ],
   "source": [
    "solve_part2(False)"
   ]
  },
  {
   "cell_type": "code",
   "execution_count": null,
   "metadata": {},
   "outputs": [],
   "source": []
  }
 ],
 "metadata": {
  "kernelspec": {
   "display_name": "Python 3.9.7 ('base')",
   "language": "python",
   "name": "python3"
  },
  "language_info": {
   "codemirror_mode": {
    "name": "ipython",
    "version": 3
   },
   "file_extension": ".py",
   "mimetype": "text/x-python",
   "name": "python",
   "nbconvert_exporter": "python",
   "pygments_lexer": "ipython3",
   "version": "3.9.7"
  },
  "orig_nbformat": 4,
  "vscode": {
   "interpreter": {
    "hash": "6bbdfe987c89318d21a8f3e326c3948afb67cac6467b680734e6b94581969df5"
   }
  }
 },
 "nbformat": 4,
 "nbformat_minor": 2
}
