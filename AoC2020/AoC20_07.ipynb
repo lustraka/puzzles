{
 "cells": [
  {
   "cell_type": "markdown",
   "metadata": {},
   "source": [
    "# [Day 7](https://adventofcode.com/2020/day/7) : Handy Haversacks\n",
    "## Part I"
   ]
  },
  {
   "cell_type": "code",
   "execution_count": 1,
   "metadata": {},
   "outputs": [],
   "source": [
    "# Import dependencies\n",
    "from pathlib import Path\n",
    "import re"
   ]
  },
  {
   "cell_type": "code",
   "execution_count": 2,
   "metadata": {},
   "outputs": [
    {
     "data": {
      "text/plain": [
       "{'light red': {'bright white': 1, 'muted yellow': 2},\n",
       " 'dark orange': {'bright white': 3, 'muted yellow': 4},\n",
       " 'bright white': {'shiny gold': 1},\n",
       " 'muted yellow': {'shiny gold': 2, 'faded blue': 9},\n",
       " 'shiny gold': {'dark olive': 1, 'vibrant plum': 2},\n",
       " 'dark olive': {'faded blue': 3, 'dotted black': 4},\n",
       " 'vibrant plum': {'faded blue': 5, 'dotted black': 6},\n",
       " 'faded blue': {},\n",
       " 'dotted black': {}}"
      ]
     },
     "execution_count": 2,
     "metadata": {},
     "output_type": "execute_result"
    }
   ],
   "source": [
    "def parse(test=True):\n",
    "    filename = './data/AoC20_07t.txt' if test else './data/AoC20_07.txt'\n",
    "    lines = Path(filename).read_text().split('\\n')\n",
    "    rules = {}\n",
    "    for line in lines:\n",
    "        inner = re.findall('(\\d \\w+ \\w+) bag', line)\n",
    "        outer = re.search('(\\w+ \\w+) bag', line).groups()[0]\n",
    "        if len(inner) > 0:\n",
    "            inner_dict = {' '.join([s.split()[1], s.split()[2]]) : int(s.split()[0]) for s in inner}\n",
    "            rules[outer] = inner_dict\n",
    "        else:\n",
    "            rules[outer] = {}\n",
    "    return rules\n",
    "rules = parse()\n",
    "rules"
   ]
  },
  {
   "cell_type": "code",
   "execution_count": 3,
   "metadata": {},
   "outputs": [
    {
     "name": "stdout",
     "output_type": "stream",
     "text": [
      "No of colors checked: 5\n",
      "No of valid colors 4\n"
     ]
    },
    {
     "data": {
      "text/plain": [
       "4"
      ]
     },
     "execution_count": 3,
     "metadata": {},
     "output_type": "execute_result"
    }
   ],
   "source": [
    "def solve_part1(test=True):\n",
    "    rules = parse(test)\n",
    "    valid_colors = set()\n",
    "    colors_to_check = ['shiny gold']\n",
    "    colors_checked = {'shiny gold'}\n",
    "    while len(colors_to_check) > 0:\n",
    "        color = colors_to_check.pop()\n",
    "        for k,v in rules.items():\n",
    "            # If color in inner, then outer color is valid, so process it\n",
    "            if color in v.keys():\n",
    "                valid_colors.add(k)\n",
    "                # If valid color is not checked yet nor planned to check, then plan it to check\n",
    "                # if (k not in colors_to_check and k not in colors_checked):\n",
    "                if not (k in colors_to_check or k in colors_checked):\n",
    "                    colors_to_check.append(k)\n",
    "            # record the fact that color is checked\n",
    "            colors_checked.add(color)\n",
    "    print('No of colors checked:', len(colors_checked))\n",
    "    print('No of valid colors', len(valid_colors))\n",
    "    return len(valid_colors)\n",
    "\n",
    "solve_part1()"
   ]
  },
  {
   "cell_type": "code",
   "execution_count": 4,
   "metadata": {},
   "outputs": [
    {
     "name": "stdout",
     "output_type": "stream",
     "text": [
      "No of colors checked: 125\n",
      "No of valid colors 124\n"
     ]
    },
    {
     "data": {
      "text/plain": [
       "124"
      ]
     },
     "execution_count": 4,
     "metadata": {},
     "output_type": "execute_result"
    }
   ],
   "source": [
    "solve_part1(False)"
   ]
  },
  {
   "cell_type": "markdown",
   "metadata": {},
   "source": [
    "# Part II"
   ]
  },
  {
   "cell_type": "code",
   "execution_count": 18,
   "metadata": {},
   "outputs": [
    {
     "data": {
      "text/plain": [
       "3"
      ]
     },
     "execution_count": 18,
     "metadata": {},
     "output_type": "execute_result"
    }
   ],
   "source": [
    "sum([1*v for k,v in rules['shiny gold'].items()])"
   ]
  },
  {
   "cell_type": "code",
   "execution_count": 32,
   "metadata": {},
   "outputs": [
    {
     "data": {
      "text/plain": [
       "{'light red': {'bright white': 1, 'muted yellow': 2},\n",
       " 'dark orange': {'bright white': 3, 'muted yellow': 4},\n",
       " 'bright white': {'shiny gold': 1},\n",
       " 'muted yellow': {'shiny gold': 2, 'faded blue': 9},\n",
       " 'shiny gold': {'dark olive': 1, 'vibrant plum': 2},\n",
       " 'dark olive': {'faded blue': 3, 'dotted black': 4},\n",
       " 'vibrant plum': {'faded blue': 5, 'dotted black': 6},\n",
       " 'faded blue': {},\n",
       " 'dotted black': {}}"
      ]
     },
     "execution_count": 32,
     "metadata": {},
     "output_type": "execute_result"
    }
   ],
   "source": [
    "rules"
   ]
  },
  {
   "cell_type": "code",
   "execution_count": 63,
   "metadata": {},
   "outputs": [
    {
     "name": "stdout",
     "output_type": "stream",
     "text": [
      " Proces shiny gold color, level 0.\n",
      "\t Proces dark olive color, level 1.\n",
      "\t\t Proces faded blue color, level 2.\n",
      "\t\t Proces dotted black color, level 2.\n",
      "\t\t Return 7, while how_many = 6\n",
      "\t Proces vibrant plum color, level 1.\n",
      "\t\t Proces faded blue color, level 2.\n",
      "\t\t Proces dotted black color, level 2.\n",
      "\t\t Return 11, while how_many = 14\n",
      "\t Return 29, while how_many = 14\n"
     ]
    },
    {
     "data": {
      "text/plain": [
       "(29, 14)"
      ]
     },
     "execution_count": 63,
     "metadata": {},
     "output_type": "execute_result"
    }
   ],
   "source": [
    "how_many = 0\n",
    "def count_bags(color, rules, level):\n",
    "    global how_many\n",
    "    print('\\t'*level, f\"Proces {color} color, level {level}.\")\n",
    "    level +=1\n",
    "    how_many += sum([v for _,v in rules[color].items()])-1\n",
    "    if len(rules[color]) > 0:\n",
    "        out = sum([count_bags(k, rules, level)*v for k,v in rules[color].items()])\n",
    "        print('\\t'*level, f\"Return {out}, while how_many = {how_many}\")\n",
    "        return out\n",
    "    else:\n",
    "        return 1\n",
    "    \n",
    "count_bags('shiny gold', rules, 0), how_many"
   ]
  },
  {
   "cell_type": "code",
   "execution_count": null,
   "metadata": {},
   "outputs": [],
   "source": []
  }
 ],
 "metadata": {
  "kernelspec": {
   "display_name": "Python 3.9.7 ('base')",
   "language": "python",
   "name": "python3"
  },
  "language_info": {
   "codemirror_mode": {
    "name": "ipython",
    "version": 3
   },
   "file_extension": ".py",
   "mimetype": "text/x-python",
   "name": "python",
   "nbconvert_exporter": "python",
   "pygments_lexer": "ipython3",
   "version": "3.9.7"
  },
  "orig_nbformat": 4,
  "vscode": {
   "interpreter": {
    "hash": "6bbdfe987c89318d21a8f3e326c3948afb67cac6467b680734e6b94581969df5"
   }
  }
 },
 "nbformat": 4,
 "nbformat_minor": 2
}
