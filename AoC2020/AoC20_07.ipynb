{
 "cells": [
  {
   "cell_type": "markdown",
   "metadata": {},
   "source": [
    "# [Day 7](https://adventofcode.com/2020/day/7) : Handy Haversacks\n",
    "## Part I"
   ]
  },
  {
   "cell_type": "code",
   "execution_count": 1,
   "metadata": {},
   "outputs": [],
   "source": [
    "# Import dependencies\n",
    "from pathlib import Path\n",
    "import re"
   ]
  },
  {
   "cell_type": "code",
   "execution_count": 2,
   "metadata": {},
   "outputs": [
    {
     "data": {
      "text/plain": [
       "{'light red': {'bright white': 1, 'muted yellow': 2},\n",
       " 'dark orange': {'bright white': 3, 'muted yellow': 4},\n",
       " 'bright white': {'shiny gold': 1},\n",
       " 'muted yellow': {'shiny gold': 2, 'faded blue': 9},\n",
       " 'shiny gold': {'dark olive': 1, 'vibrant plum': 2},\n",
       " 'dark olive': {'faded blue': 3, 'dotted black': 4},\n",
       " 'vibrant plum': {'faded blue': 5, 'dotted black': 6},\n",
       " 'faded blue': {},\n",
       " 'dotted black': {}}"
      ]
     },
     "execution_count": 2,
     "metadata": {},
     "output_type": "execute_result"
    }
   ],
   "source": [
    "def parse(test=True):\n",
    "    filename = './data/AoC20_07t.txt' if test else './data/AoC20_07.txt'\n",
    "    lines = Path(filename).read_text().split('\\n')\n",
    "    rules = {}\n",
    "    for line in lines:\n",
    "        inner = re.findall('(\\d \\w+ \\w+) bag', line)\n",
    "        outer = re.search('(\\w+ \\w+) bag', line).groups()[0]\n",
    "        if len(inner) > 0:\n",
    "            inner_dict = {' '.join([s.split()[1], s.split()[2]]) : int(s.split()[0]) for s in inner}\n",
    "            rules[outer] = inner_dict\n",
    "        else:\n",
    "            rules[outer] = {}\n",
    "    return rules\n",
    "rules = parse()\n",
    "rules"
   ]
  },
  {
   "cell_type": "code",
   "execution_count": 3,
   "metadata": {},
   "outputs": [
    {
     "name": "stdout",
     "output_type": "stream",
     "text": [
      "No of colors checked: 5\n",
      "No of valid colors 4\n"
     ]
    },
    {
     "data": {
      "text/plain": [
       "4"
      ]
     },
     "execution_count": 3,
     "metadata": {},
     "output_type": "execute_result"
    }
   ],
   "source": [
    "def solve_part1(test=True):\n",
    "    rules = parse(test)\n",
    "    valid_colors = set()\n",
    "    colors_to_check = ['shiny gold']\n",
    "    colors_checked = {'shiny gold'}\n",
    "    while len(colors_to_check) > 0:\n",
    "        color = colors_to_check.pop()\n",
    "        for k,v in rules.items():\n",
    "            # If color in inner, then outer color is valid, so process it\n",
    "            if color in v.keys():\n",
    "                valid_colors.add(k)\n",
    "                # If valid color is not checked yet nor planned to check, then plan it to check\n",
    "                # if (k not in colors_to_check and k not in colors_checked):\n",
    "                if not (k in colors_to_check or k in colors_checked):\n",
    "                    colors_to_check.append(k)\n",
    "            # record the fact that color is checked\n",
    "            colors_checked.add(color)\n",
    "    print('No of colors checked:', len(colors_checked))\n",
    "    print('No of valid colors', len(valid_colors))\n",
    "    return len(valid_colors)\n",
    "\n",
    "solve_part1()"
   ]
  },
  {
   "cell_type": "code",
   "execution_count": 4,
   "metadata": {},
   "outputs": [
    {
     "name": "stdout",
     "output_type": "stream",
     "text": [
      "No of colors checked: 125\n",
      "No of valid colors 124\n"
     ]
    },
    {
     "data": {
      "text/plain": [
       "124"
      ]
     },
     "execution_count": 4,
     "metadata": {},
     "output_type": "execute_result"
    }
   ],
   "source": [
    "solve_part1(False)"
   ]
  },
  {
   "cell_type": "markdown",
   "metadata": {},
   "source": [
    "# Part II\n",
    "The key to solving this part is to add the number of outer bags to count of inner bags on the higher level."
   ]
  },
  {
   "cell_type": "code",
   "execution_count": 8,
   "metadata": {},
   "outputs": [
    {
     "data": {
      "text/plain": [
       "([1, 2], dict_values([1, 2]))"
      ]
     },
     "execution_count": 8,
     "metadata": {},
     "output_type": "execute_result"
    }
   ],
   "source": [
    "[1*v for k,v in rules['shiny gold'].items()], (rules['shiny gold'].values())"
   ]
  },
  {
   "cell_type": "code",
   "execution_count": 38,
   "metadata": {},
   "outputs": [
    {
     "data": {
      "text/plain": [
       "{'light red': {'bright white': 1, 'muted yellow': 2},\n",
       " 'dark orange': {'bright white': 3, 'muted yellow': 4},\n",
       " 'bright white': {'shiny gold': 1},\n",
       " 'muted yellow': {'shiny gold': 2, 'faded blue': 9},\n",
       " 'shiny gold': {'dark olive': 1, 'vibrant plum': 2},\n",
       " 'dark olive': {'faded blue': 3, 'dotted black': 4},\n",
       " 'vibrant plum': {'faded blue': 5, 'dotted black': 6},\n",
       " 'faded blue': {},\n",
       " 'dotted black': {}}"
      ]
     },
     "execution_count": 38,
     "metadata": {},
     "output_type": "execute_result"
    }
   ],
   "source": [
    "rules = parse()\n",
    "rules"
   ]
  },
  {
   "cell_type": "code",
   "execution_count": 41,
   "metadata": {},
   "outputs": [
    {
     "name": "stdout",
     "output_type": "stream",
     "text": [
      " Proces shiny gold color, level 0.\n",
      "\t Proces dark olive color, level 1.\n",
      "\t\t Proces faded blue color, level 2.\n",
      "\t\t Proces dotted black color, level 2.\n",
      "\t\t dark olive returns inner = 7, outer = 1\n",
      "\t Proces vibrant plum color, level 1.\n",
      "\t\t Proces faded blue color, level 2.\n",
      "\t\t Proces dotted black color, level 2.\n",
      "\t\t vibrant plum returns inner = 11, outer = 2\n",
      "\t shiny gold returns inner = 32, outer = 0\n"
     ]
    },
    {
     "data": {
      "text/plain": [
       "[32, 0]"
      ]
     },
     "execution_count": 41,
     "metadata": {},
     "output_type": "execute_result"
    }
   ],
   "source": [
    "def count_bags(color, couter, rules, level):\n",
    "\n",
    "    print('\\t'*level, f\"Proces {color} color, level {level}.\")\n",
    "    level +=1\n",
    "    if len(rules[color]) > 0:\n",
    "        inner = 0  # sum([(count_bags(k, rules, level)[0]+count_bags(k, rules, level)[1])*v for k,v in rules[color].items()])\n",
    "        for k,v in rules[color].items():\n",
    "            inn, out = count_bags(k, color, rules, level)\n",
    "            inner += inn*v + out\n",
    "        outer = rules[couter].get(color,0)\n",
    "        print('\\t'*level, f\"{color} returns inner = {inner}, outer = {outer}\")\n",
    "        return [inner, outer]\n",
    "    else:\n",
    "        return [1,0]\n",
    "    \n",
    "count_bags('shiny gold', 'shiny gold', rules, 0)"
   ]
  },
  {
   "cell_type": "code",
   "execution_count": 43,
   "metadata": {},
   "outputs": [
    {
     "name": "stdout",
     "output_type": "stream",
     "text": [
      " Proces shiny gold color, level 0.\n",
      "\t Proces dark red color, level 1.\n",
      "\t\t Proces dark orange color, level 2.\n",
      "\t\t\t Proces dark yellow color, level 3.\n",
      "\t\t\t\t Proces dark green color, level 4.\n",
      "\t\t\t\t\t Proces dark blue color, level 5.\n",
      "\t\t\t\t\t\t Proces dark violet color, level 6.\n",
      "\t\t\t\t\t\t dark blue returns inner = 2, outer = 2\n",
      "\t\t\t\t\t dark green returns inner = 6, outer = 2\n",
      "\t\t\t\t dark yellow returns inner = 14, outer = 2\n",
      "\t\t\t dark orange returns inner = 30, outer = 2\n",
      "\t\t dark red returns inner = 62, outer = 2\n",
      "\t shiny gold returns inner = 126, outer = 0\n"
     ]
    },
    {
     "data": {
      "text/plain": [
       "126"
      ]
     },
     "execution_count": 43,
     "metadata": {},
     "output_type": "execute_result"
    }
   ],
   "source": [
    "def solve_part2(test=True):\n",
    "    rules = parse(test)\n",
    "    inn, out = count_bags('shiny gold', 'shiny gold', rules, 0)\n",
    "    return inn\n",
    "\n",
    "solve_part2(True)"
   ]
  },
  {
   "cell_type": "code",
   "execution_count": 44,
   "metadata": {},
   "outputs": [
    {
     "name": "stdout",
     "output_type": "stream",
     "text": [
      " Proces shiny gold color, level 0.\n",
      "\t Proces pale maroon color, level 1.\n",
      "\t Proces pale purple color, level 1.\n",
      "\t\t Proces wavy cyan color, level 2.\n",
      "\t\t\t Proces light maroon color, level 3.\n",
      "\t\t\t wavy cyan returns inner = 4, outer = 5\n",
      "\t\t Proces dark salmon color, level 2.\n",
      "\t\t\t Proces plaid blue color, level 3.\n",
      "\t\t\t\t Proces dull red color, level 4.\n",
      "\t\t\t\t\t Proces dark indigo color, level 5.\n",
      "\t\t\t\t\t\t Proces light maroon color, level 6.\n",
      "\t\t\t\t\t\t Proces pale red color, level 6.\n",
      "\t\t\t\t\t\t Proces drab brown color, level 6.\n",
      "\t\t\t\t\t\t Proces dim magenta color, level 6.\n",
      "\t\t\t\t\t\t dark indigo returns inner = 9, outer = 3\n",
      "\t\t\t\t\t Proces posh white color, level 5.\n",
      "\t\t\t\t\t Proces light maroon color, level 5.\n",
      "\t\t\t\t\t dull red returns inner = 36, outer = 5\n",
      "\t\t\t\t Proces light maroon color, level 4.\n",
      "\t\t\t\t Proces muted gold color, level 4.\n",
      "\t\t\t\t\t Proces light maroon color, level 5.\n",
      "\t\t\t\t\t Proces striped orange color, level 5.\n",
      "\t\t\t\t\t Proces pale maroon color, level 5.\n",
      "\t\t\t\t\t muted gold returns inner = 8, outer = 4\n",
      "\t\t\t\t Proces drab orange color, level 4.\n",
      "\t\t\t\t plaid blue returns inner = 226, outer = 2\n",
      "\t\t\t Proces vibrant turquoise color, level 3.\n",
      "\t\t\t\t Proces dark maroon color, level 4.\n",
      "\t\t\t\t\t Proces mirrored violet color, level 5.\n",
      "\t\t\t\t\t Proces muted gold color, level 5.\n",
      "\t\t\t\t\t\t Proces light maroon color, level 6.\n",
      "\t\t\t\t\t\t Proces striped orange color, level 6.\n",
      "\t\t\t\t\t\t Proces pale maroon color, level 6.\n",
      "\t\t\t\t\t\t muted gold returns inner = 8, outer = 3\n",
      "\t\t\t\t\t Proces drab brown color, level 5.\n",
      "\t\t\t\t\t Proces plaid black color, level 5.\n",
      "\t\t\t\t\t\t Proces dull red color, level 6.\n",
      "\t\t\t\t\t\t\t Proces dark indigo color, level 7.\n",
      "\t\t\t\t\t\t\t\t Proces light maroon color, level 8.\n",
      "\t\t\t\t\t\t\t\t Proces pale red color, level 8.\n",
      "\t\t\t\t\t\t\t\t Proces drab brown color, level 8.\n",
      "\t\t\t\t\t\t\t\t Proces dim magenta color, level 8.\n",
      "\t\t\t\t\t\t\t\t dark indigo returns inner = 9, outer = 3\n",
      "\t\t\t\t\t\t\t Proces posh white color, level 7.\n",
      "\t\t\t\t\t\t\t Proces light maroon color, level 7.\n",
      "\t\t\t\t\t\t\t dull red returns inner = 36, outer = 1\n",
      "\t\t\t\t\t\t plaid black returns inner = 37, outer = 4\n",
      "\t\t\t\t\t dark maroon returns inner = 185, outer = 1\n",
      "\t\t\t\t Proces shiny magenta color, level 4.\n",
      "\t\t\t\t\t Proces plaid black color, level 5.\n",
      "\t\t\t\t\t\t Proces dull red color, level 6.\n",
      "\t\t\t\t\t\t\t Proces dark indigo color, level 7.\n",
      "\t\t\t\t\t\t\t\t Proces light maroon color, level 8.\n",
      "\t\t\t\t\t\t\t\t Proces pale red color, level 8.\n",
      "\t\t\t\t\t\t\t\t Proces drab brown color, level 8.\n",
      "\t\t\t\t\t\t\t\t Proces dim magenta color, level 8.\n",
      "\t\t\t\t\t\t\t\t dark indigo returns inner = 9, outer = 3\n",
      "\t\t\t\t\t\t\t Proces posh white color, level 7.\n",
      "\t\t\t\t\t\t\t Proces light maroon color, level 7.\n",
      "\t\t\t\t\t\t\t dull red returns inner = 36, outer = 1\n",
      "\t\t\t\t\t\t plaid black returns inner = 37, outer = 1\n",
      "\t\t\t\t\t shiny magenta returns inner = 38, outer = 1\n",
      "\t\t\t\t Proces dotted maroon color, level 4.\n",
      "\t\t\t\t vibrant turquoise returns inner = 227, outer = 4\n",
      "\t\t\t Proces posh white color, level 3.\n",
      "\t\t\t dark salmon returns inner = 1369, outer = 5\n",
      "\t\t Proces dark indigo color, level 2.\n",
      "\t\t\t Proces light maroon color, level 3.\n",
      "\t\t\t Proces pale red color, level 3.\n",
      "\t\t\t Proces drab brown color, level 3.\n",
      "\t\t\t Proces dim magenta color, level 3.\n",
      "\t\t\t dark indigo returns inner = 9, outer = 2\n",
      "\t\t Proces plaid black color, level 2.\n",
      "\t\t\t Proces dull red color, level 3.\n",
      "\t\t\t\t Proces dark indigo color, level 4.\n",
      "\t\t\t\t\t Proces light maroon color, level 5.\n",
      "\t\t\t\t\t Proces pale red color, level 5.\n",
      "\t\t\t\t\t Proces drab brown color, level 5.\n",
      "\t\t\t\t\t Proces dim magenta color, level 5.\n",
      "\t\t\t\t\t dark indigo returns inner = 9, outer = 3\n",
      "\t\t\t\t Proces posh white color, level 4.\n",
      "\t\t\t\t Proces light maroon color, level 4.\n",
      "\t\t\t\t dull red returns inner = 36, outer = 1\n",
      "\t\t\t plaid black returns inner = 37, outer = 1\n",
      "\t\t pale purple returns inner = 6933, outer = 5\n",
      "\t Proces posh brown color, level 1.\n",
      "\t\t Proces drab brown color, level 2.\n",
      "\t\t Proces pale red color, level 2.\n",
      "\t\t Proces posh white color, level 2.\n",
      "\t\t Proces muted gold color, level 2.\n",
      "\t\t\t Proces light maroon color, level 3.\n",
      "\t\t\t Proces striped orange color, level 3.\n",
      "\t\t\t Proces pale maroon color, level 3.\n",
      "\t\t\t muted gold returns inner = 8, outer = 4\n",
      "\t\t posh brown returns inner = 45, outer = 4\n",
      "\t Proces dotted turquoise color, level 1.\n",
      "\t\t Proces striped orange color, level 2.\n",
      "\t\t dotted turquoise returns inner = 5, outer = 1\n",
      "\t shiny gold returns inner = 34862, outer = 0\n"
     ]
    },
    {
     "data": {
      "text/plain": [
       "34862"
      ]
     },
     "execution_count": 44,
     "metadata": {},
     "output_type": "execute_result"
    }
   ],
   "source": [
    "solve_part2(False)"
   ]
  },
  {
   "cell_type": "code",
   "execution_count": null,
   "metadata": {},
   "outputs": [],
   "source": []
  }
 ],
 "metadata": {
  "kernelspec": {
   "display_name": "Python 3.9.7 ('base')",
   "language": "python",
   "name": "python3"
  },
  "language_info": {
   "codemirror_mode": {
    "name": "ipython",
    "version": 3
   },
   "file_extension": ".py",
   "mimetype": "text/x-python",
   "name": "python",
   "nbconvert_exporter": "python",
   "pygments_lexer": "ipython3",
   "version": "3.9.7"
  },
  "orig_nbformat": 4,
  "vscode": {
   "interpreter": {
    "hash": "6bbdfe987c89318d21a8f3e326c3948afb67cac6467b680734e6b94581969df5"
   }
  }
 },
 "nbformat": 4,
 "nbformat_minor": 2
}
