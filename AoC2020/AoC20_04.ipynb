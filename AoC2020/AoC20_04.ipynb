{
 "cells": [
  {
   "cell_type": "markdown",
   "metadata": {},
   "source": [
    "# Passport Processing\n",
    "- [pathlib.Path Methods](https://docs.python.org/3/library/pathlib.html#methods)\n",
    "  - [Path.read_bytes()](https://docs.python.org/3/library/pathlib.html#pathlib.Path.read_bytes)\n",
    "  - [Path.read_text(encoding=None, errors=None)](https://docs.python.org/3/library/pathlib.html#pathlib.Path.read_text)\n",
    "- [open(file, mode='r', buffering=- 1, encoding=None, errors=None, newline=None, closefd=True, opener=None)](https://docs.python.org/3/library/functions.html#open)\n",
    "  - returns [file object](https://docs.python.org/3/glossary.html#term-file-object)\n",
    "  - see [Python File Methods](https://www.w3schools.com/python/python_ref_file.asp) incl. [readline()](https://www.w3schools.com/python/ref_file_readline.asp)"
   ]
  },
  {
   "cell_type": "code",
   "execution_count": 1,
   "metadata": {},
   "outputs": [
    {
     "data": {
      "text/plain": [
       "[{'eyr': '1972',\n",
       "  'cid': '100',\n",
       "  'hcl': '#18171d',\n",
       "  'ecl': 'amb',\n",
       "  'hgt': '170',\n",
       "  'pid': '186cm',\n",
       "  'iyr': '2018',\n",
       "  'byr': '1926'},\n",
       " {'iyr': '2019',\n",
       "  'hcl': '#602927',\n",
       "  'eyr': '1967',\n",
       "  'hgt': '170cm',\n",
       "  'ecl': 'grn',\n",
       "  'pid': '012533040',\n",
       "  'byr': '1946'},\n",
       " {'hcl': 'dab227',\n",
       "  'iyr': '2012',\n",
       "  'ecl': 'brn',\n",
       "  'hgt': '182cm',\n",
       "  'pid': '021572410',\n",
       "  'eyr': '2020',\n",
       "  'byr': '1992',\n",
       "  'cid': '277'},\n",
       " {'hgt': '59cm',\n",
       "  'ecl': 'zzz',\n",
       "  'eyr': '2038',\n",
       "  'hcl': '74454a',\n",
       "  'iyr': '2023',\n",
       "  'pid': '3556412378',\n",
       "  'byr': '2007'},\n",
       " {'pid': '087499704',\n",
       "  'hgt': '74in',\n",
       "  'ecl': 'grn',\n",
       "  'iyr': '2012',\n",
       "  'eyr': '2030',\n",
       "  'byr': '1980',\n",
       "  'hcl': '#623a2f'},\n",
       " {'eyr': '2029',\n",
       "  'ecl': 'blu',\n",
       "  'cid': '129',\n",
       "  'byr': '1989',\n",
       "  'iyr': '2014',\n",
       "  'pid': '896056539',\n",
       "  'hcl': '#a97842',\n",
       "  'hgt': '165cm'},\n",
       " {'hcl': '#888785',\n",
       "  'hgt': '164cm',\n",
       "  'byr': '2001',\n",
       "  'iyr': '2015',\n",
       "  'cid': '88',\n",
       "  'pid': '545766238',\n",
       "  'ecl': 'hzl',\n",
       "  'eyr': '2022'},\n",
       " {'iyr': '2010',\n",
       "  'hgt': '158cm',\n",
       "  'hcl': '#b6652a',\n",
       "  'ecl': 'blu',\n",
       "  'byr': '1944',\n",
       "  'eyr': '2021',\n",
       "  'pid': '093154719'}]"
      ]
     },
     "execution_count": 1,
     "metadata": {},
     "output_type": "execute_result"
    }
   ],
   "source": [
    "def parse(test=True):\n",
    "    filename = './data/AoC20_04t.txt' if test else './data/AoC20_04.txt'\n",
    "    batch = []\n",
    "    with open(filename) as f:\n",
    "        line = f.readline()\n",
    "        pp = []\n",
    "        while line:\n",
    "            if line != '\\n':\n",
    "                pp.extend(line.split())\n",
    "            else:\n",
    "                batch.append(pp)\n",
    "                pp = []\n",
    "            line = f.readline()\n",
    "        batch.append(pp)\n",
    "    return [{val.split(':')[0]:val.split(':')[1] for val in line} for line in batch]\n",
    "batch = parse()\n",
    "batch"
   ]
  },
  {
   "cell_type": "code",
   "execution_count": 2,
   "metadata": {},
   "outputs": [
    {
     "data": {
      "text/plain": [
       "dict_keys(['eyr', 'cid', 'hcl', 'ecl', 'hgt', 'pid', 'iyr', 'byr'])"
      ]
     },
     "execution_count": 2,
     "metadata": {},
     "output_type": "execute_result"
    }
   ],
   "source": [
    "batch[0].keys()"
   ]
  },
  {
   "cell_type": "code",
   "execution_count": 3,
   "metadata": {},
   "outputs": [
    {
     "data": {
      "text/plain": [
       "8"
      ]
     },
     "execution_count": 3,
     "metadata": {},
     "output_type": "execute_result"
    }
   ],
   "source": [
    "def solve_part1(test=True):\n",
    "    required = ['ecl', 'pid', 'eyr', 'hcl', 'byr', 'iyr', 'hgt']\n",
    "    batch = parse(test)\n",
    "    valid = 0\n",
    "    for pp in batch:\n",
    "        if set(required).issubset(set(pp.keys())):\n",
    "            valid += 1\n",
    "    return valid\n",
    "solve_part1()"
   ]
  },
  {
   "cell_type": "code",
   "execution_count": 4,
   "metadata": {},
   "outputs": [
    {
     "data": {
      "text/plain": [
       "204"
      ]
     },
     "execution_count": 4,
     "metadata": {},
     "output_type": "execute_result"
    }
   ],
   "source": [
    "solve_part1(False)"
   ]
  },
  {
   "cell_type": "markdown",
   "metadata": {},
   "source": [
    "## Part II"
   ]
  },
  {
   "cell_type": "code",
   "execution_count": 10,
   "metadata": {},
   "outputs": [],
   "source": [
    "# Import dependencies\n",
    "import re"
   ]
  },
  {
   "cell_type": "code",
   "execution_count": 65,
   "metadata": {},
   "outputs": [
    {
     "data": {
      "text/plain": [
       "False"
      ]
     },
     "execution_count": 65,
     "metadata": {},
     "output_type": "execute_result"
    }
   ],
   "source": [
    "def check_pp_validity(pp):\n",
    "    # Ignore cid field\n",
    "    pp.pop('cid', '')\n",
    "    validations = []\n",
    "    for k,v in pp.items():\n",
    "        if k == 'byr':\n",
    "            validations.append(re.fullmatch('\\d{4}',v) != None and int(v) >= 1920 and int(v) <= 2002)\n",
    "        elif k == 'iyr':\n",
    "            validations.append(re.fullmatch('\\d{4}',v) != None and int(v) >= 2010 and int(v) <= 2020)\n",
    "        elif k == 'eyr':\n",
    "            validations.append(re.fullmatch('\\d{4}',v) != None and int(v) >= 2020 and int(v) <= 2030)\n",
    "        elif k == 'hgt':\n",
    "            h = v[:-2]\n",
    "            u = v[-2:]\n",
    "            if u == 'cm':\n",
    "                validations.append(int(h) >= 150 and int(h) <= 193)\n",
    "            elif u == 'in':\n",
    "                validations.append(int(h) >= 59 and int(h) <= 76)\n",
    "            else:\n",
    "                validations.append(False)\n",
    "        elif k == 'hcl':\n",
    "            validations.append(re.fullmatch('#[0-9a-f]{6}',v) != None)\n",
    "        elif k == 'ecl':\n",
    "            validations.append(v in ['amb', 'blu', 'brn', 'gry', 'grn', 'hzl', 'oth'])\n",
    "        elif k == 'pid':\n",
    "            validations.append(re.fullmatch('\\d{9}',v) != None)\n",
    "\n",
    "    return sum(validations) == 7\n",
    "\n",
    "check_pp_validity(batch[0])"
   ]
  },
  {
   "cell_type": "code",
   "execution_count": 70,
   "metadata": {},
   "outputs": [
    {
     "data": {
      "text/plain": [
       "4"
      ]
     },
     "execution_count": 70,
     "metadata": {},
     "output_type": "execute_result"
    }
   ],
   "source": [
    "def solve_part2(test=True):\n",
    "    batch = parse(test)\n",
    "    cvalid = 0\n",
    "    required = ['ecl', 'pid', 'eyr', 'hcl', 'byr', 'iyr', 'hgt']\n",
    "    for pp in batch:\n",
    "        # Check presense\n",
    "        if set(required).issubset(set(pp.keys())):\n",
    "            # Check validity & Combine checks\n",
    "            if check_pp_validity(pp):\n",
    "                cvalid += 1\n",
    "    return cvalid\n",
    "\n",
    "solve_part2()\n",
    "\n"
   ]
  },
  {
   "cell_type": "code",
   "execution_count": 71,
   "metadata": {},
   "outputs": [
    {
     "data": {
      "text/plain": [
       "179"
      ]
     },
     "execution_count": 71,
     "metadata": {},
     "output_type": "execute_result"
    }
   ],
   "source": [
    "solve_part2(False)"
   ]
  },
  {
   "cell_type": "code",
   "execution_count": null,
   "metadata": {},
   "outputs": [],
   "source": []
  }
 ],
 "metadata": {
  "kernelspec": {
   "display_name": "Python 3.9.7 ('base')",
   "language": "python",
   "name": "python3"
  },
  "language_info": {
   "codemirror_mode": {
    "name": "ipython",
    "version": 3
   },
   "file_extension": ".py",
   "mimetype": "text/x-python",
   "name": "python",
   "nbconvert_exporter": "python",
   "pygments_lexer": "ipython3",
   "version": "3.9.7"
  },
  "orig_nbformat": 4,
  "vscode": {
   "interpreter": {
    "hash": "6bbdfe987c89318d21a8f3e326c3948afb67cac6467b680734e6b94581969df5"
   }
  }
 },
 "nbformat": 4,
 "nbformat_minor": 2
}
