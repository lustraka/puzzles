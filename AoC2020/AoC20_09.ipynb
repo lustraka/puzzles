{
 "cells": [
  {
   "cell_type": "markdown",
   "metadata": {},
   "source": [
    "# [Day 9](https://adventofcode.com/2020/day/9) : Encoding Error\n",
    "## Part I"
   ]
  },
  {
   "cell_type": "code",
   "execution_count": 1,
   "metadata": {},
   "outputs": [],
   "source": [
    "# Import dependencies\n",
    "from pathlib import Path\n",
    "from itertools import combinations"
   ]
  },
  {
   "cell_type": "code",
   "execution_count": 2,
   "metadata": {},
   "outputs": [
    {
     "data": {
      "text/plain": [
       "[35,\n",
       " 20,\n",
       " 15,\n",
       " 25,\n",
       " 47,\n",
       " 40,\n",
       " 62,\n",
       " 55,\n",
       " 65,\n",
       " 95,\n",
       " 102,\n",
       " 117,\n",
       " 150,\n",
       " 182,\n",
       " 127,\n",
       " 219,\n",
       " 299,\n",
       " 277,\n",
       " 309,\n",
       " 576]"
      ]
     },
     "execution_count": 2,
     "metadata": {},
     "output_type": "execute_result"
    }
   ],
   "source": [
    "def parse(test=True):\n",
    "    filename = './data/AoC20_09t.txt' if test else './data/AoC20_09.txt'\n",
    "    lines = Path(filename).read_text().split('\\n')\n",
    "    return [int(l) for l in lines]\n",
    "data = parse()\n",
    "data"
   ]
  },
  {
   "cell_type": "code",
   "execution_count": 3,
   "metadata": {},
   "outputs": [
    {
     "data": {
      "text/plain": [
       "127"
      ]
     },
     "execution_count": 3,
     "metadata": {},
     "output_type": "execute_result"
    }
   ],
   "source": [
    "def solve_part1(n, test=True):\n",
    "    '''Args:\n",
    "        n : length of preamble\n",
    "    Returns:\n",
    "        inva : the first invalid number\n",
    "    '''\n",
    "    data = parse(test)\n",
    "    # Test numbers next to preamble\n",
    "    for pos in range(n,len(data)):\n",
    "        # Test all combinations of previous n numbers\n",
    "        for comb in combinations(data[pos-n:pos],2):\n",
    "            # If there are two numbers summing up to the given number, then continue\n",
    "            if sum(comb) == data[pos]:\n",
    "                # print('Found:',comb)\n",
    "                break\n",
    "        # If there is no combination summing up, return the number\n",
    "        else:\n",
    "            return data[pos]\n",
    "\n",
    "solve_part1(5,True)"
   ]
  },
  {
   "cell_type": "code",
   "execution_count": 4,
   "metadata": {},
   "outputs": [
    {
     "data": {
      "text/plain": [
       "542529149"
      ]
     },
     "execution_count": 4,
     "metadata": {},
     "output_type": "execute_result"
    }
   ],
   "source": [
    "solve_part1(25,False)"
   ]
  },
  {
   "cell_type": "markdown",
   "metadata": {},
   "source": [
    "## Part II\n",
    "**Unknown**: a contiguous set of at least two numbers in your list which sum to the invalid number from step 1\n",
    "\n",
    "Variables:\n",
    "- `data` - input sequence of integers\n",
    "- `n` - length of preamble\n",
    "- `pos` - position to test, last value points to the invalid number\n",
    "- `data[pos-n:pos]` - n numbers preceeding the position\n",
    "- `sl` - lenght of sequence $sl \\in \\langle 2, pos)$\n",
    "- `ssp` - starting position of a sequence $ssp \\in \\langle 0, pos-sl)$\n",
    "- Output condition: `sum(data[ssp:ssp+sl]) == data[pos]`\n",
    "- **Result**: `min(data[ssp:ssp+sl]) + max(data[ssp:ssp+sl])`"
   ]
  },
  {
   "cell_type": "code",
   "execution_count": 16,
   "metadata": {},
   "outputs": [
    {
     "name": "stdout",
     "output_type": "stream",
     "text": [
      "[15, 25, 47, 40]\n"
     ]
    },
    {
     "data": {
      "text/plain": [
       "(127, 14, 62)"
      ]
     },
     "execution_count": 16,
     "metadata": {},
     "output_type": "execute_result"
    }
   ],
   "source": [
    "def solve_part2(n,test=True):\n",
    "    data = parse(test)\n",
    "    # Identify the invalid number\n",
    "    for pos in range(n,len(data)):\n",
    "        # Test all combinations of previous n numbers\n",
    "        for comb in combinations(data[pos-n:pos],2):\n",
    "            # If there are two numbers summing up to the given number, then continue\n",
    "            if sum(comb) == data[pos]:\n",
    "                # print('Found:',comb)\n",
    "                break\n",
    "        else:\n",
    "            break\n",
    "    # Now data[pos] is the invalid number\n",
    "    stop = False\n",
    "    for sl in range(2,pos):\n",
    "        # print('Testing sl =',sl)\n",
    "        for ssp in range(0,pos-sl):\n",
    "            if sum(data[ssp:ssp+sl]) == data[pos]:\n",
    "                print(data[ssp:ssp+sl])\n",
    "                stop = True\n",
    "                break\n",
    "        if stop:\n",
    "            break\n",
    "    return data[pos], pos, min(data[ssp:ssp+sl])+max(data[ssp:ssp+sl])\n",
    "solve_part2(5,True)"
   ]
  },
  {
   "cell_type": "code",
   "execution_count": 17,
   "metadata": {},
   "outputs": [
    {
     "name": "stdout",
     "output_type": "stream",
     "text": [
      "[34309142, 23249846, 23189120, 30892508, 24331117, 24779820, 25684438, 29676232, 28682756, 29914669, 43826724, 30908145, 52489498, 31909958, 34243114, 36964189, 37477873]\n"
     ]
    },
    {
     "data": {
      "text/plain": [
       "(542529149, 616, 75678618)"
      ]
     },
     "execution_count": 17,
     "metadata": {},
     "output_type": "execute_result"
    }
   ],
   "source": [
    "solve_part2(25,False)"
   ]
  },
  {
   "cell_type": "code",
   "execution_count": null,
   "metadata": {},
   "outputs": [],
   "source": []
  }
 ],
 "metadata": {
  "kernelspec": {
   "display_name": "Python 3.9.7 ('base')",
   "language": "python",
   "name": "python3"
  },
  "language_info": {
   "codemirror_mode": {
    "name": "ipython",
    "version": 3
   },
   "file_extension": ".py",
   "mimetype": "text/x-python",
   "name": "python",
   "nbconvert_exporter": "python",
   "pygments_lexer": "ipython3",
   "version": "3.9.7"
  },
  "orig_nbformat": 4,
  "vscode": {
   "interpreter": {
    "hash": "6bbdfe987c89318d21a8f3e326c3948afb67cac6467b680734e6b94581969df5"
   }
  }
 },
 "nbformat": 4,
 "nbformat_minor": 2
}
