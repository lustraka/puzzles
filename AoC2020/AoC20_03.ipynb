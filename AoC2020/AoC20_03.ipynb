{
 "cells": [
  {
   "cell_type": "code",
   "execution_count": 1,
   "metadata": {},
   "outputs": [],
   "source": [
    "from pathlib import Path"
   ]
  },
  {
   "cell_type": "code",
   "execution_count": 2,
   "metadata": {},
   "outputs": [
    {
     "data": {
      "text/plain": [
       "['..##.......',\n",
       " '#...#...#..',\n",
       " '.#....#..#.',\n",
       " '..#.#...#.#',\n",
       " '.#...##..#.',\n",
       " '..#.##.....',\n",
       " '.#.#.#....#',\n",
       " '.#........#',\n",
       " '#.##...#...',\n",
       " '#...##....#',\n",
       " '.#..#...#.#']"
      ]
     },
     "execution_count": 2,
     "metadata": {},
     "output_type": "execute_result"
    }
   ],
   "source": [
    "def parse(test=True):\n",
    "    filename = './data/AoC20_03t.txt' if test else './data/AoC20_03.txt'\n",
    "    lines = Path(filename).read_text().split('\\n')\n",
    "    return lines\n",
    "parse()"
   ]
  },
  {
   "cell_type": "code",
   "execution_count": 18,
   "metadata": {},
   "outputs": [
    {
     "name": "stdout",
     "output_type": "stream",
     "text": [
      "0 0 . 0\n",
      "1 3 . 0\n",
      "2 6 # 1\n",
      "3 9 . 1\n",
      "4 12 # 2\n",
      "5 15 # 3\n",
      "6 18 . 3\n",
      "7 21 # 4\n",
      "8 24 # 5\n",
      "9 27 # 6\n",
      "10 30 # 7\n",
      "7\n"
     ]
    }
   ],
   "source": [
    "m = parse()\n",
    "col, step, c = 0, 3, 0\n",
    "for row in range(len(m)):\n",
    "    if m[row][(col % len(m[0]))] == '#':\n",
    "        c += 1\n",
    "    print(row,col,m[row][(col % len(m[0]))],c)\n",
    "    col += step\n",
    "print(c)"
   ]
  },
  {
   "cell_type": "code",
   "execution_count": 22,
   "metadata": {},
   "outputs": [
    {
     "data": {
      "text/plain": [
       "7"
      ]
     },
     "execution_count": 22,
     "metadata": {},
     "output_type": "execute_result"
    }
   ],
   "source": [
    "def solve_part1(test=True, rstep = 1, cstep=3):\n",
    "    m = parse(test)\n",
    "    col, c = 0, 0\n",
    "    for row in range(0, len(m), rstep):\n",
    "        if m[row][(col % len(m[0]))] == '#':\n",
    "            c += 1\n",
    "        col += cstep\n",
    "    return c\n",
    "solve_part1(True,1,3)"
   ]
  },
  {
   "cell_type": "code",
   "execution_count": 23,
   "metadata": {},
   "outputs": [
    {
     "data": {
      "text/plain": [
       "240"
      ]
     },
     "execution_count": 23,
     "metadata": {},
     "output_type": "execute_result"
    }
   ],
   "source": [
    "solve_part1(False, 1, 3)"
   ]
  },
  {
   "cell_type": "markdown",
   "metadata": {},
   "source": [
    "# Part II\n",
    "[Python | Multiply all numbers in the list (7 different ways)](https://www.geeksforgeeks.org/python-multiply-numbers-list-3-different-ways/)"
   ]
  },
  {
   "cell_type": "code",
   "execution_count": 26,
   "metadata": {},
   "outputs": [
    {
     "data": {
      "text/plain": [
       "[2, 7, 3, 4, 2]"
      ]
     },
     "execution_count": 26,
     "metadata": {},
     "output_type": "execute_result"
    }
   ],
   "source": [
    "slopes = [[1,1], [1,3], [1,5], [1,7], [2,1]]\n",
    "[solve_part1(True,s[0],s[1]) for s in slopes]"
   ]
  },
  {
   "cell_type": "code",
   "execution_count": 27,
   "metadata": {},
   "outputs": [],
   "source": [
    "import math"
   ]
  },
  {
   "cell_type": "code",
   "execution_count": 28,
   "metadata": {},
   "outputs": [
    {
     "data": {
      "text/plain": [
       "336"
      ]
     },
     "execution_count": 28,
     "metadata": {},
     "output_type": "execute_result"
    }
   ],
   "source": [
    "math.prod([solve_part1(True,s[0],s[1]) for s in slopes])"
   ]
  },
  {
   "cell_type": "code",
   "execution_count": 29,
   "metadata": {},
   "outputs": [
    {
     "data": {
      "text/plain": [
       "2832009600"
      ]
     },
     "execution_count": 29,
     "metadata": {},
     "output_type": "execute_result"
    }
   ],
   "source": [
    "math.prod([solve_part1(False,s[0],s[1]) for s in slopes])"
   ]
  },
  {
   "cell_type": "code",
   "execution_count": null,
   "metadata": {},
   "outputs": [],
   "source": []
  }
 ],
 "metadata": {
  "kernelspec": {
   "display_name": "Python 3.9.7 ('base')",
   "language": "python",
   "name": "python3"
  },
  "language_info": {
   "codemirror_mode": {
    "name": "ipython",
    "version": 3
   },
   "file_extension": ".py",
   "mimetype": "text/x-python",
   "name": "python",
   "nbconvert_exporter": "python",
   "pygments_lexer": "ipython3",
   "version": "3.9.7"
  },
  "orig_nbformat": 4,
  "vscode": {
   "interpreter": {
    "hash": "6bbdfe987c89318d21a8f3e326c3948afb67cac6467b680734e6b94581969df5"
   }
  }
 },
 "nbformat": 4,
 "nbformat_minor": 2
}
