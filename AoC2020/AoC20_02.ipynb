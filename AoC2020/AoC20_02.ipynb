{
 "cells": [
  {
   "cell_type": "code",
   "execution_count": 12,
   "metadata": {},
   "outputs": [],
   "source": [
    "from pathlib import Path\n",
    "from collections import Counter"
   ]
  },
  {
   "cell_type": "code",
   "execution_count": 11,
   "metadata": {},
   "outputs": [
    {
     "data": {
      "text/plain": [
       "[[['1', '3'], 'a', 'abcde'],\n",
       " [['1', '3'], 'b', 'cdefg'],\n",
       " [['2', '9'], 'c', 'ccccccccc']]"
      ]
     },
     "execution_count": 11,
     "metadata": {},
     "output_type": "execute_result"
    }
   ],
   "source": [
    "def parse(test=True):\n",
    "    filename = './data/AoC20_02t.txt' if test else './data/AoC20_02.txt'\n",
    "    lines = Path(filename).read_text().split('\\n')\n",
    "    # Decode policies and passwords\n",
    "    lines = [line.split() for line in lines]\n",
    "    lines = [[line[0].split('-'),line[1][0],line[2]] for line in lines]\n",
    "    return lines\n",
    "parse()"
   ]
  },
  {
   "cell_type": "markdown",
   "metadata": {},
   "source": [
    "## Part I"
   ]
  },
  {
   "cell_type": "code",
   "execution_count": 15,
   "metadata": {},
   "outputs": [],
   "source": [
    "def check_policy(pwd):\n",
    "    limits, letter, pwd = pwd\n",
    "    freq = Counter(pwd)[letter]\n",
    "    return freq >= int(limits[0]) and freq <= int(limits[1])"
   ]
  },
  {
   "cell_type": "code",
   "execution_count": 16,
   "metadata": {},
   "outputs": [
    {
     "data": {
      "text/plain": [
       "2"
      ]
     },
     "execution_count": 16,
     "metadata": {},
     "output_type": "execute_result"
    }
   ],
   "source": [
    "def solve_part1(test=True):\n",
    "    pwds = parse(test)\n",
    "    c = 0\n",
    "    for pwd in pwds:\n",
    "        c += check_policy(pwd)\n",
    "    return c\n",
    "\n",
    "solve_part1()"
   ]
  },
  {
   "cell_type": "code",
   "execution_count": 19,
   "metadata": {},
   "outputs": [
    {
     "data": {
      "text/plain": [
       "2"
      ]
     },
     "execution_count": 19,
     "metadata": {},
     "output_type": "execute_result"
    }
   ],
   "source": [
    "def solve_part1(test=True):\n",
    "    pwds = parse(test)\n",
    "    return sum([check_policy(pwd) for pwd in pwds])\n",
    "\n",
    "solve_part1()"
   ]
  },
  {
   "cell_type": "code",
   "execution_count": 20,
   "metadata": {},
   "outputs": [
    {
     "data": {
      "text/plain": [
       "546"
      ]
     },
     "execution_count": 20,
     "metadata": {},
     "output_type": "execute_result"
    }
   ],
   "source": [
    "solve_part1(False)"
   ]
  },
  {
   "cell_type": "markdown",
   "metadata": {},
   "source": [
    "## Part II"
   ]
  },
  {
   "cell_type": "code",
   "execution_count": 27,
   "metadata": {},
   "outputs": [],
   "source": [
    "def check_OTCP(pwd):\n",
    "    '''Check the Official Toboggan Corporate Policy.'''\n",
    "    limits,letter,pwd = pwd\n",
    "    return sum([pwd[int(limits[0])-1] == letter, pwd[int(limits[1])-1] == letter]) == 1"
   ]
  },
  {
   "cell_type": "code",
   "execution_count": 28,
   "metadata": {},
   "outputs": [
    {
     "name": "stdout",
     "output_type": "stream",
     "text": [
      "True\n",
      "False\n",
      "False\n"
     ]
    }
   ],
   "source": [
    "for pwd in parse():\n",
    "    print(check_OTCP(pwd))"
   ]
  },
  {
   "cell_type": "code",
   "execution_count": 29,
   "metadata": {},
   "outputs": [
    {
     "data": {
      "text/plain": [
       "1"
      ]
     },
     "execution_count": 29,
     "metadata": {},
     "output_type": "execute_result"
    }
   ],
   "source": [
    "def solve_part2(test=True):\n",
    "    pwds = parse(test)\n",
    "    return sum([check_OTCP(pwd) for pwd in pwds])\n",
    "\n",
    "solve_part2()"
   ]
  },
  {
   "cell_type": "code",
   "execution_count": 30,
   "metadata": {},
   "outputs": [
    {
     "data": {
      "text/plain": [
       "275"
      ]
     },
     "execution_count": 30,
     "metadata": {},
     "output_type": "execute_result"
    }
   ],
   "source": [
    "solve_part2(False)"
   ]
  },
  {
   "cell_type": "markdown",
   "metadata": {},
   "source": [
    "## Look Back\n",
    "To improve efficiency, convert limits to integers while parsing:\n",
    "```py\n",
    "list(map(int,line[0].split('-')))\n",
    "```"
   ]
  },
  {
   "cell_type": "code",
   "execution_count": 31,
   "metadata": {},
   "outputs": [
    {
     "data": {
      "text/plain": [
       "[[[1, 3], 'a', 'abcde'], [[1, 3], 'b', 'cdefg'], [[2, 9], 'c', 'ccccccccc']]"
      ]
     },
     "execution_count": 31,
     "metadata": {},
     "output_type": "execute_result"
    }
   ],
   "source": [
    "def parse(test=True):\n",
    "    filename = './data/AoC20_02t.txt' if test else './data/AoC20_02.txt'\n",
    "    lines = Path(filename).read_text().split('\\n')\n",
    "    # Decode policies and passwords\n",
    "    lines = [line.split() for line in lines]\n",
    "    lines = [[list(map(int,line[0].split('-'))),line[1][0],line[2]] for line in lines]\n",
    "    return lines\n",
    "parse()"
   ]
  },
  {
   "cell_type": "code",
   "execution_count": null,
   "metadata": {},
   "outputs": [],
   "source": []
  }
 ],
 "metadata": {
  "kernelspec": {
   "display_name": "Python 3.9.7 ('base')",
   "language": "python",
   "name": "python3"
  },
  "language_info": {
   "codemirror_mode": {
    "name": "ipython",
    "version": 3
   },
   "file_extension": ".py",
   "mimetype": "text/x-python",
   "name": "python",
   "nbconvert_exporter": "python",
   "pygments_lexer": "ipython3",
   "version": "3.9.7"
  },
  "orig_nbformat": 4,
  "vscode": {
   "interpreter": {
    "hash": "6bbdfe987c89318d21a8f3e326c3948afb67cac6467b680734e6b94581969df5"
   }
  }
 },
 "nbformat": 4,
 "nbformat_minor": 2
}
