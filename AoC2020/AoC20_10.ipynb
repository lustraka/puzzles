{
 "cells": [
  {
   "cell_type": "markdown",
   "metadata": {},
   "source": [
    "# [Day 10](https://adventofcode.com/2020/day/10) : Adapter Array\n",
    "## Part I\n"
   ]
  },
  {
   "cell_type": "code",
   "execution_count": 5,
   "metadata": {},
   "outputs": [],
   "source": [
    "# Import dependencies\n",
    "from pathlib import Path\n",
    "import numpy as np\n",
    "from collections import Counter"
   ]
  },
  {
   "cell_type": "code",
   "execution_count": 2,
   "metadata": {},
   "outputs": [
    {
     "data": {
      "text/plain": [
       "[16, 10, 15, 5, 1, 11, 7, 19, 6, 12, 4]"
      ]
     },
     "execution_count": 2,
     "metadata": {},
     "output_type": "execute_result"
    }
   ],
   "source": [
    "def parse(test=True):\n",
    "    filename = './data/AoC20_10t.txt' if test else './data/AoC20_10.txt'\n",
    "    lines = Path(filename).read_text().split('\\n')\n",
    "    return [int(l) for l in lines]\n",
    "a0 = parse()\n",
    "a0"
   ]
  },
  {
   "cell_type": "code",
   "execution_count": 4,
   "metadata": {},
   "outputs": [
    {
     "data": {
      "text/plain": [
       "(array([ 1,  4,  5,  6,  7, 10, 11, 12, 15, 16, 19, 22]),\n",
       " array([ 0,  1,  4,  5,  6,  7, 10, 11, 12, 15, 16, 19]))"
      ]
     },
     "execution_count": 4,
     "metadata": {},
     "output_type": "execute_result"
    }
   ],
   "source": [
    "a1 = np.array(sorted(a0+[max(a0)+3]))\n",
    "a2 = np.array(sorted([0]+a0))\n",
    "a1, a2"
   ]
  },
  {
   "cell_type": "code",
   "execution_count": 6,
   "metadata": {},
   "outputs": [
    {
     "data": {
      "text/plain": [
       "(array([1, 3, 1, 1, 1, 3, 1, 1, 3, 1, 3, 3]), Counter({1: 7, 3: 5}))"
      ]
     },
     "execution_count": 6,
     "metadata": {},
     "output_type": "execute_result"
    }
   ],
   "source": [
    "dif = a1-a2\n",
    "dif, Counter(dif)"
   ]
  },
  {
   "cell_type": "code",
   "execution_count": 8,
   "metadata": {},
   "outputs": [
    {
     "data": {
      "text/plain": [
       "(Counter({1: 22, 3: 10}), 220)"
      ]
     },
     "execution_count": 8,
     "metadata": {},
     "output_type": "execute_result"
    }
   ],
   "source": [
    "def solve_part1(test=True):\n",
    "    a0 = parse(test)\n",
    "    a1 = np.array(sorted(a0+[max(a0)+3]))\n",
    "    a2 = np.array(sorted([0]+a0))\n",
    "    dif = a1-a2\n",
    "    c = Counter(dif)\n",
    "    return c, c[1]*c[3]\n",
    "solve_part1()"
   ]
  },
  {
   "cell_type": "code",
   "execution_count": 9,
   "metadata": {},
   "outputs": [
    {
     "data": {
      "text/plain": [
       "(Counter({1: 69, 3: 24}), 1656)"
      ]
     },
     "execution_count": 9,
     "metadata": {},
     "output_type": "execute_result"
    }
   ],
   "source": [
    "solve_part1(False)"
   ]
  },
  {
   "cell_type": "markdown",
   "metadata": {},
   "source": [
    "## Part II\n",
    "The **unknown** of this part is **the total number of distinct ways you can arrange the adapters** to connect the charging outlet to your device. An input to this part is the difference array. When there is more then one difference of length 1 in a sequence, it is possible to remove at least one adapter from the chain.\n",
    "\n",
    "The key to solution is to figure out the relation between the length of sequence of 1 and the number of possible removal.\n",
    "\n",
    "Lenght of sequence|Number of combinations\n",
    "-|-\n",
    "1|0\n",
    "2|2\n",
    "3|4 ($= 2^{3-1}$)\n",
    "4|8 ?\n",
    "5|?\n",
    "\n",
    "But we can't use [Number of k-combinations for all k](https://en.wikipedia.org/wiki/Combination#Number_of_k-combinations_for_all_k), which is $\\sum_{0 \\leq k \\leq n} \\binom{n}{k} = 2^n$ directly, because the gap between adapters can be at most 3."
   ]
  },
  {
   "cell_type": "code",
   "execution_count": null,
   "metadata": {},
   "outputs": [],
   "source": []
  }
 ],
 "metadata": {
  "kernelspec": {
   "display_name": "Python 3.9.7 ('base')",
   "language": "python",
   "name": "python3"
  },
  "language_info": {
   "codemirror_mode": {
    "name": "ipython",
    "version": 3
   },
   "file_extension": ".py",
   "mimetype": "text/x-python",
   "name": "python",
   "nbconvert_exporter": "python",
   "pygments_lexer": "ipython3",
   "version": "3.9.7"
  },
  "orig_nbformat": 4,
  "vscode": {
   "interpreter": {
    "hash": "6bbdfe987c89318d21a8f3e326c3948afb67cac6467b680734e6b94581969df5"
   }
  }
 },
 "nbformat": 4,
 "nbformat_minor": 2
}
