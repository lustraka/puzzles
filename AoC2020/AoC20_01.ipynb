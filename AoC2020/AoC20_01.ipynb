{
 "cells": [
  {
   "cell_type": "code",
   "execution_count": 1,
   "metadata": {},
   "outputs": [],
   "source": [
    "from pathlib import Path"
   ]
  },
  {
   "cell_type": "code",
   "execution_count": 2,
   "metadata": {},
   "outputs": [],
   "source": [
    "def parse(file):\n",
    "    return [int(n) for n in Path('./data/'+file).read_text().split('\\n')]"
   ]
  },
  {
   "cell_type": "markdown",
   "metadata": {},
   "source": [
    "## Part I\n",
    "Find two numbers that sum to 2020."
   ]
  },
  {
   "cell_type": "code",
   "execution_count": 3,
   "metadata": {},
   "outputs": [
    {
     "name": "stdout",
     "output_type": "stream",
     "text": [
      "299 * 1721 = 514579\n"
     ]
    },
    {
     "data": {
      "text/plain": [
       "514579"
      ]
     },
     "execution_count": 3,
     "metadata": {},
     "output_type": "execute_result"
    }
   ],
   "source": [
    "def solve_PartI(file):\n",
    "    report = parse(file)\n",
    "    go = True\n",
    "    while go:\n",
    "        entry1 = report.pop()\n",
    "        for entry2 in report:\n",
    "            if entry1 + entry2 == 2020:\n",
    "                out = entry1*entry2\n",
    "                print(entry1, '*', entry2, '=', out)\n",
    "                go = False\n",
    "    return out\n",
    "solve_PartI('AoC20_01t.txt')"
   ]
  },
  {
   "cell_type": "code",
   "execution_count": 4,
   "metadata": {},
   "outputs": [
    {
     "name": "stdout",
     "output_type": "stream",
     "text": [
      "403 * 1617 = 651651\n"
     ]
    },
    {
     "data": {
      "text/plain": [
       "651651"
      ]
     },
     "execution_count": 4,
     "metadata": {},
     "output_type": "execute_result"
    }
   ],
   "source": [
    "solve_PartI('AoC20_01.txt')"
   ]
  },
  {
   "cell_type": "markdown",
   "metadata": {},
   "source": [
    "## Part II\n",
    "Find three numbers that sum to 2020\n",
    "- [itertools.combinations(iterable, r)](https://docs.python.org/3/library/itertools.html#itertools.combinations): Return r length subsequences of elements from the input iterable.\n",
    "\n",
    "Roughly equivalent to:\n",
    "```py\n",
    "def combinations(iterable, r):\n",
    "    # combinations('ABCD', 2) --> AB AC AD BC BD CD\n",
    "    # combinations(range(4), 3) --> 012 013 023 123\n",
    "    pool = tuple(iterable)\n",
    "    n = len(pool)\n",
    "    if r > n:\n",
    "        return\n",
    "    indices = list(range(r))\n",
    "    yield tuple(pool[i] for i in indices)\n",
    "    while True:\n",
    "        for i in reversed(range(r)):\n",
    "            if indices[i] != i + n - r:\n",
    "                break\n",
    "        else:\n",
    "            return\n",
    "        indices[i] += 1\n",
    "        for j in range(i+1, r):\n",
    "            indices[j] = indices[j-1] + 1\n",
    "        yield tuple(pool[i] for i in indices)\n",
    "```"
   ]
  },
  {
   "cell_type": "code",
   "execution_count": 5,
   "metadata": {},
   "outputs": [],
   "source": [
    "from itertools import combinations"
   ]
  },
  {
   "cell_type": "code",
   "execution_count": 6,
   "metadata": {},
   "outputs": [
    {
     "name": "stdout",
     "output_type": "stream",
     "text": [
      "AoC20_01t.txt :\n",
      "\t 1721 * 299 = 514579\n",
      "\t 979 * 366 * 675 = 241861950\n",
      "AoC20_01.txt :\n",
      "\t 1617 * 403 = 651651\n",
      "\t 1144 * 372 * 504 = 214486272\n"
     ]
    }
   ],
   "source": [
    "for file in ['AoC20_01t.txt', 'AoC20_01.txt']:\n",
    "    print(file, ':')    \n",
    "    report = parse(file)\n",
    "    out2 = [x for x in combinations(report,2) if x[0]+x[1] == 2020][0]\n",
    "    print('\\t', out2[0], '*', out2[1], '=', out2[0]*out2[1])\n",
    "    out3 = [x for x in combinations(report,3) if x[0]+x[1]+x[2] == 2020][0]\n",
    "    print('\\t', out3[0], '*', out3[1], '*', out3[2], '=', out3[0]*out3[1]*out3[2])"
   ]
  },
  {
   "cell_type": "markdown",
   "metadata": {},
   "source": [
    "## Learn an Algo for Combinations \n",
    "Wiki : [Combination](https://en.wikipedia.org/wiki/Combination)\n",
    "\n",
    "**[Why does python use 'else' after for and while loops?](https://stackoverflow.com/questions/9979970/why-does-python-use-else-after-for-and-while-loops)** (StackOverflow)\n",
    "\n",
    "A common construct is to run a loop until something is found and then to break out of the loop. The problem is that if I break out of the loop or the loop ends I need to determine which case happened. One method is to create a flag or store variable that will let me do a second test to see how the loop was exited.\n",
    "\n",
    "For example assume that I need to search through a list and process each item until a flag item is found and then stop processing. If the flag item is missing then an exception needs to be raised.\n",
    "\n",
    "Using the Python for...else construct you have\n",
    "\n",
    "```py\n",
    "for i in mylist:\n",
    "    if i == theflag:\n",
    "        break\n",
    "    process(i)\n",
    "else:\n",
    "    raise ValueError(\"List argument missing terminal flag.\")\n",
    "```\n",
    "\n",
    "Compare this to a method that does not use this syntactic sugar:\n",
    "\n",
    "```py\n",
    "flagfound = False\n",
    "for i in mylist:\n",
    "    if i == theflag:\n",
    "        flagfound = True\n",
    "        break\n",
    "    process(i)\n",
    "\n",
    "if not flagfound:\n",
    "    raise ValueError(\"List argument missing terminal flag.\")\n",
    "```\n",
    "In the first case the raise is bound tightly to the for loop it works with. In the second the binding is not as strong and errors may be introduced during maintenance."
   ]
  },
  {
   "cell_type": "code",
   "execution_count": 34,
   "metadata": {},
   "outputs": [
    {
     "name": "stdout",
     "output_type": "stream",
     "text": [
      "yield ('A', 'B'), where indices are [0, 1] & enter while loop:\n",
      "\tEnter next yielding loop and check positions backwards (i.e. [1, 0])\n",
      "\t- index on position 1 (1) doesn't equal 3 (i+n-r: 1+2), so break checking and process it!\n",
      "\tIncrement value on position 1 (1<-2)\n",
      "\t> Skip processing the rest of this combination.\n",
      "\tyield ('A', 'C'), where indices are [0, 2]\n",
      "\n",
      "\tEnter next yielding loop and check positions backwards (i.e. [1, 0])\n",
      "\t- index on position 1 (2) doesn't equal 3 (i+n-r: 1+2), so break checking and process it!\n",
      "\tIncrement value on position 1 (2<-3)\n",
      "\t> Skip processing the rest of this combination.\n",
      "\tyield ('A', 'D'), where indices are [0, 3]\n",
      "\n",
      "\tEnter next yielding loop and check positions backwards (i.e. [1, 0])\n",
      "\t- index on position 1 (3) equals to 3 (i+n-r: 1+2), check previous position ...\n",
      "\t- index on position 0 (0) doesn't equal 2 (i+n-r: 0+2), so break checking and process it!\n",
      "\tIncrement value on position 0 (0<-1)\n",
      "\tNow restart sequence on positions in range [1]:\n",
      "\t\tindices[1] = indices[0] (1) + 1 (3<-2)\n",
      "\tyield ('B', 'C'), where indices are [1, 2]\n",
      "\n",
      "\tEnter next yielding loop and check positions backwards (i.e. [1, 0])\n",
      "\t- index on position 1 (2) doesn't equal 3 (i+n-r: 1+2), so break checking and process it!\n",
      "\tIncrement value on position 1 (2<-3)\n",
      "\t> Skip processing the rest of this combination.\n",
      "\tyield ('B', 'D'), where indices are [1, 3]\n",
      "\n",
      "\tEnter next yielding loop and check positions backwards (i.e. [1, 0])\n",
      "\t- index on position 1 (3) equals to 3 (i+n-r: 1+2), check previous position ...\n",
      "\t- index on position 0 (1) doesn't equal 2 (i+n-r: 0+2), so break checking and process it!\n",
      "\tIncrement value on position 0 (1<-2)\n",
      "\tNow restart sequence on positions in range [1]:\n",
      "\t\tindices[1] = indices[0] (2) + 1 (3<-3)\n",
      "\tyield ('C', 'D'), where indices are [2, 3]\n",
      "\n",
      "\tEnter next yielding loop and check positions backwards (i.e. [1, 0])\n",
      "\t- index on position 1 (3) equals to 3 (i+n-r: 1+2), check previous position ...\n",
      "\t- index on position 0 (2) equals to 2 (i+n-r: 0+2), check previous position ...\n",
      "End yielding loop!\n"
     ]
    },
    {
     "data": {
      "text/plain": [
       "[('A', 'B'), ('A', 'C'), ('A', 'D'), ('B', 'C'), ('B', 'D'), ('C', 'D')]"
      ]
     },
     "execution_count": 34,
     "metadata": {},
     "output_type": "execute_result"
    }
   ],
   "source": [
    "def combinations_debug(iterable, r):\n",
    "    # combinations('ABCD', 2) --> AB AC AD BC BD CD\n",
    "    # combinations(range(4), 3) --> 012 013 023 123\n",
    "    pool = tuple(iterable)\n",
    "    n = len(pool)\n",
    "    if r > n:\n",
    "        return\n",
    "    indices = list(range(r))\n",
    "    yield tuple(pool[i] for i in indices)\n",
    "    print(f\"yield {tuple(pool[i] for i in indices)}, where indices are {indices} & enter while loop:\")\n",
    "    while True:\n",
    "        print(f\"\\tEnter next yielding cycle and check positions backwards (i.e. {list(reversed(range(r)))})\")\n",
    "        for i in reversed(range(r)):\n",
    "            if indices[i] != i + n - r:\n",
    "                print(f\"\\t- index on position {i} ({indices[i]}) doesn't equal {i+n-r} (i+n-r: {i}+{n-r}), so break checking and process it!\")\n",
    "                break\n",
    "            print(f\"\\t- index on position {i} ({indices[i]}) equals to {i+n-r} (i+n-r: {i}+{n-r}), check previous position ...\")\n",
    "        else:\n",
    "            print(\"End yielding loop!\")\n",
    "            return\n",
    "        print(f\"\\tIncrement value on position {i} ({indices[i]}<-{indices[i]+1})\")\n",
    "        indices[i] += 1\n",
    "        rest_range = list(range(i+1, r))\n",
    "        if rest_range == []:\n",
    "            print(\"\\t> Skip processing the rest of this combination.\")\n",
    "        else:\n",
    "            print(f\"\\tNow restart sequence on positions in range {rest_range}:\")\n",
    "        for j in range(i+1, r):\n",
    "            print(f\"\\t\\tindices[{j}] = indices[{j-1}] ({indices[j-1]}) + 1 ({indices[j]}<-{indices[j-1]+1})\")\n",
    "            indices[j] = indices[j-1] + 1\n",
    "        yield tuple(pool[i] for i in indices)\n",
    "        print(f\"\\tyield {tuple(pool[i] for i in indices)}, where indices are {indices}\\n\")\n",
    "list(combinations_debug('ABCD',2))"
   ]
  },
  {
   "cell_type": "code",
   "execution_count": 35,
   "metadata": {},
   "outputs": [
    {
     "name": "stdout",
     "output_type": "stream",
     "text": [
      "yield (0, 1, 2), where indices are [0, 1, 2] & enter while loop:\n",
      "\tEnter next yielding loop and check positions backwards (i.e. [2, 1, 0])\n",
      "\t- index on position 2 (2) doesn't equal 4 (i+n-r: 2+2), so break checking and process it!\n",
      "\tIncrement value on position 2 (2<-3)\n",
      "\t> Skip processing the rest of this combination.\n",
      "\tyield (0, 1, 3), where indices are [0, 1, 3]\n",
      "\n",
      "\tEnter next yielding loop and check positions backwards (i.e. [2, 1, 0])\n",
      "\t- index on position 2 (3) doesn't equal 4 (i+n-r: 2+2), so break checking and process it!\n",
      "\tIncrement value on position 2 (3<-4)\n",
      "\t> Skip processing the rest of this combination.\n",
      "\tyield (0, 1, 4), where indices are [0, 1, 4]\n",
      "\n",
      "\tEnter next yielding loop and check positions backwards (i.e. [2, 1, 0])\n",
      "\t- index on position 2 (4) equals to 4 (i+n-r: 2+2), check previous position ...\n",
      "\t- index on position 1 (1) doesn't equal 3 (i+n-r: 1+2), so break checking and process it!\n",
      "\tIncrement value on position 1 (1<-2)\n",
      "\tNow restart sequence on positions in range [2]:\n",
      "\t\tindices[2] = indices[1] (2) + 1 (4<-3)\n",
      "\tyield (0, 2, 3), where indices are [0, 2, 3]\n",
      "\n",
      "\tEnter next yielding loop and check positions backwards (i.e. [2, 1, 0])\n",
      "\t- index on position 2 (3) doesn't equal 4 (i+n-r: 2+2), so break checking and process it!\n",
      "\tIncrement value on position 2 (3<-4)\n",
      "\t> Skip processing the rest of this combination.\n",
      "\tyield (0, 2, 4), where indices are [0, 2, 4]\n",
      "\n",
      "\tEnter next yielding loop and check positions backwards (i.e. [2, 1, 0])\n",
      "\t- index on position 2 (4) equals to 4 (i+n-r: 2+2), check previous position ...\n",
      "\t- index on position 1 (2) doesn't equal 3 (i+n-r: 1+2), so break checking and process it!\n",
      "\tIncrement value on position 1 (2<-3)\n",
      "\tNow restart sequence on positions in range [2]:\n",
      "\t\tindices[2] = indices[1] (3) + 1 (4<-4)\n",
      "\tyield (0, 3, 4), where indices are [0, 3, 4]\n",
      "\n",
      "\tEnter next yielding loop and check positions backwards (i.e. [2, 1, 0])\n",
      "\t- index on position 2 (4) equals to 4 (i+n-r: 2+2), check previous position ...\n",
      "\t- index on position 1 (3) equals to 3 (i+n-r: 1+2), check previous position ...\n",
      "\t- index on position 0 (0) doesn't equal 2 (i+n-r: 0+2), so break checking and process it!\n",
      "\tIncrement value on position 0 (0<-1)\n",
      "\tNow restart sequence on positions in range [1, 2]:\n",
      "\t\tindices[1] = indices[0] (1) + 1 (3<-2)\n",
      "\t\tindices[2] = indices[1] (2) + 1 (4<-3)\n",
      "\tyield (1, 2, 3), where indices are [1, 2, 3]\n",
      "\n",
      "\tEnter next yielding loop and check positions backwards (i.e. [2, 1, 0])\n",
      "\t- index on position 2 (3) doesn't equal 4 (i+n-r: 2+2), so break checking and process it!\n",
      "\tIncrement value on position 2 (3<-4)\n",
      "\t> Skip processing the rest of this combination.\n",
      "\tyield (1, 2, 4), where indices are [1, 2, 4]\n",
      "\n",
      "\tEnter next yielding loop and check positions backwards (i.e. [2, 1, 0])\n",
      "\t- index on position 2 (4) equals to 4 (i+n-r: 2+2), check previous position ...\n",
      "\t- index on position 1 (2) doesn't equal 3 (i+n-r: 1+2), so break checking and process it!\n",
      "\tIncrement value on position 1 (2<-3)\n",
      "\tNow restart sequence on positions in range [2]:\n",
      "\t\tindices[2] = indices[1] (3) + 1 (4<-4)\n",
      "\tyield (1, 3, 4), where indices are [1, 3, 4]\n",
      "\n",
      "\tEnter next yielding loop and check positions backwards (i.e. [2, 1, 0])\n",
      "\t- index on position 2 (4) equals to 4 (i+n-r: 2+2), check previous position ...\n",
      "\t- index on position 1 (3) equals to 3 (i+n-r: 1+2), check previous position ...\n",
      "\t- index on position 0 (1) doesn't equal 2 (i+n-r: 0+2), so break checking and process it!\n",
      "\tIncrement value on position 0 (1<-2)\n",
      "\tNow restart sequence on positions in range [1, 2]:\n",
      "\t\tindices[1] = indices[0] (2) + 1 (3<-3)\n",
      "\t\tindices[2] = indices[1] (3) + 1 (4<-4)\n",
      "\tyield (2, 3, 4), where indices are [2, 3, 4]\n",
      "\n",
      "\tEnter next yielding loop and check positions backwards (i.e. [2, 1, 0])\n",
      "\t- index on position 2 (4) equals to 4 (i+n-r: 2+2), check previous position ...\n",
      "\t- index on position 1 (3) equals to 3 (i+n-r: 1+2), check previous position ...\n",
      "\t- index on position 0 (2) equals to 2 (i+n-r: 0+2), check previous position ...\n",
      "End yielding loop!\n"
     ]
    },
    {
     "data": {
      "text/plain": [
       "[(0, 1, 2),\n",
       " (0, 1, 3),\n",
       " (0, 1, 4),\n",
       " (0, 2, 3),\n",
       " (0, 2, 4),\n",
       " (0, 3, 4),\n",
       " (1, 2, 3),\n",
       " (1, 2, 4),\n",
       " (1, 3, 4),\n",
       " (2, 3, 4)]"
      ]
     },
     "execution_count": 35,
     "metadata": {},
     "output_type": "execute_result"
    }
   ],
   "source": [
    "list(combinations_debug(range(5),3))"
   ]
  },
  {
   "cell_type": "code",
   "execution_count": null,
   "metadata": {},
   "outputs": [],
   "source": []
  },
  {
   "cell_type": "code",
   "execution_count": null,
   "metadata": {},
   "outputs": [],
   "source": []
  }
 ],
 "metadata": {
  "kernelspec": {
   "display_name": "Python 3.9.7 ('base')",
   "language": "python",
   "name": "python3"
  },
  "language_info": {
   "codemirror_mode": {
    "name": "ipython",
    "version": 3
   },
   "file_extension": ".py",
   "mimetype": "text/x-python",
   "name": "python",
   "nbconvert_exporter": "python",
   "pygments_lexer": "ipython3",
   "version": "3.9.7"
  },
  "orig_nbformat": 4,
  "vscode": {
   "interpreter": {
    "hash": "6bbdfe987c89318d21a8f3e326c3948afb67cac6467b680734e6b94581969df5"
   }
  }
 },
 "nbformat": 4,
 "nbformat_minor": 2
}
