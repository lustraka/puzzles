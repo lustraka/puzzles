{
 "cells": [
  {
   "cell_type": "code",
   "execution_count": 1,
   "metadata": {},
   "outputs": [],
   "source": [
    "from pathlib import Path"
   ]
  },
  {
   "cell_type": "code",
   "execution_count": 2,
   "metadata": {},
   "outputs": [],
   "source": [
    "def parse(file):\n",
    "    return [int(n) for n in Path('./data/'+file).read_text().split('\\n')]"
   ]
  },
  {
   "cell_type": "markdown",
   "metadata": {},
   "source": [
    "## Part I\n",
    "Find two numbers that sum to 2020."
   ]
  },
  {
   "cell_type": "code",
   "execution_count": 10,
   "metadata": {},
   "outputs": [
    {
     "name": "stdout",
     "output_type": "stream",
     "text": [
      "299 * 1721 = 514579\n"
     ]
    },
    {
     "data": {
      "text/plain": [
       "514579"
      ]
     },
     "execution_count": 10,
     "metadata": {},
     "output_type": "execute_result"
    }
   ],
   "source": [
    "def solve_PartI(file):\n",
    "    report = parse(file)\n",
    "    go = True\n",
    "    while go:\n",
    "        entry1 = report.pop()\n",
    "        for entry2 in report:\n",
    "            if entry1 + entry2 == 2020:\n",
    "                out = entry1*entry2\n",
    "                print(entry1, '*', entry2, '=', out)\n",
    "                go = False\n",
    "    return out\n",
    "solve_PartI('AoC20_01t.txt')"
   ]
  },
  {
   "cell_type": "code",
   "execution_count": 11,
   "metadata": {},
   "outputs": [
    {
     "name": "stdout",
     "output_type": "stream",
     "text": [
      "403 * 1617 = 651651\n"
     ]
    },
    {
     "data": {
      "text/plain": [
       "651651"
      ]
     },
     "execution_count": 11,
     "metadata": {},
     "output_type": "execute_result"
    }
   ],
   "source": [
    "solve_PartI('AoC20_01.txt')"
   ]
  },
  {
   "cell_type": "markdown",
   "metadata": {},
   "source": [
    "## Part II\n",
    "Find three numbers that sum to 2020\n",
    "- [itertools.combinations(iterable, r)](https://docs.python.org/3/library/itertools.html#itertools.combinations): Return r length subsequences of elements from the input iterable.\n",
    "\n",
    "Roughly equivalent to:\n",
    "```py\n",
    "def combinations(iterable, r):\n",
    "    # combinations('ABCD', 2) --> AB AC AD BC BD CD\n",
    "    # combinations(range(4), 3) --> 012 013 023 123\n",
    "    pool = tuple(iterable)\n",
    "    n = len(pool)\n",
    "    if r > n:\n",
    "        return\n",
    "    indices = list(range(r))\n",
    "    yield tuple(pool[i] for i in indices)\n",
    "    while True:\n",
    "        for i in reversed(range(r)):\n",
    "            if indices[i] != i + n - r:\n",
    "                break\n",
    "        else:\n",
    "            return\n",
    "        indices[i] += 1\n",
    "        for j in range(i+1, r):\n",
    "            indices[j] = indices[j-1] + 1\n",
    "        yield tuple(pool[i] for i in indices)\n",
    "```"
   ]
  },
  {
   "cell_type": "code",
   "execution_count": 12,
   "metadata": {},
   "outputs": [],
   "source": [
    "from itertools import combinations"
   ]
  },
  {
   "cell_type": "code",
   "execution_count": 22,
   "metadata": {},
   "outputs": [
    {
     "name": "stdout",
     "output_type": "stream",
     "text": [
      "AoC20_01t.txt :\n",
      "\t 1721 * 299 = 514579\n",
      "\t 979 * 366 * 675 = 241861950\n",
      "AoC20_01.txt :\n",
      "\t 1617 * 403 = 651651\n",
      "\t 1144 * 372 * 504 = 214486272\n"
     ]
    }
   ],
   "source": [
    "for file in ['AoC20_01t.txt', 'AoC20_01.txt']:\n",
    "    print(file, ':')    \n",
    "    report = parse(file)\n",
    "    out2 = [x for x in combinations(report,2) if x[0]+x[1] == 2020][0]\n",
    "    print('\\t', out2[0], '*', out2[1], '=', out2[0]*out2[1])\n",
    "    out3 = [x for x in combinations(report,3) if x[0]+x[1]+x[2] == 2020][0]\n",
    "    print('\\t', out3[0], '*', out3[1], '*', out3[2], '=', out3[0]*out3[1]*out3[2])"
   ]
  },
  {
   "cell_type": "code",
   "execution_count": null,
   "metadata": {},
   "outputs": [],
   "source": []
  }
 ],
 "metadata": {
  "kernelspec": {
   "display_name": "Python 3.9.7 ('base')",
   "language": "python",
   "name": "python3"
  },
  "language_info": {
   "codemirror_mode": {
    "name": "ipython",
    "version": 3
   },
   "file_extension": ".py",
   "mimetype": "text/x-python",
   "name": "python",
   "nbconvert_exporter": "python",
   "pygments_lexer": "ipython3",
   "version": "3.9.7"
  },
  "orig_nbformat": 4,
  "vscode": {
   "interpreter": {
    "hash": "6bbdfe987c89318d21a8f3e326c3948afb67cac6467b680734e6b94581969df5"
   }
  }
 },
 "nbformat": 4,
 "nbformat_minor": 2
}
