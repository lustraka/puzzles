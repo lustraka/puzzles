{
 "cells": [
  {
   "cell_type": "markdown",
   "metadata": {},
   "source": [
    "# [Day 5](https://adventofcode.com/2020/day/5): Binary boarding\n",
    "- [Practicing Advent of Code: Day 5, 2020](https://realpython.com/python-advent-of-code/#practicing-advent-of-code-day-5-2020)\n",
    "\n",
    "## Part I\n",
    "**Coding**:\n",
    "- First seven characters (row): F(ront)=0, B(ack)=1\n",
    "- Last three characters (col): L(eft)=0, R(ight)=1\n",
    "- Seat ID = row * 8 + col"
   ]
  },
  {
   "cell_type": "code",
   "execution_count": 14,
   "metadata": {},
   "outputs": [],
   "source": [
    "from pathlib import Path"
   ]
  },
  {
   "cell_type": "code",
   "execution_count": 7,
   "metadata": {},
   "outputs": [
    {
     "data": {
      "text/plain": [
       "(44, 5)"
      ]
     },
     "execution_count": 7,
     "metadata": {},
     "output_type": "execute_result"
    }
   ],
   "source": [
    "testBP = ['FBFBBFFRLR', 'BFFFBBFRRR', 'FFFBBBFRRR', 'BBFFBBFRLL']\n",
    "int('0101100', 2), int('101',2)"
   ]
  },
  {
   "cell_type": "code",
   "execution_count": 13,
   "metadata": {},
   "outputs": [
    {
     "name": "stdout",
     "output_type": "stream",
     "text": [
      "357\n",
      "567\n",
      "119\n",
      "820\n"
     ]
    }
   ],
   "source": [
    "def get_id(BP):\n",
    "    bp = [\n",
    "        int(BP[:7].replace('F','0').replace('B','1'),2),\n",
    "        int(BP[7:].replace(\"L\",'0').replace('R','1'),2)\n",
    "        ]\n",
    "    # print(bp)\n",
    "    return bp[0]*8+bp[1]\n",
    "\n",
    "for bp in testBP:\n",
    "    print(get_id(bp))"
   ]
  },
  {
   "cell_type": "code",
   "execution_count": 15,
   "metadata": {},
   "outputs": [
    {
     "data": {
      "text/plain": [
       "936"
      ]
     },
     "execution_count": 15,
     "metadata": {},
     "output_type": "execute_result"
    }
   ],
   "source": [
    "BPs = Path('./data/Aoc20_05.txt').read_text().split('\\n')\n",
    "len(BPs)"
   ]
  },
  {
   "cell_type": "code",
   "execution_count": 16,
   "metadata": {},
   "outputs": [
    {
     "data": {
      "text/plain": [
       "[962, 963]"
      ]
     },
     "execution_count": 16,
     "metadata": {},
     "output_type": "execute_result"
    }
   ],
   "source": [
    "IDs = sorted([get_id(bp) for bp in BPs])\n",
    "IDs[-2:]\n"
   ]
  },
  {
   "cell_type": "markdown",
   "metadata": {},
   "source": [
    "## Part II\n",
    "Find the only missing boarding pass."
   ]
  },
  {
   "cell_type": "code",
   "execution_count": 19,
   "metadata": {},
   "outputs": [
    {
     "data": {
      "text/plain": [
       "([27, 28, 29], [961, 962, 963])"
      ]
     },
     "execution_count": 19,
     "metadata": {},
     "output_type": "execute_result"
    }
   ],
   "source": [
    "IDs[:3], IDs[-3:]"
   ]
  },
  {
   "cell_type": "code",
   "execution_count": 20,
   "metadata": {},
   "outputs": [
    {
     "data": {
      "text/plain": [
       "{592}"
      ]
     },
     "execution_count": 20,
     "metadata": {},
     "output_type": "execute_result"
    }
   ],
   "source": [
    "set(range(27,964)).difference(set(IDs))"
   ]
  },
  {
   "cell_type": "markdown",
   "metadata": {},
   "source": [
    "## Checking with tutorial`"
   ]
  },
  {
   "cell_type": "code",
   "execution_count": 22,
   "metadata": {},
   "outputs": [
    {
     "data": {
      "text/plain": [
       "(['0101100101', '1000110111', '0001110111', '1100110100'],\n",
       " [357, 567, 119, 820])"
      ]
     },
     "execution_count": 22,
     "metadata": {},
     "output_type": "execute_result"
    }
   ],
   "source": [
    "mapping = str.maketrans({'F':'0', 'L':'0', 'B':'1', 'R':'1'})\n",
    "[bp.translate(mapping) for bp in testBP], [int(bp.translate(mapping),2) for bp in testBP]"
   ]
  },
  {
   "cell_type": "code",
   "execution_count": 24,
   "metadata": {},
   "outputs": [
    {
     "data": {
      "text/plain": [
       "963"
      ]
     },
     "execution_count": 24,
     "metadata": {},
     "output_type": "execute_result"
    }
   ],
   "source": [
    "IDs2 = [int(bp.translate(mapping),2) for bp in BPs]\n",
    "max(IDs2)"
   ]
  },
  {
   "cell_type": "code",
   "execution_count": 25,
   "metadata": {},
   "outputs": [
    {
     "data": {
      "text/plain": [
       "{592}"
      ]
     },
     "execution_count": 25,
     "metadata": {},
     "output_type": "execute_result"
    }
   ],
   "source": [
    "set(range(min(IDs2),max(IDs2)+1)).difference(set(IDs2))"
   ]
  },
  {
   "cell_type": "code",
   "execution_count": null,
   "metadata": {},
   "outputs": [],
   "source": []
  }
 ],
 "metadata": {
  "kernelspec": {
   "display_name": "Python 3.9.7 ('base')",
   "language": "python",
   "name": "python3"
  },
  "language_info": {
   "codemirror_mode": {
    "name": "ipython",
    "version": 3
   },
   "file_extension": ".py",
   "mimetype": "text/x-python",
   "name": "python",
   "nbconvert_exporter": "python",
   "pygments_lexer": "ipython3",
   "version": "3.9.7"
  },
  "orig_nbformat": 4,
  "vscode": {
   "interpreter": {
    "hash": "6bbdfe987c89318d21a8f3e326c3948afb67cac6467b680734e6b94581969df5"
   }
  }
 },
 "nbformat": 4,
 "nbformat_minor": 2
}
