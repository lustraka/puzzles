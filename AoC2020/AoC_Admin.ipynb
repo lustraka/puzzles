{
 "cells": [
  {
   "cell_type": "code",
   "execution_count": 1,
   "metadata": {},
   "outputs": [
    {
     "data": {
      "text/plain": [
       "'AoC20_08.ipynb and input files created.'"
      ]
     },
     "execution_count": 1,
     "metadata": {},
     "output_type": "execute_result"
    }
   ],
   "source": [
    "# Import dependencies\n",
    "from pathlib import Path\n",
    "\n",
    "# Define the routine\n",
    "def init_files(year,day):\n",
    "    # Initialize ipynb file\n",
    "    ipynb_lines = Path('AoC.ipynb').read_text().split('\\n')\n",
    "    year, day = list(map(str,[year,day]))\n",
    "    # print(year,day, '>>', year[-2:], day.zfill(2))\n",
    "    \n",
    "    # Check the ipynb file\n",
    "    if Path(f\"AoC{year[-2:]}_{day.zfill(2)}.ipynb\").is_file():\n",
    "        return f\"AoC{year[-2:]}_{day.zfill(2)}.ipynb already exists.\"\n",
    "\n",
    "    # Update lines\n",
    "    line_6 = f'    \"# [Day {day}](https://adventofcode.com/{year}/day/{day}) :\\\\n\",' \n",
    "    line_27 = f'    \"    filename = \\'./data/AoC{year[-2:]}_{day.zfill(2)}t.txt\\' if test else \\'./data/AoC{year[-2:]}_{day.zfill(2)}.txt\\'\\\\n\",'\n",
    "    ipynb_lines[6] = line_6\n",
    "    ipynb_lines[27] = line_27\n",
    "\n",
    "    # Write files\n",
    "    Path(f\"AoC{year[-2:]}_{day.zfill(2)}.ipynb\").write_text('\\n'.join(ipynb_lines))\n",
    "    Path(f\"./data/AoC{year[-2:]}_{day.zfill(2)}t.txt\").write_text('')\n",
    "    Path(f\"./data/AoC{year[-2:]}_{day.zfill(2)}.txt\").write_text('')\n",
    "    return f\"AoC{year[-2:]}_{day.zfill(2)}.ipynb and input files created.\"\n",
    "\n",
    "# Use the routine\n",
    "init_files(2020,8)"
   ]
  },
  {
   "cell_type": "code",
   "execution_count": null,
   "metadata": {},
   "outputs": [],
   "source": []
  }
 ],
 "metadata": {
  "kernelspec": {
   "display_name": "Python 3.9.7 ('base')",
   "language": "python",
   "name": "python3"
  },
  "language_info": {
   "codemirror_mode": {
    "name": "ipython",
    "version": 3
   },
   "file_extension": ".py",
   "mimetype": "text/x-python",
   "name": "python",
   "nbconvert_exporter": "python",
   "pygments_lexer": "ipython3",
   "version": "3.9.7"
  },
  "orig_nbformat": 4,
  "vscode": {
   "interpreter": {
    "hash": "6bbdfe987c89318d21a8f3e326c3948afb67cac6467b680734e6b94581969df5"
   }
  }
 },
 "nbformat": 4,
 "nbformat_minor": 2
}
