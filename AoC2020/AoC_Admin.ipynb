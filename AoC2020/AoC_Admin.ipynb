{
 "cells": [
  {
   "cell_type": "code",
   "execution_count": 16,
   "metadata": {},
   "outputs": [
    {
     "name": "stdout",
     "output_type": "stream",
     "text": [
      "2020 6 >> 20 06\n",
      "    \"# [Day x](https://adventofcode.com/2020/day/6) :\\n\",\n",
      "    \"    filename = './data/AoC20_06t.txt' if test else './data/AoC20_06.txt'\\n\",\n"
     ]
    }
   ],
   "source": [
    "# Import dependencies\n",
    "from pathlib import Path\n",
    "\n",
    "# Define the routine\n",
    "def init_files(year,day):\n",
    "    # Initialize ipynb file\n",
    "    ipynb_lines = Path('AoC.ipynb').read_text().split('\\n')\n",
    "    year, day = list(map(str,[year,day]))\n",
    "    print(year,day, '>>', year[-2:], day.zfill(2))\n",
    "    line_6 = f'    \"# [Day x](https://adventofcode.com/{year}/day/{day}) :\\\\n\",' \n",
    "    print(line_6)\n",
    "    line_27 = f'    \"    filename = \\'./data/AoC{year[-2:]}_{day.zfill(2)}t.txt\\' if test else \\'./data/AoC{year[-2:]}_{day.zfill(2)}.txt\\'\\\\n\",'\n",
    "    print(line_27)\n",
    "    ipynb_lines[6] = line_6\n",
    "    ipynb_lines[27] = line_27\n",
    "    Path(f\"AoC{year[-2:]}_{day.zfill(2)}.ipynb\").write_text('\\n'.join(ipynb_lines))\n",
    "    Path(f\"./data/AoC{year[-2:]}_{day.zfill(2)}t.txt\").write_text('')\n",
    "    Path(f\"./data/AoC{year[-2:]}_{day.zfill(2)}.txt\").write_text('')\n",
    "    return\n",
    "\n",
    "# Use the routine\n",
    "init_files(2020,7)"
   ]
  },
  {
   "cell_type": "code",
   "execution_count": null,
   "metadata": {},
   "outputs": [],
   "source": []
  }
 ],
 "metadata": {
  "kernelspec": {
   "display_name": "Python 3.9.7 ('base')",
   "language": "python",
   "name": "python3"
  },
  "language_info": {
   "codemirror_mode": {
    "name": "ipython",
    "version": 3
   },
   "file_extension": ".py",
   "mimetype": "text/x-python",
   "name": "python",
   "nbconvert_exporter": "python",
   "pygments_lexer": "ipython3",
   "version": "3.9.7"
  },
  "orig_nbformat": 4,
  "vscode": {
   "interpreter": {
    "hash": "6bbdfe987c89318d21a8f3e326c3948afb67cac6467b680734e6b94581969df5"
   }
  }
 },
 "nbformat": 4,
 "nbformat_minor": 2
}
