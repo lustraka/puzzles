{
 "cells": [
  {
   "cell_type": "markdown",
   "metadata": {},
   "source": [
    "# [Day 6](https://adventofcode.com/2022/day/6) : Tuning Trouble\n",
    "## Part I"
   ]
  },
  {
   "cell_type": "code",
   "execution_count": 1,
   "metadata": {},
   "outputs": [],
   "source": [
    "# Import dependencies\n",
    "from pathlib import Path"
   ]
  },
  {
   "cell_type": "code",
   "execution_count": 3,
   "metadata": {},
   "outputs": [
    {
     "data": {
      "text/plain": [
       "'mjqjpqmgbljsphdztnvjfqwrcgsmlb'"
      ]
     },
     "execution_count": 3,
     "metadata": {},
     "output_type": "execute_result"
    }
   ],
   "source": [
    "def parse(test=True):\n",
    "    filename = './data/AoC22_06t.txt' if test else './data/AoC22_06.txt'\n",
    "    lines = Path(filename).read_text()\n",
    "    return lines\n",
    "parse()"
   ]
  },
  {
   "cell_type": "code",
   "execution_count": 10,
   "metadata": {},
   "outputs": [
    {
     "data": {
      "text/plain": [
       "7"
      ]
     },
     "execution_count": 10,
     "metadata": {},
     "output_type": "execute_result"
    }
   ],
   "source": [
    "def solve_part1(test=True):\n",
    "    #signal = 'bvwbjplbgvbhsrlpgdmjqwftvncz'\n",
    "    #signal = 'nppdvjthqldpwncqszvftbrmjlhg'\n",
    "    #signal = 'nznrnfrfntjfmvfwmzdfjlvtqnbhcprsg'\n",
    "    #signal = 'zcfzfwzzqfrljwzlrfnpqdbhtmscgvjw'\n",
    "    signal = parse(test)\n",
    "    for i in range(4,len(signal)-4):\n",
    "        if len(set(signal[i-4:i])) == 4:\n",
    "            return i\n",
    "solve_part1(True)"
   ]
  },
  {
   "cell_type": "code",
   "execution_count": 11,
   "metadata": {},
   "outputs": [
    {
     "data": {
      "text/plain": [
       "1723"
      ]
     },
     "execution_count": 11,
     "metadata": {},
     "output_type": "execute_result"
    }
   ],
   "source": [
    "solve_part1(False)"
   ]
  },
  {
   "cell_type": "markdown",
   "metadata": {},
   "source": [
    "## Part II"
   ]
  },
  {
   "cell_type": "code",
   "execution_count": 19,
   "metadata": {},
   "outputs": [
    {
     "data": {
      "text/plain": [
       "19"
      ]
     },
     "execution_count": 19,
     "metadata": {},
     "output_type": "execute_result"
    }
   ],
   "source": [
    "def solve_part2(test=True):\n",
    "    #signal = 'bvwbjplbgvbhsrlpgdmjqwftvncz'\n",
    "    #signal = 'nppdvjthqldpwncqszvftbrmjlhg'\n",
    "    #signal = 'nznrnfrfntjfmvfwmzdfjlvtqnbhcprsg'\n",
    "    #signal = 'zcfzfwzzqfrljwzlrfnpqdbhtmscgvjw'\n",
    "    signal = parse(test)\n",
    "    for i in range(14,len(signal)):\n",
    "        if len(set(signal[i-14:i])) == 14:\n",
    "            return i\n",
    "solve_part2(True)"
   ]
  },
  {
   "cell_type": "code",
   "execution_count": 20,
   "metadata": {},
   "outputs": [
    {
     "data": {
      "text/plain": [
       "3708"
      ]
     },
     "execution_count": 20,
     "metadata": {},
     "output_type": "execute_result"
    }
   ],
   "source": [
    "solve_part2(False)"
   ]
  },
  {
   "cell_type": "code",
   "execution_count": null,
   "metadata": {},
   "outputs": [],
   "source": []
  }
 ],
 "metadata": {
  "kernelspec": {
   "display_name": "Python 3.9.7 ('base')",
   "language": "python",
   "name": "python3"
  },
  "language_info": {
   "codemirror_mode": {
    "name": "ipython",
    "version": 3
   },
   "file_extension": ".py",
   "mimetype": "text/x-python",
   "name": "python",
   "nbconvert_exporter": "python",
   "pygments_lexer": "ipython3",
   "version": "3.9.7"
  },
  "orig_nbformat": 4,
  "vscode": {
   "interpreter": {
    "hash": "6bbdfe987c89318d21a8f3e326c3948afb67cac6467b680734e6b94581969df5"
   }
  }
 },
 "nbformat": 4,
 "nbformat_minor": 2
}
