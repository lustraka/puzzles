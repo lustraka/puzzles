{
 "cells": [
  {
   "cell_type": "markdown",
   "metadata": {},
   "source": [
    "# [Day 8](https://adventofcode.com/2022/day/8) : Treetop Tree House\n",
    "## Part I"
   ]
  },
  {
   "cell_type": "code",
   "execution_count": 15,
   "metadata": {},
   "outputs": [],
   "source": [
    "# Import dependencies\n",
    "from pathlib import Path\n",
    "import numpy as np"
   ]
  },
  {
   "cell_type": "code",
   "execution_count": 16,
   "metadata": {},
   "outputs": [
    {
     "data": {
      "text/plain": [
       "array([[3, 0, 3, 7, 3],\n",
       "       [2, 5, 5, 1, 2],\n",
       "       [6, 5, 3, 3, 2],\n",
       "       [3, 3, 5, 4, 9],\n",
       "       [3, 5, 3, 9, 0]])"
      ]
     },
     "execution_count": 16,
     "metadata": {},
     "output_type": "execute_result"
    }
   ],
   "source": [
    "def parse(test=True):\n",
    "    filename = './data/AoC22_08t.txt' if test else './data/AoC22_08.txt'\n",
    "    lines = Path(filename).read_text().split('\\n')\n",
    "    lines = [list(map(int, list(line))) for line in lines]\n",
    "    return np.array(lines)\n",
    "parse()"
   ]
  },
  {
   "cell_type": "code",
   "execution_count": 18,
   "metadata": {},
   "outputs": [
    {
     "data": {
      "text/plain": [
       "(99, 99)"
      ]
     },
     "execution_count": 18,
     "metadata": {},
     "output_type": "execute_result"
    }
   ],
   "source": [
    "m = parse(False)\n",
    "m.shape"
   ]
  },
  {
   "cell_type": "code",
   "execution_count": 39,
   "metadata": {},
   "outputs": [
    {
     "data": {
      "text/plain": [
       "21"
      ]
     },
     "execution_count": 39,
     "metadata": {},
     "output_type": "execute_result"
    }
   ],
   "source": [
    "def visible(m,r,c):\n",
    "    dim = len(m)\n",
    "    return min(m[r,0:c].max(), m[r,c+1:dim].max(), m.T[c,0:r].max(), m.T[c,r+1:dim].max()) < m[r,c]\n",
    "\n",
    "def solve_part1(test=True):\n",
    "    m = parse(test)\n",
    "    dim = len(m)\n",
    "    cvisible = 4*dim - 4\n",
    "    for r in range(1,dim-1):\n",
    "        for c in range(1,dim-1):\n",
    "            cvisible += visible(m,r,c)\n",
    "    return cvisible\n",
    "solve_part1(True)"
   ]
  },
  {
   "cell_type": "code",
   "execution_count": 40,
   "metadata": {},
   "outputs": [
    {
     "data": {
      "text/plain": [
       "1669"
      ]
     },
     "execution_count": 40,
     "metadata": {},
     "output_type": "execute_result"
    }
   ],
   "source": [
    "solve_part1(False)"
   ]
  },
  {
   "cell_type": "markdown",
   "metadata": {},
   "source": [
    "## Part II"
   ]
  },
  {
   "cell_type": "code",
   "execution_count": 60,
   "metadata": {},
   "outputs": [
    {
     "name": "stdout",
     "output_type": "stream",
     "text": [
      "[[3 0 3 7 3]\n",
      " [2 5 5 1 2]\n",
      " [6 5 3 3 2]\n",
      " [3 3 5 4 9]\n",
      " [3 5 3 9 0]]\n",
      "[3] [2 5] [1 2] [3 5 3]\n"
     ]
    },
    {
     "data": {
      "text/plain": [
       "(array([3]), array([5, 2]), array([1, 2]), array([3, 5, 3]))"
      ]
     },
     "execution_count": 60,
     "metadata": {},
     "output_type": "execute_result"
    }
   ],
   "source": [
    "r,c = 1,2\n",
    "dim = len(m)\n",
    "print(m)\n",
    "m[r,c]\n",
    "print(m.T[c,0:r], m[r,0:c], m[r,c+1:dim], m.T[c,r+1:dim])\n",
    "m.T[c,0:r][::-1], m[r,0:c][::-1], m[r,c+1:dim], m.T[c,r+1:dim]"
   ]
  },
  {
   "cell_type": "code",
   "execution_count": 64,
   "metadata": {},
   "outputs": [
    {
     "name": "stdout",
     "output_type": "stream",
     "text": [
      "1\n",
      "1\n",
      "2\n",
      "2\n"
     ]
    }
   ],
   "source": [
    "def view(t,d):\n",
    "    v = 0\n",
    "    for i in range(len(d)):\n",
    "        if d[i] >= t:\n",
    "            v += 1\n",
    "            break\n",
    "        else:\n",
    "            v += 1\n",
    "    return v\n",
    "for d in [m.T[c,0:r][::-1], m[r,0:c][::-1], m[r,c+1:dim], m.T[c,r+1:dim]]:\n",
    "    print(view(m[r,c],d))\n"
   ]
  },
  {
   "cell_type": "code",
   "execution_count": 68,
   "metadata": {},
   "outputs": [
    {
     "data": {
      "text/plain": [
       "8"
      ]
     },
     "execution_count": 68,
     "metadata": {},
     "output_type": "execute_result"
    }
   ],
   "source": [
    "def solve_part2(test=True):\n",
    "    m = parse(test)\n",
    "    dim = len(m)\n",
    "    highest = 0\n",
    "    for r in range(1,dim-1):\n",
    "        for c in range(1,dim-1):\n",
    "            h = m[r,c]\n",
    "            scene = view(h,m.T[c,0:r][::-1]) * view(h,m[r,0:c][::-1]) * view(h,m[r,c+1:dim]) * view(h, m.T[c,r+1:dim])\n",
    "            #print(h, scene)\n",
    "            if scene > highest:\n",
    "                highest = scene\n",
    "    return highest\n",
    "solve_part2(True)\n",
    "\n",
    "    "
   ]
  },
  {
   "cell_type": "code",
   "execution_count": 69,
   "metadata": {},
   "outputs": [
    {
     "data": {
      "text/plain": [
       "331344"
      ]
     },
     "execution_count": 69,
     "metadata": {},
     "output_type": "execute_result"
    }
   ],
   "source": [
    "solve_part2(False)"
   ]
  },
  {
   "cell_type": "code",
   "execution_count": null,
   "metadata": {},
   "outputs": [],
   "source": []
  }
 ],
 "metadata": {
  "kernelspec": {
   "display_name": "Python 3.9.7 ('base')",
   "language": "python",
   "name": "python3"
  },
  "language_info": {
   "codemirror_mode": {
    "name": "ipython",
    "version": 3
   },
   "file_extension": ".py",
   "mimetype": "text/x-python",
   "name": "python",
   "nbconvert_exporter": "python",
   "pygments_lexer": "ipython3",
   "version": "3.9.7"
  },
  "orig_nbformat": 4,
  "vscode": {
   "interpreter": {
    "hash": "6bbdfe987c89318d21a8f3e326c3948afb67cac6467b680734e6b94581969df5"
   }
  }
 },
 "nbformat": 4,
 "nbformat_minor": 2
}
