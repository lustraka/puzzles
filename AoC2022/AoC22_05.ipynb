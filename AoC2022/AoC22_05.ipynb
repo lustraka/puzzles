{
 "cells": [
  {
   "cell_type": "markdown",
   "metadata": {},
   "source": [
    "# [Day 5](https://adventofcode.com/2022/day/5) : Supply Stacks\n",
    "## Part I"
   ]
  },
  {
   "cell_type": "code",
   "execution_count": 1,
   "metadata": {},
   "outputs": [],
   "source": [
    "# Import dependencies\n",
    "from pathlib import Path\n",
    "import re\n",
    "import numpy as np"
   ]
  },
  {
   "cell_type": "code",
   "execution_count": 2,
   "metadata": {},
   "outputs": [
    {
     "data": {
      "text/plain": [
       "([['1', 'Z', 'N'], ['2', 'M', 'C', 'D'], ['3', 'P']],\n",
       " [[1, 2, 1], [3, 1, 3], [2, 2, 1], [1, 1, 2]])"
      ]
     },
     "execution_count": 2,
     "metadata": {},
     "output_type": "execute_result"
    }
   ],
   "source": [
    "def parse(test=True):\n",
    "    filename = './data/AoC22_05t.txt' if test else './data/AoC22_05.txt'\n",
    "    stacks, moves = Path(filename).read_text().split('\\n\\n')\n",
    "    # Transform stacks\n",
    "    stacks = np.array([list(row) for row in stacks.split('\\n')]).T\n",
    "    stacks_extr = []\n",
    "    for stack in stacks:\n",
    "        if stack[-1] != ' ':\n",
    "            stacks_extr.append([e for e in list(reversed(stack)) if e !=' '])\n",
    "\n",
    "    # Transform moves\n",
    "    int_moves = []\n",
    "    for move in moves.split('\\n'):\n",
    "        trios = re.search(r'move (\\d*) from (\\d*) to (\\d*)', move).groups()\n",
    "        int_moves.append(list(map(int,trios)))\n",
    "\n",
    "    return stacks_extr, int_moves\n",
    "parse()"
   ]
  },
  {
   "cell_type": "code",
   "execution_count": 3,
   "metadata": {},
   "outputs": [
    {
     "data": {
      "text/plain": [
       "'CMZ'"
      ]
     },
     "execution_count": 3,
     "metadata": {},
     "output_type": "execute_result"
    }
   ],
   "source": [
    "def solve_part1(test=True):\n",
    "    stacks,moves = parse(test)\n",
    "    for m in moves:\n",
    "        for i in range(m[0]):\n",
    "            crate = stacks[m[1]-1].pop()\n",
    "            stacks[m[2]-1].append(crate)\n",
    "    msg=[]\n",
    "    for stack in stacks:\n",
    "        msg.append(stack[-1])\n",
    "    return ''.join(msg)\n",
    "solve_part1(True)"
   ]
  },
  {
   "cell_type": "code",
   "execution_count": 4,
   "metadata": {},
   "outputs": [
    {
     "data": {
      "text/plain": [
       "'TLFGBZHCN'"
      ]
     },
     "execution_count": 4,
     "metadata": {},
     "output_type": "execute_result"
    }
   ],
   "source": [
    "solve_part1(False)"
   ]
  },
  {
   "cell_type": "markdown",
   "metadata": {},
   "source": [
    "## Part II"
   ]
  },
  {
   "cell_type": "code",
   "execution_count": 7,
   "metadata": {},
   "outputs": [
    {
     "data": {
      "text/plain": [
       "'MCD'"
      ]
     },
     "execution_count": 7,
     "metadata": {},
     "output_type": "execute_result"
    }
   ],
   "source": [
    "def solve_part2(test=True):\n",
    "    stacks,moves = parse(test)\n",
    "    for m in moves:\n",
    "        stacks[m[2]-1].extend(stacks[m[1]-1][-1*m[0]:])\n",
    "        stacks[m[1]-1] = stacks[m[1]-1][:-1*m[0]]\n",
    "    msg=[]\n",
    "    for stack in stacks:\n",
    "        msg.append(stack[-1])\n",
    "    return ''.join(msg)\n",
    "solve_part2()"
   ]
  },
  {
   "cell_type": "code",
   "execution_count": 8,
   "metadata": {},
   "outputs": [
    {
     "data": {
      "text/plain": [
       "'QRQFHFWCL'"
      ]
     },
     "execution_count": 8,
     "metadata": {},
     "output_type": "execute_result"
    }
   ],
   "source": [
    "solve_part2(False)"
   ]
  },
  {
   "cell_type": "code",
   "execution_count": null,
   "metadata": {},
   "outputs": [],
   "source": []
  }
 ],
 "metadata": {
  "kernelspec": {
   "display_name": "Python 3.9.13 64-bit (microsoft store)",
   "language": "python",
   "name": "python3"
  },
  "language_info": {
   "codemirror_mode": {
    "name": "ipython",
    "version": 3
   },
   "file_extension": ".py",
   "mimetype": "text/x-python",
   "name": "python",
   "nbconvert_exporter": "python",
   "pygments_lexer": "ipython3",
   "version": "3.9.13"
  },
  "orig_nbformat": 4,
  "vscode": {
   "interpreter": {
    "hash": "65fa9ed5925c3e0ce3166100efb8b0fb8803bae9372569c50a8bb5c84a3d33df"
   }
  }
 },
 "nbformat": 4,
 "nbformat_minor": 2
}
