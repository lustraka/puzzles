{
 "cells": [
  {
   "attachments": {},
   "cell_type": "markdown",
   "metadata": {},
   "source": [
    "# [Day 11](https://adventofcode.com/2022/day/11) : Monkey in the Middle\n",
    "## Part I"
   ]
  },
  {
   "cell_type": "code",
   "execution_count": 3,
   "metadata": {},
   "outputs": [],
   "source": [
    "# Import dependencies\n",
    "from pathlib import Path\n",
    "import re"
   ]
  },
  {
   "cell_type": "code",
   "execution_count": 2,
   "metadata": {},
   "outputs": [
    {
     "data": {
      "text/plain": [
       "['Monkey 0:\\n  Starting items: 79, 98\\n  Operation: new = old * 19\\n  Test: divisible by 23\\n    If true: throw to monkey 2\\n    If false: throw to monkey 3',\n",
       " 'Monkey 1:\\n  Starting items: 54, 65, 75, 74\\n  Operation: new = old + 6\\n  Test: divisible by 19\\n    If true: throw to monkey 2\\n    If false: throw to monkey 0',\n",
       " 'Monkey 2:\\n  Starting items: 79, 60, 97\\n  Operation: new = old * old\\n  Test: divisible by 13\\n    If true: throw to monkey 1\\n    If false: throw to monkey 3',\n",
       " 'Monkey 3:\\n  Starting items: 74\\n  Operation: new = old + 3\\n  Test: divisible by 17\\n    If true: throw to monkey 0\\n    If false: throw to monkey 1']"
      ]
     },
     "execution_count": 2,
     "metadata": {},
     "output_type": "execute_result"
    }
   ],
   "source": [
    "def parse(test=True):\n",
    "    filename = './data/AoC22_11t.txt' if test else './data/AoC22_11.txt'\n",
    "    lines = Path(filename).read_text().split('\\n\\n')\n",
    "    return lines\n",
    "parse()"
   ]
  },
  {
   "cell_type": "code",
   "execution_count": 14,
   "metadata": {},
   "outputs": [
    {
     "name": "stdout",
     "output_type": "stream",
     "text": [
      "[2, 0, 0, 0]\n",
      "[2, 4, 0, 0]\n",
      "[2, 4, 3, 0]\n",
      "[2, 4, 3, 5]\n"
     ]
    },
    {
     "data": {
      "text/plain": [
       "10605"
      ]
     },
     "execution_count": 14,
     "metadata": {},
     "output_type": "execute_result"
    }
   ],
   "source": [
    "get_numbers = lambda a: list(map(int, re.findall('\\d+', a)))\n",
    "\n",
    "class Monkey:\n",
    "    def __init__(self, input, divider) -> None:\n",
    "        self.items = get_numbers(next(input))\n",
    "        self.operation = next(input).split('= ')[-1]\n",
    "        self.test, self.true_monkey, self.false_monkey = [get_numbers(next(input))[0] for _ in range(3)]\n",
    "        self.inspection_number = 0\n",
    "        self.divider = divider\n",
    "\n",
    "    def proceed_with_items(self, monkeys, round):\n",
    "        for item in self.items:\n",
    "            worry_level = eval(self.operation, {'old': item})\n",
    "            worry_level = worry_level // self.divider\n",
    "            monkeys[self.true_monkey if worry_level % self.test == 0 else self.false_monkey].items.append(worry_level)\n",
    "            self.inspection_number += 1\n",
    "        self.items.clear()\n",
    "        if round % 1000 == 0:\n",
    "            print([monkey.inspection_number for monkey in monkeys])\n",
    "\n",
    "def solve_part1(test=True, rounds=20, divider=3):\n",
    "    monkeys = [Monkey(iter(monkey.split('\\n')[1:]),divider=divider) for monkey in parse(test)]\n",
    "    [[monkey.proceed_with_items(monkeys, round) for monkey in monkeys] for round in range(rounds)]\n",
    "    inspections = sorted([monkey.inspection_number for monkey in monkeys], reverse=True)\n",
    "    return inspections[0] * inspections[1]\n",
    "\n",
    "solve_part1(True, 20, 3)"
   ]
  },
  {
   "cell_type": "code",
   "execution_count": 15,
   "metadata": {},
   "outputs": [
    {
     "name": "stdout",
     "output_type": "stream",
     "text": [
      "[3, 0, 0, 0, 0, 0, 0, 0]\n",
      "[3, 1, 0, 0, 0, 0, 0, 0]\n",
      "[3, 1, 6, 0, 0, 0, 0, 0]\n",
      "[3, 1, 6, 7, 0, 0, 0, 0]\n",
      "[3, 1, 6, 7, 9, 0, 0, 0]\n",
      "[3, 1, 6, 7, 9, 7, 0, 0]\n",
      "[3, 1, 6, 7, 9, 7, 15, 0]\n",
      "[3, 1, 6, 7, 9, 7, 15, 3]\n"
     ]
    },
    {
     "data": {
      "text/plain": [
       "55944"
      ]
     },
     "execution_count": 15,
     "metadata": {},
     "output_type": "execute_result"
    }
   ],
   "source": [
    "solve_part1(False, 20, 3)"
   ]
  },
  {
   "attachments": {},
   "cell_type": "markdown",
   "metadata": {},
   "source": [
    "## Part II"
   ]
  },
  {
   "cell_type": "code",
   "execution_count": 16,
   "metadata": {},
   "outputs": [
    {
     "name": "stdout",
     "output_type": "stream",
     "text": [
      "[2, 0, 0, 0]\n",
      "[2, 4, 0, 0]\n",
      "[2, 4, 3, 0]\n",
      "[2, 4, 3, 6]\n"
     ]
    }
   ],
   "source": [
    "solve_part1(True, 10000, 1)"
   ]
  },
  {
   "cell_type": "code",
   "execution_count": null,
   "metadata": {},
   "outputs": [],
   "source": []
  }
 ],
 "metadata": {
  "kernelspec": {
   "display_name": "Python 3",
   "language": "python",
   "name": "python3"
  },
  "language_info": {
   "codemirror_mode": {
    "name": "ipython",
    "version": 3
   },
   "file_extension": ".py",
   "mimetype": "text/x-python",
   "name": "python",
   "nbconvert_exporter": "python",
   "pygments_lexer": "ipython3",
   "version": "3.9.13"
  },
  "orig_nbformat": 4,
  "vscode": {
   "interpreter": {
    "hash": "65fa9ed5925c3e0ce3166100efb8b0fb8803bae9372569c50a8bb5c84a3d33df"
   }
  }
 },
 "nbformat": 4,
 "nbformat_minor": 2
}
