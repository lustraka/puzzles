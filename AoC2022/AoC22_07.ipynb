{
 "cells": [
  {
   "cell_type": "markdown",
   "metadata": {},
   "source": [
    "# [Day 7](https://adventofcode.com/2022/day/7) : No Space Left On Device\n",
    "## Part I"
   ]
  },
  {
   "cell_type": "code",
   "execution_count": 1,
   "metadata": {},
   "outputs": [],
   "source": [
    "# Import dependencies\n",
    "from pathlib import Path"
   ]
  },
  {
   "cell_type": "code",
   "execution_count": 2,
   "metadata": {},
   "outputs": [
    {
     "data": {
      "text/plain": [
       "['$ cd /',\n",
       " '$ ls',\n",
       " 'dir a',\n",
       " '14848514 b.txt',\n",
       " '8504156 c.dat',\n",
       " 'dir d',\n",
       " '$ cd a',\n",
       " '$ ls',\n",
       " 'dir e',\n",
       " '29116 f',\n",
       " '2557 g',\n",
       " '62596 h.lst',\n",
       " '$ cd e',\n",
       " '$ ls',\n",
       " '584 i',\n",
       " '$ cd ..',\n",
       " '$ cd ..',\n",
       " '$ cd d',\n",
       " '$ ls',\n",
       " '4060174 j',\n",
       " '8033020 d.log',\n",
       " '5626152 d.ext',\n",
       " '7214296 k']"
      ]
     },
     "execution_count": 2,
     "metadata": {},
     "output_type": "execute_result"
    }
   ],
   "source": [
    "def parse(test=True):\n",
    "    filename = './data/AoC22_07t.txt' if test else './data/AoC22_07.txt'\n",
    "    lines = Path(filename).read_text().split('\\n')\n",
    "    return lines\n",
    "parse()"
   ]
  },
  {
   "cell_type": "code",
   "execution_count": 94,
   "metadata": {},
   "outputs": [],
   "source": [
    "class Node():\n",
    "    suma_at_most = 0\n",
    "    sizes = []\n",
    "\n",
    "    def __init__(self,name,parent,isDir):\n",
    "        self.name = name\n",
    "        self.parent = parent\n",
    "        self.isDir = isDir\n",
    "        self.size = 0\n",
    "        self.children = []\n",
    "\n",
    "    def __repr__(self):\n",
    "        if self.parent:\n",
    "            name = self.parent.name\n",
    "        else:\n",
    "            name = 'None'\n",
    "        return f\"Node({self.name},parent={name},isDir={self.isDir},size={self.size},len_ch={len(self.children)})\"\n",
    "\n",
    "    def update_size(self):\n",
    "        for node in self.children:\n",
    "            if node.isDir:\n",
    "                self.size += node.update_size()\n",
    "            else:\n",
    "                self.size += node.size\n",
    "        Node.sizes.append(self.size)\n",
    "        return self.size\n",
    "\n",
    "    def sum_at_most(self, limit):\n",
    "        if self.name == '/':\n",
    "            Node.suma_at_most = 0\n",
    "        for node in self.children:\n",
    "            if node.isDir:\n",
    "                if node.size <= limit:\n",
    "                    Node.suma_at_most += node.size\n",
    "                    #print(f\"suma_at_most = {Node.suma_at_most}, size of {node.name} = {node.size}\")\n",
    "                node.sum_at_most(limit)\n",
    "        return Node.suma_at_most\n",
    "        "
   ]
  },
  {
   "cell_type": "code",
   "execution_count": 95,
   "metadata": {},
   "outputs": [
    {
     "name": "stdout",
     "output_type": "stream",
     "text": [
      "Node(/,parent=None,isDir=True,size=0,len_ch=0)\n"
     ]
    }
   ],
   "source": [
    "root = Node('/',None,True)\n",
    "print(root)"
   ]
  },
  {
   "cell_type": "code",
   "execution_count": null,
   "metadata": {},
   "outputs": [],
   "source": []
  },
  {
   "cell_type": "code",
   "execution_count": 89,
   "metadata": {},
   "outputs": [
    {
     "name": "stdout",
     "output_type": "stream",
     "text": [
      "Node(/,parent=None,isDir=True,size=48381165,len_ch=4)\n"
     ]
    },
    {
     "data": {
      "text/plain": [
       "95437"
      ]
     },
     "execution_count": 89,
     "metadata": {},
     "output_type": "execute_result"
    }
   ],
   "source": [
    "def solve_part1(test=True):\n",
    "    lines = parse(test)\n",
    "    root = Node('/',None,True)\n",
    "    cwd =  None # Current working directory\n",
    "    cli = 0 # Current line index\n",
    "    # Build the filesystem model\n",
    "    while cli < len(lines):\n",
    "        li = lines[cli]\n",
    "        if li[:4] == '$ cd':\n",
    "            #print('change directory', li.split()[-1])\n",
    "            dir_name = li.split()[-1]\n",
    "            if dir_name == '/':\n",
    "                cwd = root\n",
    "            elif dir_name == '..':\n",
    "                cwd = cwd.parent\n",
    "            else:\n",
    "                cwd = [item for item in cwd.children if item.name == dir_name][0]\n",
    "        elif li[:4] == '$ ls':\n",
    "            #print('process children')\n",
    "            while cli+1 < len(lines) and lines[cli+1][0] != '$':\n",
    "                cli += 1\n",
    "                li = lines[cli]\n",
    "                if li[:3] == 'dir':\n",
    "                    cwd.children.append(Node(li.split()[-1],cwd,True))\n",
    "                else:\n",
    "                    size, name = li.split()\n",
    "                    new = Node(name,cwd,False)\n",
    "                    new.size = int(size)\n",
    "                    cwd.children.append(new)\n",
    "                #print('\\t', cwd.children[-1])\n",
    "        else:\n",
    "            print('incorrect output')\n",
    "        cli += 1\n",
    "    root.update_size()\n",
    "    print(root)\n",
    "    return root.sum_at_most(100000)\n",
    "solve_part1(True)"
   ]
  },
  {
   "cell_type": "code",
   "execution_count": 90,
   "metadata": {},
   "outputs": [
    {
     "name": "stdout",
     "output_type": "stream",
     "text": [
      "Node(/,parent=None,isDir=True,size=47048086,len_ch=9)\n"
     ]
    },
    {
     "data": {
      "text/plain": [
       "1307902"
      ]
     },
     "execution_count": 90,
     "metadata": {},
     "output_type": "execute_result"
    }
   ],
   "source": [
    "solve_part1(False)"
   ]
  },
  {
   "cell_type": "markdown",
   "metadata": {},
   "source": [
    "## Part II"
   ]
  },
  {
   "cell_type": "code",
   "execution_count": 105,
   "metadata": {},
   "outputs": [
    {
     "name": "stdout",
     "output_type": "stream",
     "text": [
      "Node(/,parent=None,isDir=True,size=48381165,len_ch=4)\n"
     ]
    },
    {
     "data": {
      "text/plain": [
       "24933642"
      ]
     },
     "execution_count": 105,
     "metadata": {},
     "output_type": "execute_result"
    }
   ],
   "source": [
    "def solve_part2(test=True):\n",
    "    lines = parse(test)\n",
    "    root = Node('/',None,True)\n",
    "    cwd =  None # Current working directory\n",
    "    cli = 0 # Current line index\n",
    "    # Build the filesystem model\n",
    "    while cli < len(lines):\n",
    "        li = lines[cli]\n",
    "        if li[:4] == '$ cd':\n",
    "            #print('change directory', li.split()[-1])\n",
    "            dir_name = li.split()[-1]\n",
    "            if dir_name == '/':\n",
    "                cwd = root\n",
    "            elif dir_name == '..':\n",
    "                cwd = cwd.parent\n",
    "            else:\n",
    "                cwd = [item for item in cwd.children if item.name == dir_name][0]\n",
    "        elif li[:4] == '$ ls':\n",
    "            #print('process children')\n",
    "            while cli+1 < len(lines) and lines[cli+1][0] != '$':\n",
    "                cli += 1\n",
    "                li = lines[cli]\n",
    "                if li[:3] == 'dir':\n",
    "                    cwd.children.append(Node(li.split()[-1],cwd,True))\n",
    "                else:\n",
    "                    size, name = li.split()\n",
    "                    new = Node(name,cwd,False)\n",
    "                    new.size = int(size)\n",
    "                    cwd.children.append(new)\n",
    "                #print('\\t', cwd.children[-1])\n",
    "        else:\n",
    "            print('incorrect output')\n",
    "        cli += 1\n",
    "    Node.sizes = []\n",
    "    root.update_size()\n",
    "    print(root)\n",
    "    unused = 70000000-root.size\n",
    "    minimum = 30000000-unused\n",
    "    return min([n for n in root.sizes if n > minimum])\n",
    "solve_part2(True)"
   ]
  },
  {
   "cell_type": "code",
   "execution_count": 106,
   "metadata": {},
   "outputs": [
    {
     "name": "stdout",
     "output_type": "stream",
     "text": [
      "Node(/,parent=None,isDir=True,size=47048086,len_ch=9)\n"
     ]
    },
    {
     "data": {
      "text/plain": [
       "7068748"
      ]
     },
     "execution_count": 106,
     "metadata": {},
     "output_type": "execute_result"
    }
   ],
   "source": [
    "solve_part2(False)"
   ]
  },
  {
   "cell_type": "code",
   "execution_count": null,
   "metadata": {},
   "outputs": [],
   "source": []
  }
 ],
 "metadata": {
  "kernelspec": {
   "display_name": "Python 3.9.7 ('base')",
   "language": "python",
   "name": "python3"
  },
  "language_info": {
   "codemirror_mode": {
    "name": "ipython",
    "version": 3
   },
   "file_extension": ".py",
   "mimetype": "text/x-python",
   "name": "python",
   "nbconvert_exporter": "python",
   "pygments_lexer": "ipython3",
   "version": "3.9.7"
  },
  "orig_nbformat": 4,
  "vscode": {
   "interpreter": {
    "hash": "6bbdfe987c89318d21a8f3e326c3948afb67cac6467b680734e6b94581969df5"
   }
  }
 },
 "nbformat": 4,
 "nbformat_minor": 2
}
