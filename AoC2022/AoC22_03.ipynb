{
 "cells": [
  {
   "cell_type": "markdown",
   "metadata": {},
   "source": [
    "# [Day 3](https://adventofcode.com/2022/day/3) : Rucksack Reorganization\n",
    "## Part I"
   ]
  },
  {
   "cell_type": "code",
   "execution_count": 1,
   "metadata": {},
   "outputs": [],
   "source": [
    "# Import dependencies\n",
    "from pathlib import Path"
   ]
  },
  {
   "cell_type": "code",
   "execution_count": 2,
   "metadata": {},
   "outputs": [
    {
     "data": {
      "text/plain": [
       "['vJrwpWtwJgWrhcsFMMfFFhFp',\n",
       " 'jqHRNqRjqzjGDLGLrsFMfFZSrLrFZsSL',\n",
       " 'PmmdzqPrVvPwwTWBwg',\n",
       " 'wMqvLMZHhHMvwLHjbvcjnnSBnvTQFn',\n",
       " 'ttgJtRGJQctTZtZT',\n",
       " 'CrZsJsPPZsGzwwsLwLmpwMDw']"
      ]
     },
     "execution_count": 2,
     "metadata": {},
     "output_type": "execute_result"
    }
   ],
   "source": [
    "def parse(test=True):\n",
    "    filename = './data/AoC22_03t.txt' if test else './data/AoC22_03.txt'\n",
    "    lines = Path(filename).read_text().split('\\n')\n",
    "    return lines\n",
    "parse()"
   ]
  },
  {
   "cell_type": "code",
   "execution_count": 22,
   "metadata": {},
   "outputs": [
    {
     "data": {
      "text/plain": [
       "157"
      ]
     },
     "execution_count": 22,
     "metadata": {},
     "output_type": "execute_result"
    }
   ],
   "source": [
    "def find_priority(rucksack):\n",
    "    l = int(len(rucksack)/2)\n",
    "    item = set(rucksack[:l]).intersection(set(rucksack[l:])).pop()\n",
    "    if item.isupper():\n",
    "        return ord(item)-ord('A')+27\n",
    "    else:\n",
    "        return ord(item)-ord('a')+1\n",
    "\n",
    "def solve_part1(test=True):\n",
    "    inventory = parse(test)\n",
    "    total = 0\n",
    "    for rucksack in inventory:\n",
    "        total += find_priority(rucksack)\n",
    "    return total\n",
    "\n",
    "solve_part1(True)"
   ]
  },
  {
   "cell_type": "code",
   "execution_count": 23,
   "metadata": {},
   "outputs": [
    {
     "data": {
      "text/plain": [
       "7826"
      ]
     },
     "execution_count": 23,
     "metadata": {},
     "output_type": "execute_result"
    }
   ],
   "source": [
    "solve_part1(False)"
   ]
  },
  {
   "cell_type": "markdown",
   "metadata": {},
   "source": [
    "## Part II"
   ]
  },
  {
   "cell_type": "code",
   "execution_count": 25,
   "metadata": {},
   "outputs": [
    {
     "data": {
      "text/plain": [
       "{'a'}"
      ]
     },
     "execution_count": 25,
     "metadata": {},
     "output_type": "execute_result"
    }
   ],
   "source": [
    "set.intersection(set('abc'),set('aertv'),set('poia'))"
   ]
  },
  {
   "cell_type": "code",
   "execution_count": 27,
   "metadata": {},
   "outputs": [
    {
     "data": {
      "text/plain": [
       "70"
      ]
     },
     "execution_count": 27,
     "metadata": {},
     "output_type": "execute_result"
    }
   ],
   "source": [
    "def get_priority(item):\n",
    "    if item.isupper():\n",
    "        return ord(item)-ord('A')+27\n",
    "    else:\n",
    "        return ord(item)-ord('a')+1\n",
    "\n",
    "def solve_part2(test=True):\n",
    "    inventory = parse(test)\n",
    "    total = 0\n",
    "    for idx in range(0,len(inventory),3):\n",
    "        badge = set.intersection(set(inventory[idx]),set(inventory[idx+1]),set(inventory[idx+2])).pop()\n",
    "        #print(badge, get_priority(badge))\n",
    "        total += get_priority(badge)\n",
    "    return total\n",
    "\n",
    "solve_part2(True)"
   ]
  },
  {
   "cell_type": "code",
   "execution_count": 28,
   "metadata": {},
   "outputs": [
    {
     "data": {
      "text/plain": [
       "2577"
      ]
     },
     "execution_count": 28,
     "metadata": {},
     "output_type": "execute_result"
    }
   ],
   "source": [
    "solve_part2(False)"
   ]
  },
  {
   "cell_type": "code",
   "execution_count": null,
   "metadata": {},
   "outputs": [],
   "source": []
  }
 ],
 "metadata": {
  "kernelspec": {
   "display_name": "Python 3.9.7 ('base')",
   "language": "python",
   "name": "python3"
  },
  "language_info": {
   "codemirror_mode": {
    "name": "ipython",
    "version": 3
   },
   "file_extension": ".py",
   "mimetype": "text/x-python",
   "name": "python",
   "nbconvert_exporter": "python",
   "pygments_lexer": "ipython3",
   "version": "3.9.13"
  },
  "orig_nbformat": 4,
  "vscode": {
   "interpreter": {
    "hash": "6bbdfe987c89318d21a8f3e326c3948afb67cac6467b680734e6b94581969df5"
   }
  }
 },
 "nbformat": 4,
 "nbformat_minor": 2
}
