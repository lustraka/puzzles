{
 "cells": [
  {
   "attachments": {},
   "cell_type": "markdown",
   "metadata": {},
   "source": [
    "# [Day 9](https://adventofcode.com/2022/day/9) : Rope Bridge\n",
    "## Part I"
   ]
  },
  {
   "cell_type": "code",
   "execution_count": 1,
   "metadata": {},
   "outputs": [],
   "source": [
    "# Import dependencies\n",
    "from pathlib import Path"
   ]
  },
  {
   "cell_type": "code",
   "execution_count": 2,
   "metadata": {},
   "outputs": [
    {
     "data": {
      "text/plain": [
       "['R 4', 'U 4', 'L 3', 'D 1', 'R 4', 'D 1', 'L 5', 'R 2']"
      ]
     },
     "execution_count": 2,
     "metadata": {},
     "output_type": "execute_result"
    }
   ],
   "source": [
    "def parse(test=True):\n",
    "    filename = './data/AoC22_09t.txt' if test else './data/AoC22_09.txt'\n",
    "    lines = Path(filename).read_text().split('\\n')\n",
    "    return lines\n",
    "parse()"
   ]
  },
  {
   "cell_type": "code",
   "execution_count": 3,
   "metadata": {},
   "outputs": [
    {
     "data": {
      "text/plain": [
       "[(1, 0),\n",
       " (2, 0),\n",
       " (3, 0),\n",
       " (4, 0),\n",
       " (4, 1),\n",
       " (4, 2),\n",
       " (4, 3),\n",
       " (4, 4),\n",
       " (3, 4),\n",
       " (2, 4),\n",
       " (1, 4),\n",
       " (1, 3),\n",
       " (2, 3),\n",
       " (3, 3),\n",
       " (4, 3),\n",
       " (5, 3),\n",
       " (5, 2),\n",
       " (4, 2),\n",
       " (3, 2),\n",
       " (2, 2),\n",
       " (1, 2),\n",
       " (0, 2),\n",
       " (1, 2),\n",
       " (2, 2)]"
      ]
     },
     "execution_count": 3,
     "metadata": {},
     "output_type": "execute_result"
    }
   ],
   "source": [
    "def move(test=True):\n",
    "    moves = parse(test)\n",
    "    x = y = 0\n",
    "    for move in moves:\n",
    "        direction, distance = move.split()\n",
    "        for _ in range(int(distance)):\n",
    "            x += (direction == 'R') - (direction == 'L')\n",
    "            y += (direction == 'U') - (direction == 'D')\n",
    "            yield x, y\n",
    "list(move())"
   ]
  },
  {
   "cell_type": "code",
   "execution_count": 11,
   "metadata": {},
   "outputs": [
    {
     "data": {
      "text/plain": [
       "[(0, 0),\n",
       " (1, 0),\n",
       " (2, 0),\n",
       " (3, 0),\n",
       " (3, 0),\n",
       " (4, 1),\n",
       " (4, 2),\n",
       " (4, 3),\n",
       " (4, 3),\n",
       " (3, 4),\n",
       " (2, 4),\n",
       " (2, 4),\n",
       " (2, 4),\n",
       " (2, 4),\n",
       " (3, 3),\n",
       " (4, 3),\n",
       " (4, 3),\n",
       " (4, 3),\n",
       " (4, 3),\n",
       " (3, 2),\n",
       " (2, 2),\n",
       " (1, 2),\n",
       " (1, 2),\n",
       " (1, 2)]"
      ]
     },
     "execution_count": 11,
     "metadata": {},
     "output_type": "execute_result"
    }
   ],
   "source": [
    "def follow(head):\n",
    "    x = y = 0\n",
    "    for hx, hy in head:\n",
    "        if abs(hx-x) > 1 or abs(hy-y) > 1:\n",
    "            y += (hy > y) - (hy < y)\n",
    "            x += (hx > x) - (hx < x)\n",
    "        yield x, y\n",
    "list(follow(move(True)))"
   ]
  },
  {
   "cell_type": "code",
   "execution_count": 12,
   "metadata": {},
   "outputs": [
    {
     "data": {
      "text/plain": [
       "13"
      ]
     },
     "execution_count": 12,
     "metadata": {},
     "output_type": "execute_result"
    }
   ],
   "source": [
    "second = list(follow(move(True)))\n",
    "len(set(second))"
   ]
  },
  {
   "cell_type": "code",
   "execution_count": 13,
   "metadata": {},
   "outputs": [
    {
     "data": {
      "text/plain": [
       "6406"
      ]
     },
     "execution_count": 13,
     "metadata": {},
     "output_type": "execute_result"
    }
   ],
   "source": [
    "second = list(follow(move(False)))\n",
    "len(set(second))"
   ]
  },
  {
   "attachments": {},
   "cell_type": "markdown",
   "metadata": {},
   "source": [
    "## Part II"
   ]
  },
  {
   "cell_type": "code",
   "execution_count": 14,
   "metadata": {},
   "outputs": [
    {
     "data": {
      "text/plain": [
       "1"
      ]
     },
     "execution_count": 14,
     "metadata": {},
     "output_type": "execute_result"
    }
   ],
   "source": [
    "tenth = list(follow(move(True)))\n",
    "for _ in range(8):\n",
    "    tenth = follow(tenth)\n",
    "len(set(tenth))"
   ]
  },
  {
   "cell_type": "code",
   "execution_count": 15,
   "metadata": {},
   "outputs": [
    {
     "data": {
      "text/plain": [
       "2643"
      ]
     },
     "execution_count": 15,
     "metadata": {},
     "output_type": "execute_result"
    }
   ],
   "source": [
    "tenth = list(follow(move(False)))\n",
    "for _ in range(8):\n",
    "    tenth = follow(tenth)\n",
    "len(set(tenth))"
   ]
  },
  {
   "cell_type": "code",
   "execution_count": null,
   "metadata": {},
   "outputs": [],
   "source": []
  }
 ],
 "metadata": {
  "kernelspec": {
   "display_name": "Python 3.9.7 ('base')",
   "language": "python",
   "name": "python3"
  },
  "language_info": {
   "codemirror_mode": {
    "name": "ipython",
    "version": 3
   },
   "file_extension": ".py",
   "mimetype": "text/x-python",
   "name": "python",
   "nbconvert_exporter": "python",
   "pygments_lexer": "ipython3",
   "version": "3.9.7"
  },
  "orig_nbformat": 4,
  "vscode": {
   "interpreter": {
    "hash": "6bbdfe987c89318d21a8f3e326c3948afb67cac6467b680734e6b94581969df5"
   }
  }
 },
 "nbformat": 4,
 "nbformat_minor": 2
}
