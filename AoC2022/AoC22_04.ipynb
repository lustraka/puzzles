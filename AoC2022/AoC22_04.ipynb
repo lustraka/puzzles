{
 "cells": [
  {
   "cell_type": "markdown",
   "metadata": {},
   "source": [
    "# [Day 4](https://adventofcode.com/2022/day/4) : Camp Cleanup\n",
    "## Part I"
   ]
  },
  {
   "cell_type": "code",
   "execution_count": 1,
   "metadata": {},
   "outputs": [],
   "source": [
    "# Import dependencies\n",
    "from pathlib import Path"
   ]
  },
  {
   "cell_type": "code",
   "execution_count": 19,
   "metadata": {},
   "outputs": [
    {
     "data": {
      "text/plain": [
       "[[[2, 4], [6, 8]],\n",
       " [[2, 3], [4, 5]],\n",
       " [[5, 7], [7, 9]],\n",
       " [[2, 8], [3, 7]],\n",
       " [[6, 6], [4, 6]],\n",
       " [[2, 6], [4, 8]]]"
      ]
     },
     "execution_count": 19,
     "metadata": {},
     "output_type": "execute_result"
    }
   ],
   "source": [
    "def parse(test=True):\n",
    "    filename = './data/AoC22_04t.txt' if test else './data/AoC22_04.txt'\n",
    "    lines = [r.split(',') for r in Path(filename).read_text().split('\\n')]\n",
    "\n",
    "    def split_to_int(s):\n",
    "        return list(map(int,s.split('-')))\n",
    "    \n",
    "    lines = [[split_to_int(s[0]),split_to_int(s[1])] for s in lines]\n",
    "    return lines\n",
    "parse()"
   ]
  },
  {
   "cell_type": "code",
   "execution_count": 20,
   "metadata": {},
   "outputs": [
    {
     "data": {
      "text/plain": [
       "2"
      ]
     },
     "execution_count": 20,
     "metadata": {},
     "output_type": "execute_result"
    }
   ],
   "source": [
    "def solve_part1(test=True):\n",
    "    ranges = parse(test)\n",
    "    count = 0\n",
    "    for range in ranges:\n",
    "        if (range[0][0] <= range[1][0] and range[0][1] >= range[1][1]) or (range[0][0] >= range[1][0] and range[0][1] <= range[1][1]):\n",
    "            count += 1\n",
    "    return count\n",
    "\n",
    "solve_part1()"
   ]
  },
  {
   "cell_type": "code",
   "execution_count": 21,
   "metadata": {},
   "outputs": [
    {
     "data": {
      "text/plain": [
       "588"
      ]
     },
     "execution_count": 21,
     "metadata": {},
     "output_type": "execute_result"
    }
   ],
   "source": [
    "solve_part1(False)"
   ]
  },
  {
   "cell_type": "markdown",
   "metadata": {},
   "source": [
    "## Part II"
   ]
  },
  {
   "cell_type": "code",
   "execution_count": 22,
   "metadata": {},
   "outputs": [
    {
     "data": {
      "text/plain": [
       "[[[2, 4], [6, 8]],\n",
       " [[2, 3], [4, 5]],\n",
       " [[5, 7], [7, 9]],\n",
       " [[2, 8], [3, 7]],\n",
       " [[6, 6], [4, 6]],\n",
       " [[2, 6], [4, 8]]]"
      ]
     },
     "execution_count": 22,
     "metadata": {},
     "output_type": "execute_result"
    }
   ],
   "source": [
    "parse()"
   ]
  },
  {
   "cell_type": "code",
   "execution_count": 26,
   "metadata": {},
   "outputs": [
    {
     "data": {
      "text/plain": [
       "4"
      ]
     },
     "execution_count": 26,
     "metadata": {},
     "output_type": "execute_result"
    }
   ],
   "source": [
    "def solve_part2(test=True):\n",
    "    ranges = parse(test)\n",
    "    total = 0\n",
    "    for r in ranges:\n",
    "        if r[0][0] > r[1][0]:\n",
    "            r[1],r[0] = r\n",
    "        dif = r[0][1] - r[1][0]\n",
    "        if dif >= 0:\n",
    "            total += 1\n",
    "    return total\n",
    "\n",
    "solve_part2(True)"
   ]
  },
  {
   "cell_type": "code",
   "execution_count": 27,
   "metadata": {},
   "outputs": [
    {
     "data": {
      "text/plain": [
       "911"
      ]
     },
     "execution_count": 27,
     "metadata": {},
     "output_type": "execute_result"
    }
   ],
   "source": [
    "solve_part2(False)"
   ]
  },
  {
   "cell_type": "code",
   "execution_count": 28,
   "metadata": {},
   "outputs": [
    {
     "data": {
      "text/plain": [
       "4"
      ]
     },
     "execution_count": 28,
     "metadata": {},
     "output_type": "execute_result"
    }
   ],
   "source": [
    "def solve_part2(test=True):\n",
    "    ranges = parse(test)\n",
    "    total = 0\n",
    "    for r in ranges:\n",
    "        if r[0][0] > r[1][0]:\n",
    "            r[1],r[0] = r\n",
    "        if r[0][1] >= r[1][0]:\n",
    "            total += 1\n",
    "    return total\n",
    "\n",
    "solve_part2(True)"
   ]
  },
  {
   "cell_type": "code",
   "execution_count": 29,
   "metadata": {},
   "outputs": [
    {
     "data": {
      "text/plain": [
       "911"
      ]
     },
     "execution_count": 29,
     "metadata": {},
     "output_type": "execute_result"
    }
   ],
   "source": [
    "solve_part2(False)"
   ]
  },
  {
   "cell_type": "code",
   "execution_count": null,
   "metadata": {},
   "outputs": [],
   "source": []
  }
 ],
 "metadata": {
  "kernelspec": {
   "display_name": "Python 3.9.13 64-bit (microsoft store)",
   "language": "python",
   "name": "python3"
  },
  "language_info": {
   "codemirror_mode": {
    "name": "ipython",
    "version": 3
   },
   "file_extension": ".py",
   "mimetype": "text/x-python",
   "name": "python",
   "nbconvert_exporter": "python",
   "pygments_lexer": "ipython3",
   "version": "3.9.13"
  },
  "orig_nbformat": 4,
  "vscode": {
   "interpreter": {
    "hash": "65fa9ed5925c3e0ce3166100efb8b0fb8803bae9372569c50a8bb5c84a3d33df"
   }
  }
 },
 "nbformat": 4,
 "nbformat_minor": 2
}
