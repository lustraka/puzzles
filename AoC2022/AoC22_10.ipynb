{
 "cells": [
  {
   "cell_type": "markdown",
   "metadata": {},
   "source": [
    "# [Day 10](https://adventofcode.com/2022/day/10) : Cathode-Ray Tube\n",
    "## Part I"
   ]
  },
  {
   "cell_type": "code",
   "execution_count": 1,
   "metadata": {},
   "outputs": [],
   "source": [
    "# Import dependencies\n",
    "from pathlib import Path"
   ]
  },
  {
   "cell_type": "code",
   "execution_count": 6,
   "metadata": {},
   "outputs": [
    {
     "data": {
      "text/plain": [
       "['noop', 'addx 3', 'addx -5']"
      ]
     },
     "execution_count": 6,
     "metadata": {},
     "output_type": "execute_result"
    }
   ],
   "source": [
    "def parse(test=True):\n",
    "    filename = './data/AoC22_10t.txt' if test else './data/AoC22_10.txt'\n",
    "    lines = Path(filename).read_text().split('\\n')\n",
    "    return lines\n",
    "parse()[:3]"
   ]
  },
  {
   "cell_type": "code",
   "execution_count": 7,
   "metadata": {},
   "outputs": [
    {
     "data": {
      "text/plain": [
       "[1, 1, 1, 4, 4]"
      ]
     },
     "execution_count": 7,
     "metadata": {},
     "output_type": "execute_result"
    }
   ],
   "source": [
    "def process(test=True):\n",
    "    prg = parse(test)\n",
    "    x = 1\n",
    "    for instr in prg:\n",
    "        yield x\n",
    "        if instr[:4] != 'noop':\n",
    "            yield x\n",
    "            add = int(instr.split()[1])\n",
    "            x += add\n",
    "    \n",
    "list(process(True))"
   ]
  },
  {
   "cell_type": "code",
   "execution_count": 4,
   "metadata": {},
   "outputs": [
    {
     "data": {
      "text/plain": [
       "[20, 60, 100, 140, 180, 220]"
      ]
     },
     "execution_count": 4,
     "metadata": {},
     "output_type": "execute_result"
    }
   ],
   "source": [
    "list(range(20,221,40))"
   ]
  },
  {
   "cell_type": "code",
   "execution_count": 9,
   "metadata": {},
   "outputs": [
    {
     "name": "stdout",
     "output_type": "stream",
     "text": [
      "20 21 420\n",
      "60 19 1140\n",
      "100 18 1800\n",
      "140 21 2940\n",
      "180 16 2880\n",
      "220 18 3960\n"
     ]
    },
    {
     "data": {
      "text/plain": [
       "13140"
      ]
     },
     "execution_count": 9,
     "metadata": {},
     "output_type": "execute_result"
    }
   ],
   "source": [
    "def solve_part1(test=True):\n",
    "    sig = 0\n",
    "    for idx,x in enumerate(process(test),1):\n",
    "        if idx in range(20,221,40):\n",
    "            sig += idx * x\n",
    "            print(idx, x, idx*x)\n",
    "    return sig\n",
    "solve_part1(True)"
   ]
  },
  {
   "cell_type": "code",
   "execution_count": 11,
   "metadata": {},
   "outputs": [
    {
     "data": {
      "text/plain": [
       "([(1, 'a'), (2, 'b'), (3, 'c'), (4, 'd')],\n",
       " [(0, 'a'), (1, 'b'), (2, 'c'), (3, 'd')])"
      ]
     },
     "execution_count": 11,
     "metadata": {},
     "output_type": "execute_result"
    }
   ],
   "source": [
    "list(enumerate('abcd',1)), list(enumerate('abcd'))"
   ]
  },
  {
   "cell_type": "code",
   "execution_count": 12,
   "metadata": {},
   "outputs": [
    {
     "name": "stdout",
     "output_type": "stream",
     "text": [
      "20 21 420\n",
      "60 21 1260\n",
      "100 17 1700\n",
      "140 17 2380\n",
      "180 17 3060\n",
      "220 17 3740\n"
     ]
    },
    {
     "data": {
      "text/plain": [
       "12560"
      ]
     },
     "execution_count": 12,
     "metadata": {},
     "output_type": "execute_result"
    }
   ],
   "source": [
    "solve_part1(False)"
   ]
  },
  {
   "attachments": {},
   "cell_type": "markdown",
   "metadata": {},
   "source": [
    "## Part II"
   ]
  },
  {
   "cell_type": "code",
   "execution_count": 14,
   "metadata": {},
   "outputs": [
    {
     "name": "stdout",
     "output_type": "stream",
     "text": [
      "##..##..##..##..##..##..##..##..##..##..\n",
      "###...###...###...###...###...###...###.\n",
      "####....####....####....####....####....\n",
      "#####.....#####.....#####.....#####.....\n",
      "######......######......######......####\n",
      "#######.......#######.......#######.....\n"
     ]
    }
   ],
   "source": [
    "def solve_part2(test=True):\n",
    "    rows = []\n",
    "    row_string = \"\"\n",
    "    for cycle,x in enumerate(process(test)):\n",
    "        row_string += \".#\"[abs(cycle % 40 - x) < 2]\n",
    "        if (cycle + 1) % 40 == 0:\n",
    "            rows.append(row_string)\n",
    "            row_string = \"\"\n",
    "    for row in rows:\n",
    "        print(row)\n",
    "solve_part2(True) "
   ]
  },
  {
   "cell_type": "code",
   "execution_count": 15,
   "metadata": {},
   "outputs": [
    {
     "name": "stdout",
     "output_type": "stream",
     "text": [
      "###..#....###...##..####.###...##..#....\n",
      "#..#.#....#..#.#..#.#....#..#.#..#.#....\n",
      "#..#.#....#..#.#..#.###..###..#....#....\n",
      "###..#....###..####.#....#..#.#....#....\n",
      "#....#....#....#..#.#....#..#.#..#.#....\n",
      "#....####.#....#..#.#....###...##..####.\n"
     ]
    }
   ],
   "source": [
    "solve_part2(False)"
   ]
  },
  {
   "cell_type": "code",
   "execution_count": null,
   "metadata": {},
   "outputs": [],
   "source": [
    "# PLPAFBCL"
   ]
  }
 ],
 "metadata": {
  "kernelspec": {
   "display_name": "Python 3.9.13 64-bit (microsoft store)",
   "language": "python",
   "name": "python3"
  },
  "language_info": {
   "codemirror_mode": {
    "name": "ipython",
    "version": 3
   },
   "file_extension": ".py",
   "mimetype": "text/x-python",
   "name": "python",
   "nbconvert_exporter": "python",
   "pygments_lexer": "ipython3",
   "version": "3.9.13"
  },
  "orig_nbformat": 4,
  "vscode": {
   "interpreter": {
    "hash": "65fa9ed5925c3e0ce3166100efb8b0fb8803bae9372569c50a8bb5c84a3d33df"
   }
  }
 },
 "nbformat": 4,
 "nbformat_minor": 2
}
