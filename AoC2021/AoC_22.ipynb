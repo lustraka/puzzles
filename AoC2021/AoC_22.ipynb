{
  "nbformat": 4,
  "nbformat_minor": 5,
  "metadata": {
    "kernelspec": {
      "display_name": "Python 3",
      "language": "python",
      "name": "python3"
    },
    "language_info": {
      "codemirror_mode": {
        "name": "ipython",
        "version": 3
      },
      "file_extension": ".py",
      "mimetype": "text/x-python",
      "name": "python",
      "nbconvert_exporter": "python",
      "pygments_lexer": "ipython3",
      "version": "3.7.11"
    },
    "colab": {
      "name": "AoC_22.ipynb",
      "provenance": [],
      "include_colab_link": true
    }
  },
  "cells": [
    {
      "cell_type": "markdown",
      "metadata": {
        "id": "view-in-github",
        "colab_type": "text"
      },
      "source": [
        "<a href=\"https://colab.research.google.com/github/lustraka/puzzles/blob/main/AoC2021/AoC_22.ipynb\" target=\"_parent\"><img src=\"https://colab.research.google.com/assets/colab-badge.svg\" alt=\"Open In Colab\"/></a>"
      ]
    },
    {
      "cell_type": "markdown",
      "metadata": {
        "id": "dDZWBB4Ll10C"
      },
      "source": [
        "# Advent of Code Puzzles\n",
        "[Advent of Code 2021](https://adventofcode.com/2021) | [reddit/adventofcode](https://www.reddit.com/r/adventofcode/)"
      ],
      "id": "dDZWBB4Ll10C"
    },
    {
      "cell_type": "code",
      "metadata": {
        "id": "ri3O_1i3l2mo"
      },
      "source": [
        "import requests\n",
        "import pandas as pd\n",
        "import numpy as np\n",
        "import re\n",
        "path = 'https://raw.githubusercontent.com/lustraka/puzzles/main/AoC2021/data/'"
      ],
      "id": "ri3O_1i3l2mo",
      "execution_count": 5,
      "outputs": []
    },
    {
      "cell_type": "markdown",
      "metadata": {
        "id": "TnFAd8h1l8NI"
      },
      "source": [
        "## [Day 22](https://adventofcode.com/2021/day/22): Reactor Reboot\n",
        "### Part I\n",
        "- **Unknown**: The number of cubes set on.\n",
        "- **Data**: A sequence of reboot steps.\n",
        "- **Condition**:\n",
        "  - Consider x, y, z positions of at least -50 and at most 50.\n",
        "- **Plan**:\n",
        "  - Parse the input"
      ],
      "id": "TnFAd8h1l8NI"
    },
    {
      "cell_type": "code",
      "metadata": {
        "id": "HZXVSS9bl736"
      },
      "source": [
        "example = \"\"\"on x=10..12,y=10..12,z=10..12\n",
        "on x=11..13,y=11..13,z=11..13\n",
        "off x=9..11,y=9..11,z=9..11\n",
        "on x=10..10,y=10..10,z=10..10\"\"\""
      ],
      "id": "HZXVSS9bl736",
      "execution_count": 2,
      "outputs": []
    },
    {
      "cell_type": "code",
      "source": [
        "def parse(input):\n",
        "  \"\"\"Load steps into lists.\"\"\"\n",
        "  steps = [row.split() for row in input.split('\\n')]\n",
        "  out = []\n",
        "  for step in steps:\n",
        "    limits = [x[0].split('..') for x in re.findall(r'[xyz]=(.*?)(,|$)', step[1])]\n",
        "    limit_int = []\n",
        "    for limit in limits:\n",
        "      limit_int.append([int(limit[0]), int(limit[1])])\n",
        "    out.append([step[0],limit_int])\n",
        "\n",
        "  return out\n",
        "\n",
        "steps = parse(example)\n",
        "steps"
      ],
      "metadata": {
        "id": "IxiRod86pEk-",
        "outputId": "ce0e0397-95a0-4000-e994-86deff06e192",
        "colab": {
          "base_uri": "https://localhost:8080/"
        }
      },
      "id": "IxiRod86pEk-",
      "execution_count": 60,
      "outputs": [
        {
          "output_type": "execute_result",
          "data": {
            "text/plain": [
              "[['on', [[10, 12], [10, 12], [10, 12]]],\n",
              " ['on', [[11, 13], [11, 13], [11, 13]]],\n",
              " ['off', [[9, 11], [9, 11], [9, 11]]],\n",
              " ['on', [[10, 10], [10, 10], [10, 10]]]]"
            ]
          },
          "metadata": {},
          "execution_count": 60
        }
      ]
    },
    {
      "cell_type": "code",
      "source": [
        "[x[0].split('..') for x in re.findall(r'[xyz]=(.*?)(,|$)', 'x=10..11,y=-10..-12,z=100..120')]"
      ],
      "metadata": {
        "id": "gp7MdoaUpEgv",
        "outputId": "1fc701f8-eb1d-40d1-b20b-20ee02d1998e",
        "colab": {
          "base_uri": "https://localhost:8080/"
        }
      },
      "id": "gp7MdoaUpEgv",
      "execution_count": 55,
      "outputs": [
        {
          "output_type": "execute_result",
          "data": {
            "text/plain": [
              "[['10', '11'], ['-10', '-12'], ['100', '120']]"
            ]
          },
          "metadata": {},
          "execution_count": 55
        }
      ]
    },
    {
      "cell_type": "code",
      "source": [
        "def get_range(limits, coor):\n",
        "  if coor == 'x':\n",
        "    return range(max(limits[0][0],-50)+50, min(limits[0][1],50)+51)\n",
        "  elif coor == 'y':\n",
        "    return range(max(limits[1][0],-50)+50, min(limits[1][1],50)+51)\n",
        "  else:\n",
        "    return range(max(limits[2][0],-50)+50, min(limits[2][1],50)+51)"
      ],
      "metadata": {
        "id": "FEV3voZApEcv"
      },
      "id": "FEV3voZApEcv",
      "execution_count": 62,
      "outputs": []
    },
    {
      "cell_type": "code",
      "source": [
        "example0 = \"\"\"on x=-100..0,y=10..12,z=10..12\n",
        "on x=-110..-100,y=11..13,z=11..13\n",
        "off x=45..100,y=9..11,z=9..11\n",
        "on x=100..1000,y=10..10,z=10..10\"\"\"\n",
        "steps = parse(example0)\n",
        "for step in steps:\n",
        "  print('x:', get_range(step[1], 'x'))"
      ],
      "metadata": {
        "id": "1oGC3jom97Sc",
        "outputId": "34b4b8ba-2e7c-4944-fedc-bc694edf1045",
        "colab": {
          "base_uri": "https://localhost:8080/"
        }
      },
      "id": "1oGC3jom97Sc",
      "execution_count": 89,
      "outputs": [
        {
          "output_type": "stream",
          "name": "stdout",
          "text": [
            "x: range(0, 51)\n",
            "x: range(0, -49)\n",
            "x: range(95, 101)\n",
            "x: range(150, 101)\n"
          ]
        }
      ]
    },
    {
      "cell_type": "code",
      "source": [
        "list(range(0,-4))"
      ],
      "metadata": {
        "id": "k1cEfVfEFQWJ",
        "outputId": "ec786d8d-b039-4134-c0be-b2c427b837c1",
        "colab": {
          "base_uri": "https://localhost:8080/"
        }
      },
      "id": "k1cEfVfEFQWJ",
      "execution_count": 90,
      "outputs": [
        {
          "output_type": "execute_result",
          "data": {
            "text/plain": [
              "[]"
            ]
          },
          "metadata": {},
          "execution_count": 90
        }
      ]
    },
    {
      "cell_type": "code",
      "source": [
        "reactor = np.zeros((101,101,101)).astype(int)\n",
        "reactor.shape"
      ],
      "metadata": {
        "id": "HmSDGjDg97Ms",
        "outputId": "2ed032ff-3728-4954-be81-7dfb88b06833",
        "colab": {
          "base_uri": "https://localhost:8080/"
        }
      },
      "id": "HmSDGjDg97Ms",
      "execution_count": 72,
      "outputs": [
        {
          "output_type": "execute_result",
          "data": {
            "text/plain": [
              "(101, 101, 101)"
            ]
          },
          "metadata": {},
          "execution_count": 72
        }
      ]
    },
    {
      "cell_type": "code",
      "source": [
        "for step in steps:\n",
        "  print(1 if step[0] == 'on' else 0)\n",
        "  for x in get_range(step[1], 'x'):\n",
        "    for y in get_range(step[1], 'y'):\n",
        "      for z in get_range(step[1], 'z'):\n",
        "        reactor[x,y,z] = 1 if step[0] == 'on' else 0\n",
        "reactor[reactor>0].size"
      ],
      "metadata": {
        "id": "g6ufjp8697EV",
        "outputId": "0f7dfa40-24c8-4a01-8f2b-ccd4db99c9de",
        "colab": {
          "base_uri": "https://localhost:8080/"
        }
      },
      "id": "g6ufjp8697EV",
      "execution_count": 76,
      "outputs": [
        {
          "output_type": "stream",
          "name": "stdout",
          "text": [
            "1\n",
            "1\n",
            "0\n",
            "1\n"
          ]
        },
        {
          "output_type": "execute_result",
          "data": {
            "text/plain": [
              "39"
            ]
          },
          "metadata": {},
          "execution_count": 76
        }
      ]
    },
    {
      "cell_type": "code",
      "source": [
        "def solve_part1(input):\n",
        "  steps = parse(input)\n",
        "  for step in steps:\n",
        "    for x in get_range(step[1], 'x'):\n",
        "      for y in get_range(step[1], 'y'):\n",
        "        for z in get_range(step[1], 'z'):\n",
        "          reactor[x,y,z] = 1 if step[0] == 'on' else 0\n",
        "  return reactor[reactor>0].size\n",
        "solve_part1(example)"
      ],
      "metadata": {
        "id": "jNCWwy4yBV6q",
        "outputId": "81e9478e-6b51-493a-d47c-90ced8c39ab3",
        "colab": {
          "base_uri": "https://localhost:8080/"
        }
      },
      "id": "jNCWwy4yBV6q",
      "execution_count": 79,
      "outputs": [
        {
          "output_type": "execute_result",
          "data": {
            "text/plain": [
              "39"
            ]
          },
          "metadata": {},
          "execution_count": 79
        }
      ]
    },
    {
      "cell_type": "code",
      "source": [
        "example2 = \"\"\"on x=-20..26,y=-36..17,z=-47..7\n",
        "on x=-20..33,y=-21..23,z=-26..28\n",
        "on x=-22..28,y=-29..23,z=-38..16\n",
        "on x=-46..7,y=-6..46,z=-50..-1\n",
        "on x=-49..1,y=-3..46,z=-24..28\n",
        "on x=2..47,y=-22..22,z=-23..27\n",
        "on x=-27..23,y=-28..26,z=-21..29\n",
        "on x=-39..5,y=-6..47,z=-3..44\n",
        "on x=-30..21,y=-8..43,z=-13..34\n",
        "on x=-22..26,y=-27..20,z=-29..19\n",
        "off x=-48..-32,y=26..41,z=-47..-37\n",
        "on x=-12..35,y=6..50,z=-50..-2\n",
        "off x=-48..-32,y=-32..-16,z=-15..-5\n",
        "on x=-18..26,y=-33..15,z=-7..46\n",
        "off x=-40..-22,y=-38..-28,z=23..41\n",
        "on x=-16..35,y=-41..10,z=-47..6\n",
        "off x=-32..-23,y=11..30,z=-14..3\n",
        "on x=-49..-5,y=-3..45,z=-29..18\n",
        "off x=18..30,y=-20..-8,z=-3..13\n",
        "on x=-41..9,y=-7..43,z=-33..15\n",
        "on x=-54112..-39298,y=-85059..-49293,z=-27449..7877\n",
        "on x=967..23432,y=45373..81175,z=27513..53682\"\"\"\n",
        "\n",
        "solve_part1(example2)"
      ],
      "metadata": {
        "id": "0yqemn82BV2S",
        "outputId": "714df859-6f59-4f4d-d18a-789530bf488f",
        "colab": {
          "base_uri": "https://localhost:8080/"
        }
      },
      "id": "0yqemn82BV2S",
      "execution_count": 80,
      "outputs": [
        {
          "output_type": "execute_result",
          "data": {
            "text/plain": [
              "590784"
            ]
          },
          "metadata": {},
          "execution_count": 80
        }
      ]
    },
    {
      "cell_type": "code",
      "source": [
        "r = requests.get(path+'AoC2021_22.txt')\n",
        "solve_part1(r.text[:-1])"
      ],
      "metadata": {
        "id": "cYSk27WHBVva",
        "outputId": "439c1f9a-e7b7-41ce-fba2-87d33eb08136",
        "colab": {
          "base_uri": "https://localhost:8080/"
        }
      },
      "id": "cYSk27WHBVva",
      "execution_count": 81,
      "outputs": [
        {
          "output_type": "execute_result",
          "data": {
            "text/plain": [
              "736684"
            ]
          },
          "metadata": {},
          "execution_count": 81
        }
      ]
    },
    {
      "cell_type": "markdown",
      "source": [
        "`736684` : That's not the right answer; your answer is too high. \n",
        "> Check determination of ranges in the cuboids (`step[1]`)"
      ],
      "metadata": {
        "id": "X1YC21BtCmzR"
      },
      "id": "X1YC21BtCmzR"
    },
    {
      "cell_type": "code",
      "source": [
        "steps = parse(r.text[:-1])\n",
        "steps[-3:]"
      ],
      "metadata": {
        "id": "cAklft0vBv_L",
        "outputId": "97a560cb-8da2-4fa5-ba98-8e601c885dc0",
        "colab": {
          "base_uri": "https://localhost:8080/"
        }
      },
      "id": "cAklft0vBv_L",
      "execution_count": 85,
      "outputs": [
        {
          "output_type": "execute_result",
          "data": {
            "text/plain": [
              "[['on', [[-16269, 4565], [-54781, -37040], [54733, 74868]]],\n",
              " ['on', [[31918, 53358], [52954, 77962], [-20309, -9155]]],\n",
              " ['off', [[6259, 30795], [63250, 73684], [25841, 49676]]]]"
            ]
          },
          "metadata": {},
          "execution_count": 85
        }
      ]
    },
    {
      "cell_type": "code",
      "source": [
        ""
      ],
      "metadata": {
        "id": "SpovnPmlBv8b"
      },
      "id": "SpovnPmlBv8b",
      "execution_count": null,
      "outputs": []
    },
    {
      "cell_type": "markdown",
      "source": [
        "### Part II\n",
        "- **Unknown**: \n",
        "- **Data**: \n",
        "- **Condition**:\n",
        "  - \n",
        "  - \n",
        "- **Plan**:\n",
        "  - \n"
      ],
      "metadata": {
        "id": "2HXW2bZ3pDVg"
      },
      "id": "2HXW2bZ3pDVg"
    }
  ]
}