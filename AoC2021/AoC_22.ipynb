{
  "nbformat": 4,
  "nbformat_minor": 5,
  "metadata": {
    "kernelspec": {
      "display_name": "Python 3",
      "language": "python",
      "name": "python3"
    },
    "language_info": {
      "codemirror_mode": {
        "name": "ipython",
        "version": 3
      },
      "file_extension": ".py",
      "mimetype": "text/x-python",
      "name": "python",
      "nbconvert_exporter": "python",
      "pygments_lexer": "ipython3",
      "version": "3.7.11"
    },
    "colab": {
      "name": "AoC_22.ipynb",
      "provenance": [],
      "include_colab_link": true
    }
  },
  "cells": [
    {
      "cell_type": "markdown",
      "metadata": {
        "id": "view-in-github",
        "colab_type": "text"
      },
      "source": [
        "<a href=\"https://colab.research.google.com/github/lustraka/puzzles/blob/main/AoC2021/AoC_22.ipynb\" target=\"_parent\"><img src=\"https://colab.research.google.com/assets/colab-badge.svg\" alt=\"Open In Colab\"/></a>"
      ]
    },
    {
      "cell_type": "markdown",
      "metadata": {
        "id": "dDZWBB4Ll10C"
      },
      "source": [
        "# Advent of Code Puzzles\n",
        "[Advent of Code 2021](https://adventofcode.com/2021) | [reddit/adventofcode](https://www.reddit.com/r/adventofcode/)"
      ],
      "id": "dDZWBB4Ll10C"
    },
    {
      "cell_type": "code",
      "metadata": {
        "id": "ri3O_1i3l2mo"
      },
      "source": [
        "import requests\n",
        "import pandas as pd\n",
        "import numpy as np\n",
        "import re\n",
        "path = 'https://raw.githubusercontent.com/lustraka/puzzles/main/AoC2021/data/'"
      ],
      "id": "ri3O_1i3l2mo",
      "execution_count": 1,
      "outputs": []
    },
    {
      "cell_type": "markdown",
      "metadata": {
        "id": "TnFAd8h1l8NI"
      },
      "source": [
        "## [Day 22](https://adventofcode.com/2021/day/22): Reactor Reboot\n",
        "### Part I\n",
        "- **Unknown**: The number of cubes set on.\n",
        "- **Data**: A sequence of reboot steps.\n",
        "- **Condition**:\n",
        "  - Consider x, y, z positions of at least -50 and at most 50.\n",
        "- **Plan**:\n",
        "  - Parse the input"
      ],
      "id": "TnFAd8h1l8NI"
    },
    {
      "cell_type": "code",
      "metadata": {
        "id": "HZXVSS9bl736"
      },
      "source": [
        "example = \"\"\"on x=10..12,y=10..12,z=10..12\n",
        "on x=11..13,y=11..13,z=11..13\n",
        "off x=9..11,y=9..11,z=9..11\n",
        "on x=10..10,y=10..10,z=10..10\"\"\""
      ],
      "id": "HZXVSS9bl736",
      "execution_count": 2,
      "outputs": []
    },
    {
      "cell_type": "code",
      "source": [
        "def parse(input):\n",
        "  \"\"\"Load steps into lists.\"\"\"\n",
        "  steps = [row.split() for row in input.split('\\n')]\n",
        "  out = []\n",
        "  for step in steps:\n",
        "    limits = [x[0].split('..') for x in re.findall(r'[xyz]=(.*?)(,|$)', step[1])]\n",
        "    limit_int = []\n",
        "    for limit in limits:\n",
        "      limit_int.append([int(limit[0]), int(limit[1])])\n",
        "    out.append([step[0],np.array(limit_int)])\n",
        "\n",
        "  return out\n",
        "\n",
        "steps = parse(example)\n",
        "steps"
      ],
      "metadata": {
        "id": "IxiRod86pEk-",
        "outputId": "00eb73ce-9c0d-4589-8efe-ca66ce19c875",
        "colab": {
          "base_uri": "https://localhost:8080/"
        }
      },
      "id": "IxiRod86pEk-",
      "execution_count": 3,
      "outputs": [
        {
          "output_type": "execute_result",
          "data": {
            "text/plain": [
              "[['on', array([[10, 12],\n",
              "         [10, 12],\n",
              "         [10, 12]])], ['on', array([[11, 13],\n",
              "         [11, 13],\n",
              "         [11, 13]])], ['off', array([[ 9, 11],\n",
              "         [ 9, 11],\n",
              "         [ 9, 11]])], ['on', array([[10, 10],\n",
              "         [10, 10],\n",
              "         [10, 10]])]]"
            ]
          },
          "metadata": {},
          "execution_count": 3
        }
      ]
    },
    {
      "cell_type": "code",
      "source": [
        "[x[0].split('..') for x in re.findall(r'[xyz]=(.*?)(,|$)', 'x=10..11,y=-10..-12,z=100..120')]"
      ],
      "metadata": {
        "id": "gp7MdoaUpEgv",
        "outputId": "a8ba09b2-c135-4f64-842e-dd7fec163fd5",
        "colab": {
          "base_uri": "https://localhost:8080/"
        }
      },
      "id": "gp7MdoaUpEgv",
      "execution_count": 4,
      "outputs": [
        {
          "output_type": "execute_result",
          "data": {
            "text/plain": [
              "[['10', '11'], ['-10', '-12'], ['100', '120']]"
            ]
          },
          "metadata": {},
          "execution_count": 4
        }
      ]
    },
    {
      "cell_type": "code",
      "source": [
        "def get_range(limits, coor):\n",
        "  if coor == 'x':\n",
        "    return range(max(limits[0][0],-50)+50, min(limits[0][1],50)+51)\n",
        "  elif coor == 'y':\n",
        "    return range(max(limits[1][0],-50)+50, min(limits[1][1],50)+51)\n",
        "  else:\n",
        "    return range(max(limits[2][0],-50)+50, min(limits[2][1],50)+51)"
      ],
      "metadata": {
        "id": "FEV3voZApEcv"
      },
      "id": "FEV3voZApEcv",
      "execution_count": 5,
      "outputs": []
    },
    {
      "cell_type": "code",
      "source": [
        "# Use max(axis=0) to get max() of [coor1, coor2]\n",
        "a = np.array([[1,2],[3,4],[5,6]])\n",
        "for i in [None, 0, 1]:\n",
        "  print(i, a.max(axis=i), a.min(axis=i))"
      ],
      "metadata": {
        "id": "NDK5GXPdt-pK",
        "outputId": "8a9fccd5-42b0-4bc6-858a-5837810d8d84",
        "colab": {
          "base_uri": "https://localhost:8080/"
        }
      },
      "id": "NDK5GXPdt-pK",
      "execution_count": 6,
      "outputs": [
        {
          "output_type": "stream",
          "name": "stdout",
          "text": [
            "None 6 1\n",
            "0 [5 6] [1 2]\n",
            "1 [2 4 6] [1 3 5]\n"
          ]
        }
      ]
    },
    {
      "cell_type": "code",
      "source": [
        "# Use broadcasting to shift coordinates\n",
        "a+[50,51]"
      ],
      "metadata": {
        "id": "rZZCvXRNyeYX",
        "outputId": "281668fa-38e1-4f46-c917-cea9d022da47",
        "colab": {
          "base_uri": "https://localhost:8080/"
        }
      },
      "id": "rZZCvXRNyeYX",
      "execution_count": 7,
      "outputs": [
        {
          "output_type": "execute_result",
          "data": {
            "text/plain": [
              "array([[51, 53],\n",
              "       [53, 55],\n",
              "       [55, 57]])"
            ]
          },
          "metadata": {},
          "execution_count": 7
        }
      ]
    },
    {
      "cell_type": "code",
      "source": [
        "def trim_shift_limits(limits):\n",
        "  max = limits.max(axis=0)\n",
        "  min = limits.min(axis=0)\n",
        "  # Skip limits out of range in any dimension\n",
        "  if max[0] > 51 or min[1] < -51:\n",
        "    return np.array([])\n",
        "  for coor in limits:\n",
        "    if coor[0] < -50:\n",
        "      coor[0] = -50\n",
        "    if coor[1] > 50:\n",
        "      coor[1] = 50\n",
        "  return limits+[50,51]"
      ],
      "metadata": {
        "id": "4HmADNxWyeNX"
      },
      "id": "4HmADNxWyeNX",
      "execution_count": 8,
      "outputs": []
    },
    {
      "cell_type": "code",
      "source": [
        "def solve_part1(input):\n",
        "  steps = parse(input)\n",
        "  reactor = np.zeros((101,101,101)).astype(int)\n",
        "  for step in steps:\n",
        "    limits = trim_shift_limits(step[1])\n",
        "    if limits.any():\n",
        "      for x in range(*limits[0]):\n",
        "        for y in range(*limits[1]):\n",
        "          for z in range(*limits[2]):\n",
        "            reactor[x,y,z] = 1 if step[0] == 'on' else 0\n",
        "  return reactor[reactor>0].size\n",
        "\n",
        "# Should give 39\n",
        "solve_part1(example)"
      ],
      "metadata": {
        "id": "jNCWwy4yBV6q",
        "outputId": "b58ee158-a476-45fd-e489-ab2aa696fb12",
        "colab": {
          "base_uri": "https://localhost:8080/"
        }
      },
      "id": "jNCWwy4yBV6q",
      "execution_count": 9,
      "outputs": [
        {
          "output_type": "execute_result",
          "data": {
            "text/plain": [
              "39"
            ]
          },
          "metadata": {},
          "execution_count": 9
        }
      ]
    },
    {
      "cell_type": "code",
      "source": [
        "example2 = \"\"\"on x=-20..26,y=-36..17,z=-47..7\n",
        "on x=-20..33,y=-21..23,z=-26..28\n",
        "on x=-22..28,y=-29..23,z=-38..16\n",
        "on x=-46..7,y=-6..46,z=-50..-1\n",
        "on x=-49..1,y=-3..46,z=-24..28\n",
        "on x=2..47,y=-22..22,z=-23..27\n",
        "on x=-27..23,y=-28..26,z=-21..29\n",
        "on x=-39..5,y=-6..47,z=-3..44\n",
        "on x=-30..21,y=-8..43,z=-13..34\n",
        "on x=-22..26,y=-27..20,z=-29..19\n",
        "off x=-48..-32,y=26..41,z=-47..-37\n",
        "on x=-12..35,y=6..50,z=-50..-2\n",
        "off x=-48..-32,y=-32..-16,z=-15..-5\n",
        "on x=-18..26,y=-33..15,z=-7..46\n",
        "off x=-40..-22,y=-38..-28,z=23..41\n",
        "on x=-16..35,y=-41..10,z=-47..6\n",
        "off x=-32..-23,y=11..30,z=-14..3\n",
        "on x=-49..-5,y=-3..45,z=-29..18\n",
        "off x=18..30,y=-20..-8,z=-3..13\n",
        "on x=-41..9,y=-7..43,z=-33..15\n",
        "on x=-54112..-39298,y=-85059..-49293,z=-27449..7877\n",
        "on x=967..23432,y=45373..81175,z=27513..53682\"\"\"\n",
        "\n",
        "assert solve_part1(example2) == 590784"
      ],
      "metadata": {
        "id": "0yqemn82BV2S"
      },
      "id": "0yqemn82BV2S",
      "execution_count": 10,
      "outputs": []
    },
    {
      "cell_type": "code",
      "source": [
        "r = requests.get(path+'AoC2021_22.txt')\n",
        "assert solve_part1(r.text[:-1]) == 576028"
      ],
      "metadata": {
        "id": "cYSk27WHBVva"
      },
      "id": "cYSk27WHBVva",
      "execution_count": 11,
      "outputs": []
    },
    {
      "cell_type": "markdown",
      "source": [
        "`736684` : That's not the right answer; your answer is too high. \n",
        "> A logical flaw: You need to initialize the reactor within `solve_part1()` function!"
      ],
      "metadata": {
        "id": "X1YC21BtCmzR"
      },
      "id": "X1YC21BtCmzR"
    },
    {
      "cell_type": "markdown",
      "source": [
        "### Part II\n",
        "- **Unknown**: The number of cubes set on.\n",
        "- **Data**: A sequence of reboot steps.\n",
        "- **Condition**:\n",
        "  - Consider all x, y, z positions.\n",
        "- **Plan**:\n",
        "  - Parse the input\n",
        "  - Determine the size of the reactor\n",
        "  - Write the `shift_limits()` function\n",
        "  - Solve part 2\n"
      ],
      "metadata": {
        "id": "2HXW2bZ3pDVg"
      },
      "id": "2HXW2bZ3pDVg"
    },
    {
      "cell_type": "code",
      "source": [
        "example = \"\"\"on x=-5..47,y=-31..22,z=-19..33\n",
        "on x=-44..5,y=-27..21,z=-14..35\n",
        "on x=-49..-1,y=-11..42,z=-10..38\n",
        "on x=-20..34,y=-40..6,z=-44..1\n",
        "off x=26..39,y=40..50,z=-2..11\n",
        "on x=-41..5,y=-41..6,z=-36..8\n",
        "off x=-43..-33,y=-45..-28,z=7..25\n",
        "on x=-33..15,y=-32..19,z=-34..11\n",
        "off x=35..47,y=-46..-34,z=-11..5\n",
        "on x=-14..36,y=-6..44,z=-16..29\n",
        "on x=-57795..-6158,y=29564..72030,z=20435..90618\n",
        "on x=36731..105352,y=-21140..28532,z=16094..90401\n",
        "on x=30999..107136,y=-53464..15513,z=8553..71215\n",
        "on x=13528..83982,y=-99403..-27377,z=-24141..23996\n",
        "on x=-72682..-12347,y=18159..111354,z=7391..80950\n",
        "on x=-1060..80757,y=-65301..-20884,z=-103788..-16709\n",
        "on x=-83015..-9461,y=-72160..-8347,z=-81239..-26856\n",
        "on x=-52752..22273,y=-49450..9096,z=54442..119054\n",
        "on x=-29982..40483,y=-108474..-28371,z=-24328..38471\n",
        "on x=-4958..62750,y=40422..118853,z=-7672..65583\n",
        "on x=55694..108686,y=-43367..46958,z=-26781..48729\n",
        "on x=-98497..-18186,y=-63569..3412,z=1232..88485\n",
        "on x=-726..56291,y=-62629..13224,z=18033..85226\n",
        "on x=-110886..-34664,y=-81338..-8658,z=8914..63723\n",
        "on x=-55829..24974,y=-16897..54165,z=-121762..-28058\n",
        "on x=-65152..-11147,y=22489..91432,z=-58782..1780\n",
        "on x=-120100..-32970,y=-46592..27473,z=-11695..61039\n",
        "on x=-18631..37533,y=-124565..-50804,z=-35667..28308\n",
        "on x=-57817..18248,y=49321..117703,z=5745..55881\n",
        "on x=14781..98692,y=-1341..70827,z=15753..70151\n",
        "on x=-34419..55919,y=-19626..40991,z=39015..114138\n",
        "on x=-60785..11593,y=-56135..2999,z=-95368..-26915\n",
        "on x=-32178..58085,y=17647..101866,z=-91405..-8878\n",
        "on x=-53655..12091,y=50097..105568,z=-75335..-4862\n",
        "on x=-111166..-40997,y=-71714..2688,z=5609..50954\n",
        "on x=-16602..70118,y=-98693..-44401,z=5197..76897\n",
        "on x=16383..101554,y=4615..83635,z=-44907..18747\n",
        "off x=-95822..-15171,y=-19987..48940,z=10804..104439\n",
        "on x=-89813..-14614,y=16069..88491,z=-3297..45228\n",
        "on x=41075..99376,y=-20427..49978,z=-52012..13762\n",
        "on x=-21330..50085,y=-17944..62733,z=-112280..-30197\n",
        "on x=-16478..35915,y=36008..118594,z=-7885..47086\n",
        "off x=-98156..-27851,y=-49952..43171,z=-99005..-8456\n",
        "off x=2032..69770,y=-71013..4824,z=7471..94418\n",
        "on x=43670..120875,y=-42068..12382,z=-24787..38892\n",
        "off x=37514..111226,y=-45862..25743,z=-16714..54663\n",
        "off x=25699..97951,y=-30668..59918,z=-15349..69697\n",
        "off x=-44271..17935,y=-9516..60759,z=49131..112598\n",
        "on x=-61695..-5813,y=40978..94975,z=8655..80240\n",
        "off x=-101086..-9439,y=-7088..67543,z=33935..83858\n",
        "off x=18020..114017,y=-48931..32606,z=21474..89843\n",
        "off x=-77139..10506,y=-89994..-18797,z=-80..59318\n",
        "off x=8476..79288,y=-75520..11602,z=-96624..-24783\n",
        "on x=-47488..-1262,y=24338..100707,z=16292..72967\n",
        "off x=-84341..13987,y=2429..92914,z=-90671..-1318\n",
        "off x=-37810..49457,y=-71013..-7894,z=-105357..-13188\n",
        "off x=-27365..46395,y=31009..98017,z=15428..76570\n",
        "off x=-70369..-16548,y=22648..78696,z=-1892..86821\n",
        "on x=-53470..21291,y=-120233..-33476,z=-44150..38147\n",
        "off x=-93533..-4276,y=-16170..68771,z=-104985..-24507\"\"\"\n",
        "steps = parse(example)"
      ],
      "metadata": {
        "id": "SpovnPmlBv8b"
      },
      "id": "SpovnPmlBv8b",
      "execution_count": 13,
      "outputs": []
    },
    {
      "cell_type": "code",
      "source": [
        "allsteps = np.array([step[1] for step in steps])\n",
        "xyzmin = allsteps.min(axis=0)\n",
        "xyzmax = allsteps.max(axis=0)"
      ],
      "metadata": {
        "id": "-kioPsrV1_O3"
      },
      "id": "-kioPsrV1_O3",
      "execution_count": 20,
      "outputs": []
    },
    {
      "cell_type": "code",
      "source": [
        "xyzoffset = np.abs(xyzmin[:,0])\n",
        "xyzdim = xyzmax[:,1] + xyzoffset\n",
        "xyzoffset, xyzdim"
      ],
      "metadata": {
        "id": "vdoszkzx2NYW",
        "outputId": "e24186a8-112e-456e-84a7-1a01ebc82949",
        "colab": {
          "base_uri": "https://localhost:8080/"
        }
      },
      "id": "vdoszkzx2NYW",
      "execution_count": 28,
      "outputs": [
        {
          "output_type": "execute_result",
          "data": {
            "text/plain": [
              "(array([120100, 124565, 121762]), array([240975, 243418, 240816]))"
            ]
          },
          "metadata": {},
          "execution_count": 28
        }
      ]
    },
    {
      "cell_type": "code",
      "source": [
        "xyzmin"
      ],
      "metadata": {
        "id": "1xIFxBfz9zW9",
        "outputId": "b9dca3f7-1ca3-4551-c78a-892668207843",
        "colab": {
          "base_uri": "https://localhost:8080/"
        }
      },
      "id": "1xIFxBfz9zW9",
      "execution_count": 25,
      "outputs": [
        {
          "output_type": "execute_result",
          "data": {
            "text/plain": [
              "array([[-120100,  -40997],\n",
              "       [-124565,  -50804],\n",
              "       [-121762,  -30197]])"
            ]
          },
          "metadata": {},
          "execution_count": 25
        }
      ]
    },
    {
      "cell_type": "code",
      "source": [
        "np.abs(xyzmin[:,0])"
      ],
      "metadata": {
        "id": "zqzWZdZU9Fpm",
        "outputId": "bcf8441a-9db8-485c-8bdb-2d27eb2e9d3b",
        "colab": {
          "base_uri": "https://localhost:8080/"
        }
      },
      "id": "zqzWZdZU9Fpm",
      "execution_count": 27,
      "outputs": [
        {
          "output_type": "execute_result",
          "data": {
            "text/plain": [
              "array([120100, 124565, 121762])"
            ]
          },
          "metadata": {},
          "execution_count": 27
        }
      ]
    },
    {
      "cell_type": "markdown",
      "source": [
        "```python\n",
        "  for step in steps:\n",
        "    limits = trim_shift_limits(step[1])\n",
        "    if limits.any():\n",
        "      for x in range(*limits[0]):\n",
        "        for y in range(*limits[1]):\n",
        "          for z in range(*limits[2]):\n",
        "            reactor[x,y,z] = 1 if step[0] == 'on' else 0\n",
        "  return reactor[reactor>0].size\n",
        "  ```"
      ],
      "metadata": {
        "id": "M-UyCLGa_QBs"
      },
      "id": "M-UyCLGa_QBs"
    },
    {
      "cell_type": "code",
      "source": [
        "def solve_part2(input):\n",
        "  steps = parse(input)\n",
        "  allsteps = np.array([step[1] for step in steps])\n",
        "  xyzmin = allsteps.min(axis=0)\n",
        "  xyzmax = allsteps.max(axis=0)\n",
        "  xyzoffset = np.abs(xyzmin[:,0])\n",
        "  xyzdim = xyzmax[:,1] + xyzoffset\n",
        "  \n",
        "  # Initialize the rector\n",
        "  reactor = np.zeros(xyzdim+[1,1,1]).astype(int)\n",
        "\n",
        "  return reactor.shape\n",
        "\n",
        "solve_part2(example)"
      ],
      "metadata": {
        "id": "VdwbgQ8a9uQ0",
        "outputId": "8fefd419-06bb-4eca-e431-4ed17d2b9529",
        "colab": {
          "base_uri": "https://localhost:8080/",
          "height": 321
        }
      },
      "id": "VdwbgQ8a9uQ0",
      "execution_count": 29,
      "outputs": [
        {
          "output_type": "error",
          "ename": "MemoryError",
          "evalue": "ignored",
          "traceback": [
            "\u001b[0;31m---------------------------------------------------------------------------\u001b[0m",
            "\u001b[0;31mMemoryError\u001b[0m                               Traceback (most recent call last)",
            "\u001b[0;32m<ipython-input-29-1b427343f831>\u001b[0m in \u001b[0;36m<module>\u001b[0;34m()\u001b[0m\n\u001b[1;32m     12\u001b[0m   \u001b[0;32mreturn\u001b[0m \u001b[0mreactor\u001b[0m\u001b[0;34m.\u001b[0m\u001b[0mshape\u001b[0m\u001b[0;34m\u001b[0m\u001b[0;34m\u001b[0m\u001b[0m\n\u001b[1;32m     13\u001b[0m \u001b[0;34m\u001b[0m\u001b[0m\n\u001b[0;32m---> 14\u001b[0;31m \u001b[0msolve_part2\u001b[0m\u001b[0;34m(\u001b[0m\u001b[0mexample\u001b[0m\u001b[0;34m)\u001b[0m\u001b[0;34m\u001b[0m\u001b[0;34m\u001b[0m\u001b[0m\n\u001b[0m",
            "\u001b[0;32m<ipython-input-29-1b427343f831>\u001b[0m in \u001b[0;36msolve_part2\u001b[0;34m(input)\u001b[0m\n\u001b[1;32m      8\u001b[0m \u001b[0;34m\u001b[0m\u001b[0m\n\u001b[1;32m      9\u001b[0m   \u001b[0;31m# Initialize the rector\u001b[0m\u001b[0;34m\u001b[0m\u001b[0;34m\u001b[0m\u001b[0;34m\u001b[0m\u001b[0m\n\u001b[0;32m---> 10\u001b[0;31m   \u001b[0mreactor\u001b[0m \u001b[0;34m=\u001b[0m \u001b[0mnp\u001b[0m\u001b[0;34m.\u001b[0m\u001b[0mzeros\u001b[0m\u001b[0;34m(\u001b[0m\u001b[0mxyzdim\u001b[0m\u001b[0;34m+\u001b[0m\u001b[0;34m[\u001b[0m\u001b[0;36m1\u001b[0m\u001b[0;34m,\u001b[0m\u001b[0;36m1\u001b[0m\u001b[0;34m,\u001b[0m\u001b[0;36m1\u001b[0m\u001b[0;34m]\u001b[0m\u001b[0;34m)\u001b[0m\u001b[0;34m.\u001b[0m\u001b[0mastype\u001b[0m\u001b[0;34m(\u001b[0m\u001b[0mint\u001b[0m\u001b[0;34m)\u001b[0m\u001b[0;34m\u001b[0m\u001b[0;34m\u001b[0m\u001b[0m\n\u001b[0m\u001b[1;32m     11\u001b[0m \u001b[0;34m\u001b[0m\u001b[0m\n\u001b[1;32m     12\u001b[0m   \u001b[0;32mreturn\u001b[0m \u001b[0mreactor\u001b[0m\u001b[0;34m.\u001b[0m\u001b[0mshape\u001b[0m\u001b[0;34m\u001b[0m\u001b[0;34m\u001b[0m\u001b[0m\n",
            "\u001b[0;31mMemoryError\u001b[0m: Unable to allocate 100. PiB for an array with shape (240976, 243419, 240817) and data type float64"
          ]
        }
      ]
    },
    {
      "cell_type": "code",
      "source": [
        "np.zeros(xyzdim+[1,1,1])"
      ],
      "metadata": {
        "id": "Pvl0i8ir_Z7z",
        "outputId": "7b385f1a-05aa-494e-be0b-f01e4e3b4100",
        "colab": {
          "base_uri": "https://localhost:8080/",
          "height": 165
        }
      },
      "id": "Pvl0i8ir_Z7z",
      "execution_count": 32,
      "outputs": [
        {
          "output_type": "error",
          "ename": "MemoryError",
          "evalue": "ignored",
          "traceback": [
            "\u001b[0;31m---------------------------------------------------------------------------\u001b[0m",
            "\u001b[0;31mMemoryError\u001b[0m                               Traceback (most recent call last)",
            "\u001b[0;32m<ipython-input-32-094db5a6a2e3>\u001b[0m in \u001b[0;36m<module>\u001b[0;34m()\u001b[0m\n\u001b[0;32m----> 1\u001b[0;31m \u001b[0mnp\u001b[0m\u001b[0;34m.\u001b[0m\u001b[0mzeros\u001b[0m\u001b[0;34m(\u001b[0m\u001b[0mxyzdim\u001b[0m\u001b[0;34m+\u001b[0m\u001b[0;34m[\u001b[0m\u001b[0;36m1\u001b[0m\u001b[0;34m,\u001b[0m\u001b[0;36m1\u001b[0m\u001b[0;34m,\u001b[0m\u001b[0;36m1\u001b[0m\u001b[0;34m]\u001b[0m\u001b[0;34m)\u001b[0m\u001b[0;34m\u001b[0m\u001b[0;34m\u001b[0m\u001b[0m\n\u001b[0m",
            "\u001b[0;31mMemoryError\u001b[0m: Unable to allocate 100. PiB for an array with shape (240976, 243419, 240817) and data type float64"
          ]
        }
      ]
    },
    {
      "cell_type": "code",
      "source": [
        ""
      ],
      "metadata": {
        "id": "UmGcjhkQ_lFT"
      },
      "id": "UmGcjhkQ_lFT",
      "execution_count": null,
      "outputs": []
    }
  ]
}