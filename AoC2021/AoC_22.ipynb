{
  "nbformat": 4,
  "nbformat_minor": 5,
  "metadata": {
    "kernelspec": {
      "display_name": "Python 3",
      "language": "python",
      "name": "python3"
    },
    "language_info": {
      "codemirror_mode": {
        "name": "ipython",
        "version": 3
      },
      "file_extension": ".py",
      "mimetype": "text/x-python",
      "name": "python",
      "nbconvert_exporter": "python",
      "pygments_lexer": "ipython3",
      "version": "3.7.11"
    },
    "colab": {
      "name": "AoC_22.ipynb",
      "provenance": [],
      "include_colab_link": true
    }
  },
  "cells": [
    {
      "cell_type": "markdown",
      "metadata": {
        "id": "view-in-github",
        "colab_type": "text"
      },
      "source": [
        "<a href=\"https://colab.research.google.com/github/lustraka/puzzles/blob/main/AoC2021/AoC_22.ipynb\" target=\"_parent\"><img src=\"https://colab.research.google.com/assets/colab-badge.svg\" alt=\"Open In Colab\"/></a>"
      ]
    },
    {
      "cell_type": "markdown",
      "metadata": {
        "id": "dDZWBB4Ll10C"
      },
      "source": [
        "# Advent of Code Puzzles\n",
        "[Advent of Code 2021](https://adventofcode.com/2021) | [reddit/adventofcode](https://www.reddit.com/r/adventofcode/)"
      ],
      "id": "dDZWBB4Ll10C"
    },
    {
      "cell_type": "code",
      "metadata": {
        "id": "ri3O_1i3l2mo"
      },
      "source": [
        "import requests\n",
        "import pandas as pd\n",
        "import numpy as np\n",
        "import re\n",
        "path = 'https://raw.githubusercontent.com/lustraka/puzzles/main/AoC2021/data/'"
      ],
      "id": "ri3O_1i3l2mo",
      "execution_count": 1,
      "outputs": []
    },
    {
      "cell_type": "markdown",
      "metadata": {
        "id": "TnFAd8h1l8NI"
      },
      "source": [
        "## [Day 22](https://adventofcode.com/2021/day/22): Reactor Reboot\n",
        "### Part I\n",
        "- **Unknown**: The number of cubes set on.\n",
        "- **Data**: A sequence of reboot steps.\n",
        "- **Condition**:\n",
        "  - Consider x, y, z positions of at least -50 and at most 50.\n",
        "- **Plan**:\n",
        "  - Parse the input"
      ],
      "id": "TnFAd8h1l8NI"
    },
    {
      "cell_type": "code",
      "metadata": {
        "id": "HZXVSS9bl736"
      },
      "source": [
        "example = \"\"\"on x=10..12,y=10..12,z=10..12\n",
        "on x=11..13,y=11..13,z=11..13\n",
        "off x=9..11,y=9..11,z=9..11\n",
        "on x=10..10,y=10..10,z=10..10\"\"\""
      ],
      "id": "HZXVSS9bl736",
      "execution_count": 2,
      "outputs": []
    },
    {
      "cell_type": "code",
      "source": [
        "def parse(input):\n",
        "  \"\"\"Load steps into lists.\"\"\"\n",
        "  steps = [row.split() for row in input.split('\\n')]\n",
        "  out = []\n",
        "  for step in steps:\n",
        "    limits = [x[0].split('..') for x in re.findall(r'[xyz]=(.*?)(,|$)', step[1])]\n",
        "    limit_int = []\n",
        "    for limit in limits:\n",
        "      limit_int.append([int(limit[0]), int(limit[1])])\n",
        "    out.append([step[0],np.array(limit_int)])\n",
        "\n",
        "  return out\n",
        "\n",
        "steps = parse(example)\n",
        "steps"
      ],
      "metadata": {
        "id": "IxiRod86pEk-",
        "outputId": "f727d658-efc2-47b8-8f89-d9b9ca8e310f",
        "colab": {
          "base_uri": "https://localhost:8080/"
        }
      },
      "id": "IxiRod86pEk-",
      "execution_count": 3,
      "outputs": [
        {
          "output_type": "execute_result",
          "data": {
            "text/plain": [
              "[['on', array([[10, 12],\n",
              "         [10, 12],\n",
              "         [10, 12]])], ['on', array([[11, 13],\n",
              "         [11, 13],\n",
              "         [11, 13]])], ['off', array([[ 9, 11],\n",
              "         [ 9, 11],\n",
              "         [ 9, 11]])], ['on', array([[10, 10],\n",
              "         [10, 10],\n",
              "         [10, 10]])]]"
            ]
          },
          "metadata": {},
          "execution_count": 3
        }
      ]
    },
    {
      "cell_type": "code",
      "source": [
        "[x[0].split('..') for x in re.findall(r'[xyz]=(.*?)(,|$)', 'x=10..11,y=-10..-12,z=100..120')]"
      ],
      "metadata": {
        "id": "gp7MdoaUpEgv",
        "outputId": "b21b6e87-3d0b-42d0-ed17-9e4e0b0b5245",
        "colab": {
          "base_uri": "https://localhost:8080/"
        }
      },
      "id": "gp7MdoaUpEgv",
      "execution_count": null,
      "outputs": [
        {
          "output_type": "execute_result",
          "data": {
            "text/plain": [
              "[['10', '11'], ['-10', '-12'], ['100', '120']]"
            ]
          },
          "metadata": {},
          "execution_count": 9
        }
      ]
    },
    {
      "cell_type": "code",
      "source": [
        "def get_range(limits, coor):\n",
        "  if coor == 'x':\n",
        "    return range(max(limits[0][0],-50)+50, min(limits[0][1],50)+51)\n",
        "  elif coor == 'y':\n",
        "    return range(max(limits[1][0],-50)+50, min(limits[1][1],50)+51)\n",
        "  else:\n",
        "    return range(max(limits[2][0],-50)+50, min(limits[2][1],50)+51)"
      ],
      "metadata": {
        "id": "FEV3voZApEcv"
      },
      "id": "FEV3voZApEcv",
      "execution_count": null,
      "outputs": []
    },
    {
      "cell_type": "code",
      "source": [
        "# Use max(axis=0) to get max() of [coor1, coor2]\n",
        "a = np.array([[1,2],[3,4],[5,6]])\n",
        "for i in [None, 0, 1]:\n",
        "  print(i, a.max(axis=i), a.min(axis=i))"
      ],
      "metadata": {
        "id": "NDK5GXPdt-pK",
        "outputId": "8358256a-824d-4591-a8c4-80805772de50",
        "colab": {
          "base_uri": "https://localhost:8080/"
        }
      },
      "id": "NDK5GXPdt-pK",
      "execution_count": null,
      "outputs": [
        {
          "output_type": "stream",
          "name": "stdout",
          "text": [
            "None 6 1\n",
            "0 [5 6] [1 2]\n",
            "1 [2 4 6] [1 3 5]\n"
          ]
        }
      ]
    },
    {
      "cell_type": "code",
      "source": [
        "# Use broadcasting to shift coordinates\n",
        "a+[50,51]"
      ],
      "metadata": {
        "id": "rZZCvXRNyeYX",
        "outputId": "3b5343b5-a914-4a54-d771-964ca8a97e92",
        "colab": {
          "base_uri": "https://localhost:8080/"
        }
      },
      "id": "rZZCvXRNyeYX",
      "execution_count": null,
      "outputs": [
        {
          "output_type": "execute_result",
          "data": {
            "text/plain": [
              "array([[51, 53],\n",
              "       [53, 55],\n",
              "       [55, 57]])"
            ]
          },
          "metadata": {},
          "execution_count": 25
        }
      ]
    },
    {
      "cell_type": "code",
      "source": [
        "def trim_shift_limits(limits):\n",
        "  max = limits.max(axis=0)\n",
        "  min = limits.min(axis=0)\n",
        "  # Skip limits out of range in any dimension\n",
        "  if max[0] > 51 or min[1] < -51:\n",
        "    return np.array([])\n",
        "  for coor in limits:\n",
        "    if coor[0] < -50:\n",
        "      coor[0] = -50\n",
        "    if coor[1] > 50:\n",
        "      coor[1] = 50\n",
        "  return limits+[50,51]"
      ],
      "metadata": {
        "id": "4HmADNxWyeNX"
      },
      "id": "4HmADNxWyeNX",
      "execution_count": 4,
      "outputs": []
    },
    {
      "cell_type": "code",
      "source": [
        "example0 = \"\"\"on x=-100..0,y=-100..120,z=10..12\n",
        "on x=-110..-100,y=11..13,z=11..13\n",
        "off x=45..100,y=9..110,z=9..11\n",
        "on x=100..1000,y=10..10,z=10..10\"\"\"\n",
        "steps = parse(example0)\n",
        "for step in steps:\n",
        "  print(trim_shift_limits(step[1]))"
      ],
      "metadata": {
        "id": "1oGC3jom97Sc",
        "outputId": "c0b623b7-26f7-42b1-fb30-5b212aa20b53",
        "colab": {
          "base_uri": "https://localhost:8080/"
        }
      },
      "id": "1oGC3jom97Sc",
      "execution_count": null,
      "outputs": [
        {
          "output_type": "stream",
          "name": "stdout",
          "text": [
            "[[  0  51]\n",
            " [  0 101]\n",
            " [ 60  63]]\n",
            "[]\n",
            "[[ 95 101]\n",
            " [ 59 101]\n",
            " [ 59  62]]\n",
            "[]\n"
          ]
        }
      ]
    },
    {
      "cell_type": "code",
      "source": [
        "reactor = np.zeros((101,101,101)).astype(int)\n",
        "reactor.shape"
      ],
      "metadata": {
        "id": "HmSDGjDg97Ms",
        "outputId": "3e60c7fa-837d-4b2c-cddf-7e76388c572a",
        "colab": {
          "base_uri": "https://localhost:8080/"
        }
      },
      "id": "HmSDGjDg97Ms",
      "execution_count": null,
      "outputs": [
        {
          "output_type": "execute_result",
          "data": {
            "text/plain": [
              "(101, 101, 101)"
            ]
          },
          "metadata": {},
          "execution_count": 54
        }
      ]
    },
    {
      "cell_type": "code",
      "source": [
        "for step in steps:\n",
        "  limits = trim_shift_limits(step[1])\n",
        "  #print(1 if step[0] == 'on' else 0, limits)\n",
        "  if limits.any():\n",
        "    print(limits.shape)\n",
        "    for x in range(*limits[0]):\n",
        "      for y in range(*limits[1]):\n",
        "        for z in range(*limits[2]):\n",
        "          reactor[x,y,z] = 1 if step[0] == 'on' else 0\n",
        "reactor[reactor>0].size"
      ],
      "metadata": {
        "id": "g6ufjp8697EV",
        "outputId": "dc94a214-e25e-437c-a5cf-3fa0fa14ed08",
        "colab": {
          "base_uri": "https://localhost:8080/"
        }
      },
      "id": "g6ufjp8697EV",
      "execution_count": null,
      "outputs": [
        {
          "output_type": "stream",
          "name": "stdout",
          "text": [
            "(3, 2)\n",
            "(3, 2)\n",
            "(3, 2)\n",
            "(3, 2)\n"
          ]
        },
        {
          "output_type": "execute_result",
          "data": {
            "text/plain": [
              "39"
            ]
          },
          "metadata": {},
          "execution_count": 55
        }
      ]
    },
    {
      "cell_type": "code",
      "source": [
        "np.array([]).any()"
      ],
      "metadata": {
        "id": "q04wKPEQ8dDi",
        "outputId": "54fd7509-2e61-49f4-b9da-bcbaf0ffd187",
        "colab": {
          "base_uri": "https://localhost:8080/"
        }
      },
      "id": "q04wKPEQ8dDi",
      "execution_count": null,
      "outputs": [
        {
          "output_type": "execute_result",
          "data": {
            "text/plain": [
              "False"
            ]
          },
          "metadata": {},
          "execution_count": 59
        }
      ]
    },
    {
      "cell_type": "code",
      "source": [
        "def solve_part1(input):\n",
        "  steps = parse(input)\n",
        "  reactor = np.zeros((101,101,101)).astype(int)\n",
        "  for step in steps:\n",
        "    limits = trim_shift_limits(step[1])\n",
        "    if limits.any():\n",
        "      for x in range(*limits[0]):\n",
        "        for y in range(*limits[1]):\n",
        "          for z in range(*limits[2]):\n",
        "            reactor[x,y,z] = 1 if step[0] == 'on' else 0\n",
        "  return reactor[reactor>0].size\n",
        "solve_part1(example)"
      ],
      "metadata": {
        "id": "jNCWwy4yBV6q",
        "outputId": "ff9859ac-9d3f-4e67-d38a-1b5cae8af2b8",
        "colab": {
          "base_uri": "https://localhost:8080/"
        }
      },
      "id": "jNCWwy4yBV6q",
      "execution_count": 5,
      "outputs": [
        {
          "output_type": "execute_result",
          "data": {
            "text/plain": [
              "39"
            ]
          },
          "metadata": {},
          "execution_count": 5
        }
      ]
    },
    {
      "cell_type": "code",
      "source": [
        "example2 = \"\"\"on x=-20..26,y=-36..17,z=-47..7\n",
        "on x=-20..33,y=-21..23,z=-26..28\n",
        "on x=-22..28,y=-29..23,z=-38..16\n",
        "on x=-46..7,y=-6..46,z=-50..-1\n",
        "on x=-49..1,y=-3..46,z=-24..28\n",
        "on x=2..47,y=-22..22,z=-23..27\n",
        "on x=-27..23,y=-28..26,z=-21..29\n",
        "on x=-39..5,y=-6..47,z=-3..44\n",
        "on x=-30..21,y=-8..43,z=-13..34\n",
        "on x=-22..26,y=-27..20,z=-29..19\n",
        "off x=-48..-32,y=26..41,z=-47..-37\n",
        "on x=-12..35,y=6..50,z=-50..-2\n",
        "off x=-48..-32,y=-32..-16,z=-15..-5\n",
        "on x=-18..26,y=-33..15,z=-7..46\n",
        "off x=-40..-22,y=-38..-28,z=23..41\n",
        "on x=-16..35,y=-41..10,z=-47..6\n",
        "off x=-32..-23,y=11..30,z=-14..3\n",
        "on x=-49..-5,y=-3..45,z=-29..18\n",
        "off x=18..30,y=-20..-8,z=-3..13\n",
        "on x=-41..9,y=-7..43,z=-33..15\n",
        "on x=-54112..-39298,y=-85059..-49293,z=-27449..7877\n",
        "on x=967..23432,y=45373..81175,z=27513..53682\"\"\"\n",
        "\n",
        "solve_part1(example2)"
      ],
      "metadata": {
        "id": "0yqemn82BV2S",
        "outputId": "cbc3b41a-d3c4-448c-cc82-a691952aebc1",
        "colab": {
          "base_uri": "https://localhost:8080/"
        }
      },
      "id": "0yqemn82BV2S",
      "execution_count": 6,
      "outputs": [
        {
          "output_type": "execute_result",
          "data": {
            "text/plain": [
              "590784"
            ]
          },
          "metadata": {},
          "execution_count": 6
        }
      ]
    },
    {
      "cell_type": "code",
      "source": [
        "r = requests.get(path+'AoC2021_22.txt')\n",
        "solve_part1(r.text[:-1])"
      ],
      "metadata": {
        "id": "cYSk27WHBVva",
        "outputId": "217f9e47-9016-4e65-a32f-048ed3ef1973",
        "colab": {
          "base_uri": "https://localhost:8080/"
        }
      },
      "id": "cYSk27WHBVva",
      "execution_count": 7,
      "outputs": [
        {
          "output_type": "execute_result",
          "data": {
            "text/plain": [
              "576028"
            ]
          },
          "metadata": {},
          "execution_count": 7
        }
      ]
    },
    {
      "cell_type": "markdown",
      "source": [
        "`736684` : That's not the right answer; your answer is too high. \n",
        "> Check determination of ranges in the cuboids (`step[1]`)"
      ],
      "metadata": {
        "id": "X1YC21BtCmzR"
      },
      "id": "X1YC21BtCmzR"
    },
    {
      "cell_type": "code",
      "source": [
        "steps = parse(r.text[:-1])\n",
        "steps[-3:]"
      ],
      "metadata": {
        "id": "cAklft0vBv_L",
        "outputId": "98424884-11ac-4ebd-d34c-91a668b70539",
        "colab": {
          "base_uri": "https://localhost:8080/"
        }
      },
      "id": "cAklft0vBv_L",
      "execution_count": null,
      "outputs": [
        {
          "output_type": "execute_result",
          "data": {
            "text/plain": [
              "[['on', array([[-16269,   4565],\n",
              "         [-54781, -37040],\n",
              "         [ 54733,  74868]])], ['on', array([[ 31918,  53358],\n",
              "         [ 52954,  77962],\n",
              "         [-20309,  -9155]])], ['off', array([[ 6259, 30795],\n",
              "         [63250, 73684],\n",
              "         [25841, 49676]])]]"
            ]
          },
          "metadata": {},
          "execution_count": 60
        }
      ]
    },
    {
      "cell_type": "code",
      "source": [
        ""
      ],
      "metadata": {
        "id": "SpovnPmlBv8b"
      },
      "id": "SpovnPmlBv8b",
      "execution_count": null,
      "outputs": []
    },
    {
      "cell_type": "markdown",
      "source": [
        "### Part II\n",
        "- **Unknown**: \n",
        "- **Data**: \n",
        "- **Condition**:\n",
        "  - \n",
        "  - \n",
        "- **Plan**:\n",
        "  - \n"
      ],
      "metadata": {
        "id": "2HXW2bZ3pDVg"
      },
      "id": "2HXW2bZ3pDVg"
    }
  ]
}