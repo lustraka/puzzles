{
  "nbformat": 4,
  "nbformat_minor": 5,
  "metadata": {
    "kernelspec": {
      "display_name": "Python 3",
      "language": "python",
      "name": "python3"
    },
    "language_info": {
      "codemirror_mode": {
        "name": "ipython",
        "version": 3
      },
      "file_extension": ".py",
      "mimetype": "text/x-python",
      "name": "python",
      "nbconvert_exporter": "python",
      "pygments_lexer": "ipython3",
      "version": "3.7.11"
    },
    "colab": {
      "name": "AoC_21.ipynb",
      "provenance": [],
      "include_colab_link": true
    }
  },
  "cells": [
    {
      "cell_type": "markdown",
      "metadata": {
        "id": "view-in-github",
        "colab_type": "text"
      },
      "source": [
        "<a href=\"https://colab.research.google.com/github/lustraka/puzzles/blob/main/AoC2021/AoC_21.ipynb\" target=\"_parent\"><img src=\"https://colab.research.google.com/assets/colab-badge.svg\" alt=\"Open In Colab\"/></a>"
      ]
    },
    {
      "cell_type": "markdown",
      "metadata": {
        "id": "dDZWBB4Ll10C"
      },
      "source": [
        "# Advent of Code Puzzles\n",
        "[Advent of Code 2021](https://adventofcode.com/2021) | [reddit/adventofcode](https://www.reddit.com/r/adventofcode/)"
      ],
      "id": "dDZWBB4Ll10C"
    },
    {
      "cell_type": "code",
      "metadata": {
        "id": "ri3O_1i3l2mo"
      },
      "source": [
        "import requests\n",
        "import pandas as pd\n",
        "import numpy as np\n",
        "path = 'https://raw.githubusercontent.com/lustraka/puzzles/main/AoC2021/data/'"
      ],
      "id": "ri3O_1i3l2mo",
      "execution_count": 1,
      "outputs": []
    },
    {
      "cell_type": "markdown",
      "metadata": {
        "id": "TnFAd8h1l8NI"
      },
      "source": [
        "## [Day 21](https://adventofcode.com/2021/day/21): Dirac Dice\n",
        "### Part I\n",
        "- **Unknown**: The score of the losing player times the number of times the die was rolled during the game.\n",
        "- **Data**: Starting positions of two players.\n",
        "- **Condition**:\n",
        "  - A game board has a circular track containing 10 spaces clockwise.\n",
        "  - The 100-sided deterministic dice rolls a sequence of numbers from 1 to 100.\n",
        "- **Plan**:\n",
        "  - Define the class Player which has a score, board and a method for moving accross the board while counting score.\n",
        "  - Define a class Dice with a roll counter and method for rolling thrice.\n"
      ],
      "id": "TnFAd8h1l8NI"
    },
    {
      "cell_type": "code",
      "source": [
        "class Player:\n",
        "\n",
        "  def __init__(self, starting_position):\n",
        "    self.score = 0\n",
        "    self.board = np.roll(np.arange(1,11), -starting_position+1)\n",
        "\n",
        "  def move(self, steps):\n",
        "    self.board = np.roll(self.board, -steps)\n",
        "    self.score += self.board[0]\n",
        "\n",
        "  def __repr__(self):\n",
        "    return f\"Player(space={self.board[0]}, score={self.score})\"\n",
        "\n",
        "class DiracDice:\n",
        "\n",
        "  def __init__(self):\n",
        "    self.dice = np.arange(1,101)\n",
        "    self.roll_counter = 0\n",
        "\n",
        "  def roll_thrice(self):\n",
        "    value = 0\n",
        "    for i in range(3):\n",
        "      value += self.dice[0]\n",
        "      self.roll_counter += 1\n",
        "      self.dice = np.roll(self.dice, -1)\n",
        "    return value\n",
        "  \n",
        "  def __repr__(self):\n",
        "    return f\"Dice(last_value={self.dice[0]}, roll_counter={self.roll_counter})\""
      ],
      "metadata": {
        "id": "bCYFkYumjpe7"
      },
      "id": "bCYFkYumjpe7",
      "execution_count": 15,
      "outputs": []
    },
    {
      "cell_type": "code",
      "source": [
        "p1, p2 = Player(4), Player(8)\n",
        "dice = DiracDice()\n",
        "for i in range(4):\n",
        "  p1.move(dice.roll_thrice()), p2.move(dice.roll_thrice())\n",
        "p1, p2, dice"
      ],
      "metadata": {
        "id": "p1AZWha2tqrg",
        "outputId": "93daa575-7586-4ee8-9d27-464d892920ca",
        "colab": {
          "base_uri": "https://localhost:8080/"
        }
      },
      "id": "p1AZWha2tqrg",
      "execution_count": 27,
      "outputs": [
        {
          "output_type": "execute_result",
          "data": {
            "text/plain": [
              "(Player(space=6, score=26),\n",
              " Player(space=6, score=22),\n",
              " Dice(last_value=25, roll_counter=24))"
            ]
          },
          "metadata": {},
          "execution_count": 27
        }
      ]
    },
    {
      "cell_type": "markdown",
      "source": [
        "- **Plan** cont.\n",
        "  - Players roll, move and score\n",
        "  - If player 1 or player 2 score reaches at least 1000 the game ends"
      ],
      "metadata": {
        "id": "uKOUED9LzE6T"
      },
      "id": "uKOUED9LzE6T"
    },
    {
      "cell_type": "code",
      "source": [
        "def solve_part1(sp1, sp2):\n",
        "  # Instantiate players and a dice\n",
        "  p1, p2 = Player(sp1), Player(sp2)\n",
        "  dice = DiracDice()\n",
        "\n",
        "  while True:\n",
        "    p1.move(dice.roll_thrice())\n",
        "    if p1.score > 999:\n",
        "      return p2.score * dice.roll_counter\n",
        "    p2.move(dice.roll_thrice())\n",
        "    if p2.score > 999:\n",
        "      return p1.score * dice.roll_counter\n",
        "\n",
        "solve_part1(4,8)"
      ],
      "metadata": {
        "id": "JNj0DKPcjpkN",
        "outputId": "6a9de20a-c4e2-4642-9418-d995b015bc24",
        "colab": {
          "base_uri": "https://localhost:8080/"
        }
      },
      "id": "JNj0DKPcjpkN",
      "execution_count": 28,
      "outputs": [
        {
          "output_type": "execute_result",
          "data": {
            "text/plain": [
              "739785"
            ]
          },
          "metadata": {},
          "execution_count": 28
        }
      ]
    },
    {
      "cell_type": "code",
      "source": [
        "solve_part1(7,3)"
      ],
      "metadata": {
        "id": "CHiYaZpzhLmP",
        "outputId": "bd65a426-34b3-4193-9fd1-c0f3e7b931e0",
        "colab": {
          "base_uri": "https://localhost:8080/"
        }
      },
      "id": "CHiYaZpzhLmP",
      "execution_count": 29,
      "outputs": [
        {
          "output_type": "execute_result",
          "data": {
            "text/plain": [
              "551901"
            ]
          },
          "metadata": {},
          "execution_count": 29
        }
      ]
    },
    {
      "cell_type": "markdown",
      "source": [
        "\n",
        "### Part II\n",
        "- **Unknown**: \n",
        "- **Data**: \n",
        "- **Condition**:\n",
        "  - \n",
        "  - \n",
        "- **Plan**:\n",
        "  - \n"
      ],
      "metadata": {
        "id": "LaGY7AU0funo"
      },
      "id": "LaGY7AU0funo"
    },
    {
      "cell_type": "code",
      "source": [
        ""
      ],
      "metadata": {
        "id": "4NBFFtvGhLfO"
      },
      "id": "4NBFFtvGhLfO",
      "execution_count": 16,
      "outputs": []
    },
    {
      "cell_type": "code",
      "source": [
        ""
      ],
      "metadata": {
        "id": "apnNzI6ehLW3"
      },
      "id": "apnNzI6ehLW3",
      "execution_count": 16,
      "outputs": []
    },
    {
      "cell_type": "code",
      "source": [
        ""
      ],
      "metadata": {
        "id": "bRRErS4jsoqR"
      },
      "id": "bRRErS4jsoqR",
      "execution_count": null,
      "outputs": []
    }
  ]
}