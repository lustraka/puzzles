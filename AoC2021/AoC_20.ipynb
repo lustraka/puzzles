{
  "nbformat": 4,
  "nbformat_minor": 5,
  "metadata": {
    "kernelspec": {
      "display_name": "Python 3",
      "language": "python",
      "name": "python3"
    },
    "language_info": {
      "codemirror_mode": {
        "name": "ipython",
        "version": 3
      },
      "file_extension": ".py",
      "mimetype": "text/x-python",
      "name": "python",
      "nbconvert_exporter": "python",
      "pygments_lexer": "ipython3",
      "version": "3.7.11"
    },
    "colab": {
      "name": "AoC_20.ipynb",
      "provenance": [],
      "include_colab_link": true
    }
  },
  "cells": [
    {
      "cell_type": "markdown",
      "metadata": {
        "id": "view-in-github",
        "colab_type": "text"
      },
      "source": [
        "<a href=\"https://colab.research.google.com/github/lustraka/puzzles/blob/main/AoC2021/AoC_20.ipynb\" target=\"_parent\"><img src=\"https://colab.research.google.com/assets/colab-badge.svg\" alt=\"Open In Colab\"/></a>"
      ]
    },
    {
      "cell_type": "markdown",
      "metadata": {
        "id": "dDZWBB4Ll10C"
      },
      "source": [
        "# Advent of Code Puzzles\n",
        "[Advent of Code 2021](https://adventofcode.com/2021) | [reddit/adventofcode](https://www.reddit.com/r/adventofcode/)"
      ],
      "id": "dDZWBB4Ll10C"
    },
    {
      "cell_type": "code",
      "metadata": {
        "id": "ri3O_1i3l2mo"
      },
      "source": [
        "import requests\n",
        "import pandas as pd\n",
        "import numpy as np\n",
        "path = 'https://raw.githubusercontent.com/lustraka/puzzles/main/AoC2021/data/'"
      ],
      "id": "ri3O_1i3l2mo",
      "execution_count": 1,
      "outputs": []
    },
    {
      "cell_type": "markdown",
      "metadata": {
        "id": "TnFAd8h1l8NI"
      },
      "source": [
        "## [Day 20](https://adventofcode.com/2021/day/20): Trench Map\n",
        "### Part I\n",
        "- **Unknown**: The count of lit pixels in the image after two enhancements.\n",
        "- **Data**: The image enhancement algorithm and an input image.\n",
        "- **Condition**:\n",
        "  - The input image is a two-dimensional grid of light and dark pixels.\n",
        "  - The 9-bit binary number resulting from transformation of 3x3 pixels around the given pixel gives an index of the output pixel.\n",
        "  - The images are infinite in size surrounded by dark pixels.\n",
        "- **Plan**:\n",
        "  - Parse the input to get the image enhancement string `enstr` and the image `img`.\n",
        "  - Add the boudary to simplify the filtering algorithm.\n",
        "  - Define the filtering function."
      ],
      "id": "TnFAd8h1l8NI"
    },
    {
      "cell_type": "code",
      "metadata": {
        "id": "HZXVSS9bl736"
      },
      "source": [
        "example = \"\"\"..#.#..#####.#.#.#.###.##.....###.##.#..###.####..#####..#....#..#..##..###..######.###...####..#..#####..##..#.#####...##.#.#..#.##..#.#......#.###.######.###.####...#.##.##..#..#..#####.....#.#....###..#.##......#.....#..#..#..##..#...##.######.####.####.#.#...#.......#..#.#.#...####.##.#......#..#...##.#.##..#...##.#.##..###.#......#.#.......#.#.#.####.###.##...#.....####.#..#..#.##.#....##..#.####....##...##..#...#......#.#.......#.......##..####..#...#.#.#...##..#.#..###..#####........#..####......#..#\n",
        "\n",
        "#..#.\n",
        "#....\n",
        "##..#\n",
        "..#..\n",
        "..###\"\"\""
      ],
      "id": "HZXVSS9bl736",
      "execution_count": 2,
      "outputs": []
    },
    {
      "cell_type": "code",
      "source": [
        "def parse(input):\n",
        "  data = input.split('\\n')\n",
        "  enstr = data[0].replace('.','0').replace('#','1')\n",
        "  img = np.array([list(row.replace('.','0').replace('#','1')) for row in data[2:]]).astype(int)\n",
        "  return enstr, img\n",
        "\n",
        "enstr, img = parse(example)\n",
        "print(enstr)\n",
        "print(img)\n",
        "print(img[0][0], img[-1][-1])"
      ],
      "metadata": {
        "id": "beqtgZoNjRb3",
        "outputId": "8d7f3a6f-bde0-4ded-a44f-b6675f8e991a",
        "colab": {
          "base_uri": "https://localhost:8080/"
        }
      },
      "id": "beqtgZoNjRb3",
      "execution_count": 37,
      "outputs": [
        {
          "output_type": "stream",
          "name": "stdout",
          "text": [
            "00101001111101010101110110000011101101001110111100111110010000100100110011100111111011100011110010011111001100101111100011010100101100101000000101110111111011101111000101101100100100111110000010100001110010110000001000001001001001100100011011111101111011110101000100000001001010100011110110100000010010001101011001000110101100111010000001010000000101010111101110110001000001111010010010110100001100101111000011000110010001000000101000000010000000110011110010001010100011001010011100111110000000010011110000001001\n",
            "[[1 0 0 1 0]\n",
            " [1 0 0 0 0]\n",
            " [1 1 0 0 1]\n",
            " [0 0 1 0 0]\n",
            " [0 0 1 1 1]]\n",
            "1 1\n"
          ]
        }
      ]
    },
    {
      "cell_type": "markdown",
      "source": [
        "### Using `.` and `#`\n",
        "Let's consider leaving the pixel representaion as characters `.` and `#`. It is easy to index the image enhancement string `enstr`. When transforming neighborhood of a pixel into an index, the string <-> number trasformation will take place anyway.\n",
        "\n",
        "But the adding boundary and other transformation of a numpy array is much simpler when working with integers.\n",
        "\n",
        "### Using `0` and `1`\n",
        "Trasforming `.` -> `0`/0 and `#` -> `1`/1 ensures cleaner numpy coding. For reading output values from the image enhancement string is still clearer to work with string of zeros and ones.\n",
        "\n",
        "### Add Boundary\n",
        "The next step is adding a dark pixel boundary to infer neighborhood easily. This algorithmic pattern is used in [Day 9](AoC_08.ipynb) - Smoke Basin."
      ],
      "metadata": {
        "id": "qBWmm7XyoXKK"
      },
      "id": "qBWmm7XyoXKK"
    },
    {
      "cell_type": "code",
      "source": [
        "def add_boundary(img):\n",
        "  \"\"\"Add zeros to the boundary of an image.\"\"\"\n",
        "  # Add vertical boundaries\n",
        "  b = np.zeros(img.shape[1]).reshape(1,-1)\n",
        "  out = np.vstack((b,img,b))\n",
        "  # Add horizontal boudnaries\n",
        "  b = np.zeros(out.shape[0]).reshape(-1,1)\n",
        "  out = np.hstack((b,out,b))\n",
        "  return out.astype(int)\n",
        "add_boundary(img)"
      ],
      "metadata": {
        "id": "ygub0Cz3oLTL",
        "outputId": "79e8f1c5-1619-4c7d-f8d0-69033751e851",
        "colab": {
          "base_uri": "https://localhost:8080/"
        }
      },
      "id": "ygub0Cz3oLTL",
      "execution_count": 19,
      "outputs": [
        {
          "output_type": "execute_result",
          "data": {
            "text/plain": [
              "array([[0, 0, 0, 0, 0, 0, 0],\n",
              "       [0, 1, 0, 0, 1, 0, 0],\n",
              "       [0, 1, 0, 0, 0, 0, 0],\n",
              "       [0, 1, 1, 0, 0, 1, 0],\n",
              "       [0, 0, 0, 1, 0, 0, 0],\n",
              "       [0, 0, 0, 1, 1, 1, 0],\n",
              "       [0, 0, 0, 0, 0, 0, 0]])"
            ]
          },
          "metadata": {},
          "execution_count": 19
        }
      ]
    },
    {
      "cell_type": "markdown",
      "source": [
        "### Filter Image\n",
        "Filtering means applying the image enhancement alorithm to the image."
      ],
      "metadata": {
        "id": "NINdIPGTunYV"
      },
      "id": "NINdIPGTunYV"
    },
    {
      "cell_type": "code",
      "source": [
        "def get_output_pixel(img, enstr, r, c):\n",
        "  \"\"\"Return the value of output pixel\"\"\"\n",
        "  # Determine the binary value of the neigborhood\n",
        "  m = img[r-1:r+2,c-1:c+2].flatten()\n",
        "  out = '0b' + ''.join([str(n) for n in m])\n",
        "  # Convert the binary number and find the output pixel\n",
        "  out = enstr[int(out,2)]\n",
        "  return int(out)\n",
        "\n",
        "def filter_image(img, enstr):\n",
        "  \"\"\"Add a boundary, apply the filter, return the filtered image\"\"\"\n",
        "  # Add boundary twice to the input image\n",
        "  imgb = add_boundary(add_boundary(img))\n",
        "  # Initialize the output image\n",
        "  out = np.zeros(imgb.shape)\n",
        "  for r in range(1, out.shape[0]-1):\n",
        "    for c in range(1, out.shape[1]-1):\n",
        "      out[r,c] = get_output_pixel(imgb, enstr, r, c)\n",
        "  return out.astype(int)\n",
        "\n",
        "img_twice = filter_image(filter_image(img, enstr), enstr)\n",
        "img_twice"
      ],
      "metadata": {
        "id": "Q9ztADlLjR4O",
        "outputId": "19af681a-36ff-4d3c-acdb-dd63241bacb9",
        "colab": {
          "base_uri": "https://localhost:8080/"
        }
      },
      "id": "Q9ztADlLjR4O",
      "execution_count": 43,
      "outputs": [
        {
          "output_type": "execute_result",
          "data": {
            "text/plain": [
              "array([[0, 0, 0, 0, 0, 0, 0, 0, 0, 0, 0, 0, 0],\n",
              "       [0, 0, 0, 0, 0, 0, 0, 0, 0, 0, 0, 0, 0],\n",
              "       [0, 0, 0, 0, 0, 0, 0, 0, 0, 1, 0, 0, 0],\n",
              "       [0, 0, 0, 1, 0, 0, 1, 0, 1, 0, 0, 0, 0],\n",
              "       [0, 0, 1, 0, 1, 0, 0, 0, 1, 1, 1, 0, 0],\n",
              "       [0, 0, 1, 0, 0, 0, 1, 1, 0, 1, 0, 0, 0],\n",
              "       [0, 0, 1, 0, 0, 0, 0, 0, 1, 0, 1, 0, 0],\n",
              "       [0, 0, 0, 1, 0, 1, 1, 1, 1, 1, 0, 0, 0],\n",
              "       [0, 0, 0, 0, 1, 0, 1, 1, 1, 1, 1, 0, 0],\n",
              "       [0, 0, 0, 0, 0, 1, 1, 0, 1, 1, 0, 0, 0],\n",
              "       [0, 0, 0, 0, 0, 0, 1, 1, 1, 0, 0, 0, 0],\n",
              "       [0, 0, 0, 0, 0, 0, 0, 0, 0, 0, 0, 0, 0],\n",
              "       [0, 0, 0, 0, 0, 0, 0, 0, 0, 0, 0, 0, 0]])"
            ]
          },
          "metadata": {},
          "execution_count": 43
        }
      ]
    },
    {
      "cell_type": "markdown",
      "source": [
        "### Solve the part I"
      ],
      "metadata": {
        "id": "Ms5AQw493OXS"
      },
      "id": "Ms5AQw493OXS"
    },
    {
      "cell_type": "code",
      "source": [
        "def solve_part1(input):\n",
        "  # Parse input\n",
        "  enstr, img = parse(input)\n",
        "  # Count lit pixels after two enhancements\n",
        "  img_twice = filter_image(filter_image(img, enstr), enstr)\n",
        "  return img_twice[img_twice>0].size\n",
        "solve_part1(example)"
      ],
      "metadata": {
        "id": "E24-aacFjRuW",
        "outputId": "9aedf4f1-705c-46ad-be6b-eb9fe0d3dfd6",
        "colab": {
          "base_uri": "https://localhost:8080/"
        }
      },
      "id": "E24-aacFjRuW",
      "execution_count": 47,
      "outputs": [
        {
          "output_type": "execute_result",
          "data": {
            "text/plain": [
              "35"
            ]
          },
          "metadata": {},
          "execution_count": 47
        }
      ]
    },
    {
      "cell_type": "code",
      "source": [
        "r = requests.get(path+'AoC2021_20.txt')\n",
        "enstr, img = parse(r.text[:-1])\n",
        "img[-3:,-3:]"
      ],
      "metadata": {
        "id": "wm-JzXYd3vda",
        "outputId": "843255a9-267c-46cf-f590-0436aa3018f9",
        "colab": {
          "base_uri": "https://localhost:8080/"
        }
      },
      "id": "wm-JzXYd3vda",
      "execution_count": 51,
      "outputs": [
        {
          "output_type": "execute_result",
          "data": {
            "text/plain": [
              "array([[0, 0, 1],\n",
              "       [1, 1, 1],\n",
              "       [1, 0, 1]])"
            ]
          },
          "metadata": {},
          "execution_count": 51
        }
      ]
    },
    {
      "cell_type": "code",
      "source": [
        "solve_part1(r.text[:-1])"
      ],
      "metadata": {
        "id": "j0Fc5jIL3vRi",
        "outputId": "205642c6-6dae-40ea-a933-27004309b630",
        "colab": {
          "base_uri": "https://localhost:8080/"
        }
      },
      "id": "j0Fc5jIL3vRi",
      "execution_count": 50,
      "outputs": [
        {
          "output_type": "execute_result",
          "data": {
            "text/plain": [
              "6124"
            ]
          },
          "metadata": {},
          "execution_count": 50
        }
      ]
    },
    {
      "cell_type": "markdown",
      "source": [
        "'6124` : That's not the right answer; your answer is too high."
      ],
      "metadata": {
        "id": "DEVKdLZt46x5"
      },
      "id": "DEVKdLZt46x5"
    },
    {
      "cell_type": "markdown",
      "source": [
        "### Part II\n",
        "- **Unknown**: \n",
        "- **Data**: \n",
        "- **Condition**:\n",
        "  - \n",
        "  - \n",
        "- **Plan**:\n",
        "  - \n"
      ],
      "metadata": {
        "id": "BeocFzzLjSKW"
      },
      "id": "BeocFzzLjSKW"
    }
  ]
}