{
 "cells": [
  {
   "cell_type": "markdown",
   "metadata": {},
   "source": [
    "## [Day 15](https://adventofcode.com/2021/day/15): Chiton\n",
    "### Part I\n",
    "- **Unknown**: The lowest risk of a path from the top left to the bottom right.\n",
    "- **Data**: A map of risk level.\n",
    "- **Condition**:\n",
    "  - Add up the risk levels of each position you enter.\n",
    "  - You cannot move diagonally.\n",
    "  - We don't need to store the shortest path."
   ]
  },
  {
   "cell_type": "code",
   "execution_count": 1,
   "metadata": {},
   "outputs": [],
   "source": [
    "from pathlib import Path\n",
    "import numpy as np\n",
    "import heapq"
   ]
  },
  {
   "cell_type": "code",
   "execution_count": 2,
   "metadata": {},
   "outputs": [
    {
     "data": {
      "text/plain": [
       "((10, 10), (0, 0), (9, 9))"
      ]
     },
     "execution_count": 2,
     "metadata": {},
     "output_type": "execute_result"
    }
   ],
   "source": [
    "def parse(input):\n",
    "    \"\"\"Return a map, start and end positions.\"\"\"\n",
    "    maze = Path('data/'+input).read_text().strip()\n",
    "    maze = np.array([list(line) for line in maze.split('\\n')]).astype(int)\n",
    "\n",
    "    return maze, (0,0), tuple(np.array(maze.shape)-1)\n",
    "\n",
    "maze, start, end = parse('AoC2021_15ex.txt')\n",
    "maze.shape, start, end"
   ]
  },
  {
   "cell_type": "code",
   "execution_count": 3,
   "metadata": {},
   "outputs": [
    {
     "name": "stdout",
     "output_type": "stream",
     "text": [
      "[(1, 0), (0, 1)]\n",
      "[(0, 1), (2, 1), (1, 2), (1, 0)]\n",
      "[(8, 9), (9, 8)]\n"
     ]
    }
   ],
   "source": [
    "def get_neighbors(maze, current):\n",
    "    \"\"\"Find all the neighbours of a position\"\"\"\n",
    "\n",
    "    x, y = current\n",
    "    for dx, dy in [(-1,0), (1,0), (0,1), (0,-1)]:\n",
    "        if not(0 <= x+dx < maze.shape[0] and 0 <= y+dy < maze.shape[1]):\n",
    "            continue\n",
    "        yield (x+dx, y+dy)\n",
    "\n",
    "for pos in [start, (1,1), end]:\n",
    "    print(list(get_neighbors(maze, pos)))"
   ]
  },
  {
   "cell_type": "markdown",
   "metadata": {},
   "source": [
    "Three data structures are kept and updated throughout the Dijkstra algoritm:\n",
    "- `tentative` is a dict of tentative risk levels in a form {`pos` : risk} and starts with `{start : 0}` because the risk level of starting position is not counted.\n",
    "- `certain` is set of positions for which the risk level in `tentative` is certain to be the lowest. It starts empty.\n",
    "- `candidates` is a heap of positions that have calculated risk in a form of a tuple `(risk, position)` and starts with `[(0, start)]`."
   ]
  },
  {
   "cell_type": "code",
   "execution_count": 4,
   "metadata": {},
   "outputs": [],
   "source": [
    "def find_safer_path(maze, tentative, positions, through):\n",
    "    \"\"\"Find a path with lower risk\"\"\"\n",
    "    for position in positions:\n",
    "        if position in tentative and tentative[position] <= tentative[through] + maze[position]:\n",
    "            continue\n",
    "        yield position, tentative[through] + maze[position]\n",
    "\n",
    "def calculate_lowest_risk(input):\n",
    "    \"\"\"Find the path with a lowest risk and return that risk.\"\"\"\n",
    "\n",
    "    maze, start, end = parse(input)\n",
    "    tentative = {start : 0}\n",
    "    candidates = [(0, start)]\n",
    "    certain = set()\n",
    "    while end not in certain and len(candidates) > 0:\n",
    "        _ignored, current = heapq.heappop(candidates)\n",
    "        if current in certain:\n",
    "            continue\n",
    "        certain.add(current)\n",
    "        neighbours = set(get_neighbors(maze, current)) - certain\n",
    "        safer = find_safer_path(maze, tentative, neighbours, current)\n",
    "        for neighbour, risk in safer:\n",
    "            tentative[neighbour] = risk\n",
    "            heapq.heappush(candidates, (risk, neighbour))\n",
    "    if end in tentative:\n",
    "        return tentative[end]\n",
    "    else:\n",
    "        print('Something got wrong')\n",
    "        return -1"
   ]
  },
  {
   "cell_type": "code",
   "execution_count": 5,
   "metadata": {},
   "outputs": [
    {
     "name": "stdout",
     "output_type": "stream",
     "text": [
      "AoC2021_15ex.txt : 40\n",
      "AoC2021_15.txt : 398\n"
     ]
    }
   ],
   "source": [
    "for input in ['AoC2021_15ex.txt', 'AoC2021_15.txt']:\n",
    "    print(input, ':', calculate_lowest_risk(input))"
   ]
  },
  {
   "cell_type": "code",
   "execution_count": null,
   "metadata": {},
   "outputs": [],
   "source": []
  }
 ],
 "metadata": {
  "interpreter": {
   "hash": "ca367ec2123462f39d29b1cb00fbec81c42b60930943c35eba205ccbd8e96ce2"
  },
  "kernelspec": {
   "display_name": "Python 3.9.9 64-bit (windows store)",
   "language": "python",
   "name": "python3"
  },
  "language_info": {
   "codemirror_mode": {
    "name": "ipython",
    "version": 3
   },
   "file_extension": ".py",
   "mimetype": "text/x-python",
   "name": "python",
   "nbconvert_exporter": "python",
   "pygments_lexer": "ipython3",
   "version": "3.9.9"
  },
  "orig_nbformat": 4
 },
 "nbformat": 4,
 "nbformat_minor": 2
}
