{
 "cells": [
  {
   "cell_type": "markdown",
   "metadata": {},
   "source": [
    "## [Day 11](https://adventofcode.com/2021/day/11): Dumbo Octopus\n",
    "### Part I\n",
    "- **Unknown**: The total number of flashes in the grid after 100 steps.\n",
    "- **Data**: A 10 by 10 grid of octopuses, each with an energy level with a value between 0 and 9.\n",
    "- **Condition**:\n",
    "  - The level of octopuses' energy increases in each step by 1.\n",
    "  - Any octopus with an energy level greater then 9 flashes. This increses the energy level of all adjacent octopuses by 1, including octopuses that are diagonally adjacent.\n",
    "  - An octopus can only flash at most once per step.\n",
    "- **Plan**:\n",
    "  - Parse input into a matrix of integers.\n",
    "  - In each step:\n",
    "    - Increment the energy level of a matrix by 1.\n",
    "    - Initialize a list (queue) of positions `to_flash` : `list(zip(*np.asarray(grid>9).nonzero()))`\n",
    "    - While `to_flash` is not empty:\n",
    "      - Pop a position from `to_flash` to `flashed`\n",
    "      - For each neighbour in `set(get_neighbours) - set(to_flash + flashed)`:\n",
    "        - Increase the energy level by 1\n",
    "        - If the energy level is greater the 9, add the position to `to_flash`\n",
    "    - All positions in `flashed` set to 0 and update the sum of flashes."
   ]
  },
  {
   "cell_type": "code",
   "execution_count": 2,
   "metadata": {},
   "outputs": [],
   "source": [
    "from pathlib import Path\n",
    "import numpy as np"
   ]
  },
  {
   "cell_type": "code",
   "execution_count": 3,
   "metadata": {},
   "outputs": [
    {
     "data": {
      "text/plain": [
       "array([[1, 1, 1, 1, 1],\n",
       "       [1, 9, 9, 9, 1],\n",
       "       [1, 9, 1, 9, 1],\n",
       "       [1, 9, 9, 9, 1],\n",
       "       [1, 1, 1, 1, 1]])"
      ]
     },
     "execution_count": 3,
     "metadata": {},
     "output_type": "execute_result"
    }
   ],
   "source": [
    "def parse(input):\n",
    "    \"\"\"Return a grid.\"\"\"\n",
    "    grid = Path('data/'+input).read_text().strip()\n",
    "    grid = np.array([list(line) for line in grid.split('\\n')]).astype(int)\n",
    "\n",
    "    return grid\n",
    "\n",
    "grid = parse('AoC2021_11ex2.txt')\n",
    "grid"
   ]
  },
  {
   "cell_type": "code",
   "execution_count": 4,
   "metadata": {},
   "outputs": [
    {
     "data": {
      "text/plain": [
       "[(0, 0), (0, 1), (1, 1), (2, 0), (2, 1)]"
      ]
     },
     "execution_count": 4,
     "metadata": {},
     "output_type": "execute_result"
    }
   ],
   "source": [
    "def get_neighbors(grid, current):\n",
    "    \"\"\"Find all the neighbours of a position\"\"\"\n",
    "\n",
    "    x, y = current\n",
    "    for dx in [-1, 0, 1]:\n",
    "        for dy in [-1, 0, 1]:\n",
    "            if not(0 <= x+dx < grid.shape[0] and 0 <= y+dy < grid.shape[1]):\n",
    "                continue\n",
    "            elif dx == 0 and dy == 0:\n",
    "                continue\n",
    "            else:\n",
    "                yield (x+dx, y+dy)\n",
    "\n",
    "list(get_neighbors(grid, (1,0)))"
   ]
  },
  {
   "cell_type": "code",
   "execution_count": 5,
   "metadata": {},
   "outputs": [
    {
     "name": "stdout",
     "output_type": "stream",
     "text": [
      "1656\n",
      "1735\n"
     ]
    }
   ],
   "source": [
    "def solve_part1(input):\n",
    "    \"\"\"Count flashes of dumbo octopuses.\"\"\"\n",
    "    grid = parse(input)\n",
    "    sum_flashed = 0\n",
    "\n",
    "    for _ in range(100):\n",
    "        grid += 1\n",
    "        # Initialize queues\n",
    "        to_flash = list(zip(*np.asarray(grid>9).nonzero()))\n",
    "        flashed = []\n",
    "        # Process flashes of octopuses\n",
    "        while to_flash:\n",
    "            current = to_flash.pop()\n",
    "            flashed.append(current)\n",
    "            for neighbour in set(get_neighbors(grid, current)) - set(to_flash + flashed):\n",
    "                grid[neighbour] += 1\n",
    "                if grid[neighbour] > 9:\n",
    "                    to_flash.append(neighbour)\n",
    "        for pos in flashed:\n",
    "            grid[pos] = 0\n",
    "        # Update the sum of flashes\n",
    "        sum_flashed += len(flashed)\n",
    "    \n",
    "    return sum_flashed\n",
    "\n",
    "for input in ['AoC2021_11ex1.txt', 'AoC2021_11.txt']:\n",
    "    print(solve_part1(input))"
   ]
  },
  {
   "cell_type": "code",
   "execution_count": 8,
   "metadata": {},
   "outputs": [
    {
     "name": "stdout",
     "output_type": "stream",
     "text": [
      "Review numpy's method for array manipulation:\n",
      "np.asarray(grid>8) = \n",
      "[[False False False False False]\n",
      " [False  True  True  True False]\n",
      " [False  True False  True False]\n",
      " [False  True  True  True False]\n",
      " [False False False False False]]\n",
      "np.asarray(grid>8).nonzero() =  (array([1, 1, 1, 2, 2, 3, 3, 3], dtype=int64), array([1, 2, 3, 1, 3, 1, 2, 3], dtype=int64))\n",
      "list(zip(*np.asarray(grid>8).nonzero())) = [(1, 1), (1, 2), (1, 3), (2, 1), (2, 3), (3, 1), (3, 2), (3, 3)]\n",
      "grid[np.asarray(grid>8).nonzero()] = [9 9 9 9 9 9 9 9]\n"
     ]
    }
   ],
   "source": [
    "print(\"Review numpy's method for array manipulation:\")\n",
    "print(f\"np.asarray(grid>8) = \\n{np.asarray(grid>8)}\")\n",
    "print(f\"np.asarray(grid>8).nonzero() =  {np.asarray(grid>8).nonzero()}\")\n",
    "print(f\"list(zip(*np.asarray(grid>8).nonzero())) = {list(zip(*np.asarray(grid>8).nonzero()))}\")\n",
    "print(f\"grid[np.asarray(grid>8).nonzero()] = {grid[np.asarray(grid>8).nonzero()]}\")"
   ]
  },
  {
   "cell_type": "markdown",
   "metadata": {},
   "source": [
    "### Part II\n",
    "- **Unknown**: The first step during which all octopuses flash.\n",
    "- **Data**: Same as in part I.\n",
    "- **Condition**: Same as in part I.\n",
    "- **Plan**: Make steps until grid.sum() == 0"
   ]
  },
  {
   "cell_type": "code",
   "execution_count": 7,
   "metadata": {},
   "outputs": [
    {
     "name": "stdout",
     "output_type": "stream",
     "text": [
      "195\n",
      "400\n"
     ]
    }
   ],
   "source": [
    "def solve_part1(input):\n",
    "    \"\"\"Count flashes of dumbo octopuses.\"\"\"\n",
    "    grid = parse(input)\n",
    "    step = 0\n",
    "\n",
    "    while grid.sum() != 0:\n",
    "        step += 1\n",
    "        grid += 1\n",
    "        # Initialize queues\n",
    "        to_flash = list(zip(*np.asarray(grid>9).nonzero()))\n",
    "        flashed = []\n",
    "        # Process flashes of octopuses\n",
    "        while to_flash:\n",
    "            current = to_flash.pop()\n",
    "            flashed.append(current)\n",
    "            for neighbour in set(get_neighbors(grid, current)) - set(to_flash + flashed):\n",
    "                grid[neighbour] += 1\n",
    "                if grid[neighbour] > 9:\n",
    "                    to_flash.append(neighbour)\n",
    "        for pos in flashed:\n",
    "            grid[pos] = 0\n",
    "    \n",
    "    return step\n",
    "\n",
    "for input in ['AoC2021_11ex1.txt', 'AoC2021_11.txt']:\n",
    "    print(solve_part1(input))"
   ]
  },
  {
   "cell_type": "code",
   "execution_count": null,
   "metadata": {},
   "outputs": [],
   "source": []
  }
 ],
 "metadata": {
  "interpreter": {
   "hash": "7abf9b56ac517bedcfc5fddd01d3dc81f318d12e43fd744a3fbbe0f69873f226"
  },
  "kernelspec": {
   "display_name": "Python 3.9.7 64-bit ('base': conda)",
   "language": "python",
   "name": "python3"
  },
  "language_info": {
   "codemirror_mode": {
    "name": "ipython",
    "version": 3
   },
   "file_extension": ".py",
   "mimetype": "text/x-python",
   "name": "python",
   "nbconvert_exporter": "python",
   "pygments_lexer": "ipython3",
   "version": "3.9.7"
  },
  "orig_nbformat": 4
 },
 "nbformat": 4,
 "nbformat_minor": 2
}
