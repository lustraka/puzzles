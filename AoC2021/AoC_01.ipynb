{
  "nbformat": 4,
  "nbformat_minor": 5,
  "metadata": {
    "kernelspec": {
      "display_name": "Python 3",
      "language": "python",
      "name": "python3"
    },
    "language_info": {
      "codemirror_mode": {
        "name": "ipython",
        "version": 3
      },
      "file_extension": ".py",
      "mimetype": "text/x-python",
      "name": "python",
      "nbconvert_exporter": "python",
      "pygments_lexer": "ipython3",
      "version": "3.7.11"
    },
    "colab": {
      "name": "AoC_01.ipynb",
      "provenance": [],
      "include_colab_link": true
    }
  },
  "cells": [
    {
      "cell_type": "markdown",
      "metadata": {
        "id": "view-in-github",
        "colab_type": "text"
      },
      "source": [
        "<a href=\"https://colab.research.google.com/github/lustraka/puzzles/blob/main/AoC2021/AoC_01.ipynb\" target=\"_parent\"><img src=\"https://colab.research.google.com/assets/colab-badge.svg\" alt=\"Open In Colab\"/></a>"
      ]
    },
    {
      "cell_type": "markdown",
      "metadata": {
        "id": "k_W-5eM-Msi7"
      },
      "source": [
        "# Advent of Code Puzzles\n",
        "[Advent of Code 2021](https://adventofcode.com/2021)"
      ],
      "id": "k_W-5eM-Msi7"
    },
    {
      "cell_type": "code",
      "metadata": {
        "id": "0quS8PxuN2DI"
      },
      "source": [
        "import requests\n",
        "import pandas as pd\n",
        "import numpy as np\n",
        "path = 'https://raw.githubusercontent.com/lustraka/puzzles/main/AoC2021/data/'"
      ],
      "id": "0quS8PxuN2DI",
      "execution_count": 1,
      "outputs": []
    },
    {
      "cell_type": "markdown",
      "metadata": {
        "id": "u4LgAvvchITb"
      },
      "source": [
        "## Day 5: Hydrothermal Venture"
      ],
      "id": "u4LgAvvchITb"
    },
    {
      "cell_type": "code",
      "metadata": {
        "id": "Z-uYLUMdhKkD"
      },
      "source": [
        "example = \"\"\"0,9 -> 5,9\n",
        "8,0 -> 0,8\n",
        "9,4 -> 3,4\n",
        "2,2 -> 2,1\n",
        "7,0 -> 7,4\n",
        "6,4 -> 2,0\n",
        "0,9 -> 2,9\n",
        "3,4 -> 1,4\n",
        "0,0 -> 8,8\n",
        "5,5 -> 8,2\"\"\""
      ],
      "id": "Z-uYLUMdhKkD",
      "execution_count": null,
      "outputs": []
    },
    {
      "cell_type": "code",
      "metadata": {
        "id": "lon4JGlchLVa"
      },
      "source": [
        ""
      ],
      "id": "lon4JGlchLVa",
      "execution_count": null,
      "outputs": []
    },
    {
      "cell_type": "code",
      "metadata": {
        "id": "RPEjW7uHhLLr"
      },
      "source": [
        ""
      ],
      "id": "RPEjW7uHhLLr",
      "execution_count": null,
      "outputs": []
    },
    {
      "cell_type": "code",
      "metadata": {
        "id": "47667FathLHS"
      },
      "source": [
        ""
      ],
      "id": "47667FathLHS",
      "execution_count": null,
      "outputs": []
    },
    {
      "cell_type": "code",
      "metadata": {
        "id": "9azdmPqJhLDT"
      },
      "source": [
        ""
      ],
      "id": "9azdmPqJhLDT",
      "execution_count": null,
      "outputs": []
    },
    {
      "cell_type": "code",
      "metadata": {
        "id": "kmB68l55hK_W"
      },
      "source": [
        ""
      ],
      "id": "kmB68l55hK_W",
      "execution_count": null,
      "outputs": []
    },
    {
      "cell_type": "code",
      "metadata": {
        "id": "9xuirtEmhK5b"
      },
      "source": [
        ""
      ],
      "id": "9xuirtEmhK5b",
      "execution_count": null,
      "outputs": []
    },
    {
      "cell_type": "code",
      "metadata": {
        "id": "25YrAtithKtE"
      },
      "source": [
        ""
      ],
      "id": "25YrAtithKtE",
      "execution_count": null,
      "outputs": []
    },
    {
      "cell_type": "markdown",
      "metadata": {
        "id": "rM2iSa0X_TJx"
      },
      "source": [
        "## Day 4: Giant Squid"
      ],
      "id": "rM2iSa0X_TJx"
    },
    {
      "cell_type": "code",
      "metadata": {
        "id": "0axXvzl2_Ywx"
      },
      "source": [
        "example = \"\"\"7,4,9,5,11,17,23,2,0,14,21,24,10,16,13,6,15,25,12,22,18,20,8,19,3,26,1\n",
        "\n",
        "22 13 17 11  0\n",
        " 8  2 23  4 24\n",
        "21  9 14 16  7\n",
        " 6 10  3 18  5\n",
        " 1 12 20 15 19\n",
        "\n",
        " 3 15  0  2 22\n",
        " 9 18 13 17  5\n",
        "19  8  7 25 23\n",
        "20 11 10 24  4\n",
        "14 21 16 12  6\n",
        "\n",
        "14 21 17 24  4\n",
        "10 16 15  9 19\n",
        "18  8 23 26 20\n",
        "22 11 13  6  5\n",
        " 2  0 12  3  7\"\"\""
      ],
      "id": "0axXvzl2_Ywx",
      "execution_count": 2,
      "outputs": []
    },
    {
      "cell_type": "code",
      "metadata": {
        "id": "-7OiCE1B_YpU"
      },
      "source": [
        "def parse(data):\n",
        "  lst = data.split('\\n')\n",
        "  # Read drawn numbers\n",
        "  drawn = [int(n) for n in lst[0].split(\",\")]\n",
        "  # Read boards\n",
        "  boards = []\n",
        "  for i in range(1, len(lst)-1, 6): # Index of an empty rows\n",
        "    board = []\n",
        "    for j in range(1, 6):\n",
        "      line = [int(n) for n in lst[i+j].split()]\n",
        "      board.append(line)\n",
        "    boards.append(board)\n",
        "  return drawn, boards\n",
        "\n",
        "drawn, boards = parse(example)"
      ],
      "id": "-7OiCE1B_YpU",
      "execution_count": 3,
      "outputs": []
    },
    {
      "cell_type": "code",
      "metadata": {
        "id": "1DMKM0a9_YUJ"
      },
      "source": [
        "def flatten(board):\n",
        "  flat = []\n",
        "  for i in range(len(board)):\n",
        "    flat +=board[i]\n",
        "  return flat\n",
        "\n",
        "def sum_unmarked(board, nums):\n",
        "  return sum(set(flatten(board)).difference(set(nums)))"
      ],
      "id": "1DMKM0a9_YUJ",
      "execution_count": 4,
      "outputs": []
    },
    {
      "cell_type": "code",
      "metadata": {
        "id": "oIy8l3nl_YhA"
      },
      "source": [
        "def check_board(board, nums):\n",
        "  # Check rows\n",
        "  for i in range(5):\n",
        "    if set(board[i]).issubset(nums):\n",
        "      print(board[i])\n",
        "      return [sum_unmarked(board, nums), nums[-1]]\n",
        "  # Check columns\n",
        "  for i in range(5):\n",
        "    col = [row[i] for row in board]\n",
        "    if set(col).issubset(nums):\n",
        "      print(col)\n",
        "      return [sum_unmarked(board, nums), nums[-1]]\n",
        "  return [0, 0]"
      ],
      "id": "oIy8l3nl_YhA",
      "execution_count": 5,
      "outputs": []
    },
    {
      "cell_type": "code",
      "metadata": {
        "id": "YGh9HucX_YYo",
        "colab": {
          "base_uri": "https://localhost:8080/"
        },
        "outputId": "0b19e7ac-5593-45d3-e5bf-ab4039034428"
      },
      "source": [
        "def solve_part1(data):\n",
        "  drawn, boards = parse(data)\n",
        "  for i in range(5, len(drawn)):\n",
        "    for j in range(len(boards)):\n",
        "      sum, called = check_board(boards[j], drawn[:i])\n",
        "      if called:\n",
        "        print(sum , '*', called, '=')\n",
        "        return sum * called\n",
        "\n",
        "solve_part1(example)"
      ],
      "id": "YGh9HucX_YYo",
      "execution_count": 6,
      "outputs": [
        {
          "output_type": "stream",
          "name": "stdout",
          "text": [
            "[14, 21, 17, 24, 4]\n",
            "188 * 24 =\n"
          ]
        },
        {
          "output_type": "execute_result",
          "data": {
            "text/plain": [
              "4512"
            ]
          },
          "metadata": {},
          "execution_count": 6
        }
      ]
    },
    {
      "cell_type": "code",
      "metadata": {
        "id": "fHvHiedG_YP4"
      },
      "source": [
        "r = requests.get(path+'AoC2021_04.txt')\n",
        "data = r.text"
      ],
      "id": "fHvHiedG_YP4",
      "execution_count": 7,
      "outputs": []
    },
    {
      "cell_type": "code",
      "metadata": {
        "id": "ok5Ss2nj_YLg",
        "colab": {
          "base_uri": "https://localhost:8080/"
        },
        "outputId": "fcb12ffb-fb6c-4dc5-811b-0095c5224eb2"
      },
      "source": [
        "solve_part1(data)"
      ],
      "id": "ok5Ss2nj_YLg",
      "execution_count": 8,
      "outputs": [
        {
          "output_type": "stream",
          "name": "stdout",
          "text": [
            "[84, 18, 0, 65, 39]\n",
            "835 * 65 =\n"
          ]
        },
        {
          "output_type": "execute_result",
          "data": {
            "text/plain": [
              "54275"
            ]
          },
          "metadata": {},
          "execution_count": 8
        }
      ]
    },
    {
      "cell_type": "code",
      "metadata": {
        "id": "lK4urmY6UjDK"
      },
      "source": [
        "def solve_part2(data):\n",
        "  drawn, boards = parse(data)\n",
        "  last_win = [0, 0]\n",
        "  for i in range(5, len(drawn)):\n",
        "    # Remove winning boards\n",
        "    go_on, j = True, 0\n",
        "    while go_on:\n",
        "      sum, called = check_board(boards[j], drawn[:i])\n",
        "      if sum:\n",
        "        last_win = [sum, called]\n",
        "        boards.remove(boards[j])\n",
        "      if len(boards) == 1 or j >= len(boards)-1:\n",
        "        go_on = False\n",
        "      j += 1\n",
        "    print(i, \":\", last_win)\n",
        "    if len(boards) == 1:\n",
        "      break\n",
        "  # Either last board or last number drawn here\n",
        "  if len(boards) == 1:\n",
        "    for k in range(i,len(drawn)):\n",
        "      sum, called = check_board(boards[0], drawn[:k])\n",
        "      if sum:\n",
        "        return sum * called\n",
        "  else:\n",
        "    for j in range(len(boards)):\n",
        "      sum, called = check_board(boards[j], drawn)\n",
        "      if sum:\n",
        "        last_win = [sum, called]\n",
        "      break\n",
        "  return last_win[0] * last_win[1]"
      ],
      "id": "lK4urmY6UjDK",
      "execution_count": 30,
      "outputs": []
    },
    {
      "cell_type": "code",
      "metadata": {
        "id": "4MVzadPVYyZL",
        "colab": {
          "base_uri": "https://localhost:8080/"
        },
        "outputId": "28d88334-3645-4b5e-bb7a-202b0eb1c4b4"
      },
      "source": [
        "solve_part2(example)"
      ],
      "id": "4MVzadPVYyZL",
      "execution_count": 31,
      "outputs": [
        {
          "output_type": "stream",
          "name": "stdout",
          "text": [
            "5 : [0, 0]\n",
            "6 : [0, 0]\n",
            "7 : [0, 0]\n",
            "8 : [0, 0]\n",
            "9 : [0, 0]\n",
            "10 : [0, 0]\n",
            "11 : [0, 0]\n",
            "[14, 21, 17, 24, 4]\n",
            "12 : [188, 24]\n",
            "13 : [188, 24]\n",
            "[21, 9, 14, 16, 7]\n",
            "14 : [137, 16]\n",
            "[0, 13, 7, 10, 16]\n"
          ]
        },
        {
          "output_type": "execute_result",
          "data": {
            "text/plain": [
              "1924"
            ]
          },
          "metadata": {},
          "execution_count": 31
        }
      ]
    },
    {
      "cell_type": "code",
      "metadata": {
        "id": "jpkhrcMIYyVL",
        "colab": {
          "base_uri": "https://localhost:8080/"
        },
        "outputId": "2de22e5c-4022-4a63-e33e-c7aca6f88b35"
      },
      "source": [
        "drawn, boards = parse(data)\n",
        "solve_part2(data)"
      ],
      "id": "jpkhrcMIYyVL",
      "execution_count": 32,
      "outputs": [
        {
          "output_type": "stream",
          "name": "stdout",
          "text": [
            "5 : [0, 0]\n",
            "6 : [0, 0]\n",
            "7 : [0, 0]\n",
            "8 : [0, 0]\n",
            "9 : [0, 0]\n",
            "10 : [0, 0]\n",
            "11 : [0, 0]\n",
            "12 : [0, 0]\n",
            "13 : [0, 0]\n",
            "14 : [0, 0]\n",
            "15 : [0, 0]\n",
            "16 : [0, 0]\n",
            "17 : [0, 0]\n",
            "18 : [0, 0]\n",
            "19 : [0, 0]\n",
            "20 : [0, 0]\n",
            "21 : [0, 0]\n",
            "22 : [0, 0]\n",
            "23 : [0, 0]\n",
            "24 : [0, 0]\n",
            "25 : [0, 0]\n",
            "26 : [0, 0]\n",
            "27 : [0, 0]\n",
            "[84, 18, 0, 65, 39]\n",
            "28 : [835, 65]\n",
            "[72, 42, 58, 70, 7]\n",
            "29 : [847, 58]\n",
            "30 : [847, 58]\n",
            "31 : [847, 58]\n",
            "32 : [847, 58]\n",
            "33 : [847, 58]\n",
            "34 : [847, 58]\n",
            "[14, 79, 35, 96, 30]\n",
            "35 : [718, 14]\n",
            "[42, 75, 18, 72, 95]\n",
            "[15, 25, 39, 95, 83]\n",
            "36 : [627, 95]\n",
            "[66, 41, 18, 29, 2]\n",
            "[81, 2, 66, 39, 29]\n",
            "37 : [580, 66]\n",
            "[61, 41, 39, 44, 30]\n",
            "[8, 61, 15, 88, 25]\n",
            "38 : [673, 61]\n",
            "39 : [673, 61]\n",
            "40 : [673, 61]\n",
            "[61, 94, 96, 57, 41]\n",
            "[83, 57, 7, 75, 89]\n",
            "[88, 46, 57, 83, 8]\n",
            "41 : [807, 57]\n",
            "42 : [807, 57]\n",
            "[2, 55, 39, 52, 89]\n",
            "[79, 29, 90, 55, 84]\n",
            "43 : [519, 55]\n",
            "[7, 0, 70, 32, 41]\n",
            "44 : [445, 32]\n",
            "45 : [445, 32]\n",
            "46 : [445, 32]\n",
            "47 : [445, 32]\n",
            "[55, 72, 98, 25, 96]\n",
            "48 : [743, 98]\n",
            "[97, 1, 83, 20, 61]\n",
            "[67, 1, 46, 7, 39]\n",
            "[67, 14, 25, 84, 1]\n",
            "49 : [508, 1]\n",
            "[95, 83, 69, 8, 29]\n",
            "50 : [752, 69]\n",
            "[63, 72, 98, 90, 57]\n",
            "[63, 37, 83, 52, 1]\n",
            "51 : [426, 63]\n",
            "[14, 62, 46, 61, 84]\n",
            "[25, 30, 62, 17, 54]\n",
            "[29, 62, 70, 84, 52]\n",
            "[96, 57, 62, 54, 75]\n",
            "[90, 62, 14, 8, 83]\n",
            "[62, 35, 94, 57, 97]\n",
            "52 : [553, 62]\n",
            "[2, 31, 68, 35, 75]\n",
            "[58, 31, 62, 32, 29]\n",
            "[96, 72, 31, 44, 30]\n",
            "[42, 75, 62, 57, 68]\n",
            "53 : [453, 31]\n",
            "[41, 72, 86, 90, 68]\n",
            "[70, 61, 86, 25, 0]\n",
            "[86, 46, 30, 57, 18]\n",
            "[97, 86, 66, 7, 63]\n",
            "54 : [432, 86]\n",
            "[58, 8, 44, 57, 77]\n",
            "[77, 31, 2, 70, 61]\n",
            "[37, 7, 77, 0, 66]\n",
            "55 : [480, 77]\n",
            "[85, 0, 68, 57, 14]\n",
            "[55, 85, 88, 52, 14]\n",
            "[77, 88, 81, 85, 18]\n",
            "[14, 96, 72, 70, 85]\n",
            "56 : [599, 85]\n",
            "[63, 67, 87, 88, 62]\n",
            "57 : [467, 87]\n",
            "[14, 87, 93, 35, 29]\n",
            "[7, 35, 93, 29, 94]\n",
            "[90, 52, 87, 93, 67]\n",
            "[93, 61, 54, 47, 55]\n",
            "[0, 93, 63, 47, 35]\n",
            "58 : [262, 93]\n",
            "[7, 39, 26, 58, 44]\n",
            "[72, 26, 89, 17, 29]\n",
            "[69, 32, 93, 83, 42]\n",
            "[98, 42, 29, 26, 62]\n",
            "59 : [491, 26]\n",
            "[14, 40, 7, 55, 37]\n",
            "[90, 56, 40, 15, 0]\n",
            "[65, 44, 63, 40, 39]\n",
            "[65, 18, 79, 0, 40]\n",
            "60 : [190, 40]\n",
            "[84, 79, 95, 24, 0]\n",
            "61 : [640, 24]\n",
            "[75, 19, 31, 44, 84]\n",
            "[93, 98, 63, 79, 19]\n",
            "62 : [484, 19]\n",
            "[14, 37, 25, 95, 48]\n",
            "63 : [348, 48]\n",
            "[35, 76, 31, 62, 66]\n",
            "[39, 37, 98, 76, 63]\n",
            "64 : [419, 76]\n",
            "[73, 44, 79, 26, 48]\n",
            "[15, 97, 40, 47, 73]\n",
            "65 : [455, 73]\n",
            "[72, 77, 49, 93, 55]\n",
            "[85, 49, 88, 83, 30]\n",
            "[49, 14, 42, 88, 79]\n",
            "[49, 86, 48, 65, 84]\n",
            "66 : [324, 49]\n",
            "[69, 97, 61, 75, 34]\n",
            "[32, 34, 61, 48, 63]\n",
            "[76, 70, 34, 97, 95]\n",
            "67 : [421, 34]\n",
            "[17, 45, 55, 46, 93]\n",
            "[14, 45, 97, 93, 17]\n",
            "[66, 45, 8, 24, 2]\n",
            "[18, 40, 45, 8, 20]\n",
            "[88, 45, 95, 76, 17]\n",
            "68 : [348, 45]\n",
            "[42, 47, 79, 45, 73]\n",
            "[31, 82, 73, 45, 77]\n",
            "[41, 58, 89, 82, 32]\n",
            "[24, 82, 97, 63, 89]\n",
            "69 : [319, 82]\n",
            "[95, 22, 85, 52, 41]\n",
            "[69, 49, 22, 83, 55]\n",
            "[22, 86, 1, 55, 73]\n",
            "[86, 22, 66, 18, 52]\n",
            "70 : [280, 22]\n",
            "[19, 40, 61, 47, 22]\n",
            "[98, 80, 54, 45, 26]\n",
            "71 : [222, 80]\n",
            "[86, 97, 93, 78, 55]\n",
            "[78, 67, 96, 80, 49]\n",
            "72 : [305, 78]\n",
            "73 : [305, 78]\n",
            "74 : [305, 78]\n",
            "[75, 69, 45, 59, 24]\n",
            "[59, 23, 49, 97, 1]\n",
            "75 : [248, 59]\n",
            "[95, 91, 31, 8, 63]\n",
            "76 : [246, 91]\n",
            "[64, 29, 67, 44, 82]\n",
            "[54, 71, 95, 64, 68]\n",
            "[61, 39, 37, 64, 46]\n",
            "77 : [252, 64]\n",
            "[64, 88, 41, 98, 63]\n",
            "[41, 24, 64, 87, 42]\n",
            "78 : [195, 43]\n",
            "[20, 73, 21, 90, 77]\n",
            "79 : [229, 21]\n",
            "[66, 91, 71, 29, 45]\n",
            "80 : [270, 51]\n",
            "[91, 69, 61, 51, 84]\n"
          ]
        },
        {
          "output_type": "execute_result",
          "data": {
            "text/plain": [
              "13158"
            ]
          },
          "metadata": {},
          "execution_count": 32
        }
      ]
    },
    {
      "cell_type": "markdown",
      "metadata": {
        "id": "I4v1nfvExp4_"
      },
      "source": [
        "## Day 3: Binary Diagnostic"
      ],
      "id": "I4v1nfvExp4_"
    },
    {
      "cell_type": "code",
      "metadata": {
        "id": "Q5kizvLCxygU"
      },
      "source": [
        "example = \"\"\"00100\n",
        "11110\n",
        "10110\n",
        "10111\n",
        "10101\n",
        "01111\n",
        "00111\n",
        "11100\n",
        "10000\n",
        "11001\n",
        "00010\n",
        "01010\"\"\".split()"
      ],
      "id": "Q5kizvLCxygU",
      "execution_count": null,
      "outputs": []
    },
    {
      "cell_type": "code",
      "metadata": {
        "id": "YhQR_XhfxzM2",
        "colab": {
          "base_uri": "https://localhost:8080/"
        },
        "outputId": "457adcf2-07e7-45f4-a769-0b8778624c03"
      },
      "source": [
        "matrix = [list(n) for n in example]\n",
        "matrix"
      ],
      "id": "YhQR_XhfxzM2",
      "execution_count": null,
      "outputs": [
        {
          "output_type": "execute_result",
          "data": {
            "text/plain": [
              "[['0', '0', '1', '0', '0'],\n",
              " ['1', '1', '1', '1', '0'],\n",
              " ['1', '0', '1', '1', '0'],\n",
              " ['1', '0', '1', '1', '1'],\n",
              " ['1', '0', '1', '0', '1'],\n",
              " ['0', '1', '1', '1', '1'],\n",
              " ['0', '0', '1', '1', '1'],\n",
              " ['1', '1', '1', '0', '0'],\n",
              " ['1', '0', '0', '0', '0'],\n",
              " ['1', '1', '0', '0', '1'],\n",
              " ['0', '0', '0', '1', '0'],\n",
              " ['0', '1', '0', '1', '0']]"
            ]
          },
          "metadata": {},
          "execution_count": 41
        }
      ]
    },
    {
      "cell_type": "code",
      "metadata": {
        "id": "Dh5MJ6LeCGbA"
      },
      "source": [
        "def bin_to_int(list):\n",
        "  return int('0b'+\"\".join(np.array(list).astype(str)), base=2)\n",
        "\n",
        "def solve_part1(data):\n",
        "  matrix = [list(n) for n in data]\n",
        "  rates = [(round(np.mean(line)), round(1-np.mean(line))) for line in np.array(matrix).T.astype(int)]\n",
        "  rates_int = [bin_to_int(l) for l in np.array(rates).T]\n",
        "  return np.multiply(*rates_int)"
      ],
      "id": "Dh5MJ6LeCGbA",
      "execution_count": null,
      "outputs": []
    },
    {
      "cell_type": "code",
      "metadata": {
        "id": "Bi6Lv2uOCFxQ",
        "colab": {
          "base_uri": "https://localhost:8080/"
        },
        "outputId": "82b84db0-4ad5-430a-c5ca-b57b8bde2622"
      },
      "source": [
        "solve_part1(example)"
      ],
      "id": "Bi6Lv2uOCFxQ",
      "execution_count": null,
      "outputs": [
        {
          "output_type": "execute_result",
          "data": {
            "text/plain": [
              "198"
            ]
          },
          "metadata": {},
          "execution_count": 43
        }
      ]
    },
    {
      "cell_type": "code",
      "metadata": {
        "id": "-ChHmJF_D4E4",
        "colab": {
          "base_uri": "https://localhost:8080/"
        },
        "outputId": "899070c1-4bca-4020-fb87-340b53ccf6a1"
      },
      "source": [
        "r = requests.get(path+'AoC2021_03.txt')\n",
        "data = r.text.split('\\n')[:-1]\n",
        "solve_part1(data)"
      ],
      "id": "-ChHmJF_D4E4",
      "execution_count": null,
      "outputs": [
        {
          "output_type": "execute_result",
          "data": {
            "text/plain": [
              "3813416"
            ]
          },
          "metadata": {},
          "execution_count": 44
        }
      ]
    },
    {
      "cell_type": "code",
      "metadata": {
        "id": "MgjSYl0exy_O"
      },
      "source": [
        "def solve_part2(data):\n",
        "  matrix = [list(n) for n in data]\n",
        "  # Create dataframe of positions\n",
        "  # Columns' names are integers by default\n",
        "  df = pd.DataFrame(matrix).astype(int)\n",
        "\n",
        "  # Initialize a dataframe\n",
        "  df_o2 = df.copy()\n",
        "  # Apply the bit criteria\n",
        "  for col in range(df.shape[1]):\n",
        "    print('O2', col)\n",
        "    # Count 0 and 1 in stage col\n",
        "    vc_o2 = df_o2[col].value_counts().to_dict()\n",
        "    # Decide which number keep for o2\n",
        "    if vc_o2.get(1, 0) > vc_o2.get(0, 0) or vc_o2.get(1, 0) == vc_o2.get(0, 0): \n",
        "      df_o2 = df_o2.loc[df_o2[col] == 1]\n",
        "    else:\n",
        "      df_o2 = df_o2.loc[df_o2[col] == 0]\n",
        "    # If there is only one number, stop\n",
        "    if df_o2.shape[0] == 1:\n",
        "      break\n",
        "  print('\\n', df_o2, '\\n')\n",
        "    \n",
        "  # Initialize a dataframe\n",
        "  df_co = df.copy()\n",
        "  # Apply the bit criteria\n",
        "  for col in range(df.shape[1]):\n",
        "    print('CO2', col)\n",
        "    # Count 0 and 1 in stage col\n",
        "    vc_co = df_co[col].value_counts().to_dict()\n",
        "    # Decide which number keep for co2\n",
        "    if vc_co.get(1, 0) > vc_co.get(0, 0) or vc_co.get(1, 0) == vc_co.get(0, 0): \n",
        "      df_co = df_co.loc[df_co[col] == 0]\n",
        "    else:\n",
        "      df_co = df_co.loc[df_co[col] == 1]\n",
        "    # If there is only one number, stop\n",
        "    if df_co.shape[0] == 1:\n",
        "      break\n",
        "  print('\\n', df_co, '\\n')\n",
        "\n",
        "  return bin_to_int(df_o2.iloc[0].to_list())*bin_to_int(df_co.iloc[0].to_list())"
      ],
      "id": "MgjSYl0exy_O",
      "execution_count": null,
      "outputs": []
    },
    {
      "cell_type": "code",
      "metadata": {
        "id": "W5XsuAS5JTEk",
        "colab": {
          "base_uri": "https://localhost:8080/"
        },
        "outputId": "680de633-8f48-4362-b32d-2a6eba66c137"
      },
      "source": [
        "solve_part2(example)\n",
        "# Should be 230"
      ],
      "id": "W5XsuAS5JTEk",
      "execution_count": null,
      "outputs": [
        {
          "output_type": "stream",
          "name": "stdout",
          "text": [
            "O2 0\n",
            "O2 1\n",
            "O2 2\n",
            "O2 3\n",
            "O2 4\n",
            "\n",
            "    0  1  2  3  4\n",
            "3  1  0  1  1  1 \n",
            "\n",
            "CO2 0\n",
            "CO2 1\n",
            "CO2 2\n",
            "\n",
            "     0  1  2  3  4\n",
            "11  0  1  0  1  0 \n",
            "\n"
          ]
        },
        {
          "output_type": "execute_result",
          "data": {
            "text/plain": [
              "230"
            ]
          },
          "metadata": {},
          "execution_count": 52
        }
      ]
    },
    {
      "cell_type": "code",
      "metadata": {
        "id": "gOk0uqZBD4BP",
        "colab": {
          "base_uri": "https://localhost:8080/"
        },
        "outputId": "5ed07806-d8c3-46ec-fa11-daee0933a0d1"
      },
      "source": [
        "solve_part2(data)\n",
        "# Should be 2990784"
      ],
      "id": "gOk0uqZBD4BP",
      "execution_count": null,
      "outputs": [
        {
          "output_type": "stream",
          "name": "stdout",
          "text": [
            "O2 0\n",
            "O2 1\n",
            "O2 2\n",
            "O2 3\n",
            "O2 4\n",
            "O2 5\n",
            "O2 6\n",
            "O2 7\n",
            "O2 8\n",
            "O2 9\n",
            "O2 10\n",
            "\n",
            "      0   1   2   3   4   5   6   7   8   9   10  11\n",
            "543   1   0   0   1   1   1   0   1   1   1   1   0 \n",
            "\n",
            "CO2 0\n",
            "CO2 1\n",
            "CO2 2\n",
            "CO2 3\n",
            "CO2 4\n",
            "CO2 5\n",
            "CO2 6\n",
            "CO2 7\n",
            "\n",
            "      0   1   2   3   4   5   6   7   8   9   10  11\n",
            "324   0   1   0   0   1   0   1   0   0   0   0   0 \n",
            "\n"
          ]
        },
        {
          "output_type": "execute_result",
          "data": {
            "text/plain": [
              "2990784"
            ]
          },
          "metadata": {},
          "execution_count": 53
        }
      ]
    },
    {
      "cell_type": "markdown",
      "metadata": {
        "id": "KK9BpP00yfCg"
      },
      "source": [
        "## Day 2: Dive!"
      ],
      "id": "KK9BpP00yfCg"
    },
    {
      "cell_type": "code",
      "metadata": {
        "id": "ngPIpM65yffA"
      },
      "source": [
        "example = \"\"\"forward 5\n",
        "down 5\n",
        "forward 8\n",
        "up 3\n",
        "down 8\n",
        "forward 2\"\"\".split(\"\\n\")"
      ],
      "id": "ngPIpM65yffA",
      "execution_count": null,
      "outputs": []
    },
    {
      "cell_type": "code",
      "metadata": {
        "id": "M9-jjmiTygUh"
      },
      "source": [
        "def get_hp(row):\n",
        "  if row['direction'] == 'forward':\n",
        "    return row['value']\n",
        "  else:\n",
        "    return 0\n",
        "\n",
        "def get_depth(row):\n",
        "  if row['direction'] == 'down':\n",
        "    return row['value']\n",
        "  elif row['direction'] == 'up':\n",
        "    return -row['value']\n",
        "  else:\n",
        "    return 0\n",
        "\n",
        "def solve_part1(data):\n",
        "  \"\"\"Calculate a horizontal position and depth\"\"\"\n",
        "\n",
        "  df = pd.DataFrame(data, columns=['instruction'])\n",
        "  df['direction'] = df.instruction.apply(lambda s: s.split()[0])\n",
        "  df['value'] = df.instruction.apply(lambda s: int(s.split()[1]))\n",
        "  df['hp'] = df.apply(get_hp, axis=1)\n",
        "  df['depth'] = df.apply(get_depth, axis=1)\n",
        "  result = df.hp.sum()*df.depth.sum()\n",
        "  return result"
      ],
      "id": "M9-jjmiTygUh",
      "execution_count": null,
      "outputs": []
    },
    {
      "cell_type": "code",
      "metadata": {
        "id": "eDlWpLJWygGv",
        "colab": {
          "base_uri": "https://localhost:8080/"
        },
        "outputId": "a27a33a2-efe9-46d5-d103-e6db1e0fb3a9"
      },
      "source": [
        "solve_part1(example)"
      ],
      "id": "eDlWpLJWygGv",
      "execution_count": null,
      "outputs": [
        {
          "output_type": "execute_result",
          "data": {
            "text/plain": [
              "150"
            ]
          },
          "metadata": {},
          "execution_count": 32
        }
      ]
    },
    {
      "cell_type": "code",
      "metadata": {
        "id": "dF-vVnuv1l0W",
        "colab": {
          "base_uri": "https://localhost:8080/"
        },
        "outputId": "b4d8a654-1742-48cc-8b9b-9e69ceaa6c3b"
      },
      "source": [
        "r = requests.get(path+'AoC2021_02.txt')\n",
        "data = r.text.split('\\n')[:-1]\n",
        "solve_part1(data)"
      ],
      "id": "dF-vVnuv1l0W",
      "execution_count": null,
      "outputs": [
        {
          "output_type": "execute_result",
          "data": {
            "text/plain": [
              "2036120"
            ]
          },
          "metadata": {},
          "execution_count": 33
        }
      ]
    },
    {
      "cell_type": "code",
      "metadata": {
        "id": "qXV1sy4lyf_f"
      },
      "source": [
        "def solve_part2(data):\n",
        "  \"\"\"Calculate a horizontal position and depth with aim\"\"\"\n",
        "\n",
        "  df = pd.DataFrame(data, columns=['instruction'])\n",
        "  df['direction'] = df.instruction.apply(lambda s: s.split()[0])\n",
        "  df['value'] = df.instruction.apply(lambda s: int(s.split()[1]))\n",
        "  hp, depth, aim = 0, 0, 0\n",
        "  for _, row in df.iterrows():\n",
        "    if row['direction'] == 'down':\n",
        "      aim = aim + row['value']\n",
        "    elif row['direction'] == 'up':\n",
        "      aim = aim - row['value']\n",
        "    else:\n",
        "      hp = hp + row['value']\n",
        "      depth = depth + aim * row['value']\n",
        "  return hp * depth"
      ],
      "id": "qXV1sy4lyf_f",
      "execution_count": null,
      "outputs": []
    },
    {
      "cell_type": "code",
      "metadata": {
        "id": "YhI0wSHO4H_m",
        "colab": {
          "base_uri": "https://localhost:8080/"
        },
        "outputId": "9b8979c2-84f7-4054-93bf-c78ccf7336f6"
      },
      "source": [
        "solve_part2(example)"
      ],
      "id": "YhI0wSHO4H_m",
      "execution_count": null,
      "outputs": [
        {
          "output_type": "execute_result",
          "data": {
            "text/plain": [
              "900"
            ]
          },
          "metadata": {},
          "execution_count": 50
        }
      ]
    },
    {
      "cell_type": "code",
      "metadata": {
        "id": "TO5BoYg-4H49",
        "colab": {
          "base_uri": "https://localhost:8080/"
        },
        "outputId": "d9d2bf72-5520-432e-dc07-5cd65596d4b0"
      },
      "source": [
        "solve_part2(data)"
      ],
      "id": "TO5BoYg-4H49",
      "execution_count": null,
      "outputs": [
        {
          "output_type": "execute_result",
          "data": {
            "text/plain": [
              "2015547716"
            ]
          },
          "metadata": {},
          "execution_count": 51
        }
      ]
    },
    {
      "cell_type": "code",
      "metadata": {
        "id": "nkk2BC9B4Hxe"
      },
      "source": [
        ""
      ],
      "id": "nkk2BC9B4Hxe",
      "execution_count": null,
      "outputs": []
    },
    {
      "cell_type": "markdown",
      "metadata": {
        "id": "cCGAPQ6GXnS7"
      },
      "source": [
        "## Day 1: Sonar Sweep"
      ],
      "id": "cCGAPQ6GXnS7"
    },
    {
      "cell_type": "code",
      "metadata": {
        "id": "A6DL52HkUyHF"
      },
      "source": [
        "r = requests.get(path+'AoC_01.txt')\n",
        "# Ignore empty string on the end\n",
        "data = r.text.split('\\n')[:-1]"
      ],
      "id": "A6DL52HkUyHF",
      "execution_count": null,
      "outputs": []
    },
    {
      "cell_type": "markdown",
      "metadata": {
        "id": "gJXIvNExXDBb"
      },
      "source": [
        "**Part One**: Count the number of times a depth measurement increases from the previous measurement."
      ],
      "id": "gJXIvNExXDBb"
    },
    {
      "cell_type": "code",
      "metadata": {
        "id": "2WYWgU8_NUMf",
        "colab": {
          "base_uri": "https://localhost:8080/",
          "height": 424
        },
        "outputId": "1eb09c09-59f4-4b70-af09-1e603e9f0f30"
      },
      "source": [
        "df = pd.DataFrame([int(d) for d in data], columns=['depth'])\n",
        "df['diff'] = df.depth.diff()\n",
        "df"
      ],
      "id": "2WYWgU8_NUMf",
      "execution_count": null,
      "outputs": [
        {
          "output_type": "execute_result",
          "data": {
            "text/html": [
              "<div>\n",
              "<style scoped>\n",
              "    .dataframe tbody tr th:only-of-type {\n",
              "        vertical-align: middle;\n",
              "    }\n",
              "\n",
              "    .dataframe tbody tr th {\n",
              "        vertical-align: top;\n",
              "    }\n",
              "\n",
              "    .dataframe thead th {\n",
              "        text-align: right;\n",
              "    }\n",
              "</style>\n",
              "<table border=\"1\" class=\"dataframe\">\n",
              "  <thead>\n",
              "    <tr style=\"text-align: right;\">\n",
              "      <th></th>\n",
              "      <th>depth</th>\n",
              "      <th>diff</th>\n",
              "    </tr>\n",
              "  </thead>\n",
              "  <tbody>\n",
              "    <tr>\n",
              "      <th>0</th>\n",
              "      <td>141</td>\n",
              "      <td>NaN</td>\n",
              "    </tr>\n",
              "    <tr>\n",
              "      <th>1</th>\n",
              "      <td>140</td>\n",
              "      <td>-1.0</td>\n",
              "    </tr>\n",
              "    <tr>\n",
              "      <th>2</th>\n",
              "      <td>160</td>\n",
              "      <td>20.0</td>\n",
              "    </tr>\n",
              "    <tr>\n",
              "      <th>3</th>\n",
              "      <td>161</td>\n",
              "      <td>1.0</td>\n",
              "    </tr>\n",
              "    <tr>\n",
              "      <th>4</th>\n",
              "      <td>162</td>\n",
              "      <td>1.0</td>\n",
              "    </tr>\n",
              "    <tr>\n",
              "      <th>...</th>\n",
              "      <td>...</td>\n",
              "      <td>...</td>\n",
              "    </tr>\n",
              "    <tr>\n",
              "      <th>1995</th>\n",
              "      <td>9081</td>\n",
              "      <td>1.0</td>\n",
              "    </tr>\n",
              "    <tr>\n",
              "      <th>1996</th>\n",
              "      <td>9084</td>\n",
              "      <td>3.0</td>\n",
              "    </tr>\n",
              "    <tr>\n",
              "      <th>1997</th>\n",
              "      <td>9089</td>\n",
              "      <td>5.0</td>\n",
              "    </tr>\n",
              "    <tr>\n",
              "      <th>1998</th>\n",
              "      <td>9102</td>\n",
              "      <td>13.0</td>\n",
              "    </tr>\n",
              "    <tr>\n",
              "      <th>1999</th>\n",
              "      <td>9105</td>\n",
              "      <td>3.0</td>\n",
              "    </tr>\n",
              "  </tbody>\n",
              "</table>\n",
              "<p>2000 rows × 2 columns</p>\n",
              "</div>"
            ],
            "text/plain": [
              "      depth  diff\n",
              "0       141   NaN\n",
              "1       140  -1.0\n",
              "2       160  20.0\n",
              "3       161   1.0\n",
              "4       162   1.0\n",
              "...     ...   ...\n",
              "1995   9081   1.0\n",
              "1996   9084   3.0\n",
              "1997   9089   5.0\n",
              "1998   9102  13.0\n",
              "1999   9105   3.0\n",
              "\n",
              "[2000 rows x 2 columns]"
            ]
          },
          "metadata": {},
          "execution_count": 3
        }
      ]
    },
    {
      "cell_type": "code",
      "metadata": {
        "id": "p6mJVyA-OJKY",
        "colab": {
          "base_uri": "https://localhost:8080/"
        },
        "outputId": "2f1eb440-f205-4dd9-8f2d-f8450ea530c1"
      },
      "source": [
        "df.query('diff > 0').shape"
      ],
      "id": "p6mJVyA-OJKY",
      "execution_count": null,
      "outputs": [
        {
          "output_type": "execute_result",
          "data": {
            "text/plain": [
              "(1692, 2)"
            ]
          },
          "metadata": {},
          "execution_count": 4
        }
      ]
    },
    {
      "cell_type": "markdown",
      "metadata": {
        "id": "eWoJmyMVXRBC"
      },
      "source": [
        "**Part Two**: Consider sums of a three-measurement sliding window. Your goal now is to count the number of times the sum of measurements in this sliding window increases from the previous sum."
      ],
      "id": "eWoJmyMVXRBC"
    },
    {
      "cell_type": "code",
      "metadata": {
        "id": "lBoWoNLGRRNO",
        "colab": {
          "base_uri": "https://localhost:8080/"
        },
        "outputId": "016c0825-ee30-4694-ce7f-826ee8dfb0b1"
      },
      "source": [
        "df.depth.astype('float', copy=False)"
      ],
      "id": "lBoWoNLGRRNO",
      "execution_count": null,
      "outputs": [
        {
          "output_type": "execute_result",
          "data": {
            "text/plain": [
              "0        141.0\n",
              "1        140.0\n",
              "2        160.0\n",
              "3        161.0\n",
              "4        162.0\n",
              "         ...  \n",
              "1995    9081.0\n",
              "1996    9084.0\n",
              "1997    9089.0\n",
              "1998    9102.0\n",
              "1999    9105.0\n",
              "Name: depth, Length: 2000, dtype: float64"
            ]
          },
          "metadata": {},
          "execution_count": 5
        }
      ]
    },
    {
      "cell_type": "code",
      "metadata": {
        "id": "9zQjYFWsPDDP",
        "colab": {
          "base_uri": "https://localhost:8080/"
        },
        "outputId": "0bf14836-6a6d-4745-b35e-77c2f97e9955"
      },
      "source": [
        "df['window'] = df.depth.rolling(3).sum()\n",
        "df['window_diff'] = df.window.diff()\n",
        "df.query('window_diff > 0').shape"
      ],
      "id": "9zQjYFWsPDDP",
      "execution_count": null,
      "outputs": [
        {
          "output_type": "execute_result",
          "data": {
            "text/plain": [
              "(1724, 4)"
            ]
          },
          "metadata": {},
          "execution_count": 6
        }
      ]
    },
    {
      "cell_type": "code",
      "metadata": {
        "id": "9vrpm5PpQvDX"
      },
      "source": [
        ""
      ],
      "id": "9vrpm5PpQvDX",
      "execution_count": null,
      "outputs": []
    }
  ]
}