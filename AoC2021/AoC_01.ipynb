{
  "nbformat": 4,
  "nbformat_minor": 5,
  "metadata": {
    "kernelspec": {
      "display_name": "Python 3",
      "language": "python",
      "name": "python3"
    },
    "language_info": {
      "codemirror_mode": {
        "name": "ipython",
        "version": 3
      },
      "file_extension": ".py",
      "mimetype": "text/x-python",
      "name": "python",
      "nbconvert_exporter": "python",
      "pygments_lexer": "ipython3",
      "version": "3.7.11"
    },
    "colab": {
      "name": "AoC_01.ipynb",
      "provenance": [],
      "include_colab_link": true
    }
  },
  "cells": [
    {
      "cell_type": "markdown",
      "metadata": {
        "id": "view-in-github",
        "colab_type": "text"
      },
      "source": [
        "<a href=\"https://colab.research.google.com/github/lustraka/puzzles/blob/main/AoC2021/AoC_01.ipynb\" target=\"_parent\"><img src=\"https://colab.research.google.com/assets/colab-badge.svg\" alt=\"Open In Colab\"/></a>"
      ]
    },
    {
      "cell_type": "markdown",
      "metadata": {
        "id": "k_W-5eM-Msi7"
      },
      "source": [
        "# Advent of Code Puzzles\n",
        "[Advent of Code 2021](https://adventofcode.com/2021)"
      ],
      "id": "k_W-5eM-Msi7"
    },
    {
      "cell_type": "code",
      "metadata": {
        "id": "0quS8PxuN2DI"
      },
      "source": [
        "import requests\n",
        "import pandas as pd\n",
        "import numpy as np\n",
        "path = 'https://raw.githubusercontent.com/lustraka/puzzles/main/AoC2021/data/'"
      ],
      "id": "0quS8PxuN2DI",
      "execution_count": 1,
      "outputs": []
    },
    {
      "cell_type": "markdown",
      "metadata": {
        "id": "cCGAPQ6GXnS7"
      },
      "source": [
        "## Day 1: Sonar Sweep"
      ],
      "id": "cCGAPQ6GXnS7"
    },
    {
      "cell_type": "code",
      "metadata": {
        "id": "A6DL52HkUyHF"
      },
      "source": [
        "r = requests.get(path+'AoC_01.txt')\n",
        "# Ignore empty string on the end\n",
        "data = r.text.split('\\n')[:-1]"
      ],
      "id": "A6DL52HkUyHF",
      "execution_count": 2,
      "outputs": []
    },
    {
      "cell_type": "markdown",
      "metadata": {
        "id": "gJXIvNExXDBb"
      },
      "source": [
        "**Part One**: Count the number of times a depth measurement increases from the previous measurement."
      ],
      "id": "gJXIvNExXDBb"
    },
    {
      "cell_type": "code",
      "metadata": {
        "id": "2WYWgU8_NUMf",
        "colab": {
          "base_uri": "https://localhost:8080/",
          "height": 424
        },
        "outputId": "1eb09c09-59f4-4b70-af09-1e603e9f0f30"
      },
      "source": [
        "df = pd.DataFrame([int(d) for d in data], columns=['depth'])\n",
        "df['diff'] = df.depth.diff()\n",
        "df"
      ],
      "id": "2WYWgU8_NUMf",
      "execution_count": 3,
      "outputs": [
        {
          "output_type": "execute_result",
          "data": {
            "text/html": [
              "<div>\n",
              "<style scoped>\n",
              "    .dataframe tbody tr th:only-of-type {\n",
              "        vertical-align: middle;\n",
              "    }\n",
              "\n",
              "    .dataframe tbody tr th {\n",
              "        vertical-align: top;\n",
              "    }\n",
              "\n",
              "    .dataframe thead th {\n",
              "        text-align: right;\n",
              "    }\n",
              "</style>\n",
              "<table border=\"1\" class=\"dataframe\">\n",
              "  <thead>\n",
              "    <tr style=\"text-align: right;\">\n",
              "      <th></th>\n",
              "      <th>depth</th>\n",
              "      <th>diff</th>\n",
              "    </tr>\n",
              "  </thead>\n",
              "  <tbody>\n",
              "    <tr>\n",
              "      <th>0</th>\n",
              "      <td>141</td>\n",
              "      <td>NaN</td>\n",
              "    </tr>\n",
              "    <tr>\n",
              "      <th>1</th>\n",
              "      <td>140</td>\n",
              "      <td>-1.0</td>\n",
              "    </tr>\n",
              "    <tr>\n",
              "      <th>2</th>\n",
              "      <td>160</td>\n",
              "      <td>20.0</td>\n",
              "    </tr>\n",
              "    <tr>\n",
              "      <th>3</th>\n",
              "      <td>161</td>\n",
              "      <td>1.0</td>\n",
              "    </tr>\n",
              "    <tr>\n",
              "      <th>4</th>\n",
              "      <td>162</td>\n",
              "      <td>1.0</td>\n",
              "    </tr>\n",
              "    <tr>\n",
              "      <th>...</th>\n",
              "      <td>...</td>\n",
              "      <td>...</td>\n",
              "    </tr>\n",
              "    <tr>\n",
              "      <th>1995</th>\n",
              "      <td>9081</td>\n",
              "      <td>1.0</td>\n",
              "    </tr>\n",
              "    <tr>\n",
              "      <th>1996</th>\n",
              "      <td>9084</td>\n",
              "      <td>3.0</td>\n",
              "    </tr>\n",
              "    <tr>\n",
              "      <th>1997</th>\n",
              "      <td>9089</td>\n",
              "      <td>5.0</td>\n",
              "    </tr>\n",
              "    <tr>\n",
              "      <th>1998</th>\n",
              "      <td>9102</td>\n",
              "      <td>13.0</td>\n",
              "    </tr>\n",
              "    <tr>\n",
              "      <th>1999</th>\n",
              "      <td>9105</td>\n",
              "      <td>3.0</td>\n",
              "    </tr>\n",
              "  </tbody>\n",
              "</table>\n",
              "<p>2000 rows × 2 columns</p>\n",
              "</div>"
            ],
            "text/plain": [
              "      depth  diff\n",
              "0       141   NaN\n",
              "1       140  -1.0\n",
              "2       160  20.0\n",
              "3       161   1.0\n",
              "4       162   1.0\n",
              "...     ...   ...\n",
              "1995   9081   1.0\n",
              "1996   9084   3.0\n",
              "1997   9089   5.0\n",
              "1998   9102  13.0\n",
              "1999   9105   3.0\n",
              "\n",
              "[2000 rows x 2 columns]"
            ]
          },
          "metadata": {},
          "execution_count": 3
        }
      ]
    },
    {
      "cell_type": "code",
      "metadata": {
        "id": "p6mJVyA-OJKY",
        "colab": {
          "base_uri": "https://localhost:8080/"
        },
        "outputId": "2f1eb440-f205-4dd9-8f2d-f8450ea530c1"
      },
      "source": [
        "df.query('diff > 0').shape"
      ],
      "id": "p6mJVyA-OJKY",
      "execution_count": 4,
      "outputs": [
        {
          "output_type": "execute_result",
          "data": {
            "text/plain": [
              "(1692, 2)"
            ]
          },
          "metadata": {},
          "execution_count": 4
        }
      ]
    },
    {
      "cell_type": "markdown",
      "metadata": {
        "id": "eWoJmyMVXRBC"
      },
      "source": [
        "**Part Two**: Consider sums of a three-measurement sliding window. Your goal now is to count the number of times the sum of measurements in this sliding window increases from the previous sum."
      ],
      "id": "eWoJmyMVXRBC"
    },
    {
      "cell_type": "code",
      "metadata": {
        "id": "lBoWoNLGRRNO",
        "colab": {
          "base_uri": "https://localhost:8080/"
        },
        "outputId": "016c0825-ee30-4694-ce7f-826ee8dfb0b1"
      },
      "source": [
        "df.depth.astype('float', copy=False)"
      ],
      "id": "lBoWoNLGRRNO",
      "execution_count": 5,
      "outputs": [
        {
          "output_type": "execute_result",
          "data": {
            "text/plain": [
              "0        141.0\n",
              "1        140.0\n",
              "2        160.0\n",
              "3        161.0\n",
              "4        162.0\n",
              "         ...  \n",
              "1995    9081.0\n",
              "1996    9084.0\n",
              "1997    9089.0\n",
              "1998    9102.0\n",
              "1999    9105.0\n",
              "Name: depth, Length: 2000, dtype: float64"
            ]
          },
          "metadata": {},
          "execution_count": 5
        }
      ]
    },
    {
      "cell_type": "code",
      "metadata": {
        "id": "9zQjYFWsPDDP",
        "colab": {
          "base_uri": "https://localhost:8080/"
        },
        "outputId": "0bf14836-6a6d-4745-b35e-77c2f97e9955"
      },
      "source": [
        "df['window'] = df.depth.rolling(3).sum()\n",
        "df['window_diff'] = df.window.diff()\n",
        "df.query('window_diff > 0').shape"
      ],
      "id": "9zQjYFWsPDDP",
      "execution_count": 6,
      "outputs": [
        {
          "output_type": "execute_result",
          "data": {
            "text/plain": [
              "(1724, 4)"
            ]
          },
          "metadata": {},
          "execution_count": 6
        }
      ]
    },
    {
      "cell_type": "code",
      "metadata": {
        "id": "9vrpm5PpQvDX"
      },
      "source": [
        ""
      ],
      "id": "9vrpm5PpQvDX",
      "execution_count": 6,
      "outputs": []
    }
  ]
}