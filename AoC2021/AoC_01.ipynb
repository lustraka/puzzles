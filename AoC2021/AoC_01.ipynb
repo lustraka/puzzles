{
  "nbformat": 4,
  "nbformat_minor": 5,
  "metadata": {
    "kernelspec": {
      "display_name": "Python 3",
      "language": "python",
      "name": "python3"
    },
    "language_info": {
      "codemirror_mode": {
        "name": "ipython",
        "version": 3
      },
      "file_extension": ".py",
      "mimetype": "text/x-python",
      "name": "python",
      "nbconvert_exporter": "python",
      "pygments_lexer": "ipython3",
      "version": "3.7.11"
    },
    "colab": {
      "name": "AoC_01.ipynb",
      "provenance": []
    }
  },
  "cells": [
    {
      "cell_type": "markdown",
      "metadata": {
        "id": "k_W-5eM-Msi7"
      },
      "source": [
        "# Advent of Code Puzzles\n",
        "[Advent of Code 2021](https://adventofcode.com/2021)"
      ],
      "id": "k_W-5eM-Msi7"
    },
    {
      "cell_type": "code",
      "metadata": {
        "id": "0quS8PxuN2DI"
      },
      "source": [
        "import requests\n",
        "import pandas as pd\n",
        "import numpy as np"
      ],
      "id": "0quS8PxuN2DI",
      "execution_count": 4,
      "outputs": []
    },
    {
      "cell_type": "code",
      "metadata": {
        "id": "RDcDU0xfM5tJ",
        "outputId": "ac992d2c-c60b-482e-91e7-eda56475f537",
        "colab": {
          "base_uri": "https://localhost:8080/",
          "height": 35
        }
      },
      "source": [
        "with open('data.txt', 'r') as file:\n",
        "  data = file.read()\n",
        "data[:100]"
      ],
      "id": "RDcDU0xfM5tJ",
      "execution_count": 3,
      "outputs": [
        {
          "output_type": "execute_result",
          "data": {
            "application/vnd.google.colaboratory.intrinsic+json": {
              "type": "string"
            },
            "text/plain": [
              "'141\\n140\\n160\\n161\\n162\\n172\\n178\\n185\\n184\\n186\\n187\\n195\\n216\\n239\\n243\\n247\\n248\\n243\\n224\\n230\\n227\\n228\\n229\\n231\\n220\\n'"
            ]
          },
          "metadata": {},
          "execution_count": 3
        }
      ]
    },
    {
      "cell_type": "code",
      "metadata": {
        "id": "2WYWgU8_NUMf",
        "outputId": "fdaffb00-becb-46de-d82e-cf621ae26cf3",
        "colab": {
          "base_uri": "https://localhost:8080/",
          "height": 424
        }
      },
      "source": [
        "df = pd.DataFrame([int(d) for d in data.split('\\n')], columns=['depth'])\n",
        "df['diff'] = df.depth.diff()\n",
        "df"
      ],
      "id": "2WYWgU8_NUMf",
      "execution_count": 8,
      "outputs": [
        {
          "output_type": "execute_result",
          "data": {
            "text/html": [
              "<div>\n",
              "<style scoped>\n",
              "    .dataframe tbody tr th:only-of-type {\n",
              "        vertical-align: middle;\n",
              "    }\n",
              "\n",
              "    .dataframe tbody tr th {\n",
              "        vertical-align: top;\n",
              "    }\n",
              "\n",
              "    .dataframe thead th {\n",
              "        text-align: right;\n",
              "    }\n",
              "</style>\n",
              "<table border=\"1\" class=\"dataframe\">\n",
              "  <thead>\n",
              "    <tr style=\"text-align: right;\">\n",
              "      <th></th>\n",
              "      <th>depth</th>\n",
              "      <th>diff</th>\n",
              "    </tr>\n",
              "  </thead>\n",
              "  <tbody>\n",
              "    <tr>\n",
              "      <th>0</th>\n",
              "      <td>141</td>\n",
              "      <td>NaN</td>\n",
              "    </tr>\n",
              "    <tr>\n",
              "      <th>1</th>\n",
              "      <td>140</td>\n",
              "      <td>-1.0</td>\n",
              "    </tr>\n",
              "    <tr>\n",
              "      <th>2</th>\n",
              "      <td>160</td>\n",
              "      <td>20.0</td>\n",
              "    </tr>\n",
              "    <tr>\n",
              "      <th>3</th>\n",
              "      <td>161</td>\n",
              "      <td>1.0</td>\n",
              "    </tr>\n",
              "    <tr>\n",
              "      <th>4</th>\n",
              "      <td>162</td>\n",
              "      <td>1.0</td>\n",
              "    </tr>\n",
              "    <tr>\n",
              "      <th>...</th>\n",
              "      <td>...</td>\n",
              "      <td>...</td>\n",
              "    </tr>\n",
              "    <tr>\n",
              "      <th>1995</th>\n",
              "      <td>9081</td>\n",
              "      <td>1.0</td>\n",
              "    </tr>\n",
              "    <tr>\n",
              "      <th>1996</th>\n",
              "      <td>9084</td>\n",
              "      <td>3.0</td>\n",
              "    </tr>\n",
              "    <tr>\n",
              "      <th>1997</th>\n",
              "      <td>9089</td>\n",
              "      <td>5.0</td>\n",
              "    </tr>\n",
              "    <tr>\n",
              "      <th>1998</th>\n",
              "      <td>9102</td>\n",
              "      <td>13.0</td>\n",
              "    </tr>\n",
              "    <tr>\n",
              "      <th>1999</th>\n",
              "      <td>9105</td>\n",
              "      <td>3.0</td>\n",
              "    </tr>\n",
              "  </tbody>\n",
              "</table>\n",
              "<p>2000 rows × 2 columns</p>\n",
              "</div>"
            ],
            "text/plain": [
              "      depth  diff\n",
              "0       141   NaN\n",
              "1       140  -1.0\n",
              "2       160  20.0\n",
              "3       161   1.0\n",
              "4       162   1.0\n",
              "...     ...   ...\n",
              "1995   9081   1.0\n",
              "1996   9084   3.0\n",
              "1997   9089   5.0\n",
              "1998   9102  13.0\n",
              "1999   9105   3.0\n",
              "\n",
              "[2000 rows x 2 columns]"
            ]
          },
          "metadata": {},
          "execution_count": 8
        }
      ]
    },
    {
      "cell_type": "code",
      "metadata": {
        "id": "p6mJVyA-OJKY",
        "outputId": "8001f446-beb7-4262-889a-902ffed3d7a5",
        "colab": {
          "base_uri": "https://localhost:8080/"
        }
      },
      "source": [
        "df.query('diff > 0').shape"
      ],
      "id": "p6mJVyA-OJKY",
      "execution_count": 10,
      "outputs": [
        {
          "output_type": "execute_result",
          "data": {
            "text/plain": [
              "(1692, 2)"
            ]
          },
          "metadata": {},
          "execution_count": 10
        }
      ]
    },
    {
      "cell_type": "code",
      "metadata": {
        "id": "lBoWoNLGRRNO",
        "outputId": "ce481d21-772e-4786-b043-5eabc0a7ba75",
        "colab": {
          "base_uri": "https://localhost:8080/"
        }
      },
      "source": [
        "df.depth.astype('float', copy=False)"
      ],
      "id": "lBoWoNLGRRNO",
      "execution_count": 13,
      "outputs": [
        {
          "output_type": "execute_result",
          "data": {
            "text/plain": [
              "0        141.0\n",
              "1        140.0\n",
              "2        160.0\n",
              "3        161.0\n",
              "4        162.0\n",
              "         ...  \n",
              "1995    9081.0\n",
              "1996    9084.0\n",
              "1997    9089.0\n",
              "1998    9102.0\n",
              "1999    9105.0\n",
              "Name: depth, Length: 2000, dtype: float64"
            ]
          },
          "metadata": {},
          "execution_count": 13
        }
      ]
    },
    {
      "cell_type": "code",
      "metadata": {
        "id": "9zQjYFWsPDDP",
        "outputId": "8833ec70-74ca-4c4d-ad55-f8a6ea64c89b",
        "colab": {
          "base_uri": "https://localhost:8080/"
        }
      },
      "source": [
        "df['window'] = df.depth.rolling(3).sum()\n",
        "df['window_diff'] = df.window.diff()\n",
        "df.query('window_diff > 0').shape"
      ],
      "id": "9zQjYFWsPDDP",
      "execution_count": 18,
      "outputs": [
        {
          "output_type": "execute_result",
          "data": {
            "text/plain": [
              "(1724, 4)"
            ]
          },
          "metadata": {},
          "execution_count": 18
        }
      ]
    },
    {
      "cell_type": "code",
      "metadata": {
        "id": "9vrpm5PpQvDX"
      },
      "source": [
        ""
      ],
      "id": "9vrpm5PpQvDX",
      "execution_count": null,
      "outputs": []
    }
  ]
}
