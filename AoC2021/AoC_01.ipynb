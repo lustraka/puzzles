{
  "nbformat": 4,
  "nbformat_minor": 5,
  "metadata": {
    "kernelspec": {
      "display_name": "Python 3",
      "language": "python",
      "name": "python3"
    },
    "language_info": {
      "codemirror_mode": {
        "name": "ipython",
        "version": 3
      },
      "file_extension": ".py",
      "mimetype": "text/x-python",
      "name": "python",
      "nbconvert_exporter": "python",
      "pygments_lexer": "ipython3",
      "version": "3.7.11"
    },
    "colab": {
      "name": "AoC_01.ipynb",
      "provenance": [],
      "include_colab_link": true
    }
  },
  "cells": [
    {
      "cell_type": "markdown",
      "metadata": {
        "id": "view-in-github",
        "colab_type": "text"
      },
      "source": [
        "<a href=\"https://colab.research.google.com/github/lustraka/puzzles/blob/main/AoC2021/AoC_01.ipynb\" target=\"_parent\"><img src=\"https://colab.research.google.com/assets/colab-badge.svg\" alt=\"Open In Colab\"/></a>"
      ]
    },
    {
      "cell_type": "markdown",
      "metadata": {
        "id": "k_W-5eM-Msi7"
      },
      "source": [
        "# Advent of Code Puzzles\n",
        "[Advent of Code 2021](https://adventofcode.com/2021)"
      ],
      "id": "k_W-5eM-Msi7"
    },
    {
      "cell_type": "code",
      "metadata": {
        "id": "0quS8PxuN2DI"
      },
      "source": [
        "import requests\n",
        "import pandas as pd\n",
        "import numpy as np\n",
        "path = 'https://raw.githubusercontent.com/lustraka/puzzles/main/AoC2021/data/'"
      ],
      "id": "0quS8PxuN2DI",
      "execution_count": 1,
      "outputs": []
    },
    {
      "cell_type": "markdown",
      "metadata": {
        "id": "I4v1nfvExp4_"
      },
      "source": [
        "## Day 3: Binary Diagnostic"
      ],
      "id": "I4v1nfvExp4_"
    },
    {
      "cell_type": "code",
      "metadata": {
        "id": "Q5kizvLCxygU"
      },
      "source": [
        "example = \"\"\"00100\n",
        "11110\n",
        "10110\n",
        "10111\n",
        "10101\n",
        "01111\n",
        "00111\n",
        "11100\n",
        "10000\n",
        "11001\n",
        "00010\n",
        "01010\"\"\".split()"
      ],
      "id": "Q5kizvLCxygU",
      "execution_count": 2,
      "outputs": []
    },
    {
      "cell_type": "code",
      "metadata": {
        "id": "YhQR_XhfxzM2",
        "colab": {
          "base_uri": "https://localhost:8080/"
        },
        "outputId": "457adcf2-07e7-45f4-a769-0b8778624c03"
      },
      "source": [
        "matrix = [list(n) for n in example]\n",
        "matrix"
      ],
      "id": "YhQR_XhfxzM2",
      "execution_count": 41,
      "outputs": [
        {
          "output_type": "execute_result",
          "data": {
            "text/plain": [
              "[['0', '0', '1', '0', '0'],\n",
              " ['1', '1', '1', '1', '0'],\n",
              " ['1', '0', '1', '1', '0'],\n",
              " ['1', '0', '1', '1', '1'],\n",
              " ['1', '0', '1', '0', '1'],\n",
              " ['0', '1', '1', '1', '1'],\n",
              " ['0', '0', '1', '1', '1'],\n",
              " ['1', '1', '1', '0', '0'],\n",
              " ['1', '0', '0', '0', '0'],\n",
              " ['1', '1', '0', '0', '1'],\n",
              " ['0', '0', '0', '1', '0'],\n",
              " ['0', '1', '0', '1', '0']]"
            ]
          },
          "metadata": {},
          "execution_count": 41
        }
      ]
    },
    {
      "cell_type": "code",
      "metadata": {
        "id": "Dh5MJ6LeCGbA"
      },
      "source": [
        "def bin_to_int(list):\n",
        "  return int('0b'+\"\".join(np.array(list).astype(str)), base=2)\n",
        "\n",
        "def solve_part1(data):\n",
        "  matrix = [list(n) for n in data]\n",
        "  rates = [(round(np.mean(line)), round(1-np.mean(line))) for line in np.array(matrix).T.astype(int)]\n",
        "  rates_int = [bin_to_int(l) for l in np.array(rates).T]\n",
        "  return np.multiply(*rates_int)"
      ],
      "id": "Dh5MJ6LeCGbA",
      "execution_count": 42,
      "outputs": []
    },
    {
      "cell_type": "code",
      "metadata": {
        "id": "Bi6Lv2uOCFxQ",
        "colab": {
          "base_uri": "https://localhost:8080/"
        },
        "outputId": "82b84db0-4ad5-430a-c5ca-b57b8bde2622"
      },
      "source": [
        "solve_part1(example)"
      ],
      "id": "Bi6Lv2uOCFxQ",
      "execution_count": 43,
      "outputs": [
        {
          "output_type": "execute_result",
          "data": {
            "text/plain": [
              "198"
            ]
          },
          "metadata": {},
          "execution_count": 43
        }
      ]
    },
    {
      "cell_type": "code",
      "metadata": {
        "id": "-ChHmJF_D4E4",
        "colab": {
          "base_uri": "https://localhost:8080/"
        },
        "outputId": "899070c1-4bca-4020-fb87-340b53ccf6a1"
      },
      "source": [
        "r = requests.get(path+'AoC2021_03.txt')\n",
        "data = r.text.split('\\n')[:-1]\n",
        "solve_part1(data)"
      ],
      "id": "-ChHmJF_D4E4",
      "execution_count": 44,
      "outputs": [
        {
          "output_type": "execute_result",
          "data": {
            "text/plain": [
              "3813416"
            ]
          },
          "metadata": {},
          "execution_count": 44
        }
      ]
    },
    {
      "cell_type": "code",
      "metadata": {
        "id": "MgjSYl0exy_O"
      },
      "source": [
        "def solve_part2(data):\n",
        "  matrix = [list(n) for n in data]\n",
        "  # Create dataframe of positions\n",
        "  # Columns' names are integers by default\n",
        "  df = pd.DataFrame(matrix).astype(int)\n",
        "\n",
        "  # Initialize a dataframe\n",
        "  df_o2 = df.copy()\n",
        "  # Apply the bit criteria\n",
        "  for col in range(df.shape[1]):\n",
        "    print('O2', col)\n",
        "    # Count 0 and 1 in stage col\n",
        "    vc_o2 = df_o2[col].value_counts().to_dict()\n",
        "    # Decide which number keep for o2\n",
        "    if vc_o2.get(1, 0) > vc_o2.get(0, 0) or vc_o2.get(1, 0) == vc_o2.get(0, 0): \n",
        "      df_o2 = df_o2.loc[df_o2[col] == 1]\n",
        "    else:\n",
        "      df_o2 = df_o2.loc[df_o2[col] == 0]\n",
        "    # If there is only one number, stop\n",
        "    if df_o2.shape[0] == 1:\n",
        "      break\n",
        "  print('\\n', df_o2, '\\n')\n",
        "    \n",
        "  # Initialize a dataframe\n",
        "  df_co = df.copy()\n",
        "  # Apply the bit criteria\n",
        "  for col in range(df.shape[1]):\n",
        "    print('CO2', col)\n",
        "    # Count 0 and 1 in stage col\n",
        "    vc_co = df_co[col].value_counts().to_dict()\n",
        "    # Decide which number keep for co2\n",
        "    if vc_co.get(1, 0) > vc_co.get(0, 0) or vc_co.get(1, 0) == vc_co.get(0, 0): \n",
        "      df_co = df_co.loc[df_co[col] == 0]\n",
        "    else:\n",
        "      df_co = df_co.loc[df_co[col] == 1]\n",
        "    # If there is only one number, stop\n",
        "    if df_co.shape[0] == 1:\n",
        "      break\n",
        "  print('\\n', df_co, '\\n')\n",
        "\n",
        "  return bin_to_int(df_o2.iloc[0].to_list())*bin_to_int(df_co.iloc[0].to_list())"
      ],
      "id": "MgjSYl0exy_O",
      "execution_count": 51,
      "outputs": []
    },
    {
      "cell_type": "code",
      "metadata": {
        "id": "W5XsuAS5JTEk",
        "colab": {
          "base_uri": "https://localhost:8080/"
        },
        "outputId": "680de633-8f48-4362-b32d-2a6eba66c137"
      },
      "source": [
        "solve_part2(example)\n",
        "# Should be 230"
      ],
      "id": "W5XsuAS5JTEk",
      "execution_count": 52,
      "outputs": [
        {
          "output_type": "stream",
          "name": "stdout",
          "text": [
            "O2 0\n",
            "O2 1\n",
            "O2 2\n",
            "O2 3\n",
            "O2 4\n",
            "\n",
            "    0  1  2  3  4\n",
            "3  1  0  1  1  1 \n",
            "\n",
            "CO2 0\n",
            "CO2 1\n",
            "CO2 2\n",
            "\n",
            "     0  1  2  3  4\n",
            "11  0  1  0  1  0 \n",
            "\n"
          ]
        },
        {
          "output_type": "execute_result",
          "data": {
            "text/plain": [
              "230"
            ]
          },
          "metadata": {},
          "execution_count": 52
        }
      ]
    },
    {
      "cell_type": "code",
      "metadata": {
        "id": "gOk0uqZBD4BP",
        "outputId": "5ed07806-d8c3-46ec-fa11-daee0933a0d1",
        "colab": {
          "base_uri": "https://localhost:8080/"
        }
      },
      "source": [
        "solve_part2(data)\n",
        "# Should be 2990784"
      ],
      "id": "gOk0uqZBD4BP",
      "execution_count": 53,
      "outputs": [
        {
          "output_type": "stream",
          "name": "stdout",
          "text": [
            "O2 0\n",
            "O2 1\n",
            "O2 2\n",
            "O2 3\n",
            "O2 4\n",
            "O2 5\n",
            "O2 6\n",
            "O2 7\n",
            "O2 8\n",
            "O2 9\n",
            "O2 10\n",
            "\n",
            "      0   1   2   3   4   5   6   7   8   9   10  11\n",
            "543   1   0   0   1   1   1   0   1   1   1   1   0 \n",
            "\n",
            "CO2 0\n",
            "CO2 1\n",
            "CO2 2\n",
            "CO2 3\n",
            "CO2 4\n",
            "CO2 5\n",
            "CO2 6\n",
            "CO2 7\n",
            "\n",
            "      0   1   2   3   4   5   6   7   8   9   10  11\n",
            "324   0   1   0   0   1   0   1   0   0   0   0   0 \n",
            "\n"
          ]
        },
        {
          "output_type": "execute_result",
          "data": {
            "text/plain": [
              "2990784"
            ]
          },
          "metadata": {},
          "execution_count": 53
        }
      ]
    },
    {
      "cell_type": "markdown",
      "metadata": {
        "id": "KK9BpP00yfCg"
      },
      "source": [
        "## Day 2: Dive!"
      ],
      "id": "KK9BpP00yfCg"
    },
    {
      "cell_type": "code",
      "metadata": {
        "id": "ngPIpM65yffA"
      },
      "source": [
        "example = \"\"\"forward 5\n",
        "down 5\n",
        "forward 8\n",
        "up 3\n",
        "down 8\n",
        "forward 2\"\"\".split(\"\\n\")"
      ],
      "id": "ngPIpM65yffA",
      "execution_count": null,
      "outputs": []
    },
    {
      "cell_type": "code",
      "metadata": {
        "id": "M9-jjmiTygUh"
      },
      "source": [
        "def get_hp(row):\n",
        "  if row['direction'] == 'forward':\n",
        "    return row['value']\n",
        "  else:\n",
        "    return 0\n",
        "\n",
        "def get_depth(row):\n",
        "  if row['direction'] == 'down':\n",
        "    return row['value']\n",
        "  elif row['direction'] == 'up':\n",
        "    return -row['value']\n",
        "  else:\n",
        "    return 0\n",
        "\n",
        "def solve_part1(data):\n",
        "  \"\"\"Calculate a horizontal position and depth\"\"\"\n",
        "\n",
        "  df = pd.DataFrame(data, columns=['instruction'])\n",
        "  df['direction'] = df.instruction.apply(lambda s: s.split()[0])\n",
        "  df['value'] = df.instruction.apply(lambda s: int(s.split()[1]))\n",
        "  df['hp'] = df.apply(get_hp, axis=1)\n",
        "  df['depth'] = df.apply(get_depth, axis=1)\n",
        "  result = df.hp.sum()*df.depth.sum()\n",
        "  return result"
      ],
      "id": "M9-jjmiTygUh",
      "execution_count": null,
      "outputs": []
    },
    {
      "cell_type": "code",
      "metadata": {
        "id": "eDlWpLJWygGv",
        "colab": {
          "base_uri": "https://localhost:8080/"
        },
        "outputId": "a27a33a2-efe9-46d5-d103-e6db1e0fb3a9"
      },
      "source": [
        "solve_part1(example)"
      ],
      "id": "eDlWpLJWygGv",
      "execution_count": null,
      "outputs": [
        {
          "output_type": "execute_result",
          "data": {
            "text/plain": [
              "150"
            ]
          },
          "metadata": {},
          "execution_count": 32
        }
      ]
    },
    {
      "cell_type": "code",
      "metadata": {
        "id": "dF-vVnuv1l0W",
        "colab": {
          "base_uri": "https://localhost:8080/"
        },
        "outputId": "b4d8a654-1742-48cc-8b9b-9e69ceaa6c3b"
      },
      "source": [
        "r = requests.get(path+'AoC2021_02.txt')\n",
        "data = r.text.split('\\n')[:-1]\n",
        "solve_part1(data)"
      ],
      "id": "dF-vVnuv1l0W",
      "execution_count": null,
      "outputs": [
        {
          "output_type": "execute_result",
          "data": {
            "text/plain": [
              "2036120"
            ]
          },
          "metadata": {},
          "execution_count": 33
        }
      ]
    },
    {
      "cell_type": "code",
      "metadata": {
        "id": "qXV1sy4lyf_f"
      },
      "source": [
        "def solve_part2(data):\n",
        "  \"\"\"Calculate a horizontal position and depth with aim\"\"\"\n",
        "\n",
        "  df = pd.DataFrame(data, columns=['instruction'])\n",
        "  df['direction'] = df.instruction.apply(lambda s: s.split()[0])\n",
        "  df['value'] = df.instruction.apply(lambda s: int(s.split()[1]))\n",
        "  hp, depth, aim = 0, 0, 0\n",
        "  for _, row in df.iterrows():\n",
        "    if row['direction'] == 'down':\n",
        "      aim = aim + row['value']\n",
        "    elif row['direction'] == 'up':\n",
        "      aim = aim - row['value']\n",
        "    else:\n",
        "      hp = hp + row['value']\n",
        "      depth = depth + aim * row['value']\n",
        "  return hp * depth"
      ],
      "id": "qXV1sy4lyf_f",
      "execution_count": null,
      "outputs": []
    },
    {
      "cell_type": "code",
      "metadata": {
        "id": "YhI0wSHO4H_m",
        "colab": {
          "base_uri": "https://localhost:8080/"
        },
        "outputId": "9b8979c2-84f7-4054-93bf-c78ccf7336f6"
      },
      "source": [
        "solve_part2(example)"
      ],
      "id": "YhI0wSHO4H_m",
      "execution_count": null,
      "outputs": [
        {
          "output_type": "execute_result",
          "data": {
            "text/plain": [
              "900"
            ]
          },
          "metadata": {},
          "execution_count": 50
        }
      ]
    },
    {
      "cell_type": "code",
      "metadata": {
        "id": "TO5BoYg-4H49",
        "colab": {
          "base_uri": "https://localhost:8080/"
        },
        "outputId": "d9d2bf72-5520-432e-dc07-5cd65596d4b0"
      },
      "source": [
        "solve_part2(data)"
      ],
      "id": "TO5BoYg-4H49",
      "execution_count": null,
      "outputs": [
        {
          "output_type": "execute_result",
          "data": {
            "text/plain": [
              "2015547716"
            ]
          },
          "metadata": {},
          "execution_count": 51
        }
      ]
    },
    {
      "cell_type": "code",
      "metadata": {
        "id": "nkk2BC9B4Hxe"
      },
      "source": [
        ""
      ],
      "id": "nkk2BC9B4Hxe",
      "execution_count": null,
      "outputs": []
    },
    {
      "cell_type": "markdown",
      "metadata": {
        "id": "cCGAPQ6GXnS7"
      },
      "source": [
        "## Day 1: Sonar Sweep"
      ],
      "id": "cCGAPQ6GXnS7"
    },
    {
      "cell_type": "code",
      "metadata": {
        "id": "A6DL52HkUyHF"
      },
      "source": [
        "r = requests.get(path+'AoC_01.txt')\n",
        "# Ignore empty string on the end\n",
        "data = r.text.split('\\n')[:-1]"
      ],
      "id": "A6DL52HkUyHF",
      "execution_count": null,
      "outputs": []
    },
    {
      "cell_type": "markdown",
      "metadata": {
        "id": "gJXIvNExXDBb"
      },
      "source": [
        "**Part One**: Count the number of times a depth measurement increases from the previous measurement."
      ],
      "id": "gJXIvNExXDBb"
    },
    {
      "cell_type": "code",
      "metadata": {
        "id": "2WYWgU8_NUMf",
        "colab": {
          "base_uri": "https://localhost:8080/",
          "height": 424
        },
        "outputId": "1eb09c09-59f4-4b70-af09-1e603e9f0f30"
      },
      "source": [
        "df = pd.DataFrame([int(d) for d in data], columns=['depth'])\n",
        "df['diff'] = df.depth.diff()\n",
        "df"
      ],
      "id": "2WYWgU8_NUMf",
      "execution_count": null,
      "outputs": [
        {
          "output_type": "execute_result",
          "data": {
            "text/html": [
              "<div>\n",
              "<style scoped>\n",
              "    .dataframe tbody tr th:only-of-type {\n",
              "        vertical-align: middle;\n",
              "    }\n",
              "\n",
              "    .dataframe tbody tr th {\n",
              "        vertical-align: top;\n",
              "    }\n",
              "\n",
              "    .dataframe thead th {\n",
              "        text-align: right;\n",
              "    }\n",
              "</style>\n",
              "<table border=\"1\" class=\"dataframe\">\n",
              "  <thead>\n",
              "    <tr style=\"text-align: right;\">\n",
              "      <th></th>\n",
              "      <th>depth</th>\n",
              "      <th>diff</th>\n",
              "    </tr>\n",
              "  </thead>\n",
              "  <tbody>\n",
              "    <tr>\n",
              "      <th>0</th>\n",
              "      <td>141</td>\n",
              "      <td>NaN</td>\n",
              "    </tr>\n",
              "    <tr>\n",
              "      <th>1</th>\n",
              "      <td>140</td>\n",
              "      <td>-1.0</td>\n",
              "    </tr>\n",
              "    <tr>\n",
              "      <th>2</th>\n",
              "      <td>160</td>\n",
              "      <td>20.0</td>\n",
              "    </tr>\n",
              "    <tr>\n",
              "      <th>3</th>\n",
              "      <td>161</td>\n",
              "      <td>1.0</td>\n",
              "    </tr>\n",
              "    <tr>\n",
              "      <th>4</th>\n",
              "      <td>162</td>\n",
              "      <td>1.0</td>\n",
              "    </tr>\n",
              "    <tr>\n",
              "      <th>...</th>\n",
              "      <td>...</td>\n",
              "      <td>...</td>\n",
              "    </tr>\n",
              "    <tr>\n",
              "      <th>1995</th>\n",
              "      <td>9081</td>\n",
              "      <td>1.0</td>\n",
              "    </tr>\n",
              "    <tr>\n",
              "      <th>1996</th>\n",
              "      <td>9084</td>\n",
              "      <td>3.0</td>\n",
              "    </tr>\n",
              "    <tr>\n",
              "      <th>1997</th>\n",
              "      <td>9089</td>\n",
              "      <td>5.0</td>\n",
              "    </tr>\n",
              "    <tr>\n",
              "      <th>1998</th>\n",
              "      <td>9102</td>\n",
              "      <td>13.0</td>\n",
              "    </tr>\n",
              "    <tr>\n",
              "      <th>1999</th>\n",
              "      <td>9105</td>\n",
              "      <td>3.0</td>\n",
              "    </tr>\n",
              "  </tbody>\n",
              "</table>\n",
              "<p>2000 rows × 2 columns</p>\n",
              "</div>"
            ],
            "text/plain": [
              "      depth  diff\n",
              "0       141   NaN\n",
              "1       140  -1.0\n",
              "2       160  20.0\n",
              "3       161   1.0\n",
              "4       162   1.0\n",
              "...     ...   ...\n",
              "1995   9081   1.0\n",
              "1996   9084   3.0\n",
              "1997   9089   5.0\n",
              "1998   9102  13.0\n",
              "1999   9105   3.0\n",
              "\n",
              "[2000 rows x 2 columns]"
            ]
          },
          "metadata": {},
          "execution_count": 3
        }
      ]
    },
    {
      "cell_type": "code",
      "metadata": {
        "id": "p6mJVyA-OJKY",
        "colab": {
          "base_uri": "https://localhost:8080/"
        },
        "outputId": "2f1eb440-f205-4dd9-8f2d-f8450ea530c1"
      },
      "source": [
        "df.query('diff > 0').shape"
      ],
      "id": "p6mJVyA-OJKY",
      "execution_count": null,
      "outputs": [
        {
          "output_type": "execute_result",
          "data": {
            "text/plain": [
              "(1692, 2)"
            ]
          },
          "metadata": {},
          "execution_count": 4
        }
      ]
    },
    {
      "cell_type": "markdown",
      "metadata": {
        "id": "eWoJmyMVXRBC"
      },
      "source": [
        "**Part Two**: Consider sums of a three-measurement sliding window. Your goal now is to count the number of times the sum of measurements in this sliding window increases from the previous sum."
      ],
      "id": "eWoJmyMVXRBC"
    },
    {
      "cell_type": "code",
      "metadata": {
        "id": "lBoWoNLGRRNO",
        "colab": {
          "base_uri": "https://localhost:8080/"
        },
        "outputId": "016c0825-ee30-4694-ce7f-826ee8dfb0b1"
      },
      "source": [
        "df.depth.astype('float', copy=False)"
      ],
      "id": "lBoWoNLGRRNO",
      "execution_count": null,
      "outputs": [
        {
          "output_type": "execute_result",
          "data": {
            "text/plain": [
              "0        141.0\n",
              "1        140.0\n",
              "2        160.0\n",
              "3        161.0\n",
              "4        162.0\n",
              "         ...  \n",
              "1995    9081.0\n",
              "1996    9084.0\n",
              "1997    9089.0\n",
              "1998    9102.0\n",
              "1999    9105.0\n",
              "Name: depth, Length: 2000, dtype: float64"
            ]
          },
          "metadata": {},
          "execution_count": 5
        }
      ]
    },
    {
      "cell_type": "code",
      "metadata": {
        "id": "9zQjYFWsPDDP",
        "colab": {
          "base_uri": "https://localhost:8080/"
        },
        "outputId": "0bf14836-6a6d-4745-b35e-77c2f97e9955"
      },
      "source": [
        "df['window'] = df.depth.rolling(3).sum()\n",
        "df['window_diff'] = df.window.diff()\n",
        "df.query('window_diff > 0').shape"
      ],
      "id": "9zQjYFWsPDDP",
      "execution_count": null,
      "outputs": [
        {
          "output_type": "execute_result",
          "data": {
            "text/plain": [
              "(1724, 4)"
            ]
          },
          "metadata": {},
          "execution_count": 6
        }
      ]
    },
    {
      "cell_type": "code",
      "metadata": {
        "id": "9vrpm5PpQvDX"
      },
      "source": [
        ""
      ],
      "id": "9vrpm5PpQvDX",
      "execution_count": null,
      "outputs": []
    }
  ]
}