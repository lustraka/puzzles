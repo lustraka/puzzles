{
  "nbformat": 4,
  "nbformat_minor": 5,
  "metadata": {
    "kernelspec": {
      "display_name": "Python 3",
      "language": "python",
      "name": "python3"
    },
    "language_info": {
      "codemirror_mode": {
        "name": "ipython",
        "version": 3
      },
      "file_extension": ".py",
      "mimetype": "text/x-python",
      "name": "python",
      "nbconvert_exporter": "python",
      "pygments_lexer": "ipython3",
      "version": "3.7.11"
    },
    "colab": {
      "name": "AoC_16.ipynb",
      "provenance": [],
      "include_colab_link": true
    }
  },
  "cells": [
    {
      "cell_type": "markdown",
      "metadata": {
        "id": "view-in-github",
        "colab_type": "text"
      },
      "source": [
        "<a href=\"https://colab.research.google.com/github/lustraka/puzzles/blob/main/AoC2021/AoC_16.ipynb\" target=\"_parent\"><img src=\"https://colab.research.google.com/assets/colab-badge.svg\" alt=\"Open In Colab\"/></a>"
      ]
    },
    {
      "cell_type": "markdown",
      "metadata": {
        "id": "dDZWBB4Ll10C"
      },
      "source": [
        "# Advent of Code Puzzles\n",
        "[Advent of Code 2021](https://adventofcode.com/2021) | [reddit/adventofcode](https://www.reddit.com/r/adventofcode/)"
      ],
      "id": "dDZWBB4Ll10C"
    },
    {
      "cell_type": "code",
      "metadata": {
        "id": "ri3O_1i3l2mo"
      },
      "source": [
        "import requests\n",
        "import pandas as pd\n",
        "import numpy as np\n",
        "path = 'https://raw.githubusercontent.com/lustraka/puzzles/main/AoC2021/data/'"
      ],
      "id": "ri3O_1i3l2mo",
      "execution_count": 1,
      "outputs": []
    },
    {
      "cell_type": "code",
      "source": [
        "# Reverse a number\n",
        "def reverse_number(num):\n",
        "  temp = num\n",
        "  reversed_num = 0\n",
        "  while temp !=0:\n",
        "    reversed_num = (reversed_num * 10) + (temp % 10)\n",
        "    temp = temp // 10\n",
        "    print(temp, reversed_num)\n",
        "  return reversed_num\n",
        "reverse_number(12345)"
      ],
      "metadata": {
        "id": "jlJWbmrsM7CW",
        "outputId": "020c26c6-1a20-47ba-c024-7e4ef5cd56ab",
        "colab": {
          "base_uri": "https://localhost:8080/"
        }
      },
      "id": "jlJWbmrsM7CW",
      "execution_count": 6,
      "outputs": [
        {
          "output_type": "stream",
          "name": "stdout",
          "text": [
            "1234 5\n",
            "123 54\n",
            "12 543\n",
            "1 5432\n",
            "0 54321\n"
          ]
        },
        {
          "output_type": "execute_result",
          "data": {
            "text/plain": [
              "54321"
            ]
          },
          "metadata": {},
          "execution_count": 6
        }
      ]
    },
    {
      "cell_type": "markdown",
      "source": [
        "## [Day 17](https://adventofcode.com/2021/day/17): Trick Shot\n",
        "### Part I\n",
        "- **Unknown**: The highest `y` position the probe reaches on its trajectory to the target area.\n",
        "- **Data**: The `x` and `y` boundaries of the target area.\n",
        "- **Condition**:\n",
        "  - The probe starts at (0,0).\n",
        "  - The dynamics of the probe movement.\n",
        "- **Plan**:\n",
        "  - Analyze the solution [vinnymaker18/day17.py](https://gist.github.com/vinnymaker18/47953286f9b31687981cb40e59b7c75f) and [oac21day17.ipynb](https://colab.research.google.com/drive/1Zawd4KKsnzwl2D13PL2BSOjVI6zCKN1s?usp=sharing)\n",
        "  - Model trajectory of a probe $pos_{k+1} = f(pos_k)$"
      ],
      "metadata": {
        "id": "WDYMaBtcxK05"
      },
      "id": "WDYMaBtcxK05"
    },
    {
      "cell_type": "code",
      "source": [
        "def make_step(dx, dy):\n",
        "  \"\"\"Calculate the next position and velocity\"\"\"\n",
        "  x, y = 0, 0\n",
        "  while True:\n",
        "    x += dx\n",
        "    y += dy\n",
        "    dx += 1 if dx < 0 else (-1 if dx > 0 else 0)\n",
        "    dy -= 1\n",
        "    yield x, y\n",
        "\n",
        "dx, dy = 2, 2\n",
        "step = make_step(dx, dy)\n",
        "for i in range(9):\n",
        "  print(next(step))"
      ],
      "metadata": {
        "id": "fYxy-WxOGXJ8",
        "outputId": "5af726ff-3f70-4ec3-a222-4f4cab541ac2",
        "colab": {
          "base_uri": "https://localhost:8080/"
        }
      },
      "id": "fYxy-WxOGXJ8",
      "execution_count": 24,
      "outputs": [
        {
          "output_type": "stream",
          "name": "stdout",
          "text": [
            "(2, 2)\n",
            "(3, 3)\n",
            "(3, 3)\n",
            "(3, 2)\n",
            "(3, 0)\n",
            "(3, -3)\n",
            "(3, -7)\n",
            "(3, -12)\n",
            "(3, -18)\n"
          ]
        }
      ]
    },
    {
      "cell_type": "code",
      "source": [
        "# target = xmin, xmax, ymin, ymax\n",
        "target = [20, 30, -10, -5]\n",
        "\n"
      ],
      "metadata": {
        "id": "zWea16PKM699"
      },
      "id": "zWea16PKM699",
      "execution_count": null,
      "outputs": []
    },
    {
      "cell_type": "code",
      "source": [
        ""
      ],
      "metadata": {
        "id": "tlSvlIVwGXAN"
      },
      "id": "tlSvlIVwGXAN",
      "execution_count": 20,
      "outputs": []
    },
    {
      "cell_type": "code",
      "source": [
        ""
      ],
      "metadata": {
        "id": "B9UTRznDM6zv"
      },
      "id": "B9UTRznDM6zv",
      "execution_count": null,
      "outputs": []
    },
    {
      "cell_type": "code",
      "source": [
        "def launch(vx, vy, xl, xr, y1, y2):\n",
        "    # y1, y2 denote depth below the surface\n",
        "    x, y = 0, 0\n",
        "    zone_reached, highest = 0, 0\n",
        "    while y >= -y2 and x <= xr:\n",
        "        highest = max(highest, y)\n",
        "        if xl <= x <= xr and -y2 <= y <= -y1:\n",
        "            zone_reached = 1\n",
        "\n",
        "        x, y = x + vx, y + vy\n",
        "        vy -= 1\n",
        "        vx += 1 if vx < 0 else (-1 if vx > 0 else 0)\n",
        "\n",
        "    return (zone_reached, highest)\n",
        "\n",
        "def main():\n",
        "    xl, xr = 20, 30\n",
        "    y1, y2 = -10, -5\n",
        "\n",
        "    besty, total = 0, 0\n",
        "    for vx in range(xr + 1):\n",
        "        for vy in range(-200, 200):\n",
        "            reached, y = launch(vx, vy, xl, xr, y1, y2)\n",
        "            total += reached\n",
        "            if reached:\n",
        "                besty = max(besty, y)\n",
        "\n",
        "    print(total, besty)\n",
        "\n",
        "main()"
      ],
      "metadata": {
        "id": "4-rk45608WGy",
        "outputId": "743a2819-4be0-4f8c-8001-645bcf5c34b1",
        "colab": {
          "base_uri": "https://localhost:8080/"
        }
      },
      "id": "4-rk45608WGy",
      "execution_count": null,
      "outputs": [
        {
          "output_type": "stream",
          "name": "stdout",
          "text": [
            "0 0\n"
          ]
        }
      ]
    },
    {
      "cell_type": "code",
      "source": [
        "def yreach(y0):\n",
        "  s = 0\n",
        "  yield s\n",
        "  for y in reversed(range(y0+1)):\n",
        "    y += s\n",
        "    yield s\n",
        "\n",
        "# target_x = range(20,30+1)\n",
        "# target_y = range(-10,-5+1)\n",
        "\n",
        "target_x = range(153,199+1)\n",
        "target_y = range(-114,-75+1)\n",
        "\n",
        "def get_in_range(v0, r, force=-1, drag=False):\n",
        "  pos = 0\n",
        "  v = v0\n",
        "  i = 0\n",
        "  mx = 1000\n",
        "  flag = False\n",
        "  s = set()\n",
        "  mpos = 0\n",
        "  while not flag or pos in r:\n",
        "    #print(pos)\n",
        "    pos += v\n",
        "    if not (drag and v == 0):\n",
        "      v += force\n",
        "    i += 1\n",
        "    if pos in r:\n",
        "      s.add(i)\n",
        "      flag = True\n",
        "    if i > mx:\n",
        "      break\n",
        "    \n",
        "    mpos = max(mpos, pos)\n",
        "  return s, mpos\n",
        "\n",
        "def scan_starting_values(vr, r, force=-1, drag=False):\n",
        "  d = {}\n",
        "  for v0 in vr:\n",
        "    d[v0], _ = get_in_range(v0, r, force, drag)\n",
        "  return d\n",
        "\n",
        "\n",
        "\n",
        "xp = scan_starting_values(range(2000), target_x, drag=True)\n",
        "yp = scan_starting_values(range(-2000,2000), target_y, drag=False)\n",
        "\n",
        "Q = set()\n",
        "\n",
        "for kx, vx in xp.items():\n",
        "  for ky, vy in yp.items():\n",
        "    if vx & vy:\n",
        "      Q.add( (ky, kx))\n",
        "\n",
        "besty = max(Q)[0]\n",
        "\n",
        "print('part 1:', get_in_range(besty, range(1))[1])\n",
        "print('part 2:', len(Q))"
      ],
      "metadata": {
        "id": "AJM7dCds9f9B",
        "outputId": "8e675301-f993-4399-b5a5-8479618ceead",
        "colab": {
          "base_uri": "https://localhost:8080/"
        }
      },
      "id": "AJM7dCds9f9B",
      "execution_count": null,
      "outputs": [
        {
          "output_type": "stream",
          "name": "stdout",
          "text": [
            "part 1: 6441\n",
            "part 2: 3186\n"
          ]
        }
      ]
    },
    {
      "cell_type": "markdown",
      "source": [
        "### Part II\n",
        "- **Unknown**: \n",
        "- **Data**: \n",
        "- **Condition**:\n",
        "  - \n",
        "  - \n",
        "- **Plan**:\n",
        "  - \n"
      ],
      "metadata": {
        "id": "URGAIvdKxOiY"
      },
      "id": "URGAIvdKxOiY"
    },
    {
      "cell_type": "markdown",
      "metadata": {
        "id": "TnFAd8h1l8NI"
      },
      "source": [
        "## [Day 16](https://adventofcode.com/2021/day/16): Packet Decoder\n",
        "### Part I\n",
        "- **Unknown**: The sum of the version numbers in a transmission.\n",
        "- **Data**: \n",
        "- **Condition**:\n",
        "  - \n",
        "  - \n",
        "- **Plan**:\n",
        "  - \n",
        "\n"
      ],
      "id": "TnFAd8h1l8NI"
    },
    {
      "cell_type": "code",
      "metadata": {
        "id": "HZXVSS9bl736"
      },
      "source": [
        "example = \"\"\"\"\"\""
      ],
      "id": "HZXVSS9bl736",
      "execution_count": null,
      "outputs": []
    },
    {
      "cell_type": "markdown",
      "source": [
        "### Part II\n",
        "- **Unknown**: \n",
        "- **Data**: \n",
        "- **Condition**:\n",
        "  - \n",
        "  - \n",
        "- **Plan**:\n",
        "  - \n"
      ],
      "metadata": {
        "id": "irfFvcGTuewH"
      },
      "id": "irfFvcGTuewH"
    }
  ]
}