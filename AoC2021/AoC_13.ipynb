{
  "nbformat": 4,
  "nbformat_minor": 5,
  "metadata": {
    "kernelspec": {
      "display_name": "Python 3",
      "language": "python",
      "name": "python3"
    },
    "language_info": {
      "codemirror_mode": {
        "name": "ipython",
        "version": 3
      },
      "file_extension": ".py",
      "mimetype": "text/x-python",
      "name": "python",
      "nbconvert_exporter": "python",
      "pygments_lexer": "ipython3",
      "version": "3.7.11"
    },
    "colab": {
      "name": "AoC_13.ipynb",
      "provenance": [],
      "include_colab_link": true
    }
  },
  "cells": [
    {
      "cell_type": "markdown",
      "metadata": {
        "id": "view-in-github",
        "colab_type": "text"
      },
      "source": [
        "<a href=\"https://colab.research.google.com/github/lustraka/puzzles/blob/main/AoC2021/AoC_13.ipynb\" target=\"_parent\"><img src=\"https://colab.research.google.com/assets/colab-badge.svg\" alt=\"Open In Colab\"/></a>"
      ]
    },
    {
      "cell_type": "markdown",
      "metadata": {
        "id": "dDZWBB4Ll10C"
      },
      "source": [
        "# Advent of Code Puzzles\n",
        "[Advent of Code 2021](https://adventofcode.com/2021) | [reddit/adventofcode](https://www.reddit.com/r/adventofcode/)"
      ],
      "id": "dDZWBB4Ll10C"
    },
    {
      "cell_type": "code",
      "metadata": {
        "id": "ri3O_1i3l2mo"
      },
      "source": [
        "import requests\n",
        "import pandas as pd\n",
        "import numpy as np\n",
        "import re\n",
        "path = 'https://raw.githubusercontent.com/lustraka/puzzles/main/AoC2021/data/'"
      ],
      "id": "ri3O_1i3l2mo",
      "execution_count": 1,
      "outputs": []
    },
    {
      "cell_type": "markdown",
      "metadata": {
        "id": "TnFAd8h1l8NI"
      },
      "source": [
        "## [Day 13](https://adventofcode.com/2021/day/13): Transparent Origami\n",
        "### Part I\n",
        "- **Unknown**: The number of dots visible after completing just the first fold instruction on the transparent paper.\n",
        "- **Data**: Coordinates of dots and folding instructions\n",
        "- **Condition**:\n",
        "  - [0,0] represents the top-left coordinates\n",
        "  - `x` increases to the right, `y` increases downward\n",
        "  - `fold along y=...` instruction means folding the paper up\n",
        "  - `fold along x=xxx` instruction means folding the paper left\n",
        "- **Plan**:\n",
        "  - Initialize the matrix\n",
        "  - Write a function for folding\n",
        "  - Count the dots after folding\n"
      ],
      "id": "TnFAd8h1l8NI"
    },
    {
      "cell_type": "code",
      "metadata": {
        "id": "HZXVSS9bl736"
      },
      "source": [
        "example = \"\"\"6,10\n",
        "0,14\n",
        "9,10\n",
        "0,3\n",
        "10,4\n",
        "4,11\n",
        "6,0\n",
        "6,12\n",
        "4,1\n",
        "0,13\n",
        "10,12\n",
        "3,4\n",
        "3,0\n",
        "8,4\n",
        "1,10\n",
        "2,14\n",
        "8,10\n",
        "9,0\n",
        "\n",
        "fold along y=7\n",
        "fold along x=5\"\"\""
      ],
      "id": "HZXVSS9bl736",
      "execution_count": 2,
      "outputs": []
    },
    {
      "cell_type": "code",
      "source": [
        "def parse(input):\n",
        "  lines = input.split('\\n')\n",
        "  dots = []\n",
        "  folds = []\n",
        "  for line in lines:\n",
        "    if ',' in line:\n",
        "      dots.append(np.array(line.split(',')).astype(int))\n",
        "    if '=' in line:\n",
        "      fold = re.findall('[x,y]=\\d+', line)[0].split('=')\n",
        "      folds.append([fold[0],int(fold[1])])\n",
        "  return np.array(dots), folds\n",
        "\n",
        "dots, folds = parse(example)\n",
        "print(dots[:4])\n",
        "print(folds)"
      ],
      "metadata": {
        "id": "Zui2ChCYW5S6",
        "outputId": "3620fb96-64df-46f9-c28a-12d02dec509d",
        "colab": {
          "base_uri": "https://localhost:8080/"
        }
      },
      "id": "Zui2ChCYW5S6",
      "execution_count": 3,
      "outputs": [
        {
          "output_type": "stream",
          "name": "stdout",
          "text": [
            "[[ 6 10]\n",
            " [ 0 14]\n",
            " [ 9 10]\n",
            " [ 0  3]]\n",
            "[['y', 7], ['x', 5]]\n"
          ]
        }
      ]
    },
    {
      "cell_type": "code",
      "source": [
        "r = requests.get(path+'AoC2021_13.txt')\n",
        "dots, folds = parse(r.text)\n",
        "print(dots[-2:])\n",
        "print(folds[-2:])"
      ],
      "metadata": {
        "id": "LOgWQD6N7jss",
        "outputId": "afa5ddbb-672e-4dd3-ddb4-9bdae756a8d6",
        "colab": {
          "base_uri": "https://localhost:8080/"
        }
      },
      "id": "LOgWQD6N7jss",
      "execution_count": 4,
      "outputs": [
        {
          "output_type": "stream",
          "name": "stdout",
          "text": [
            "[[954 841]\n",
            " [960 278]]\n",
            "[['y', 13], ['y', 6]]\n"
          ]
        }
      ]
    },
    {
      "cell_type": "code",
      "source": [
        "pap = np.zeros(dots.max(axis=0)+1).astype(int)\n",
        "for dot in dots:\n",
        "  pap[dot[0], dot[1]] = 1\n",
        "pap"
      ],
      "metadata": {
        "id": "78TkviHRW57Z",
        "outputId": "45d0ae46-1182-4f1f-f9f7-c317dcbdd8c2",
        "colab": {
          "base_uri": "https://localhost:8080/"
        }
      },
      "id": "78TkviHRW57Z",
      "execution_count": 5,
      "outputs": [
        {
          "output_type": "execute_result",
          "data": {
            "text/plain": [
              "array([[0, 0, 0, ..., 0, 0, 0],\n",
              "       [0, 0, 0, ..., 0, 0, 0],\n",
              "       [0, 0, 0, ..., 0, 0, 0],\n",
              "       ...,\n",
              "       [0, 0, 0, ..., 0, 0, 0],\n",
              "       [0, 0, 0, ..., 0, 0, 0],\n",
              "       [0, 0, 0, ..., 0, 0, 0]])"
            ]
          },
          "metadata": {},
          "execution_count": 5
        }
      ]
    },
    {
      "cell_type": "markdown",
      "source": [
        "**Beware** of slicing vs. indexing. The expression `pap[6,10]` adresses one element [6,10] in the array, whereas the expression `pap[[6,10]]` addresses two rows [6, :] and [10, :]"
      ],
      "metadata": {
        "id": "2jP3L-3lsV2t"
      },
      "id": "2jP3L-3lsV2t"
    },
    {
      "cell_type": "code",
      "source": [
        "print(dots[0])\n",
        "print(pap[dots[0]])\n",
        "print(np.stack((pap[6, :], pap[10, :])))"
      ],
      "metadata": {
        "id": "ehNjG768r-FY",
        "outputId": "c805d0fb-1859-4c13-ee24-13ec0f4dfda8",
        "colab": {
          "base_uri": "https://localhost:8080/"
        }
      },
      "id": "ehNjG768r-FY",
      "execution_count": 6,
      "outputs": [
        {
          "output_type": "stream",
          "name": "stdout",
          "text": [
            "[309 320]\n",
            "[[0 0 0 ... 0 0 0]\n",
            " [0 0 0 ... 0 0 0]]\n",
            "[[0 0 0 ... 0 0 0]\n",
            " [0 0 0 ... 0 0 1]]\n"
          ]
        }
      ]
    },
    {
      "cell_type": "code",
      "source": [
        "# Fold the paper up - indices\n",
        "y = 7\n",
        "for i in range(y):\n",
        "  print(i, 2*y-i)"
      ],
      "metadata": {
        "id": "DOREbAwomClj",
        "outputId": "0f98b420-2fd0-4f06-d285-bd61d2c01062",
        "colab": {
          "base_uri": "https://localhost:8080/"
        }
      },
      "id": "DOREbAwomClj",
      "execution_count": 7,
      "outputs": [
        {
          "output_type": "stream",
          "name": "stdout",
          "text": [
            "0 14\n",
            "1 13\n",
            "2 12\n",
            "3 11\n",
            "4 10\n",
            "5 9\n",
            "6 8\n"
          ]
        }
      ]
    },
    {
      "cell_type": "code",
      "source": [
        "pap_y7 = pap[:,:y].copy()\n",
        "for i in range(y):\n",
        "  pap_y7[:,i] += pap[:, 2*y-i]\n",
        "pap_y7.T"
      ],
      "metadata": {
        "id": "8EfdquIgmCg7",
        "outputId": "580b54b9-2a8e-4caa-ed5b-a64e3dde430b",
        "colab": {
          "base_uri": "https://localhost:8080/"
        }
      },
      "id": "8EfdquIgmCg7",
      "execution_count": 8,
      "outputs": [
        {
          "output_type": "execute_result",
          "data": {
            "text/plain": [
              "array([[0, 0, 0, ..., 0, 0, 0],\n",
              "       [0, 0, 0, ..., 0, 0, 0],\n",
              "       [0, 0, 0, ..., 0, 0, 0],\n",
              "       ...,\n",
              "       [0, 0, 0, ..., 0, 0, 0],\n",
              "       [0, 0, 0, ..., 0, 0, 0],\n",
              "       [0, 0, 0, ..., 0, 0, 0]])"
            ]
          },
          "metadata": {},
          "execution_count": 8
        }
      ]
    },
    {
      "cell_type": "code",
      "source": [
        "pap_y7[pap_y7>0].shape"
      ],
      "metadata": {
        "id": "lNjddhbfW50p",
        "outputId": "5e5be121-9c70-4593-d36e-06f65e8998dd",
        "colab": {
          "base_uri": "https://localhost:8080/"
        }
      },
      "id": "lNjddhbfW50p",
      "execution_count": 9,
      "outputs": [
        {
          "output_type": "execute_result",
          "data": {
            "text/plain": [
              "(12,)"
            ]
          },
          "metadata": {},
          "execution_count": 9
        }
      ]
    },
    {
      "cell_type": "code",
      "source": [
        "# Fold the paper left\n",
        "x = 5\n",
        "pap_x5 = pap_y7[:x,:].copy()\n",
        "for i in range(x):\n",
        "  pap_x5[i,:] += pap_y7[2*x-i, :]\n",
        "pap_x5.T"
      ],
      "metadata": {
        "id": "RFrcnUzluuxm",
        "outputId": "bd12593e-c9a0-4ab4-8257-905b72fcbe53",
        "colab": {
          "base_uri": "https://localhost:8080/"
        }
      },
      "id": "RFrcnUzluuxm",
      "execution_count": 10,
      "outputs": [
        {
          "output_type": "execute_result",
          "data": {
            "text/plain": [
              "array([[0, 0, 0, 0, 0],\n",
              "       [0, 0, 0, 0, 0],\n",
              "       [0, 0, 0, 0, 0],\n",
              "       [0, 0, 0, 0, 0],\n",
              "       [0, 0, 0, 0, 0],\n",
              "       [0, 0, 0, 0, 0],\n",
              "       [0, 0, 0, 0, 0]])"
            ]
          },
          "metadata": {},
          "execution_count": 10
        }
      ]
    },
    {
      "cell_type": "code",
      "source": [
        "pap_x5[pap_x5>0].shape"
      ],
      "metadata": {
        "id": "cEP0V4nbuuoe",
        "outputId": "11968091-9a7c-4a74-d779-8f91259cef0b",
        "colab": {
          "base_uri": "https://localhost:8080/"
        }
      },
      "id": "cEP0V4nbuuoe",
      "execution_count": 11,
      "outputs": [
        {
          "output_type": "execute_result",
          "data": {
            "text/plain": [
              "(0,)"
            ]
          },
          "metadata": {},
          "execution_count": 11
        }
      ]
    },
    {
      "cell_type": "code",
      "source": [
        "def solve_part1(input):\n",
        "  dots, folds = parse(input)\n",
        "  # Initialize the paper\n",
        "  pap = np.zeros(dots.max(axis=0)+1).astype(int)\n",
        "  for dot in dots:\n",
        "    pap[dot[0], dot[1]] = 1\n",
        "  print('Initial shape:', pap.shape)\n",
        "  \n",
        "  # Calculate the first fold\n",
        "  ax, val = folds[0][0], folds[0][1]\n",
        "  print(ax, val)\n",
        "  # Fold the paper left\n",
        "  if ax == 'x':\n",
        "    for i in range(val):\n",
        "      pap[i, :] += pap[2*val-i, :]\n",
        "    # Adjust shape of the paper\n",
        "    pap = pap[:val, :]\n",
        "  else:\n",
        "    for i in range(val):\n",
        "      pap[:, i] += pap[:, 2*val-i]\n",
        "    # Adjust shape of the paper\n",
        "    pap = pap[:, :val]\n",
        "  print('Folded shape:', pap.shape)\n",
        "\n",
        "  return pap[pap>0].shape[0]\n",
        "\n",
        "solve_part1(example)"
      ],
      "metadata": {
        "id": "q31wjf0Luukm",
        "outputId": "9c6d1440-56ce-4fb6-bc05-547f94fd9216",
        "colab": {
          "base_uri": "https://localhost:8080/"
        }
      },
      "id": "q31wjf0Luukm",
      "execution_count": 12,
      "outputs": [
        {
          "output_type": "stream",
          "name": "stdout",
          "text": [
            "Initial shape: (11, 15)\n",
            "y 7\n",
            "Folded shape: (11, 7)\n"
          ]
        },
        {
          "output_type": "execute_result",
          "data": {
            "text/plain": [
              "17"
            ]
          },
          "metadata": {},
          "execution_count": 12
        }
      ]
    },
    {
      "cell_type": "code",
      "source": [
        "solve_part1(r.text)"
      ],
      "metadata": {
        "id": "DK_p17N67b3z",
        "outputId": "3071eac4-84d6-4f14-e878-febacbc98983",
        "colab": {
          "base_uri": "https://localhost:8080/"
        }
      },
      "id": "DK_p17N67b3z",
      "execution_count": 13,
      "outputs": [
        {
          "output_type": "stream",
          "name": "stdout",
          "text": [
            "Initial shape: (1311, 890)\n",
            "x 655\n",
            "Folded shape: (655, 890)\n"
          ]
        },
        {
          "output_type": "execute_result",
          "data": {
            "text/plain": [
              "669"
            ]
          },
          "metadata": {},
          "execution_count": 13
        }
      ]
    },
    {
      "cell_type": "markdown",
      "source": [
        "### Part II\n",
        "- **Unknown**: Eight capital letters after folding the paper.\n",
        "- **Data**: Same as in part I\n",
        "- **Condition**:\n",
        "  - Same as in part I\n",
        "- **Plan**:\n",
        "  - Calculate all folds and return transposed result\n"
      ],
      "metadata": {
        "id": "oRHOjPg2W6W5"
      },
      "id": "oRHOjPg2W6W5"
    },
    {
      "cell_type": "code",
      "source": [
        "def solve_part2(input):\n",
        "  dots, folds = parse(input)\n",
        "  # Initialize the paper\n",
        "  #pap = np.zeros(dots.max(axis=0)+1).astype(int)\n",
        "  # Solve IndexError: index 894 is out of bounds for axis 1 with size 890\n",
        "  pap = np.zeros((1311, 895)).astype(int)\n",
        "  for dot in dots:\n",
        "    pap[dot[0], dot[1]] = 1\n",
        "  print('Initial shape:', pap.shape)\n",
        "  \n",
        "  # Calculate the folds\n",
        "  for ax, val in folds:\n",
        "    #print(ax, val)\n",
        "    # Fold the paper left\n",
        "    if ax == 'x':\n",
        "      for i in range(val):\n",
        "        pap[i, :] += pap[2*val-i, :]\n",
        "      # Adjust shape of the paper\n",
        "      pap = pap[:val, :]\n",
        "    else:\n",
        "      for i in range(val):\n",
        "        pap[:, i] += pap[:, 2*val-i]\n",
        "      # Adjust shape of the paper\n",
        "      pap = pap[:, :val]\n",
        "    #print('Folded shape:', pap.shape)\n",
        "\n",
        "  return pap.T\n",
        "\n",
        "code = solve_part2(example)\n",
        "print(code)"
      ],
      "metadata": {
        "id": "qpuDu7iTAz60",
        "outputId": "e057bd6c-5d38-4073-98a8-7f1a6f858544",
        "colab": {
          "base_uri": "https://localhost:8080/"
        }
      },
      "id": "qpuDu7iTAz60",
      "execution_count": 24,
      "outputs": [
        {
          "output_type": "stream",
          "name": "stdout",
          "text": [
            "Initial shape: (1311, 895)\n",
            "[[1 1 1 1 1]\n",
            " [1 0 0 0 1]\n",
            " [1 0 0 0 1]\n",
            " [1 0 0 0 1]\n",
            " [1 2 2 1 1]\n",
            " [0 0 0 0 0]\n",
            " [0 0 0 0 0]]\n"
          ]
        }
      ]
    },
    {
      "cell_type": "code",
      "source": [
        "code = solve_part2(r.text)\n",
        "print(code)"
      ],
      "metadata": {
        "id": "_XqjgiXxA0dm",
        "outputId": "e1a1d1aa-91cd-4901-e582-6c3dc14f76f4",
        "colab": {
          "base_uri": "https://localhost:8080/"
        }
      },
      "id": "_XqjgiXxA0dm",
      "execution_count": 25,
      "outputs": [
        {
          "output_type": "stream",
          "name": "stdout",
          "text": [
            "Initial shape: (1311, 895)\n",
            "[[10  0  0  7  0  2 13 37  7  0  1  1  1  7  0 26  2 20 31  0  0  1 16  0\n",
            "   0  2  0  0 13  0  0  6 12  0  0  0  0  2  5  0]\n",
            " [12  0  0  5  0 10  0  0  0  0  8  0  0  0  0  0  0  0  1  0  8  0  0  1\n",
            "   0  5  0  0  9  0 13  0  0  4  0  0  0  0 11  0]\n",
            " [ 4  0  0 16  0 24  5  8  0  0 21 17  3  0  0  0  0  9  0  0  3  0  0  0\n",
            "   0  3  0  0 17  0  2  0  0  0  0  0  0  0  2  0]\n",
            " [ 1  0  0 14  0 12  0  0  0  0 19  0  0  0  0  0  7  0  0  0  3  0  0  0\n",
            "   0  9  0  0  3  0 21  0  0  0  0  0  0  0  1  0]\n",
            " [ 5  0  0 15  0  8  0  0  0  0  3  0  0  0  0  2  0  0  0  0 27  0  0  4\n",
            "   0 18  0  0  4  0  1  0  0 17  0  8  0  0 17  0]\n",
            " [ 0 20  2  0  0  1 10 13 15  0 10  0  0  0  0  6  6  3  2  0  0  1  4  0\n",
            "   0  0  5 19  0  0  0  4  4  0  0  0  8  7  0  0]]\n"
          ]
        }
      ]
    },
    {
      "cell_type": "code",
      "source": [
        "for j in range(5,41,5):\n",
        "  print(code[:,j-5:j-1])"
      ],
      "metadata": {
        "id": "XKl3k7e0A0S0",
        "outputId": "7f3188ed-6b31-4921-a8e8-35c8e519eb2a",
        "colab": {
          "base_uri": "https://localhost:8080/"
        }
      },
      "id": "XKl3k7e0A0S0",
      "execution_count": 37,
      "outputs": [
        {
          "output_type": "stream",
          "name": "stdout",
          "text": [
            "[[10  0  0  7]\n",
            " [12  0  0  5]\n",
            " [ 4  0  0 16]\n",
            " [ 1  0  0 14]\n",
            " [ 5  0  0 15]\n",
            " [ 0 20  2  0]]\n",
            "[[ 2 13 37  7]\n",
            " [10  0  0  0]\n",
            " [24  5  8  0]\n",
            " [12  0  0  0]\n",
            " [ 8  0  0  0]\n",
            " [ 1 10 13 15]]\n",
            "[[ 1  1  1  7]\n",
            " [ 8  0  0  0]\n",
            " [21 17  3  0]\n",
            " [19  0  0  0]\n",
            " [ 3  0  0  0]\n",
            " [10  0  0  0]]\n",
            "[[26  2 20 31]\n",
            " [ 0  0  0  1]\n",
            " [ 0  0  9  0]\n",
            " [ 0  7  0  0]\n",
            " [ 2  0  0  0]\n",
            " [ 6  6  3  2]]\n",
            "[[ 0  1 16  0]\n",
            " [ 8  0  0  1]\n",
            " [ 3  0  0  0]\n",
            " [ 3  0  0  0]\n",
            " [27  0  0  4]\n",
            " [ 0  1  4  0]]\n",
            "[[ 2  0  0 13]\n",
            " [ 5  0  0  9]\n",
            " [ 3  0  0 17]\n",
            " [ 9  0  0  3]\n",
            " [18  0  0  4]\n",
            " [ 0  5 19  0]]\n",
            "[[ 0  6 12  0]\n",
            " [13  0  0  4]\n",
            " [ 2  0  0  0]\n",
            " [21  0  0  0]\n",
            " [ 1  0  0 17]\n",
            " [ 0  4  4  0]]\n",
            "[[ 0  0  2  5]\n",
            " [ 0  0  0 11]\n",
            " [ 0  0  0  2]\n",
            " [ 0  0  0  1]\n",
            " [ 8  0  0 17]\n",
            " [ 0  8  7  0]]\n"
          ]
        }
      ]
    },
    {
      "cell_type": "markdown",
      "source": [
        "Result: UEFZCUCJ"
      ],
      "metadata": {
        "id": "SiKela2khchC"
      },
      "id": "SiKela2khchC"
    },
    {
      "cell_type": "code",
      "source": [
        ""
      ],
      "metadata": {
        "id": "k5KWlzgUflm7"
      },
      "id": "k5KWlzgUflm7",
      "execution_count": null,
      "outputs": []
    }
  ]
}