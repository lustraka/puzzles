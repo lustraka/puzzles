{
  "nbformat": 4,
  "nbformat_minor": 5,
  "metadata": {
    "kernelspec": {
      "display_name": "Python 3",
      "language": "python",
      "name": "python3"
    },
    "language_info": {
      "codemirror_mode": {
        "name": "ipython",
        "version": 3
      },
      "file_extension": ".py",
      "mimetype": "text/x-python",
      "name": "python",
      "nbconvert_exporter": "python",
      "pygments_lexer": "ipython3",
      "version": "3.7.11"
    },
    "colab": {
      "name": "AoC_13.ipynb",
      "provenance": [],
      "include_colab_link": true
    }
  },
  "cells": [
    {
      "cell_type": "markdown",
      "metadata": {
        "id": "view-in-github",
        "colab_type": "text"
      },
      "source": [
        "<a href=\"https://colab.research.google.com/github/lustraka/puzzles/blob/main/AoC2021/AoC_13.ipynb\" target=\"_parent\"><img src=\"https://colab.research.google.com/assets/colab-badge.svg\" alt=\"Open In Colab\"/></a>"
      ]
    },
    {
      "cell_type": "markdown",
      "metadata": {
        "id": "dDZWBB4Ll10C"
      },
      "source": [
        "# Advent of Code Puzzles\n",
        "[Advent of Code 2021](https://adventofcode.com/2021) | [reddit/adventofcode](https://www.reddit.com/r/adventofcode/)"
      ],
      "id": "dDZWBB4Ll10C"
    },
    {
      "cell_type": "code",
      "metadata": {
        "id": "ri3O_1i3l2mo"
      },
      "source": [
        "import requests\n",
        "import pandas as pd\n",
        "import numpy as np\n",
        "import re\n",
        "from collections import Counter\n",
        "path = 'https://raw.githubusercontent.com/lustraka/puzzles/main/AoC2021/data/'"
      ],
      "id": "ri3O_1i3l2mo",
      "execution_count": 7,
      "outputs": []
    },
    {
      "cell_type": "markdown",
      "source": [
        "## [Day 15](https://adventofcode.com/2021/day/15): Chiton\n",
        "### Part I\n",
        "- **Unknown**: The lowest risk of a path from the top left to the bottom right.\n",
        "- **Data**: A map of risk level.\n",
        "- **Condition**:\n",
        "  - Add up the risk levels of each position you enter.\n",
        "  - You cannot move diagonally.\n",
        "  - We don't need to store the shortest path.\n",
        "\n",
        "Dependecies to consider:\n",
        "```python\n",
        "from collections import Counter, defaultdict, deque\n",
        "from heapq import heappop, heappush\n",
        "```"
      ],
      "metadata": {
        "id": "tdgyyTyplOSz"
      },
      "id": "tdgyyTyplOSz"
    },
    {
      "cell_type": "code",
      "source": [
        "example = \"\"\"1163751742\n",
        "1381373672\n",
        "2136511328\n",
        "3694931569\n",
        "7463417111\n",
        "1319128137\n",
        "1359912421\n",
        "3125421639\n",
        "1293138521\n",
        "2311944581\"\"\""
      ],
      "metadata": {
        "id": "96Rf04vymmW0"
      },
      "id": "96Rf04vymmW0",
      "execution_count": 8,
      "outputs": []
    },
    {
      "cell_type": "code",
      "source": [
        "from collections import defaultdict\n",
        "def parse(input):\n",
        "  # Initialize an array\n",
        "  map = [list(line) for line in input.split('\\n')]\n",
        "  map = np.array(map).astype(int)\n",
        "  # Transform the array into an default dict\n",
        "  mapdict = defaultdict(lambda: np.inf)\n",
        "  for i in range(map.shape[0]):\n",
        "    for j in range(map.shape[1]):\n",
        "      mapdict[(i,j)] = map[i,j]\n",
        "  # Return the default dict, the start position and the end position\n",
        "  return mapdict, (0, 0), tuple(np.array(map.shape)-1)\n",
        "\n",
        "map, start, end = parse(example)\n",
        "len(map), start, end"
      ],
      "metadata": {
        "id": "ATVBTbQammRs",
        "outputId": "6da44fe9-e413-4a07-d925-9685096ec24c",
        "colab": {
          "base_uri": "https://localhost:8080/"
        }
      },
      "id": "ATVBTbQammRs",
      "execution_count": 64,
      "outputs": [
        {
          "output_type": "execute_result",
          "data": {
            "text/plain": [
              "(100, (0, 0), (9, 9))"
            ]
          },
          "metadata": {},
          "execution_count": 64
        }
      ]
    },
    {
      "cell_type": "markdown",
      "source": [
        "- **Plan** (Implement [Dijkstra's algorithm](https://www.wikiwand.com/en/Dijkstra%27s_algorithm)):\n",
        "  - Create the vertex set `Q`\n",
        "  - Initialize the vertex `u` with the `start`\n",
        "  - Initialize the default dict `dist` that contains the current distances from the start to other vertices.\n",
        "  - For each neighbour `v` of `u`:\n",
        "    - calculate the distance `alt` to `v` through `u`\n",
        "    - if `alt` < `dist[v]` update `dist[v]`\n",
        "  - Repeat for the entire map\n"
      ],
      "metadata": {
        "id": "xXYC-IF1TGwe"
      },
      "id": "xXYC-IF1TGwe"
    },
    {
      "cell_type": "code",
      "source": [
        "def solve_part1(input):\n",
        "  map, start, end = parse(input)\n",
        "  # Create vertex set Q\n",
        "  Q = list(map.keys())\n",
        "  # Initialize the vertex u\n",
        "  u = start\n",
        "  # Initialize map of distances from start dist\n",
        "  dist = defaultdict(lambda: np.inf)\n",
        "  for k, _ in map.items():\n",
        "    dist[k] = np.inf\n",
        "  dist[start] = 0\n",
        "  for i in range(end[0]+1):\n",
        "    for j in range(end[1]+1):\n",
        "      # Identify neighbours not yet visited\n",
        "      neighbours = [(i+1,j),(i-1,j),(i,j+1),(i,j-1)]\n",
        "      # Compute and update distances\n",
        "      for v in neighbours:\n",
        "        alt = dist[i,j] + map[v]\n",
        "        if alt < dist[v]:\n",
        "          dist[v] = alt\n",
        "      Q.remove((i,j))\n",
        "  return dist, dist[end]\n",
        "\n",
        "dist, risk = solve_part1(example)\n",
        "risk"
      ],
      "metadata": {
        "id": "e25asMtMo-xK",
        "outputId": "db6c3a0a-5095-40f5-d534-26e0222cd426",
        "colab": {
          "base_uri": "https://localhost:8080/"
        }
      },
      "id": "e25asMtMo-xK",
      "execution_count": 96,
      "outputs": [
        {
          "output_type": "execute_result",
          "data": {
            "text/plain": [
              "40"
            ]
          },
          "metadata": {},
          "execution_count": 96
        }
      ]
    },
    {
      "cell_type": "code",
      "source": [
        "r = requests.get(path+'AoC2021_15.txt')\n",
        "dist, risk = solve_part1(r.text[:-1])\n",
        "risk"
      ],
      "metadata": {
        "id": "Mc1O8m5NmmMM",
        "outputId": "c127dc84-620c-4818-85b4-8f8eba5ec9de",
        "colab": {
          "base_uri": "https://localhost:8080/"
        }
      },
      "id": "Mc1O8m5NmmMM",
      "execution_count": 97,
      "outputs": [
        {
          "output_type": "execute_result",
          "data": {
            "text/plain": [
              "402"
            ]
          },
          "metadata": {},
          "execution_count": 97
        }
      ]
    },
    {
      "cell_type": "markdown",
      "source": [
        "`402` : That's not the right answer; your answer is too high."
      ],
      "metadata": {
        "id": "Yp_YsEmfqCkT"
      },
      "id": "Yp_YsEmfqCkT"
    },
    {
      "cell_type": "code",
      "source": [
        "frag = []\n",
        "for i in range(97,100):\n",
        "  for j in range(97,100):\n",
        "    frag.append(dist[i,j])\n",
        "np.array(frag).reshape(3,3)"
      ],
      "metadata": {
        "id": "BEXyVG2dr-DJ",
        "outputId": "8d87f99e-c3b9-4543-a76f-30e167a7dd28",
        "colab": {
          "base_uri": "https://localhost:8080/"
        }
      },
      "id": "BEXyVG2dr-DJ",
      "execution_count": 104,
      "outputs": [
        {
          "output_type": "execute_result",
          "data": {
            "text/plain": [
              "array([[390, 395, 397],\n",
              "       [391, 392, 397],\n",
              "       [396, 393, 402]])"
            ]
          },
          "metadata": {},
          "execution_count": 104
        }
      ]
    },
    {
      "cell_type": "code",
      "source": [
        "frag = []\n",
        "for i in range(5):\n",
        "  for j in range(5):\n",
        "    frag.append(dist[i,j])\n",
        "np.array(frag).reshape(5,5)"
      ],
      "metadata": {
        "id": "RQxCtc8rr9_4",
        "outputId": "24ef2351-865d-4a03-92e5-e999d9c9c1be",
        "colab": {
          "base_uri": "https://localhost:8080/"
        }
      },
      "id": "RQxCtc8rr9_4",
      "execution_count": 105,
      "outputs": [
        {
          "output_type": "execute_result",
          "data": {
            "text/plain": [
              "array([[ 0,  5,  7,  9, 13],\n",
              "       [ 7,  6,  7, 16, 14],\n",
              "       [10,  7,  9, 16, 16],\n",
              "       [ 9,  8, 16, 16, 17],\n",
              "       [15, 13, 14, 15, 20]])"
            ]
          },
          "metadata": {},
          "execution_count": 105
        }
      ]
    },
    {
      "cell_type": "markdown",
      "source": [
        "This works but the value of (9,9) is 41 (not 40). Algorithm get lost in a maze somehow...\n",
        "```python\n",
        "def dijkstra_iter(map, dist, u, end):\n",
        "  # Identify neighbours not yet visited\n",
        "  neighbours = [v for v in [(u[0]+1,u[1]),(u[0]-1,u[1]),(u[0],u[1]+1),(u[0],u[1]-1)] if v in Q]\n",
        "  # Compute and update distances\n",
        "  for v in neighbours:\n",
        "    alt = dist[u] + map[v]\n",
        "    if alt < dist[v]:\n",
        "      dist[v] = alt\n",
        "  # Search the next node\n",
        "  if neighbours:\n",
        "    min = neighbours[0]\n",
        "  else:\n",
        "    min = Q[0]\n",
        "  for v in neighbours[1:]:\n",
        "    if dist[v] < dist[min]:\n",
        "      min = v\n",
        "  # Remove u from Q and continue with min\n",
        "  Q.remove(u)\n",
        "  if min in Q:\n",
        "    u = min\n",
        "  else:\n",
        "    u = Q[0]\n",
        "  print(u, dist[u])\n",
        "  return u\n",
        "\n",
        "while Q:\n",
        "  u = dijkstra_iter(map,dist,u,end)\n",
        "  if u == end:\n",
        "    print(dist[u])\n",
        "    break\n",
        "```"
      ],
      "metadata": {
        "id": "eGM2YqRql6U5"
      },
      "id": "eGM2YqRql6U5"
    },
    {
      "cell_type": "code",
      "source": [
        ""
      ],
      "metadata": {
        "id": "eBIbmYYjMZa-"
      },
      "id": "eBIbmYYjMZa-",
      "execution_count": null,
      "outputs": []
    },
    {
      "cell_type": "code",
      "source": [
        ""
      ],
      "metadata": {
        "id": "NL8lLAjobfSj"
      },
      "id": "NL8lLAjobfSj",
      "execution_count": null,
      "outputs": []
    },
    {
      "cell_type": "code",
      "source": [
        ""
      ],
      "metadata": {
        "id": "uD6vBIbobfJM"
      },
      "id": "uD6vBIbobfJM",
      "execution_count": null,
      "outputs": []
    },
    {
      "cell_type": "markdown",
      "source": [
        "### Part II\n",
        "- **Unknown**: \n",
        "- **Data**: \n",
        "- **Condition**:\n",
        "  - \n",
        "  - \n",
        "- **Plan**:\n",
        "  - \n"
      ],
      "metadata": {
        "id": "O_UnHn06lOJz"
      },
      "id": "O_UnHn06lOJz"
    },
    {
      "cell_type": "markdown",
      "source": [
        "## [Day 14](https://adventofcode.com/2021/day/14): Extended Polymerization\n",
        "### Part I\n",
        "- **Unknown**: A difference between the most and the least common element in the polymer after 10 steps of the process.\n",
        "- **Data**: Polymer template and the pair insertion rules.\n",
        "- **Condition**:\n",
        "  - The insertions all happen simultaneously.\n",
        "  - Inserted elements are not considered to be part of a pair until the next step.\n",
        "- **Plan**:\n",
        "  - Implement the grammar algorithm"
      ],
      "metadata": {
        "id": "_Uv9R-IZbzUf"
      },
      "id": "_Uv9R-IZbzUf"
    },
    {
      "cell_type": "code",
      "source": [
        "example = \"\"\"NNCB\n",
        "\n",
        "CH -> B\n",
        "HH -> N\n",
        "CB -> H\n",
        "NH -> C\n",
        "HB -> C\n",
        "HC -> B\n",
        "HN -> C\n",
        "NN -> C\n",
        "BH -> H\n",
        "NC -> B\n",
        "NB -> B\n",
        "BN -> B\n",
        "BB -> N\n",
        "BC -> B\n",
        "CC -> N\n",
        "CN -> C\"\"\""
      ],
      "metadata": {
        "id": "_dQDdo49d6Zg"
      },
      "id": "_dQDdo49d6Zg",
      "execution_count": null,
      "outputs": []
    },
    {
      "cell_type": "code",
      "source": [
        "def parse(input):\n",
        "  g = input.split('\\n')\n",
        "  s = g[0]\n",
        "  r = {}\n",
        "  for i in range(2, len(g)):\n",
        "    k,v = g[i].split(' -> ')\n",
        "    r[k] = v\n",
        "  return s, r\n",
        "s, r = parse(example)\n",
        "print(s)\n",
        "print(r)"
      ],
      "metadata": {
        "id": "xK9f5mGwd6-I",
        "outputId": "9244c536-e88a-4467-c1ce-2875927fcf7f",
        "colab": {
          "base_uri": "https://localhost:8080/"
        }
      },
      "id": "xK9f5mGwd6-I",
      "execution_count": null,
      "outputs": [
        {
          "output_type": "stream",
          "name": "stdout",
          "text": [
            "NNCB\n",
            "{'CH': 'B', 'HH': 'N', 'CB': 'H', 'NH': 'C', 'HB': 'C', 'HC': 'B', 'HN': 'C', 'NN': 'C', 'BH': 'H', 'NC': 'B', 'NB': 'B', 'BN': 'B', 'BB': 'N', 'BC': 'B', 'CC': 'N', 'CN': 'C'}\n"
          ]
        }
      ]
    },
    {
      "cell_type": "code",
      "source": [
        "r = requests.get(path+'AoC2021_14.txt')\n",
        "s, rules = parse(r.text[:-1])\n",
        "print(s)\n",
        "print(len(rules), rules['KC'])"
      ],
      "metadata": {
        "id": "iZ6J6HOEd64g",
        "outputId": "5b0c045c-16dc-4342-8be3-447c4d2a2609",
        "colab": {
          "base_uri": "https://localhost:8080/"
        }
      },
      "id": "iZ6J6HOEd64g",
      "execution_count": null,
      "outputs": [
        {
          "output_type": "stream",
          "name": "stdout",
          "text": [
            "SHHNCOPHONHFBVNKCFFC\n",
            "100 B\n"
          ]
        }
      ]
    },
    {
      "cell_type": "code",
      "source": [
        "def polymerize(p, r):\n",
        "  \"\"\"Apply rules `r` to polymer `p`.\"\"\"\n",
        "  p0 = list(p)\n",
        "  # Initialize the new polymer\n",
        "  p1 = [p0[0]]\n",
        "  for i in range(len(p0)-1):\n",
        "    p1.append(r.get(''.join([p0[i],p0[i+1]]),''))\n",
        "    p1.append(p0[i+1])\n",
        "  return \"\".join(p1)\n",
        "\n",
        "def solve_part1(data):\n",
        "  p,r = parse(data)\n",
        "\n",
        "  # Polymerize 10 times\n",
        "  for i in range(10):\n",
        "    p = polymerize(p,r)\n",
        "  \n",
        "  # Count elements\n",
        "  c = Counter(p)\n",
        "  # Sort elements\n",
        "  e = sorted(c.items(), key=lambda x: x[1])\n",
        "  # Return the difference\n",
        "  return e[-1][1]-e[0][1]\n",
        "\n",
        "solve_part1(example)"
      ],
      "metadata": {
        "id": "e4oH293jd6yQ",
        "outputId": "2f0e9c9b-9462-4784-c69f-c9d53bac4899",
        "colab": {
          "base_uri": "https://localhost:8080/"
        }
      },
      "id": "e4oH293jd6yQ",
      "execution_count": null,
      "outputs": [
        {
          "output_type": "execute_result",
          "data": {
            "text/plain": [
              "1588"
            ]
          },
          "metadata": {},
          "execution_count": 36
        }
      ]
    },
    {
      "cell_type": "code",
      "source": [
        "solve_part1(r.text[:-1])"
      ],
      "metadata": {
        "id": "PAkoaIJ6gC5E",
        "outputId": "126f1d23-4a37-45f9-d25b-a58588982cb5",
        "colab": {
          "base_uri": "https://localhost:8080/"
        }
      },
      "id": "PAkoaIJ6gC5E",
      "execution_count": null,
      "outputs": [
        {
          "output_type": "execute_result",
          "data": {
            "text/plain": [
              "2549"
            ]
          },
          "metadata": {},
          "execution_count": 41
        }
      ]
    },
    {
      "cell_type": "markdown",
      "source": [
        "### Part II\n",
        "- **Unknown**: A difference between the most and the least common element in the polymer after 40 steps of the process.\n",
        "- **Data**: Same as in the part I.\n",
        "- **Condition**:\n",
        "  - Same as i the part I.\n",
        "- **Plan**:\n",
        "  - \n"
      ],
      "metadata": {
        "id": "FKicNtKDd7m4"
      },
      "id": "FKicNtKDd7m4"
    },
    {
      "cell_type": "code",
      "source": [
        "def solve_part2(data):\n",
        "  p,r = parse(data)\n",
        "\n",
        "  # Polymerize 40 times\n",
        "  for i in range(40):\n",
        "    p = polymerize(p,r)\n",
        "  \n",
        "  # Count elements\n",
        "  c = Counter(p)\n",
        "  # Sort elements\n",
        "  e = sorted(c.items(), key=lambda x: x[1])\n",
        "  # Return the difference\n",
        "  return e[-1][1]-e[0][1]\n",
        "\n",
        "solve_part2(example)"
      ],
      "metadata": {
        "id": "0ezvW7RAgCqc"
      },
      "id": "0ezvW7RAgCqc",
      "execution_count": null,
      "outputs": []
    },
    {
      "cell_type": "code",
      "source": [
        "# Relace vyčerpala veškerou RAM a selhala\n",
        "# 2188189693529"
      ],
      "metadata": {
        "id": "14Ufsn7lgCnU"
      },
      "id": "14Ufsn7lgCnU",
      "execution_count": null,
      "outputs": []
    },
    {
      "cell_type": "markdown",
      "metadata": {
        "id": "TnFAd8h1l8NI"
      },
      "source": [
        "## [Day 13](https://adventofcode.com/2021/day/13): Transparent Origami\n",
        "### Part I\n",
        "- **Unknown**: The number of dots visible after completing just the first fold instruction on the transparent paper.\n",
        "- **Data**: Coordinates of dots and folding instructions\n",
        "- **Condition**:\n",
        "  - [0,0] represents the top-left coordinates\n",
        "  - `x` increases to the right, `y` increases downward\n",
        "  - `fold along y=...` instruction means folding the paper up\n",
        "  - `fold along x=xxx` instruction means folding the paper left\n",
        "- **Plan**:\n",
        "  - Initialize the matrix\n",
        "  - Write a function for folding\n",
        "  - Count the dots after folding\n"
      ],
      "id": "TnFAd8h1l8NI"
    },
    {
      "cell_type": "code",
      "metadata": {
        "id": "HZXVSS9bl736"
      },
      "source": [
        "example = \"\"\"6,10\n",
        "0,14\n",
        "9,10\n",
        "0,3\n",
        "10,4\n",
        "4,11\n",
        "6,0\n",
        "6,12\n",
        "4,1\n",
        "0,13\n",
        "10,12\n",
        "3,4\n",
        "3,0\n",
        "8,4\n",
        "1,10\n",
        "2,14\n",
        "8,10\n",
        "9,0\n",
        "\n",
        "fold along y=7\n",
        "fold along x=5\"\"\""
      ],
      "id": "HZXVSS9bl736",
      "execution_count": null,
      "outputs": []
    },
    {
      "cell_type": "code",
      "source": [
        "def parse(input):\n",
        "  lines = input.split('\\n')\n",
        "  dots = []\n",
        "  folds = []\n",
        "  for line in lines:\n",
        "    if ',' in line:\n",
        "      dots.append(np.array(line.split(',')).astype(int))\n",
        "    if '=' in line:\n",
        "      fold = re.findall('[x,y]=\\d+', line)[0].split('=')\n",
        "      folds.append([fold[0],int(fold[1])])\n",
        "  return np.array(dots), folds\n",
        "\n",
        "dots, folds = parse(example)\n",
        "print(dots[:4])\n",
        "print(folds)"
      ],
      "metadata": {
        "id": "Zui2ChCYW5S6",
        "outputId": "3620fb96-64df-46f9-c28a-12d02dec509d",
        "colab": {
          "base_uri": "https://localhost:8080/"
        }
      },
      "id": "Zui2ChCYW5S6",
      "execution_count": null,
      "outputs": [
        {
          "output_type": "stream",
          "name": "stdout",
          "text": [
            "[[ 6 10]\n",
            " [ 0 14]\n",
            " [ 9 10]\n",
            " [ 0  3]]\n",
            "[['y', 7], ['x', 5]]\n"
          ]
        }
      ]
    },
    {
      "cell_type": "code",
      "source": [
        "r = requests.get(path+'AoC2021_13.txt')\n",
        "dots, folds = parse(r.text)\n",
        "print(dots[-2:])\n",
        "print(folds[-2:])"
      ],
      "metadata": {
        "id": "LOgWQD6N7jss",
        "outputId": "afa5ddbb-672e-4dd3-ddb4-9bdae756a8d6",
        "colab": {
          "base_uri": "https://localhost:8080/"
        }
      },
      "id": "LOgWQD6N7jss",
      "execution_count": null,
      "outputs": [
        {
          "output_type": "stream",
          "name": "stdout",
          "text": [
            "[[954 841]\n",
            " [960 278]]\n",
            "[['y', 13], ['y', 6]]\n"
          ]
        }
      ]
    },
    {
      "cell_type": "code",
      "source": [
        "pap = np.zeros(dots.max(axis=0)+1).astype(int)\n",
        "for dot in dots:\n",
        "  pap[dot[0], dot[1]] = 1\n",
        "pap"
      ],
      "metadata": {
        "id": "78TkviHRW57Z",
        "outputId": "45d0ae46-1182-4f1f-f9f7-c317dcbdd8c2",
        "colab": {
          "base_uri": "https://localhost:8080/"
        }
      },
      "id": "78TkviHRW57Z",
      "execution_count": null,
      "outputs": [
        {
          "output_type": "execute_result",
          "data": {
            "text/plain": [
              "array([[0, 0, 0, ..., 0, 0, 0],\n",
              "       [0, 0, 0, ..., 0, 0, 0],\n",
              "       [0, 0, 0, ..., 0, 0, 0],\n",
              "       ...,\n",
              "       [0, 0, 0, ..., 0, 0, 0],\n",
              "       [0, 0, 0, ..., 0, 0, 0],\n",
              "       [0, 0, 0, ..., 0, 0, 0]])"
            ]
          },
          "metadata": {},
          "execution_count": 5
        }
      ]
    },
    {
      "cell_type": "markdown",
      "source": [
        "**Beware** of slicing vs. indexing. The expression `pap[6,10]` adresses one element [6,10] in the array, whereas the expression `pap[[6,10]]` addresses two rows [6, :] and [10, :]"
      ],
      "metadata": {
        "id": "2jP3L-3lsV2t"
      },
      "id": "2jP3L-3lsV2t"
    },
    {
      "cell_type": "code",
      "source": [
        "print(dots[0])\n",
        "print(pap[dots[0]])\n",
        "print(np.stack((pap[6, :], pap[10, :])))"
      ],
      "metadata": {
        "id": "ehNjG768r-FY",
        "outputId": "c805d0fb-1859-4c13-ee24-13ec0f4dfda8",
        "colab": {
          "base_uri": "https://localhost:8080/"
        }
      },
      "id": "ehNjG768r-FY",
      "execution_count": null,
      "outputs": [
        {
          "output_type": "stream",
          "name": "stdout",
          "text": [
            "[309 320]\n",
            "[[0 0 0 ... 0 0 0]\n",
            " [0 0 0 ... 0 0 0]]\n",
            "[[0 0 0 ... 0 0 0]\n",
            " [0 0 0 ... 0 0 1]]\n"
          ]
        }
      ]
    },
    {
      "cell_type": "code",
      "source": [
        "# Fold the paper up - indices\n",
        "y = 7\n",
        "for i in range(y):\n",
        "  print(i, 2*y-i)"
      ],
      "metadata": {
        "id": "DOREbAwomClj",
        "outputId": "0f98b420-2fd0-4f06-d285-bd61d2c01062",
        "colab": {
          "base_uri": "https://localhost:8080/"
        }
      },
      "id": "DOREbAwomClj",
      "execution_count": null,
      "outputs": [
        {
          "output_type": "stream",
          "name": "stdout",
          "text": [
            "0 14\n",
            "1 13\n",
            "2 12\n",
            "3 11\n",
            "4 10\n",
            "5 9\n",
            "6 8\n"
          ]
        }
      ]
    },
    {
      "cell_type": "code",
      "source": [
        "pap_y7 = pap[:,:y].copy()\n",
        "for i in range(y):\n",
        "  pap_y7[:,i] += pap[:, 2*y-i]\n",
        "pap_y7.T"
      ],
      "metadata": {
        "id": "8EfdquIgmCg7",
        "outputId": "580b54b9-2a8e-4caa-ed5b-a64e3dde430b",
        "colab": {
          "base_uri": "https://localhost:8080/"
        }
      },
      "id": "8EfdquIgmCg7",
      "execution_count": null,
      "outputs": [
        {
          "output_type": "execute_result",
          "data": {
            "text/plain": [
              "array([[0, 0, 0, ..., 0, 0, 0],\n",
              "       [0, 0, 0, ..., 0, 0, 0],\n",
              "       [0, 0, 0, ..., 0, 0, 0],\n",
              "       ...,\n",
              "       [0, 0, 0, ..., 0, 0, 0],\n",
              "       [0, 0, 0, ..., 0, 0, 0],\n",
              "       [0, 0, 0, ..., 0, 0, 0]])"
            ]
          },
          "metadata": {},
          "execution_count": 8
        }
      ]
    },
    {
      "cell_type": "code",
      "source": [
        "pap_y7[pap_y7>0].shape"
      ],
      "metadata": {
        "id": "lNjddhbfW50p",
        "outputId": "5e5be121-9c70-4593-d36e-06f65e8998dd",
        "colab": {
          "base_uri": "https://localhost:8080/"
        }
      },
      "id": "lNjddhbfW50p",
      "execution_count": null,
      "outputs": [
        {
          "output_type": "execute_result",
          "data": {
            "text/plain": [
              "(12,)"
            ]
          },
          "metadata": {},
          "execution_count": 9
        }
      ]
    },
    {
      "cell_type": "code",
      "source": [
        "# Fold the paper left\n",
        "x = 5\n",
        "pap_x5 = pap_y7[:x,:].copy()\n",
        "for i in range(x):\n",
        "  pap_x5[i,:] += pap_y7[2*x-i, :]\n",
        "pap_x5.T"
      ],
      "metadata": {
        "id": "RFrcnUzluuxm",
        "outputId": "bd12593e-c9a0-4ab4-8257-905b72fcbe53",
        "colab": {
          "base_uri": "https://localhost:8080/"
        }
      },
      "id": "RFrcnUzluuxm",
      "execution_count": null,
      "outputs": [
        {
          "output_type": "execute_result",
          "data": {
            "text/plain": [
              "array([[0, 0, 0, 0, 0],\n",
              "       [0, 0, 0, 0, 0],\n",
              "       [0, 0, 0, 0, 0],\n",
              "       [0, 0, 0, 0, 0],\n",
              "       [0, 0, 0, 0, 0],\n",
              "       [0, 0, 0, 0, 0],\n",
              "       [0, 0, 0, 0, 0]])"
            ]
          },
          "metadata": {},
          "execution_count": 10
        }
      ]
    },
    {
      "cell_type": "code",
      "source": [
        "pap_x5[pap_x5>0].shape"
      ],
      "metadata": {
        "id": "cEP0V4nbuuoe",
        "outputId": "11968091-9a7c-4a74-d779-8f91259cef0b",
        "colab": {
          "base_uri": "https://localhost:8080/"
        }
      },
      "id": "cEP0V4nbuuoe",
      "execution_count": null,
      "outputs": [
        {
          "output_type": "execute_result",
          "data": {
            "text/plain": [
              "(0,)"
            ]
          },
          "metadata": {},
          "execution_count": 11
        }
      ]
    },
    {
      "cell_type": "code",
      "source": [
        "def solve_part1(input):\n",
        "  dots, folds = parse(input)\n",
        "  # Initialize the paper\n",
        "  pap = np.zeros(dots.max(axis=0)+1).astype(int)\n",
        "  for dot in dots:\n",
        "    pap[dot[0], dot[1]] = 1\n",
        "  print('Initial shape:', pap.shape)\n",
        "  \n",
        "  # Calculate the first fold\n",
        "  ax, val = folds[0][0], folds[0][1]\n",
        "  print(ax, val)\n",
        "  # Fold the paper left\n",
        "  if ax == 'x':\n",
        "    for i in range(val):\n",
        "      pap[i, :] += pap[2*val-i, :]\n",
        "    # Adjust shape of the paper\n",
        "    pap = pap[:val, :]\n",
        "  else:\n",
        "    for i in range(val):\n",
        "      pap[:, i] += pap[:, 2*val-i]\n",
        "    # Adjust shape of the paper\n",
        "    pap = pap[:, :val]\n",
        "  print('Folded shape:', pap.shape)\n",
        "\n",
        "  return pap[pap>0].shape[0]\n",
        "\n",
        "solve_part1(example)"
      ],
      "metadata": {
        "id": "q31wjf0Luukm",
        "outputId": "9c6d1440-56ce-4fb6-bc05-547f94fd9216",
        "colab": {
          "base_uri": "https://localhost:8080/"
        }
      },
      "id": "q31wjf0Luukm",
      "execution_count": null,
      "outputs": [
        {
          "output_type": "stream",
          "name": "stdout",
          "text": [
            "Initial shape: (11, 15)\n",
            "y 7\n",
            "Folded shape: (11, 7)\n"
          ]
        },
        {
          "output_type": "execute_result",
          "data": {
            "text/plain": [
              "17"
            ]
          },
          "metadata": {},
          "execution_count": 12
        }
      ]
    },
    {
      "cell_type": "code",
      "source": [
        "solve_part1(r.text)"
      ],
      "metadata": {
        "id": "DK_p17N67b3z",
        "outputId": "3071eac4-84d6-4f14-e878-febacbc98983",
        "colab": {
          "base_uri": "https://localhost:8080/"
        }
      },
      "id": "DK_p17N67b3z",
      "execution_count": null,
      "outputs": [
        {
          "output_type": "stream",
          "name": "stdout",
          "text": [
            "Initial shape: (1311, 890)\n",
            "x 655\n",
            "Folded shape: (655, 890)\n"
          ]
        },
        {
          "output_type": "execute_result",
          "data": {
            "text/plain": [
              "669"
            ]
          },
          "metadata": {},
          "execution_count": 13
        }
      ]
    },
    {
      "cell_type": "markdown",
      "source": [
        "### Part II\n",
        "- **Unknown**: Eight capital letters after folding the paper.\n",
        "- **Data**: Same as in part I\n",
        "- **Condition**:\n",
        "  - Same as in part I\n",
        "- **Plan**:\n",
        "  - Calculate all folds and return transposed result\n"
      ],
      "metadata": {
        "id": "oRHOjPg2W6W5"
      },
      "id": "oRHOjPg2W6W5"
    },
    {
      "cell_type": "code",
      "source": [
        "def solve_part2(input):\n",
        "  dots, folds = parse(input)\n",
        "  # Initialize the paper\n",
        "  #pap = np.zeros(dots.max(axis=0)+1).astype(int)\n",
        "  # Solve IndexError: index 894 is out of bounds for axis 1 with size 890\n",
        "  pap = np.zeros((1311, 895)).astype(int)\n",
        "  for dot in dots:\n",
        "    pap[dot[0], dot[1]] = 1\n",
        "  print('Initial shape:', pap.shape)\n",
        "  \n",
        "  # Calculate the folds\n",
        "  for ax, val in folds:\n",
        "    #print(ax, val)\n",
        "    # Fold the paper left\n",
        "    if ax == 'x':\n",
        "      for i in range(val):\n",
        "        pap[i, :] += pap[2*val-i, :]\n",
        "      # Adjust shape of the paper\n",
        "      pap = pap[:val, :]\n",
        "    else:\n",
        "      for i in range(val):\n",
        "        pap[:, i] += pap[:, 2*val-i]\n",
        "      # Adjust shape of the paper\n",
        "      pap = pap[:, :val]\n",
        "    #print('Folded shape:', pap.shape)\n",
        "\n",
        "  return pap.T\n",
        "\n",
        "code = solve_part2(example)\n",
        "print(code)"
      ],
      "metadata": {
        "id": "qpuDu7iTAz60",
        "outputId": "e057bd6c-5d38-4073-98a8-7f1a6f858544",
        "colab": {
          "base_uri": "https://localhost:8080/"
        }
      },
      "id": "qpuDu7iTAz60",
      "execution_count": null,
      "outputs": [
        {
          "output_type": "stream",
          "name": "stdout",
          "text": [
            "Initial shape: (1311, 895)\n",
            "[[1 1 1 1 1]\n",
            " [1 0 0 0 1]\n",
            " [1 0 0 0 1]\n",
            " [1 0 0 0 1]\n",
            " [1 2 2 1 1]\n",
            " [0 0 0 0 0]\n",
            " [0 0 0 0 0]]\n"
          ]
        }
      ]
    },
    {
      "cell_type": "code",
      "source": [
        "code = solve_part2(r.text)\n",
        "print(code)"
      ],
      "metadata": {
        "id": "_XqjgiXxA0dm",
        "outputId": "b276d890-6fd5-4da5-c23c-a2b284a043d8",
        "colab": {
          "base_uri": "https://localhost:8080/"
        }
      },
      "id": "_XqjgiXxA0dm",
      "execution_count": null,
      "outputs": [
        {
          "output_type": "stream",
          "name": "stdout",
          "text": [
            "Initial shape: (1311, 895)\n",
            "[[10  0  0  7  0  2 13 37  7  0  1  1  1  7  0 26  2 20 31  0  0  1 16  0\n",
            "   0  2  0  0 13  0  0  6 12  0  0  0  0  2  5  0]\n",
            " [12  0  0  5  0 10  0  0  0  0  8  0  0  0  0  0  0  0  1  0  8  0  0  1\n",
            "   0  5  0  0  9  0 13  0  0  4  0  0  0  0 11  0]\n",
            " [ 4  0  0 16  0 24  5  8  0  0 21 17  3  0  0  0  0  9  0  0  3  0  0  0\n",
            "   0  3  0  0 17  0  2  0  0  0  0  0  0  0  2  0]\n",
            " [ 1  0  0 14  0 12  0  0  0  0 19  0  0  0  0  0  7  0  0  0  3  0  0  0\n",
            "   0  9  0  0  3  0 21  0  0  0  0  0  0  0  1  0]\n",
            " [ 5  0  0 15  0  8  0  0  0  0  3  0  0  0  0  2  0  0  0  0 27  0  0  4\n",
            "   0 18  0  0  4  0  1  0  0 17  0  8  0  0 17  0]\n",
            " [ 0 20  2  0  0  1 10 13 15  0 10  0  0  0  0  6  6  3  2  0  0  1  4  0\n",
            "   0  0  5 19  0  0  0  4  4  0  0  0  8  7  0  0]]\n"
          ]
        }
      ]
    },
    {
      "cell_type": "code",
      "source": [
        "code =  np.piecewise(code, [code==0, code>0], [0,1]).astype(str)\n",
        "code = np.piecewise(code, [code == '0', code == '1'], [' ', '#'])\n",
        "for j in range(5,41,5):\n",
        "  print(code[:,j-5:j-1])\n",
        "  print()"
      ],
      "metadata": {
        "id": "XKl3k7e0A0S0",
        "colab": {
          "base_uri": "https://localhost:8080/"
        },
        "outputId": "71345572-3db8-402d-b505-c4402ae5bd1b"
      },
      "id": "XKl3k7e0A0S0",
      "execution_count": null,
      "outputs": [
        {
          "output_type": "stream",
          "name": "stdout",
          "text": [
            "[['#' ' ' ' ' '#']\n",
            " ['#' ' ' ' ' '#']\n",
            " ['#' ' ' ' ' '#']\n",
            " ['#' ' ' ' ' '#']\n",
            " ['#' ' ' ' ' '#']\n",
            " [' ' '#' '#' ' ']]\n",
            "\n",
            "[['#' '#' '#' '#']\n",
            " ['#' ' ' ' ' ' ']\n",
            " ['#' '#' '#' ' ']\n",
            " ['#' ' ' ' ' ' ']\n",
            " ['#' ' ' ' ' ' ']\n",
            " ['#' '#' '#' '#']]\n",
            "\n",
            "[['#' '#' '#' '#']\n",
            " ['#' ' ' ' ' ' ']\n",
            " ['#' '#' '#' ' ']\n",
            " ['#' ' ' ' ' ' ']\n",
            " ['#' ' ' ' ' ' ']\n",
            " ['#' ' ' ' ' ' ']]\n",
            "\n",
            "[['#' '#' '#' '#']\n",
            " [' ' ' ' ' ' '#']\n",
            " [' ' ' ' '#' ' ']\n",
            " [' ' '#' ' ' ' ']\n",
            " ['#' ' ' ' ' ' ']\n",
            " ['#' '#' '#' '#']]\n",
            "\n",
            "[[' ' '#' '#' ' ']\n",
            " ['#' ' ' ' ' '#']\n",
            " ['#' ' ' ' ' ' ']\n",
            " ['#' ' ' ' ' ' ']\n",
            " ['#' ' ' ' ' '#']\n",
            " [' ' '#' '#' ' ']]\n",
            "\n",
            "[['#' ' ' ' ' '#']\n",
            " ['#' ' ' ' ' '#']\n",
            " ['#' ' ' ' ' '#']\n",
            " ['#' ' ' ' ' '#']\n",
            " ['#' ' ' ' ' '#']\n",
            " [' ' '#' '#' ' ']]\n",
            "\n",
            "[[' ' '#' '#' ' ']\n",
            " ['#' ' ' ' ' '#']\n",
            " ['#' ' ' ' ' ' ']\n",
            " ['#' ' ' ' ' ' ']\n",
            " ['#' ' ' ' ' '#']\n",
            " [' ' '#' '#' ' ']]\n",
            "\n",
            "[[' ' ' ' '#' '#']\n",
            " [' ' ' ' ' ' '#']\n",
            " [' ' ' ' ' ' '#']\n",
            " [' ' ' ' ' ' '#']\n",
            " ['#' ' ' ' ' '#']\n",
            " [' ' '#' '#' ' ']]\n",
            "\n"
          ]
        }
      ]
    },
    {
      "cell_type": "markdown",
      "source": [
        "Result: UEFZCUCJ"
      ],
      "metadata": {
        "id": "SiKela2khchC"
      },
      "id": "SiKela2khchC"
    },
    {
      "cell_type": "code",
      "source": [
        ""
      ],
      "metadata": {
        "id": "k5KWlzgUflm7"
      },
      "id": "k5KWlzgUflm7",
      "execution_count": null,
      "outputs": []
    }
  ]
}