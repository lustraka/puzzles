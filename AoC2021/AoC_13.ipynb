{
  "nbformat": 4,
  "nbformat_minor": 5,
  "metadata": {
    "kernelspec": {
      "display_name": "Python 3",
      "language": "python",
      "name": "python3"
    },
    "language_info": {
      "codemirror_mode": {
        "name": "ipython",
        "version": 3
      },
      "file_extension": ".py",
      "mimetype": "text/x-python",
      "name": "python",
      "nbconvert_exporter": "python",
      "pygments_lexer": "ipython3",
      "version": "3.7.11"
    },
    "colab": {
      "name": "AoC_13.ipynb",
      "provenance": [],
      "include_colab_link": true
    }
  },
  "cells": [
    {
      "cell_type": "markdown",
      "metadata": {
        "id": "view-in-github",
        "colab_type": "text"
      },
      "source": [
        "<a href=\"https://colab.research.google.com/github/lustraka/puzzles/blob/main/AoC2021/AoC_13.ipynb\" target=\"_parent\"><img src=\"https://colab.research.google.com/assets/colab-badge.svg\" alt=\"Open In Colab\"/></a>"
      ]
    },
    {
      "cell_type": "markdown",
      "metadata": {
        "id": "dDZWBB4Ll10C"
      },
      "source": [
        "# Advent of Code Puzzles\n",
        "[Advent of Code 2021](https://adventofcode.com/2021) | [reddit/adventofcode](https://www.reddit.com/r/adventofcode/)"
      ],
      "id": "dDZWBB4Ll10C"
    },
    {
      "cell_type": "code",
      "metadata": {
        "id": "ri3O_1i3l2mo"
      },
      "source": [
        "import requests\n",
        "import pandas as pd\n",
        "import numpy as np\n",
        "path = 'https://raw.githubusercontent.com/lustraka/puzzles/main/AoC2021/data/'"
      ],
      "id": "ri3O_1i3l2mo",
      "execution_count": 1,
      "outputs": []
    },
    {
      "cell_type": "markdown",
      "metadata": {
        "id": "TnFAd8h1l8NI"
      },
      "source": [
        "## [Day 13](https://adventofcode.com/2021/day/13): Transparent Origami\n",
        "### Part I\n",
        "- **Unknown**: The number of dots visible after completing just the first fold instruction on the transparent paper.\n",
        "- **Data**: Coordinates of dots and folding instructions\n",
        "- **Condition**:\n",
        "  - [0,0] represents the top-left coordinates\n",
        "  - `x` increases to the right, `y` increases downward\n",
        "  - `fold along y=...` instruction means folding the paper up\n",
        "  - `fold along x=xxx` instruction means folding the paper left\n",
        "- **Plan**:\n",
        "  - Initialize the matrix\n",
        "  - Write a function for folding\n",
        "  - Count the dots after folding\n"
      ],
      "id": "TnFAd8h1l8NI"
    },
    {
      "cell_type": "code",
      "metadata": {
        "id": "HZXVSS9bl736"
      },
      "source": [
        "example = \"\"\"6,10\n",
        "0,14\n",
        "9,10\n",
        "0,3\n",
        "10,4\n",
        "4,11\n",
        "6,0\n",
        "6,12\n",
        "4,1\n",
        "0,13\n",
        "10,12\n",
        "3,4\n",
        "3,0\n",
        "8,4\n",
        "1,10\n",
        "2,14\n",
        "8,10\n",
        "9,0\n",
        "\n",
        "fold along y=7\n",
        "fold along x=5\"\"\""
      ],
      "id": "HZXVSS9bl736",
      "execution_count": 2,
      "outputs": []
    },
    {
      "cell_type": "code",
      "source": [
        "def parse(input):\n",
        "  lines = input.split('\\n')\n",
        "  dots = []\n",
        "  for line in lines:\n",
        "    if ',' in line:\n",
        "      dots.append(np.array(line.split(',')).astype(int))\n",
        "  return np.array(dots)\n",
        "\n",
        "dots = parse(example)\n",
        "dots[:4]"
      ],
      "metadata": {
        "id": "Zui2ChCYW5S6",
        "outputId": "e0ca67f0-cdce-4af1-da35-dca663128507",
        "colab": {
          "base_uri": "https://localhost:8080/"
        }
      },
      "id": "Zui2ChCYW5S6",
      "execution_count": 57,
      "outputs": [
        {
          "output_type": "execute_result",
          "data": {
            "text/plain": [
              "array([[ 6, 10],\n",
              "       [ 0, 14],\n",
              "       [ 9, 10],\n",
              "       [ 0,  3]])"
            ]
          },
          "metadata": {},
          "execution_count": 57
        }
      ]
    },
    {
      "cell_type": "code",
      "source": [
        "pap = np.zeros(dots.max(axis=0)+1).astype(int)\n",
        "for dot in dots:\n",
        "  pap[dot[0], dot[1]] = 1\n",
        "pap"
      ],
      "metadata": {
        "id": "78TkviHRW57Z",
        "outputId": "09243860-51cb-4fb8-babb-0a745c5901c9",
        "colab": {
          "base_uri": "https://localhost:8080/"
        }
      },
      "id": "78TkviHRW57Z",
      "execution_count": 60,
      "outputs": [
        {
          "output_type": "execute_result",
          "data": {
            "text/plain": [
              "array([[0, 0, 0, 1, 0, 0, 0, 0, 0, 0, 0, 0, 0, 1, 1],\n",
              "       [0, 0, 0, 0, 0, 0, 0, 0, 0, 0, 1, 0, 0, 0, 0],\n",
              "       [0, 0, 0, 0, 0, 0, 0, 0, 0, 0, 0, 0, 0, 0, 1],\n",
              "       [1, 0, 0, 0, 1, 0, 0, 0, 0, 0, 0, 0, 0, 0, 0],\n",
              "       [0, 1, 0, 0, 0, 0, 0, 0, 0, 0, 0, 1, 0, 0, 0],\n",
              "       [0, 0, 0, 0, 0, 0, 0, 0, 0, 0, 0, 0, 0, 0, 0],\n",
              "       [1, 0, 0, 0, 0, 0, 0, 0, 0, 0, 1, 0, 1, 0, 0],\n",
              "       [0, 0, 0, 0, 0, 0, 0, 0, 0, 0, 0, 0, 0, 0, 0],\n",
              "       [0, 0, 0, 0, 1, 0, 0, 0, 0, 0, 1, 0, 0, 0, 0],\n",
              "       [1, 0, 0, 0, 0, 0, 0, 0, 0, 0, 1, 0, 0, 0, 0],\n",
              "       [0, 0, 0, 0, 1, 0, 0, 0, 0, 0, 0, 0, 1, 0, 0]])"
            ]
          },
          "metadata": {},
          "execution_count": 60
        }
      ]
    },
    {
      "cell_type": "markdown",
      "source": [
        "**Beware** of slicing vs. indexing. The expression `pap[6,10]` adresses one element [6,10] in the array, whereas the expression `pap[[6,10]]` addresses two rows [6, :] and [10, :]"
      ],
      "metadata": {
        "id": "2jP3L-3lsV2t"
      },
      "id": "2jP3L-3lsV2t"
    },
    {
      "cell_type": "code",
      "source": [
        "print(dots[0])\n",
        "print(pap[dots[0]])\n",
        "print(np.stack((pap[6, :], pap[10, :])))"
      ],
      "metadata": {
        "id": "ehNjG768r-FY",
        "outputId": "5183593b-bcac-4861-9f09-0ab47b1ac1b7",
        "colab": {
          "base_uri": "https://localhost:8080/"
        }
      },
      "id": "ehNjG768r-FY",
      "execution_count": 71,
      "outputs": [
        {
          "output_type": "stream",
          "name": "stdout",
          "text": [
            "[ 6 10]\n",
            "[[1 0 0 0 0 0 0 0 0 0 1 0 1 0 0]\n",
            " [0 0 0 0 1 0 0 0 0 0 0 0 1 0 0]]\n",
            "[[1 0 0 0 0 0 0 0 0 0 1 0 1 0 0]\n",
            " [0 0 0 0 1 0 0 0 0 0 0 0 1 0 0]]\n"
          ]
        }
      ]
    },
    {
      "cell_type": "code",
      "source": [
        ""
      ],
      "metadata": {
        "id": "wL-pBWfVtR_q",
        "outputId": "dc64b0ce-01d6-4d0b-a537-9f0aea491671",
        "colab": {
          "base_uri": "https://localhost:8080/"
        }
      },
      "id": "wL-pBWfVtR_q",
      "execution_count": 70,
      "outputs": [
        {
          "output_type": "execute_result",
          "data": {
            "text/plain": [
              "array([[ True,  True,  True,  True,  True,  True,  True,  True,  True,\n",
              "         True,  True,  True,  True,  True,  True],\n",
              "       [ True,  True,  True,  True,  True,  True,  True,  True,  True,\n",
              "         True,  True,  True,  True,  True,  True]])"
            ]
          },
          "metadata": {},
          "execution_count": 70
        }
      ]
    },
    {
      "cell_type": "code",
      "source": [
        "# Fold the paper up - indices\n",
        "y = 7\n",
        "for i in range(y):\n",
        "  print(i, 2*y-i)"
      ],
      "metadata": {
        "id": "DOREbAwomClj",
        "outputId": "5723796b-2326-408c-e14e-4319c1573088",
        "colab": {
          "base_uri": "https://localhost:8080/"
        }
      },
      "id": "DOREbAwomClj",
      "execution_count": 46,
      "outputs": [
        {
          "output_type": "stream",
          "name": "stdout",
          "text": [
            "0 14\n",
            "1 13\n",
            "2 12\n",
            "3 11\n",
            "4 10\n",
            "5 9\n",
            "6 8\n"
          ]
        }
      ]
    },
    {
      "cell_type": "code",
      "source": [
        "pap_y7 = pap[:,:y].copy()\n",
        "for i in range(y):\n",
        "  pap_y7[:,i] += pap[:, 2*y-i]\n",
        "pap_y7.T"
      ],
      "metadata": {
        "id": "8EfdquIgmCg7",
        "outputId": "f4764965-f95d-4154-d717-5ca19077d7fc",
        "colab": {
          "base_uri": "https://localhost:8080/"
        }
      },
      "id": "8EfdquIgmCg7",
      "execution_count": 72,
      "outputs": [
        {
          "output_type": "execute_result",
          "data": {
            "text/plain": [
              "array([[1, 0, 1, 1, 0, 0, 1, 0, 0, 1, 0],\n",
              "       [1, 0, 0, 0, 1, 0, 0, 0, 0, 0, 0],\n",
              "       [0, 0, 0, 0, 0, 0, 1, 0, 0, 0, 1],\n",
              "       [1, 0, 0, 0, 1, 0, 0, 0, 0, 0, 0],\n",
              "       [0, 1, 0, 1, 0, 0, 1, 0, 2, 1, 1],\n",
              "       [0, 0, 0, 0, 0, 0, 0, 0, 0, 0, 0],\n",
              "       [0, 0, 0, 0, 0, 0, 0, 0, 0, 0, 0]])"
            ]
          },
          "metadata": {},
          "execution_count": 72
        }
      ]
    },
    {
      "cell_type": "code",
      "source": [
        "pap_y7[pap_y7>0].shape"
      ],
      "metadata": {
        "id": "lNjddhbfW50p",
        "outputId": "e77c17f0-68d7-4049-a732-8c4ea7e885cb",
        "colab": {
          "base_uri": "https://localhost:8080/"
        }
      },
      "id": "lNjddhbfW50p",
      "execution_count": 73,
      "outputs": [
        {
          "output_type": "execute_result",
          "data": {
            "text/plain": [
              "(17,)"
            ]
          },
          "metadata": {},
          "execution_count": 73
        }
      ]
    },
    {
      "cell_type": "code",
      "source": [
        "# Fold the paper left\n",
        "x = 5\n",
        "pap_x5 = pap_y7[:x,:].copy()\n",
        "for i in range(x):\n",
        "  pap_x5[i,:] += pap_y7[2*x-i, :]\n",
        "pap_x5.T"
      ],
      "metadata": {
        "id": "RFrcnUzluuxm",
        "outputId": "e0cb05b3-c5bc-4993-e12c-f9c63fba008b",
        "colab": {
          "base_uri": "https://localhost:8080/"
        }
      },
      "id": "RFrcnUzluuxm",
      "execution_count": 75,
      "outputs": [
        {
          "output_type": "execute_result",
          "data": {
            "text/plain": [
              "array([[1, 1, 1, 1, 1],\n",
              "       [1, 0, 0, 0, 1],\n",
              "       [1, 0, 0, 0, 1],\n",
              "       [1, 0, 0, 0, 1],\n",
              "       [1, 2, 2, 1, 1],\n",
              "       [0, 0, 0, 0, 0],\n",
              "       [0, 0, 0, 0, 0]])"
            ]
          },
          "metadata": {},
          "execution_count": 75
        }
      ]
    },
    {
      "cell_type": "code",
      "source": [
        "pap_x5[pap_x5>0].shape"
      ],
      "metadata": {
        "id": "cEP0V4nbuuoe",
        "outputId": "535dc1ab-d4a2-4ac8-f03d-0afcd7c15b4e",
        "colab": {
          "base_uri": "https://localhost:8080/"
        }
      },
      "id": "cEP0V4nbuuoe",
      "execution_count": 77,
      "outputs": [
        {
          "output_type": "execute_result",
          "data": {
            "text/plain": [
              "(16,)"
            ]
          },
          "metadata": {},
          "execution_count": 77
        }
      ]
    },
    {
      "cell_type": "code",
      "source": [
        ""
      ],
      "metadata": {
        "id": "q31wjf0Luukm"
      },
      "id": "q31wjf0Luukm",
      "execution_count": null,
      "outputs": []
    },
    {
      "cell_type": "code",
      "source": [
        ""
      ],
      "metadata": {
        "id": "98OZU62qW5lq"
      },
      "id": "98OZU62qW5lq",
      "execution_count": null,
      "outputs": []
    },
    {
      "cell_type": "markdown",
      "source": [
        "### Part II\n",
        "- **Unknown**: \n",
        "- **Data**: \n",
        "- **Condition**:\n",
        "  - \n",
        "  - \n",
        "- **Plan**:\n",
        "  - \n"
      ],
      "metadata": {
        "id": "oRHOjPg2W6W5"
      },
      "id": "oRHOjPg2W6W5"
    }
  ]
}