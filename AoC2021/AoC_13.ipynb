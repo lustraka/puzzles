{
  "nbformat": 4,
  "nbformat_minor": 5,
  "metadata": {
    "kernelspec": {
      "display_name": "Python 3",
      "language": "python",
      "name": "python3"
    },
    "language_info": {
      "codemirror_mode": {
        "name": "ipython",
        "version": 3
      },
      "file_extension": ".py",
      "mimetype": "text/x-python",
      "name": "python",
      "nbconvert_exporter": "python",
      "pygments_lexer": "ipython3",
      "version": "3.7.11"
    },
    "colab": {
      "name": "AoC_13.ipynb",
      "provenance": [],
      "include_colab_link": true
    }
  },
  "cells": [
    {
      "cell_type": "markdown",
      "metadata": {
        "id": "view-in-github",
        "colab_type": "text"
      },
      "source": [
        "<a href=\"https://colab.research.google.com/github/lustraka/puzzles/blob/main/AoC2021/AoC_13.ipynb\" target=\"_parent\"><img src=\"https://colab.research.google.com/assets/colab-badge.svg\" alt=\"Open In Colab\"/></a>"
      ]
    },
    {
      "cell_type": "markdown",
      "metadata": {
        "id": "dDZWBB4Ll10C"
      },
      "source": [
        "# Advent of Code Puzzles\n",
        "[Advent of Code 2021](https://adventofcode.com/2021) | [reddit/adventofcode](https://www.reddit.com/r/adventofcode/)"
      ],
      "id": "dDZWBB4Ll10C"
    },
    {
      "cell_type": "code",
      "metadata": {
        "id": "ri3O_1i3l2mo"
      },
      "source": [
        "import requests\n",
        "import pandas as pd\n",
        "import numpy as np\n",
        "import re\n",
        "path = 'https://raw.githubusercontent.com/lustraka/puzzles/main/AoC2021/data/'"
      ],
      "id": "ri3O_1i3l2mo",
      "execution_count": 78,
      "outputs": []
    },
    {
      "cell_type": "markdown",
      "metadata": {
        "id": "TnFAd8h1l8NI"
      },
      "source": [
        "## [Day 13](https://adventofcode.com/2021/day/13): Transparent Origami\n",
        "### Part I\n",
        "- **Unknown**: The number of dots visible after completing just the first fold instruction on the transparent paper.\n",
        "- **Data**: Coordinates of dots and folding instructions\n",
        "- **Condition**:\n",
        "  - [0,0] represents the top-left coordinates\n",
        "  - `x` increases to the right, `y` increases downward\n",
        "  - `fold along y=...` instruction means folding the paper up\n",
        "  - `fold along x=xxx` instruction means folding the paper left\n",
        "- **Plan**:\n",
        "  - Initialize the matrix\n",
        "  - Write a function for folding\n",
        "  - Count the dots after folding\n"
      ],
      "id": "TnFAd8h1l8NI"
    },
    {
      "cell_type": "code",
      "metadata": {
        "id": "HZXVSS9bl736"
      },
      "source": [
        "example = \"\"\"6,10\n",
        "0,14\n",
        "9,10\n",
        "0,3\n",
        "10,4\n",
        "4,11\n",
        "6,0\n",
        "6,12\n",
        "4,1\n",
        "0,13\n",
        "10,12\n",
        "3,4\n",
        "3,0\n",
        "8,4\n",
        "1,10\n",
        "2,14\n",
        "8,10\n",
        "9,0\n",
        "\n",
        "fold along y=7\n",
        "fold along x=5\"\"\""
      ],
      "id": "HZXVSS9bl736",
      "execution_count": 79,
      "outputs": []
    },
    {
      "cell_type": "code",
      "source": [
        "def parse(input):\n",
        "  lines = input.split('\\n')\n",
        "  dots = []\n",
        "  folds = []\n",
        "  for line in lines:\n",
        "    if ',' in line:\n",
        "      dots.append(np.array(line.split(',')).astype(int))\n",
        "    if '=' in line:\n",
        "      fold = re.findall('[x,y]=\\d+', line)[0].split('=')\n",
        "      folds.append([fold[0],int(fold[1])])\n",
        "  return np.array(dots), folds\n",
        "\n",
        "dots, folds = parse(example)\n",
        "print(dots[:4])\n",
        "print(folds)"
      ],
      "metadata": {
        "id": "Zui2ChCYW5S6",
        "outputId": "7dcf88b1-f98d-458a-8bbc-e5a95966ca05",
        "colab": {
          "base_uri": "https://localhost:8080/"
        }
      },
      "id": "Zui2ChCYW5S6",
      "execution_count": 83,
      "outputs": [
        {
          "output_type": "stream",
          "name": "stdout",
          "text": [
            "[[ 6 10]\n",
            " [ 0 14]\n",
            " [ 9 10]\n",
            " [ 0  3]]\n",
            "[['y', 7], ['x', 5]]\n"
          ]
        }
      ]
    },
    {
      "cell_type": "code",
      "source": [
        "r = requests.get(path+'AoC2021_13.txt')\n",
        "dots, folds = parse(r.text)\n",
        "print(dots[-2:])\n",
        "print(folds[-2:])"
      ],
      "metadata": {
        "id": "LOgWQD6N7jss",
        "outputId": "56a2c075-2b47-4007-df87-1def4f6ea628",
        "colab": {
          "base_uri": "https://localhost:8080/"
        }
      },
      "id": "LOgWQD6N7jss",
      "execution_count": 84,
      "outputs": [
        {
          "output_type": "stream",
          "name": "stdout",
          "text": [
            "[[954 841]\n",
            " [960 278]]\n",
            "[['y', 13], ['y', 6]]\n"
          ]
        }
      ]
    },
    {
      "cell_type": "code",
      "source": [
        "pap = np.zeros(dots.max(axis=0)+1).astype(int)\n",
        "for dot in dots:\n",
        "  pap[dot[0], dot[1]] = 1\n",
        "pap"
      ],
      "metadata": {
        "id": "78TkviHRW57Z",
        "outputId": "16e88275-8c18-4a1e-d76c-e081938376aa",
        "colab": {
          "base_uri": "https://localhost:8080/"
        }
      },
      "id": "78TkviHRW57Z",
      "execution_count": 85,
      "outputs": [
        {
          "output_type": "execute_result",
          "data": {
            "text/plain": [
              "array([[0, 0, 0, ..., 0, 0, 0],\n",
              "       [0, 0, 0, ..., 0, 0, 0],\n",
              "       [0, 0, 0, ..., 0, 0, 0],\n",
              "       ...,\n",
              "       [0, 0, 0, ..., 0, 0, 0],\n",
              "       [0, 0, 0, ..., 0, 0, 0],\n",
              "       [0, 0, 0, ..., 0, 0, 0]])"
            ]
          },
          "metadata": {},
          "execution_count": 85
        }
      ]
    },
    {
      "cell_type": "markdown",
      "source": [
        "**Beware** of slicing vs. indexing. The expression `pap[6,10]` adresses one element [6,10] in the array, whereas the expression `pap[[6,10]]` addresses two rows [6, :] and [10, :]"
      ],
      "metadata": {
        "id": "2jP3L-3lsV2t"
      },
      "id": "2jP3L-3lsV2t"
    },
    {
      "cell_type": "code",
      "source": [
        "print(dots[0])\n",
        "print(pap[dots[0]])\n",
        "print(np.stack((pap[6, :], pap[10, :])))"
      ],
      "metadata": {
        "id": "ehNjG768r-FY",
        "outputId": "5183593b-bcac-4861-9f09-0ab47b1ac1b7",
        "colab": {
          "base_uri": "https://localhost:8080/"
        }
      },
      "id": "ehNjG768r-FY",
      "execution_count": null,
      "outputs": [
        {
          "output_type": "stream",
          "name": "stdout",
          "text": [
            "[ 6 10]\n",
            "[[1 0 0 0 0 0 0 0 0 0 1 0 1 0 0]\n",
            " [0 0 0 0 1 0 0 0 0 0 0 0 1 0 0]]\n",
            "[[1 0 0 0 0 0 0 0 0 0 1 0 1 0 0]\n",
            " [0 0 0 0 1 0 0 0 0 0 0 0 1 0 0]]\n"
          ]
        }
      ]
    },
    {
      "cell_type": "code",
      "source": [
        "# Fold the paper up - indices\n",
        "y = 7\n",
        "for i in range(y):\n",
        "  print(i, 2*y-i)"
      ],
      "metadata": {
        "id": "DOREbAwomClj",
        "outputId": "5723796b-2326-408c-e14e-4319c1573088",
        "colab": {
          "base_uri": "https://localhost:8080/"
        }
      },
      "id": "DOREbAwomClj",
      "execution_count": null,
      "outputs": [
        {
          "output_type": "stream",
          "name": "stdout",
          "text": [
            "0 14\n",
            "1 13\n",
            "2 12\n",
            "3 11\n",
            "4 10\n",
            "5 9\n",
            "6 8\n"
          ]
        }
      ]
    },
    {
      "cell_type": "code",
      "source": [
        "pap_y7 = pap[:,:y].copy()\n",
        "for i in range(y):\n",
        "  pap_y7[:,i] += pap[:, 2*y-i]\n",
        "pap_y7.T"
      ],
      "metadata": {
        "id": "8EfdquIgmCg7",
        "outputId": "f4764965-f95d-4154-d717-5ca19077d7fc",
        "colab": {
          "base_uri": "https://localhost:8080/"
        }
      },
      "id": "8EfdquIgmCg7",
      "execution_count": null,
      "outputs": [
        {
          "output_type": "execute_result",
          "data": {
            "text/plain": [
              "array([[1, 0, 1, 1, 0, 0, 1, 0, 0, 1, 0],\n",
              "       [1, 0, 0, 0, 1, 0, 0, 0, 0, 0, 0],\n",
              "       [0, 0, 0, 0, 0, 0, 1, 0, 0, 0, 1],\n",
              "       [1, 0, 0, 0, 1, 0, 0, 0, 0, 0, 0],\n",
              "       [0, 1, 0, 1, 0, 0, 1, 0, 2, 1, 1],\n",
              "       [0, 0, 0, 0, 0, 0, 0, 0, 0, 0, 0],\n",
              "       [0, 0, 0, 0, 0, 0, 0, 0, 0, 0, 0]])"
            ]
          },
          "metadata": {},
          "execution_count": 72
        }
      ]
    },
    {
      "cell_type": "code",
      "source": [
        "pap_y7[pap_y7>0].shape"
      ],
      "metadata": {
        "id": "lNjddhbfW50p",
        "outputId": "e77c17f0-68d7-4049-a732-8c4ea7e885cb",
        "colab": {
          "base_uri": "https://localhost:8080/"
        }
      },
      "id": "lNjddhbfW50p",
      "execution_count": null,
      "outputs": [
        {
          "output_type": "execute_result",
          "data": {
            "text/plain": [
              "(17,)"
            ]
          },
          "metadata": {},
          "execution_count": 73
        }
      ]
    },
    {
      "cell_type": "code",
      "source": [
        "# Fold the paper left\n",
        "x = 5\n",
        "pap_x5 = pap_y7[:x,:].copy()\n",
        "for i in range(x):\n",
        "  pap_x5[i,:] += pap_y7[2*x-i, :]\n",
        "pap_x5.T"
      ],
      "metadata": {
        "id": "RFrcnUzluuxm",
        "outputId": "e0cb05b3-c5bc-4993-e12c-f9c63fba008b",
        "colab": {
          "base_uri": "https://localhost:8080/"
        }
      },
      "id": "RFrcnUzluuxm",
      "execution_count": null,
      "outputs": [
        {
          "output_type": "execute_result",
          "data": {
            "text/plain": [
              "array([[1, 1, 1, 1, 1],\n",
              "       [1, 0, 0, 0, 1],\n",
              "       [1, 0, 0, 0, 1],\n",
              "       [1, 0, 0, 0, 1],\n",
              "       [1, 2, 2, 1, 1],\n",
              "       [0, 0, 0, 0, 0],\n",
              "       [0, 0, 0, 0, 0]])"
            ]
          },
          "metadata": {},
          "execution_count": 75
        }
      ]
    },
    {
      "cell_type": "code",
      "source": [
        "pap_x5[pap_x5>0].shape"
      ],
      "metadata": {
        "id": "cEP0V4nbuuoe",
        "outputId": "535dc1ab-d4a2-4ac8-f03d-0afcd7c15b4e",
        "colab": {
          "base_uri": "https://localhost:8080/"
        }
      },
      "id": "cEP0V4nbuuoe",
      "execution_count": null,
      "outputs": [
        {
          "output_type": "execute_result",
          "data": {
            "text/plain": [
              "(16,)"
            ]
          },
          "metadata": {},
          "execution_count": 77
        }
      ]
    },
    {
      "cell_type": "code",
      "source": [
        "def solve_part1(input):\n",
        "  dots, folds = parse(input)\n",
        "  # Initialize the paper\n",
        "  pap = np.zeros(dots.max(axis=0)+1).astype(int)\n",
        "  for dot in dots:\n",
        "    pap[dot[0], dot[1]] = 1\n",
        "  print('Initial shape:', pap.shape)\n",
        "  \n",
        "  # Calculate the first fold\n",
        "  ax, val = folds[0][0], folds[0][1]\n",
        "  print(ax, val)\n",
        "  # Fold the paper left\n",
        "  if ax == 'x':\n",
        "    for i in range(val):\n",
        "      pap[i, :] += pap[2*val-i, :]\n",
        "    # Adjust shape of the paper\n",
        "    pap = pap[:val, :]\n",
        "  else:\n",
        "    for i in range(val):\n",
        "      pap[:, i] += pap[:, 2*val-i]\n",
        "    # Adjust shape of the paper\n",
        "    pap = pap[:, :val]\n",
        "  print('Folded shape:', pap.shape)\n",
        "\n",
        "  return pap[pap>0].shape[0]\n",
        "\n",
        "solve_part1(example)"
      ],
      "metadata": {
        "id": "q31wjf0Luukm",
        "outputId": "7cf5e4ae-7c37-4ce4-834e-eceba8924401",
        "colab": {
          "base_uri": "https://localhost:8080/"
        }
      },
      "id": "q31wjf0Luukm",
      "execution_count": 92,
      "outputs": [
        {
          "output_type": "stream",
          "name": "stdout",
          "text": [
            "Initial shape: (11, 15)\n",
            "y 7\n",
            "Folded shape: (11, 7)\n"
          ]
        },
        {
          "output_type": "execute_result",
          "data": {
            "text/plain": [
              "17"
            ]
          },
          "metadata": {},
          "execution_count": 92
        }
      ]
    },
    {
      "cell_type": "code",
      "source": [
        "solve_part1(r.text)"
      ],
      "metadata": {
        "id": "DK_p17N67b3z",
        "outputId": "c712cbc4-53f9-430a-d3d3-9292388dca94",
        "colab": {
          "base_uri": "https://localhost:8080/"
        }
      },
      "id": "DK_p17N67b3z",
      "execution_count": 93,
      "outputs": [
        {
          "output_type": "stream",
          "name": "stdout",
          "text": [
            "Initial shape: (1311, 890)\n",
            "x 655\n",
            "Folded shape: (655, 890)\n"
          ]
        },
        {
          "output_type": "execute_result",
          "data": {
            "text/plain": [
              "669"
            ]
          },
          "metadata": {},
          "execution_count": 93
        }
      ]
    },
    {
      "cell_type": "markdown",
      "source": [
        "### Part II\n",
        "- **Unknown**: Eight capital letters after folding the paper.\n",
        "- **Data**: Same as in part I\n",
        "- **Condition**:\n",
        "  - Same as in part I\n",
        "- **Plan**:\n",
        "  - Calculate all folds and return transposed result\n"
      ],
      "metadata": {
        "id": "oRHOjPg2W6W5"
      },
      "id": "oRHOjPg2W6W5"
    },
    {
      "cell_type": "code",
      "source": [
        "def solve_part2(input):\n",
        "  dots, folds = parse(input)\n",
        "  # Initialize the paper\n",
        "  pap = np.zeros(dots.max(axis=0)+1).astype(int)\n",
        "  for dot in dots:\n",
        "    pap[dot[0], dot[1]] = 1\n",
        "  print('Initial shape:', pap.shape)\n",
        "  \n",
        "  # Calculate the folds\n",
        "  for ax, val in folds:\n",
        "    #print(ax, val)\n",
        "    # Fold the paper left\n",
        "    if ax == 'x':\n",
        "      for i in range(val):\n",
        "        pap[i, :] += pap[2*val-i, :]\n",
        "      # Adjust shape of the paper\n",
        "      pap = pap[:val, :]\n",
        "    else:\n",
        "      for i in range(val):\n",
        "        pap[:, i] += pap[:, 2*val-i]\n",
        "      # Adjust shape of the paper\n",
        "      pap = pap[:, :val]\n",
        "    #print('Folded shape:', pap.shape)\n",
        "\n",
        "  return pap.T\n",
        "\n",
        "code = solve_part2(example)\n",
        "print(code)"
      ],
      "metadata": {
        "id": "qpuDu7iTAz60",
        "outputId": "4ffee7b3-553a-4f12-9755-672858a71f99",
        "colab": {
          "base_uri": "https://localhost:8080/"
        }
      },
      "id": "qpuDu7iTAz60",
      "execution_count": 96,
      "outputs": [
        {
          "output_type": "stream",
          "name": "stdout",
          "text": [
            "Initial shape: (11, 15)\n",
            "[[1 1 1 1 1]\n",
            " [1 0 0 0 1]\n",
            " [1 0 0 0 1]\n",
            " [1 0 0 0 1]\n",
            " [1 2 2 1 1]\n",
            " [0 0 0 0 0]\n",
            " [0 0 0 0 0]]\n"
          ]
        }
      ]
    },
    {
      "cell_type": "code",
      "source": [
        "solve_part2(r.text)"
      ],
      "metadata": {
        "id": "_XqjgiXxA0dm",
        "outputId": "62df9fb9-bc75-4901-d830-5a2c96d467b8",
        "colab": {
          "base_uri": "https://localhost:8080/",
          "height": 304
        }
      },
      "id": "_XqjgiXxA0dm",
      "execution_count": 97,
      "outputs": [
        {
          "output_type": "stream",
          "name": "stdout",
          "text": [
            "Initial shape: (1311, 890)\n"
          ]
        },
        {
          "output_type": "error",
          "ename": "IndexError",
          "evalue": "ignored",
          "traceback": [
            "\u001b[0;31m---------------------------------------------------------------------------\u001b[0m",
            "\u001b[0;31mIndexError\u001b[0m                                Traceback (most recent call last)",
            "\u001b[0;32m<ipython-input-97-249a81d193f3>\u001b[0m in \u001b[0;36m<module>\u001b[0;34m()\u001b[0m\n\u001b[0;32m----> 1\u001b[0;31m \u001b[0msolve_part2\u001b[0m\u001b[0;34m(\u001b[0m\u001b[0mr\u001b[0m\u001b[0;34m.\u001b[0m\u001b[0mtext\u001b[0m\u001b[0;34m)\u001b[0m\u001b[0;34m\u001b[0m\u001b[0;34m\u001b[0m\u001b[0m\n\u001b[0m",
            "\u001b[0;32m<ipython-input-96-102fc0c326c9>\u001b[0m in \u001b[0;36msolve_part2\u001b[0;34m(input)\u001b[0m\n\u001b[1;32m     18\u001b[0m     \u001b[0;32melse\u001b[0m\u001b[0;34m:\u001b[0m\u001b[0;34m\u001b[0m\u001b[0;34m\u001b[0m\u001b[0m\n\u001b[1;32m     19\u001b[0m       \u001b[0;32mfor\u001b[0m \u001b[0mi\u001b[0m \u001b[0;32min\u001b[0m \u001b[0mrange\u001b[0m\u001b[0;34m(\u001b[0m\u001b[0mval\u001b[0m\u001b[0;34m)\u001b[0m\u001b[0;34m:\u001b[0m\u001b[0;34m\u001b[0m\u001b[0;34m\u001b[0m\u001b[0m\n\u001b[0;32m---> 20\u001b[0;31m         \u001b[0mpap\u001b[0m\u001b[0;34m[\u001b[0m\u001b[0;34m:\u001b[0m\u001b[0;34m,\u001b[0m \u001b[0mi\u001b[0m\u001b[0;34m]\u001b[0m \u001b[0;34m+=\u001b[0m \u001b[0mpap\u001b[0m\u001b[0;34m[\u001b[0m\u001b[0;34m:\u001b[0m\u001b[0;34m,\u001b[0m \u001b[0;36m2\u001b[0m\u001b[0;34m*\u001b[0m\u001b[0mval\u001b[0m\u001b[0;34m-\u001b[0m\u001b[0mi\u001b[0m\u001b[0;34m]\u001b[0m\u001b[0;34m\u001b[0m\u001b[0;34m\u001b[0m\u001b[0m\n\u001b[0m\u001b[1;32m     21\u001b[0m       \u001b[0;31m# Adjust shape of the paper\u001b[0m\u001b[0;34m\u001b[0m\u001b[0;34m\u001b[0m\u001b[0;34m\u001b[0m\u001b[0m\n\u001b[1;32m     22\u001b[0m       \u001b[0mpap\u001b[0m \u001b[0;34m=\u001b[0m \u001b[0mpap\u001b[0m\u001b[0;34m[\u001b[0m\u001b[0;34m:\u001b[0m\u001b[0;34m,\u001b[0m \u001b[0;34m:\u001b[0m\u001b[0mval\u001b[0m\u001b[0;34m]\u001b[0m\u001b[0;34m\u001b[0m\u001b[0;34m\u001b[0m\u001b[0m\n",
            "\u001b[0;31mIndexError\u001b[0m: index 894 is out of bounds for axis 1 with size 890"
          ]
        }
      ]
    },
    {
      "cell_type": "code",
      "source": [
        ""
      ],
      "metadata": {
        "id": "XGC9tv-CA0Ys"
      },
      "id": "XGC9tv-CA0Ys",
      "execution_count": null,
      "outputs": []
    },
    {
      "cell_type": "code",
      "source": [
        ""
      ],
      "metadata": {
        "id": "XKl3k7e0A0S0"
      },
      "id": "XKl3k7e0A0S0",
      "execution_count": null,
      "outputs": []
    }
  ]
}