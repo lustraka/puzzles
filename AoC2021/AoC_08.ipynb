{
  "cells": [
    {
      "cell_type": "markdown",
      "metadata": {
        "colab_type": "text",
        "id": "view-in-github"
      },
      "source": [
        "<a href=\"https://colab.research.google.com/github/lustraka/puzzles/blob/main/AoC2021/AoC_08.ipynb\" target=\"_parent\"><img src=\"https://colab.research.google.com/assets/colab-badge.svg\" alt=\"Open In Colab\"/></a>"
      ]
    },
    {
      "cell_type": "markdown",
      "id": "dDZWBB4Ll10C",
      "metadata": {
        "id": "dDZWBB4Ll10C"
      },
      "source": [
        "# Advent of Code Puzzles\n",
        "[Advent of Code 2021](https://adventofcode.com/2021) | [reddit/adventofcode](https://www.reddit.com/r/adventofcode/)"
      ]
    },
    {
      "cell_type": "code",
      "execution_count": 1,
      "id": "ri3O_1i3l2mo",
      "metadata": {
        "id": "ri3O_1i3l2mo"
      },
      "outputs": [],
      "source": [
        "import requests\n",
        "import pandas as pd\n",
        "import numpy as np\n",
        "path = 'https://raw.githubusercontent.com/lustraka/puzzles/main/AoC2021/data/'"
      ]
    },
    {
      "cell_type": "markdown",
      "id": "-cv2xveB5V5-",
      "metadata": {
        "id": "-cv2xveB5V5-"
      },
      "source": [
        "## [Day 12](https://adventofcode.com/2021/day/12): Passage Pathing\n",
        "### Part I\n",
        "- **Unknown**: The number of distinct paths through the cave system from start ot end that visit small caves at most once.\n",
        "- **Data**: Edges of the graph\n",
        "- **Condition**:\n",
        "  - Find all distinct paths from `start` to `end`.\n",
        "  - Visit small caves at most once.\n",
        "  - Visit big caves any number of times.\n",
        "- **Plan**:\n",
        "  - Build the graph\n",
        "  - Traverse the graph"
      ]
    },
    {
      "cell_type": "code",
      "execution_count": 2,
      "id": "BJuY2gR95VMQ",
      "metadata": {
        "id": "BJuY2gR95VMQ"
      },
      "outputs": [],
      "source": [
        "example = \"\"\"start-A\n",
        "start-b\n",
        "A-c\n",
        "A-b\n",
        "b-d\n",
        "A-end\n",
        "b-end\"\"\""
      ]
    },
    {
      "cell_type": "code",
      "execution_count": 3,
      "id": "wXL-zlTcIMBY",
      "metadata": {
        "colab": {
          "base_uri": "https://localhost:8080/"
        },
        "id": "wXL-zlTcIMBY",
        "outputId": "665c3bcd-00f4-44c4-a493-3d2c0ae99302"
      },
      "outputs": [
        {
          "data": {
            "text/plain": [
              "[(True, False), (False, True), (False, False)]"
            ]
          },
          "execution_count": 3,
          "metadata": {},
          "output_type": "execute_result"
        }
      ],
      "source": [
        "[(x.islower(), x.isupper()) for x in ['ab', 'AB', 'Ab']]"
      ]
    },
    {
      "cell_type": "code",
      "execution_count": 4,
      "id": "Wv2KJRc0INCj",
      "metadata": {
        "id": "Wv2KJRc0INCj"
      },
      "outputs": [],
      "source": [
        "from collections import defaultdict"
      ]
    },
    {
      "cell_type": "code",
      "execution_count": 12,
      "id": "H_LItxd8IM_z",
      "metadata": {
        "id": "H_LItxd8IM_z"
      },
      "outputs": [],
      "source": [
        "class Graph:\n",
        "  def __init__(self):\n",
        "    self.graph = defaultdict(list)\n",
        "  \n",
        "  def addEdge(self, u, v):\n",
        "    self.graph[u].append(v)"
      ]
    },
    {
      "cell_type": "code",
      "execution_count": 9,
      "id": "mSYxrZsTIM9b",
      "metadata": {
        "id": "mSYxrZsTIM9b"
      },
      "outputs": [],
      "source": [
        "def parse(input):\n",
        "  return [line.split('-') for line in input.split()]\n",
        "\n",
        "data = parse(example)"
      ]
    },
    {
      "cell_type": "code",
      "execution_count": 13,
      "id": "hrhton9OIM6c",
      "metadata": {
        "id": "hrhton9OIM6c"
      },
      "outputs": [],
      "source": [
        "g = Graph()\n",
        "for u,v in data:\n",
        "  g.addEdge(u,v)"
      ]
    },
    {
      "cell_type": "code",
      "execution_count": 15,
      "id": "V1UiOrM-IM3Z",
      "metadata": {
        "colab": {
          "base_uri": "https://localhost:8080/"
        },
        "id": "V1UiOrM-IM3Z",
        "outputId": "05ae01d2-1c7c-47b9-a050-0854408fbf9e"
      },
      "outputs": [
        {
          "data": {
            "text/plain": [
              "defaultdict(list,\n",
              "            {'A': ['c', 'b', 'end'], 'b': ['d', 'end'], 'start': ['A', 'b']})"
            ]
          },
          "execution_count": 15,
          "metadata": {},
          "output_type": "execute_result"
        }
      ],
      "source": [
        "g.graph"
      ]
    },
    {
      "cell_type": "code",
      "execution_count": 29,
      "id": "ViP0ioWFvjXM",
      "metadata": {
        "colab": {
          "base_uri": "https://localhost:8080/",
          "height": 238
        },
        "id": "ViP0ioWFvjXM",
        "outputId": "9c2f5161-a11e-4013-813e-b5fc8261ed27"
      },
      "outputs": [
        {
          "data": {
            "text/html": [
              "<div>\n",
              "<style scoped>\n",
              "    .dataframe tbody tr th:only-of-type {\n",
              "        vertical-align: middle;\n",
              "    }\n",
              "\n",
              "    .dataframe tbody tr th {\n",
              "        vertical-align: top;\n",
              "    }\n",
              "\n",
              "    .dataframe thead th {\n",
              "        text-align: right;\n",
              "    }\n",
              "</style>\n",
              "<table border=\"1\" class=\"dataframe\">\n",
              "  <thead>\n",
              "    <tr style=\"text-align: right;\">\n",
              "      <th></th>\n",
              "      <th>A</th>\n",
              "      <th>b</th>\n",
              "      <th>c</th>\n",
              "      <th>d</th>\n",
              "      <th>end</th>\n",
              "      <th>start</th>\n",
              "    </tr>\n",
              "  </thead>\n",
              "  <tbody>\n",
              "    <tr>\n",
              "      <th>A</th>\n",
              "      <td>0</td>\n",
              "      <td>1</td>\n",
              "      <td>1</td>\n",
              "      <td>0</td>\n",
              "      <td>1</td>\n",
              "      <td>1</td>\n",
              "    </tr>\n",
              "    <tr>\n",
              "      <th>b</th>\n",
              "      <td>1</td>\n",
              "      <td>0</td>\n",
              "      <td>0</td>\n",
              "      <td>1</td>\n",
              "      <td>1</td>\n",
              "      <td>1</td>\n",
              "    </tr>\n",
              "    <tr>\n",
              "      <th>c</th>\n",
              "      <td>1</td>\n",
              "      <td>0</td>\n",
              "      <td>0</td>\n",
              "      <td>0</td>\n",
              "      <td>0</td>\n",
              "      <td>0</td>\n",
              "    </tr>\n",
              "    <tr>\n",
              "      <th>d</th>\n",
              "      <td>0</td>\n",
              "      <td>1</td>\n",
              "      <td>0</td>\n",
              "      <td>0</td>\n",
              "      <td>0</td>\n",
              "      <td>0</td>\n",
              "    </tr>\n",
              "    <tr>\n",
              "      <th>end</th>\n",
              "      <td>1</td>\n",
              "      <td>1</td>\n",
              "      <td>0</td>\n",
              "      <td>0</td>\n",
              "      <td>0</td>\n",
              "      <td>0</td>\n",
              "    </tr>\n",
              "    <tr>\n",
              "      <th>start</th>\n",
              "      <td>1</td>\n",
              "      <td>1</td>\n",
              "      <td>0</td>\n",
              "      <td>0</td>\n",
              "      <td>0</td>\n",
              "      <td>0</td>\n",
              "    </tr>\n",
              "  </tbody>\n",
              "</table>\n",
              "</div>"
            ],
            "text/plain": [
              "       A  b  c  d  end  start\n",
              "A      0  1  1  0    1      1\n",
              "b      1  0  0  1    1      1\n",
              "c      1  0  0  0    0      0\n",
              "d      0  1  0  0    0      0\n",
              "end    1  1  0  0    0      0\n",
              "start  1  1  0  0    0      0"
            ]
          },
          "execution_count": 29,
          "metadata": {},
          "output_type": "execute_result"
        }
      ],
      "source": [
        "def create_adj_matrix(data):\n",
        "  \"\"\"Return a list of vertices and an adjacency matrix.\"\"\"\n",
        "\n",
        "  # Get sorted list of vertices\n",
        "  V = sorted(list(set(np.array(data).flatten())))\n",
        "\n",
        "  # Initialize an adjacency matrix with zeros\n",
        "  adjmatrix = np.zeros((len(V),len(V))).astype(int)\n",
        "\n",
        "  # Fill the edges\n",
        "  for v,u in data:\n",
        "    i,j = V.index(v), V.index(u)    \n",
        "    adjmatrix[i,j] = 1\n",
        "    # Undirected graph is symetric\n",
        "    adjmatrix[j,i] = 1\n",
        "  return V, adjmatrix\n",
        "\n",
        "V, adjmatrix = create_adj_matrix(data)\n",
        "\n",
        "pd.DataFrame(adjmatrix, index=V, columns=V)"
      ]
    },
    {
      "cell_type": "markdown",
      "id": "JHKaUslQwMAT",
      "metadata": {
        "id": "JHKaUslQwMAT"
      },
      "source": [
        "![](https://www.plantuml.com/plantuml/png/SoWkIImgAStDuKfEB4fH0FCWp6G8bPgN0c4uGgWa29N21LQgeAiBb80nGP8A80571H0x2KYcWDYwO5EIO0m7806q4G00)"
      ]
    },
    {
      "cell_type": "code",
      "execution_count": null,
      "id": "EkJNN3cavjTa",
      "metadata": {
        "id": "EkJNN3cavjTa"
      },
      "outputs": [],
      "source": []
    },
    {
      "cell_type": "code",
      "execution_count": null,
      "id": "d4fApLNAvjQc",
      "metadata": {
        "id": "d4fApLNAvjQc"
      },
      "outputs": [],
      "source": []
    },
    {
      "cell_type": "code",
      "execution_count": null,
      "id": "ThXqLj-fIMjg",
      "metadata": {
        "id": "ThXqLj-fIMjg"
      },
      "outputs": [],
      "source": []
    },
    {
      "cell_type": "markdown",
      "id": "sjypZ_XNINvx",
      "metadata": {
        "id": "sjypZ_XNINvx"
      },
      "source": [
        "### Part II\n",
        "- **Unknown**: \n",
        "- **Data**: \n",
        "- **Condition**:\n",
        "  - \n",
        "  - \n",
        "- **Plan**:\n",
        "  - \n"
      ]
    },
    {
      "cell_type": "code",
      "execution_count": null,
      "id": "A_Gdble56DLH",
      "metadata": {
        "id": "A_Gdble56DLH"
      },
      "outputs": [],
      "source": [
        "example = \"\"\"\"\"\""
      ]
    },
    {
      "cell_type": "markdown",
      "id": "2KmvvU5ytV_e",
      "metadata": {
        "id": "2KmvvU5ytV_e"
      },
      "source": [
        "## [Day 10](https://adventofcode.com/2021/day/10): Syntax Scoring\n",
        "### Part I\n",
        "- **Unknown**: The total syntax error score of the input.\n",
        "- **Data**: A copy of the navigation subsystem.\n",
        "- **Condition**:\n",
        "  - Some lines are incomplete, but others are corrupted.\n",
        "  - Illegal characters have assign values.\n",
        "- **Plan**:\n",
        "  - Use a stack \n",
        "\n",
        "  **Lesson learned**: I lost lot of time by implementing a queue, whereas the problem at hand needed a stack. A painfull price for hurrying. "
      ]
    },
    {
      "cell_type": "code",
      "execution_count": null,
      "id": "1TKYQfPhtigN",
      "metadata": {
        "id": "1TKYQfPhtigN"
      },
      "outputs": [],
      "source": [
        "example = \"\"\"[({(<(())[]>[[{[]{<()<>>\n",
        "[(()[<>])]({[<{<<[]>>(\n",
        "{([(<{}[<>[]}>{[]{[(<()>\n",
        "(((({<>}<{<{<>}{[]{[]{}\n",
        "[[<[([]))<([[{}[[()]]]\n",
        "[{[{({}]{}}([{[{{{}}([]\n",
        "{<[[]]>}<{[{[{[]{()[[[]\n",
        "[<(<(<(<{}))><([]([]()\n",
        "<{([([[(<>()){}]>(<<{{\n",
        "<{([{{}}[<[[[<>{}]]]>[]]\"\"\"\n",
        "\n",
        "char_scores = {')':3, ']':57, '}':1197, '>':25137}"
      ]
    },
    {
      "cell_type": "code",
      "execution_count": null,
      "id": "ONBQ5xD_tjOF",
      "metadata": {
        "colab": {
          "base_uri": "https://localhost:8080/"
        },
        "id": "ONBQ5xD_tjOF",
        "outputId": "c16f073d-bcfc-4da1-8609-cf491ce23832"
      },
      "outputs": [
        {
          "data": {
            "text/plain": [
              "['[({(<(())[]>[[{[]{<()<>>',\n",
              " '[(()[<>])]({[<{<<[]>>(',\n",
              " '{([(<{}[<>[]}>{[]{[(<()>',\n",
              " '(((({<>}<{<{<>}{[]{[]{}',\n",
              " '[[<[([]))<([[{}[[()]]]',\n",
              " '[{[{({}]{}}([{[{{{}}([]',\n",
              " '{<[[]]>}<{[{[{[]{()[[[]',\n",
              " '[<(<(<(<{}))><([]([]()',\n",
              " '<{([([[(<>()){}]>(<<{{',\n",
              " '<{([{{}}[<[[[<>{}]]]>[]]']"
            ]
          },
          "execution_count": 3,
          "metadata": {},
          "output_type": "execute_result"
        }
      ],
      "source": [
        "def parse(input):\n",
        "  return input.split()\n",
        "parse(example)"
      ]
    },
    {
      "cell_type": "code",
      "execution_count": null,
      "id": "5IxMmP_htjGd",
      "metadata": {
        "colab": {
          "base_uri": "https://localhost:8080/"
        },
        "id": "5IxMmP_htjGd",
        "outputId": "28c6a5c1-05f4-491c-88f5-9003c08c656f"
      },
      "outputs": [
        {
          "data": {
            "text/plain": [
              "['([(({<([{({<(([]<>)(()[])){<()()>{<>()}}><([[][]]<()<>>)[[[][]]<()<>>]>}[{[{()[]}(<>[])]([<>[]]<<>()>)}])',\n",
              " '{{{([<[([{(<[{[]()}<[]{}>]>)}])<<<<({(<>())<{}()>})[{({}[]}{<>[]}}<<[]<>><{}[]>>]><(<[()<>']"
            ]
          },
          "execution_count": 4,
          "metadata": {},
          "output_type": "execute_result"
        }
      ],
      "source": [
        "r = requests.get(path+'AoC2021_10.txt')\n",
        "code = parse(r.text)\n",
        "code[-2:]"
      ]
    },
    {
      "cell_type": "code",
      "execution_count": null,
      "id": "3GSj5hLTti-9",
      "metadata": {
        "id": "3GSj5hLTti-9"
      },
      "outputs": [],
      "source": [
        "class Node():\n",
        "  def __init__(self, data=None, next=None, prev=None):\n",
        "    self.data = data\n",
        "    self.next = next\n",
        "  \n",
        "  def __repr__(self):\n",
        "    return f\"Node({self.data})\"\n",
        "\n",
        "class Stack():\n",
        "  def __init__(self):\n",
        "    self.top = None\n",
        "    self.size = 0\n",
        "  \n",
        "  def push(self,data):\n",
        "    node = Node(data,None,None)\n",
        "    if self.top:\n",
        "      node.next = self.top\n",
        "      self.top = node\n",
        "    else:\n",
        "      self.top = node\n",
        "    self.size += 1\n",
        "  \n",
        "  def pop(self):\n",
        "    if self.top:\n",
        "      data = self.top.data\n",
        "      self.size -= 1\n",
        "      if self.top.next:\n",
        "        self.top = self.top.next\n",
        "      else:\n",
        "        self.top = None\n",
        "      return data\n",
        "    else:\n",
        "      return None\n",
        "  \n",
        "  def __repr__(self):\n",
        "    nodes = []\n",
        "    node = self.top\n",
        "    while node:\n",
        "      nodes.append(node.data)\n",
        "      node = node.next\n",
        "    \n",
        "    return f\"Stack({''.join(nodes)}, size={self.size})\""
      ]
    },
    {
      "cell_type": "code",
      "execution_count": null,
      "id": "UHh2yB0G0y9Z",
      "metadata": {
        "colab": {
          "base_uri": "https://localhost:8080/"
        },
        "id": "UHh2yB0G0y9Z",
        "outputId": "2ff9aac8-1553-41a1-9e77-742d3257f28c"
      },
      "outputs": [
        {
          "data": {
            "text/plain": [
              "26397"
            ]
          },
          "execution_count": 10,
          "metadata": {},
          "output_type": "execute_result"
        }
      ],
      "source": [
        "def solve_part1(input):\n",
        "  code = parse(input)\n",
        "\n",
        "  pairs = {')':'(', ']':'[', '}':'{', '>':'<'}\n",
        "  score = 0\n",
        "  \n",
        "  for line in code:\n",
        "    s = Stack()\n",
        "    for c in line:\n",
        "      if c in ['(', '[', '{', '<']:\n",
        "        s.push(c)\n",
        "      elif s.top.data == pairs[c]:\n",
        "        s.pop()\n",
        "      else:\n",
        "        score += char_scores[c]\n",
        "        break\n",
        "\n",
        "  return score\n",
        "\n",
        "solve_part1(example)"
      ]
    },
    {
      "cell_type": "code",
      "execution_count": null,
      "id": "TQKRetgt0yyR",
      "metadata": {
        "colab": {
          "base_uri": "https://localhost:8080/"
        },
        "id": "TQKRetgt0yyR",
        "outputId": "6b456b5b-926a-42d2-ee6d-c9012865cd1e"
      },
      "outputs": [
        {
          "data": {
            "text/plain": [
              "168417"
            ]
          },
          "execution_count": 7,
          "metadata": {},
          "output_type": "execute_result"
        }
      ],
      "source": [
        "solve_part1(r.text)"
      ]
    },
    {
      "cell_type": "markdown",
      "id": "tuw1EKs1xwnd",
      "metadata": {
        "id": "tuw1EKs1xwnd"
      },
      "source": [
        "**Part II**:\n",
        "- **Unknown**: The middle score (a median) of the line autocomplete scoring.\n",
        "- **Data**: A copy of the navigation subsystem.\n",
        "- **Condition**:\n",
        "  - Some lines are incomplete, but others are corrupted.\n",
        "- **Plan**:\n",
        "  - Use a stack \n",
        "  - Discard the corrupted lines.\n",
        "  - Complete the incomplete lines and calculate the score.\n",
        "  - Return the median of the sequence of scores.\n"
      ]
    },
    {
      "cell_type": "code",
      "execution_count": null,
      "id": "PoxxSglu0yt5",
      "metadata": {
        "colab": {
          "base_uri": "https://localhost:8080/"
        },
        "id": "PoxxSglu0yt5",
        "outputId": "bd575b16-08e8-42b8-e183-d2eed5c509a5"
      },
      "outputs": [
        {
          "data": {
            "text/plain": [
              "288957.0"
            ]
          },
          "execution_count": 21,
          "metadata": {},
          "output_type": "execute_result"
        }
      ],
      "source": [
        "# Char autocomplete scores\n",
        "char_acscs = {'(':1, '[':2, '{':3, '<':4}\n",
        "\n",
        "def solve_part2(input):\n",
        "  code = parse(input)\n",
        "\n",
        "  pairs = {')':'(', ']':'[', '}':'{', '>':'<'}\n",
        "  scores = []\n",
        "  \n",
        "  for line in code:\n",
        "    s = Stack()\n",
        "    correct = True\n",
        "    for c in line:\n",
        "      if c in ['(', '[', '{', '<']:\n",
        "        s.push(c)\n",
        "      elif s.top.data == pairs[c]:\n",
        "        s.pop()\n",
        "      else:\n",
        "        correct = False\n",
        "    # Compute autocomplete score for incomplete lines\n",
        "    if correct:\n",
        "      #print(s)\n",
        "      score = 0\n",
        "      c = s.pop()\n",
        "      while c:\n",
        "        # Compute score\n",
        "        score = 5 * score + char_acscs[c]\n",
        "        c = s.pop()\n",
        "      # Append score to scores\n",
        "      scores.append(score)\n",
        "  return np.median(np.array(scores))\n",
        "\n",
        "solve_part2(example)"
      ]
    },
    {
      "cell_type": "code",
      "execution_count": null,
      "id": "7FqGwAg9xwP1",
      "metadata": {
        "colab": {
          "base_uri": "https://localhost:8080/"
        },
        "id": "7FqGwAg9xwP1",
        "outputId": "760ebc82-5106-45e6-93b0-b04875d640bf"
      },
      "outputs": [
        {
          "data": {
            "text/plain": [
              "2802519786.0"
            ]
          },
          "execution_count": 22,
          "metadata": {},
          "output_type": "execute_result"
        }
      ],
      "source": [
        "solve_part2(r.text)"
      ]
    },
    {
      "cell_type": "markdown",
      "id": "oRvnepamsMrB",
      "metadata": {
        "id": "oRvnepamsMrB"
      },
      "source": [
        "## [Day 9](https://adventofcode.com/2021/day/9): Smoke Basin\n",
        "### Part I\n",
        "- **Unknown**: A sum of the risk levels of all low points on a heightmap.\n",
        "- **Data**: A heightmap $n \\times ?$\n",
        "- **Condition**:\n",
        "  - Diagonal locations do not count as adjacent.\n",
        "  - The risk level of a low point is 1 plus its height.\n",
        "- **Plan**:\n",
        "  - Create a matrix\n",
        "  - Bound the matrix with `9` to simplify search over location using indices\n",
        "  - Initialize the sum of the risk levels `rl_sum` = 0\n",
        "  - Iterate over rows, check adjucent locations, adjust `rl_sum` in locally lowest points."
      ]
    },
    {
      "cell_type": "code",
      "execution_count": null,
      "id": "Hp18hLAxvPA_",
      "metadata": {
        "id": "Hp18hLAxvPA_"
      },
      "outputs": [],
      "source": [
        "example = \"\"\"2199943210\n",
        "3987894921\n",
        "9856789892\n",
        "8767896789\n",
        "9899965678\"\"\""
      ]
    },
    {
      "cell_type": "code",
      "execution_count": null,
      "id": "Hbl7_hwtvO6H",
      "metadata": {
        "colab": {
          "base_uri": "https://localhost:8080/"
        },
        "id": "Hbl7_hwtvO6H",
        "outputId": "7a7c60ce-8168-4adf-c9e1-aa16a73c1fe5"
      },
      "outputs": [
        {
          "data": {
            "text/plain": [
              "array([[9, 9, 9, 9, 9, 9, 9, 9, 9, 9, 9, 9],\n",
              "       [9, 2, 1, 9, 9, 9, 4, 3, 2, 1, 0, 9],\n",
              "       [9, 3, 9, 8, 7, 8, 9, 4, 9, 2, 1, 9],\n",
              "       [9, 9, 8, 5, 6, 7, 8, 9, 8, 9, 2, 9],\n",
              "       [9, 8, 7, 6, 7, 8, 9, 6, 7, 8, 9, 9],\n",
              "       [9, 9, 8, 9, 9, 9, 6, 5, 6, 7, 8, 9],\n",
              "       [9, 9, 9, 9, 9, 9, 9, 9, 9, 9, 9, 9]])"
            ]
          },
          "execution_count": 30,
          "metadata": {},
          "output_type": "execute_result"
        }
      ],
      "source": [
        "def parse(data):\n",
        "  # Read the baseline map\n",
        "  hmap_bl = np.array([list(row) for row in data.split()]).astype(int)\n",
        "  # Add vertical boundaries\n",
        "  b = 9*np.ones(hmap_bl.shape[1]).reshape(1,-1).astype(int)\n",
        "  hmap = np.vstack((b,hmap_bl,b))\n",
        "  # Add horizontal boundaries\n",
        "  b = 9*np.ones(hmap.shape[0]).reshape(-1,1).astype(int)\n",
        "  hmap_tg = np.hstack((b,hmap,b))\n",
        "\n",
        "  return hmap_tg\n",
        "hmap = parse(example)\n",
        "hmap"
      ]
    },
    {
      "cell_type": "code",
      "execution_count": null,
      "id": "GVx90RAZvOxm",
      "metadata": {
        "colab": {
          "base_uri": "https://localhost:8080/"
        },
        "id": "GVx90RAZvOxm",
        "outputId": "77abfca0-9f88-47bb-a695-b7a5f2a85e81"
      },
      "outputs": [
        {
          "name": "stdout",
          "output_type": "stream",
          "text": [
            "hmap.shape = (7, 12)\n"
          ]
        },
        {
          "data": {
            "text/plain": [
              "15"
            ]
          },
          "execution_count": 46,
          "metadata": {},
          "output_type": "execute_result"
        }
      ],
      "source": [
        "def solve_part1(input):\n",
        "  \"\"\"Sum the risk levels of all low points on a heightmap.\"\"\"\n",
        "  \n",
        "  # Read the hightmap (with boundary)\n",
        "  hmap = parse(input)\n",
        "  # Identify the shape of bounded map\n",
        "  r,c = hmap.shape\n",
        "  print(f\"hmap.shape = {hmap.shape}\")\n",
        "  # Initialize sum of risk levels\n",
        "  rl_sum = 0\n",
        "  # Iterate over map to find local minima\n",
        "  for i in range(1,r-1):\n",
        "    for j in range(1,c-1):\n",
        "      if hmap[i,j] == min(\n",
        "          hmap[i,j],\n",
        "          hmap[i-1,j],\n",
        "          hmap[i+1,j],\n",
        "          hmap[i,j-1],\n",
        "          hmap[i,j+1]\n",
        "      ) and hmap[i,j] != 9:\n",
        "        rl_sum += hmap[i,j]+1\n",
        "        # print(f\"hmap[{i},{j}] = {hmap[i,j]}, rl_sum = {rl_sum}.\")\n",
        "  return rl_sum\n",
        "\n",
        "solve_part1(example)"
      ]
    },
    {
      "cell_type": "code",
      "execution_count": null,
      "id": "c-iD2aMZ2ytr",
      "metadata": {
        "colab": {
          "base_uri": "https://localhost:8080/"
        },
        "id": "c-iD2aMZ2ytr",
        "outputId": "c548a7bb-0ae8-4e5b-bd52-ff5a6476670b"
      },
      "outputs": [
        {
          "data": {
            "text/plain": [
              "array([[9, 2, 1, 2, 3, 4, 5, 6, 9, 9, 9, 8, 7, 6, 5, 6, 7, 8, 9, 9, 8, 7,\n",
              "        5, 1, 0, 1, 2, 5, 6, 7, 8, 9, 1, 0, 9, 9, 9, 9, 9, 8, 4, 3, 2, 1,\n",
              "        9, 8, 9, 9, 8, 9, 8, 9, 9, 5, 4, 3, 2, 4, 9, 8, 7, 8, 9, 4, 5, 6,\n",
              "        7, 8, 9, 9, 6, 5, 4, 2, 1, 0, 1, 9, 8, 9, 8, 7, 7, 6, 6, 7, 8, 9,\n",
              "        9, 8, 7, 8, 9, 8, 9, 1, 2, 3, 6, 9, 9, 9],\n",
              "       [9, 9, 9, 9, 9, 9, 9, 9, 9, 9, 9, 9, 9, 9, 9, 9, 9, 9, 9, 9, 9, 9,\n",
              "        9, 9, 9, 9, 9, 9, 9, 9, 9, 9, 9, 9, 9, 9, 9, 9, 9, 9, 9, 9, 9, 9,\n",
              "        9, 9, 9, 9, 9, 9, 9, 9, 9, 9, 9, 9, 9, 9, 9, 9, 9, 9, 9, 9, 9, 9,\n",
              "        9, 9, 9, 9, 9, 9, 9, 9, 9, 9, 9, 9, 9, 9, 9, 9, 9, 9, 9, 9, 9, 9,\n",
              "        9, 9, 9, 9, 9, 9, 9, 9, 9, 9, 9, 9, 9, 9]])"
            ]
          },
          "execution_count": 36,
          "metadata": {},
          "output_type": "execute_result"
        }
      ],
      "source": [
        "r = requests.get(path+'AoC2021_09.txt')\n",
        "hmap = parse(r.text[:-1])\n",
        "hmap[-2:]"
      ]
    },
    {
      "cell_type": "code",
      "execution_count": null,
      "id": "LXw8UD0oAB4v",
      "metadata": {
        "colab": {
          "base_uri": "https://localhost:8080/"
        },
        "id": "LXw8UD0oAB4v",
        "outputId": "49a67e12-dd48-4f09-b585-3e3228016f4a"
      },
      "outputs": [
        {
          "data": {
            "text/plain": [
              "array([[9, 9, 9],\n",
              "       [9, 9, 9],\n",
              "       [8, 9, 8]])"
            ]
          },
          "execution_count": 44,
          "metadata": {},
          "output_type": "execute_result"
        }
      ],
      "source": [
        "hmap[0:3,35:38]"
      ]
    },
    {
      "cell_type": "code",
      "execution_count": null,
      "id": "X76CuGrR2yfD",
      "metadata": {
        "colab": {
          "base_uri": "https://localhost:8080/"
        },
        "id": "X76CuGrR2yfD",
        "outputId": "65291cce-cc9f-4976-c34e-2d2df2a4298f"
      },
      "outputs": [
        {
          "name": "stdout",
          "output_type": "stream",
          "text": [
            "hmap.shape = (102, 102)\n"
          ]
        },
        {
          "data": {
            "text/plain": [
              "572"
            ]
          },
          "execution_count": 47,
          "metadata": {},
          "output_type": "execute_result"
        }
      ],
      "source": [
        "solve_part1(r.text[:-1])"
      ]
    },
    {
      "cell_type": "markdown",
      "id": "08YyUGYFInCx",
      "metadata": {
        "id": "08YyUGYFInCx"
      },
      "source": [
        "## Part II\n",
        "- **Unknown**: The product of the sizes of the three largest basins.\n",
        "- **Data**: The same heightmap as in the part I.\n",
        "- **Condition**: Locations of height 9 do not count as being in any basin (these are boundaries of basins), and all other locations will always be part of exactly one basin.\n",
        "- **Plan**:\n",
        "  - Construct a Basin object with methods\n",
        "    - \\_\\_init__() (initializes the lowest point)\n",
        "    - add_location(), \n",
        "    - get_size()\n",
        "    - explore_hmap() (use recursion to map the whole basin)\n",
        "    - \\_\\_lt__() (to enable sorting according to the size)\n",
        "    - \\_\\_repr__()\n",
        "  - Map basins in the heightmap\n",
        "    - Begin with the hight = 0\n",
        "    - Explore all basins with this bottom\n",
        "    - Increment hight and repeat over all so far not explored locations up to hight 7\n",
        "  - Determine size of the three largest basins and return their product."
      ]
    },
    {
      "cell_type": "code",
      "execution_count": null,
      "id": "xxxcOddP-Gqu",
      "metadata": {
        "id": "xxxcOddP-Gqu"
      },
      "outputs": [],
      "source": [
        "class Basin():\n",
        "  def __init__(self, lowest):\n",
        "    self.locs = [lowest]\n",
        "    self.bottom = lowest\n",
        "\n",
        "  def add_location(self, loc):\n",
        "    self.locs.append(loc)\n",
        "  \n",
        "  def check_location(self, loc):\n",
        "    \"\"\"Return True if loc in this basin.\"\"\"\n",
        "    return loc in self.locs\n",
        "  \n",
        "  def get_size(self):\n",
        "    return len(self.locs)\n",
        "  \n",
        "  def explore_hmap(self, hmap, loc):\n",
        "    \"\"\"For all directions if hight is not 9, add location and explore it.\"\"\"\n",
        "    \n",
        "    # Initialize coordinates\n",
        "    r,c = loc\n",
        "    for i,j in [[r-1,c], [r+1,c],[r,c-1],[r,c+1]]:\n",
        "      # If adjucent location is not in the basin or in the boundary\n",
        "      if not self.check_location([i,j]) and hmap[i,j] != 9:\n",
        "        # Add location to the basin\n",
        "        self.add_location([i,j])\n",
        "        # Explore location recurively\n",
        "        self.explore_hmap(hmap, [i,j])\n",
        "\n",
        "  def __lt__(self, other):\n",
        "    return self.get_size() < other.get_size()\n",
        "\n",
        "  def __repr__(self):\n",
        "    return f\"Basin(bottom={self.bottom}, size={self.get_size()})\""
      ]
    },
    {
      "cell_type": "code",
      "execution_count": null,
      "id": "BVECyyDDOwx4",
      "metadata": {
        "colab": {
          "base_uri": "https://localhost:8080/"
        },
        "id": "BVECyyDDOwx4",
        "outputId": "2edc4f0e-acc7-48c7-9987-55e2b8bb7446"
      },
      "outputs": [
        {
          "name": "stdout",
          "output_type": "stream",
          "text": [
            "hmap.shape = (7, 12)\n",
            "The number of explored basins is 4.\n",
            "The three largest basins: [Basin(bottom=[3, 3], size=14), Basin(bottom=[1, 10], size=9), Basin(bottom=[5, 7], size=9)]\n"
          ]
        },
        {
          "data": {
            "text/plain": [
              "1134"
            ]
          },
          "execution_count": 113,
          "metadata": {},
          "output_type": "execute_result"
        }
      ],
      "source": [
        "def solve_part2(input):\n",
        "  \"\"\"Explore basins\"\"\"\n",
        "\n",
        "  # Read the hightmap with boundary\n",
        "  hmap = parse(input)\n",
        "  # Identify the shape of bounded map\n",
        "  r,c = hmap.shape\n",
        "  print(f\"hmap.shape = {hmap.shape}\")\n",
        "  # Initialize list of basins\n",
        "  basins = []\n",
        "  # Iterate over hights from 0 to 7\n",
        "  for h in range(8):\n",
        "    # Iterate over map to find local minima\n",
        "    for i in range(1,r-1):\n",
        "      for j in range(1,c-1):\n",
        "        # Performance of this check can be improved, see the text at the end of the day\n",
        "        in_some_basin = False\n",
        "        for basin in basins:\n",
        "          if basin.check_location([i,j]):\n",
        "            in_some_basin = True\n",
        "        if hmap[i,j] == h and not in_some_basin:\n",
        "          b = Basin([i,j])\n",
        "          basins.append(b)\n",
        "          # When local bottom found, explore it\n",
        "          b.explore_hmap(hmap,[i,j])\n",
        "  \n",
        "  print(f\"The number of explored basins is {len(basins)}.\")\n",
        "  print(f\"The three largest basins: {sorted(basins, reverse=True)[:3]}\")\n",
        "\n",
        "  # Take sizes of the three largest basins\n",
        "  sb = [b.get_size() for b in sorted(basins, reverse=True)[:3]]\n",
        "  \n",
        "  # Multiply the sizes\n",
        "  return sb[0]*sb[1]*sb[2]\n",
        "\n",
        "solve_part2(example)"
      ]
    },
    {
      "cell_type": "code",
      "execution_count": null,
      "id": "xmQwCjsjL6lz",
      "metadata": {
        "colab": {
          "base_uri": "https://localhost:8080/"
        },
        "id": "xmQwCjsjL6lz",
        "outputId": "fba75996-dff8-4c94-bd17-1d939002d516"
      },
      "outputs": [
        {
          "name": "stdout",
          "output_type": "stream",
          "text": [
            "hmap.shape = (102, 102)\n",
            "The number of explored basins is 242.\n",
            "The three largest basins: [Basin(bottom=[79, 52], size=99), Basin(bottom=[29, 15], size=93), Basin(bottom=[52, 48], size=92)]\n"
          ]
        },
        {
          "data": {
            "text/plain": [
              "847044"
            ]
          },
          "execution_count": 114,
          "metadata": {},
          "output_type": "execute_result"
        }
      ],
      "source": [
        "solve_part2(r.text[:-1])"
      ]
    },
    {
      "cell_type": "markdown",
      "id": "sYhoLnFDqXuB",
      "metadata": {
        "id": "sYhoLnFDqXuB"
      },
      "source": [
        "**Look back**: Algorithm works but is slow with larger map. The **opportunity for improvement**: Introduce a class variable `_explored_locs` as a shared list of explored locations. Then use this class variable instead of:\n",
        "```python\n",
        "        in_some_basin = False\n",
        "        for basin in basins:\n",
        "          if basin.check_location([i,j]):\n",
        "            in_some_basin = True\n",
        "```"
      ]
    },
    {
      "cell_type": "markdown",
      "id": "TnFAd8h1l8NI",
      "metadata": {
        "id": "TnFAd8h1l8NI"
      },
      "source": [
        "## [Day 8](https://adventofcode.com/2021/day/8): Seven Segment Search\n",
        "### Part I\n",
        "- **Unknown**: Count of the *easy* digits with unique pattern (i.e. 1, 4, 7, 8) in the output.\n",
        "- **Data**: a number of entries with 10 unique signal patterns and 4 digit output value separated by a `|` delimiter.\n",
        "\n",
        "To solve part I, I need to sum strings of length either 2 (digit 1), 3 (digit 7), 4 (digit 4), or 8 (digit 8) in the output."
      ]
    },
    {
      "cell_type": "code",
      "execution_count": null,
      "id": "HZXVSS9bl736",
      "metadata": {
        "id": "HZXVSS9bl736"
      },
      "outputs": [],
      "source": [
        "example = \"\"\"be cfbegad cbdgef fgaecd cgeb fdcge agebfd fecdb fabcd edb | fdgacbe cefdb cefbgd gcbe\n",
        "edbfga begcd cbg gc gcadebf fbgde acbgfd abcde gfcbed gfec | fcgedb cgb dgebacf gc\n",
        "fgaebd cg bdaec gdafb agbcfd gdcbef bgcad gfac gcb cdgabef | cg cg fdcagb cbg\n",
        "fbegcd cbd adcefb dageb afcb bc aefdc ecdab fgdeca fcdbega | efabcd cedba gadfec cb\n",
        "aecbfdg fbg gf bafeg dbefa fcge gcbea fcaegb dgceab fcbdga | gecf egdcabf bgf bfgea\n",
        "fgeab ca afcebg bdacfeg cfaedg gcfdb baec bfadeg bafgc acf | gebdcfa ecba ca fadegcb\n",
        "dbcfg fgd bdegcaf fgec aegbdf ecdfab fbedc dacgb gdcebf gf | cefg dcbef fcge gbcadfe\n",
        "bdfegc cbegaf gecbf dfcage bdacg ed bedf ced adcbefg gebcd | ed bcgafe cdgba cbgef\n",
        "egadfb cdbfeg cegd fecab cgb gbdefca cg fgcdab egfdb bfceg | gbdfcae bgc cg cgb\n",
        "gcafb gcf dcaebfg ecagb gf abcdeg gaef cafbge fdbac fegbdc | fgae cfgab fg bagce\"\"\""
      ]
    },
    {
      "cell_type": "code",
      "execution_count": null,
      "id": "MhSiVsu7ldZl",
      "metadata": {
        "id": "MhSiVsu7ldZl"
      },
      "outputs": [],
      "source": [
        "# A dictionary of easy digits and their counts\n",
        "digie = {1:0, 4:0, 7:0, 8:0}"
      ]
    },
    {
      "cell_type": "code",
      "execution_count": null,
      "id": "wxhC7GpWlnP1",
      "metadata": {
        "colab": {
          "base_uri": "https://localhost:8080/"
        },
        "id": "wxhC7GpWlnP1",
        "outputId": "1d082394-efe1-451d-a7be-1865b6854168"
      },
      "outputs": [
        {
          "data": {
            "text/plain": [
              "{1: 1, 4: 0, 7: 0, 8: 0}"
            ]
          },
          "execution_count": 4,
          "metadata": {},
          "output_type": "execute_result"
        }
      ],
      "source": [
        "# To add 1 to a digie counter\n",
        "digie[1] +=1\n",
        "digie"
      ]
    },
    {
      "cell_type": "code",
      "execution_count": null,
      "id": "IrnSZHthmCnM",
      "metadata": {
        "id": "IrnSZHthmCnM"
      },
      "outputs": [],
      "source": [
        "# Count values in dictionary using dictionary\n",
        "def count_easy_digits(digie, digit):\n",
        "  \"\"\"Add 1 to the relevant digie key accoding to the length\n",
        "  of the digit value.\"\"\"\n",
        "\n",
        "  x = len(digit)\n",
        "  if x == 2:\n",
        "    digie[1] += 1\n",
        "  elif x == 3:\n",
        "    digie[7] += 1\n",
        "  elif x == 4:\n",
        "    digie[4] += 1\n",
        "  elif x == 7:\n",
        "    digie[8] += 1\n",
        " \n",
        "  return "
      ]
    },
    {
      "cell_type": "code",
      "execution_count": null,
      "id": "G2ru8llYyVxZ",
      "metadata": {
        "colab": {
          "base_uri": "https://localhost:8080/"
        },
        "id": "G2ru8llYyVxZ",
        "outputId": "2e787560-3ded-4ca3-b663-031dcfae35a2"
      },
      "outputs": [
        {
          "name": "stdout",
          "output_type": "stream",
          "text": [
            "{1: 1, 4: 1, 7: 0, 8: 0}\n"
          ]
        },
        {
          "data": {
            "text/plain": [
              "2"
            ]
          },
          "execution_count": 6,
          "metadata": {},
          "output_type": "execute_result"
        }
      ],
      "source": [
        "# Test the function\n",
        "count_easy_digits(digie, 'cbce')\n",
        "print(digie)\n",
        "sum(digie.values())"
      ]
    },
    {
      "cell_type": "code",
      "execution_count": null,
      "id": "qM5q0EVpyzUh",
      "metadata": {
        "colab": {
          "base_uri": "https://localhost:8080/"
        },
        "id": "qM5q0EVpyzUh",
        "outputId": "d625c51b-c354-4895-f921-9a6b58cff6d2"
      },
      "outputs": [
        {
          "data": {
            "text/plain": [
              "[['gcafb',\n",
              "  'gcf',\n",
              "  'dcaebfg',\n",
              "  'ecagb',\n",
              "  'gf',\n",
              "  'abcdeg',\n",
              "  'gaef',\n",
              "  'cafbge',\n",
              "  'fdbac',\n",
              "  'fegbdc'],\n",
              " ['fgae', 'cfgab', 'fg', 'bagce']]"
            ]
          },
          "execution_count": 7,
          "metadata": {},
          "output_type": "execute_result"
        }
      ],
      "source": [
        "# Define the parse function\n",
        "def parse(input):\n",
        "  \"\"\"Transform string to list of entries.\n",
        "  Each entry consists of 10 signal patterns\n",
        "  and four digit output value in two lists.\"\"\"\n",
        "\n",
        "  entries = [e.split('|') for e in input.split('\\n')]\n",
        "  for entry in entries:\n",
        "    entry[0] = entry[0].split()\n",
        "    entry[1] = entry[1].split()\n",
        "\n",
        "  return entries\n",
        "\n",
        "data = parse(example)\n",
        "data[-1]"
      ]
    },
    {
      "cell_type": "code",
      "execution_count": null,
      "id": "2wGGHRpJC219",
      "metadata": {
        "colab": {
          "base_uri": "https://localhost:8080/"
        },
        "id": "2wGGHRpJC219",
        "outputId": "e869f567-6f52-467e-9301-1ca444e3dd6d"
      },
      "outputs": [
        {
          "data": {
            "text/plain": [
              "[['fcedg',\n",
              "  'cfdaegb',\n",
              "  'dbfg',\n",
              "  'egcfbd',\n",
              "  'bgc',\n",
              "  'cgbefa',\n",
              "  'cebgd',\n",
              "  'ecbad',\n",
              "  'bg',\n",
              "  'dceafg'],\n",
              " ['cgb', 'fcbgae', 'ecbda', 'gebcd']]"
            ]
          },
          "execution_count": 8,
          "metadata": {},
          "output_type": "execute_result"
        }
      ],
      "source": [
        "r = requests.get(path+'AoC2021_08.txt')\n",
        "parse(r.text[:-1])[-1]"
      ]
    },
    {
      "cell_type": "markdown",
      "id": "tDwsOAqPzk5H",
      "metadata": {
        "id": "tDwsOAqPzk5H"
      },
      "source": [
        "Is this a dead end?\n",
        "```python\n",
        "# Count values in dictionary using dictionary\n",
        "def count_easy_digits(digie, s):\n",
        "  \"\"\"Add 1 to the relevant digie key.\"\"\"\n",
        "\n",
        "  return {\n",
        "      2 : lambda: digie[1] + 1,\n",
        "      3 : lambda: digie[7] + 1,\n",
        "      4 : lambda: digie[4] + 1,\n",
        "      8 : lambda: digie[8] + 1,\n",
        "  }.get(len(s), lambda: None)()\n",
        "```"
      ]
    },
    {
      "cell_type": "code",
      "execution_count": null,
      "id": "th-KF8BIECl2",
      "metadata": {
        "id": "th-KF8BIECl2"
      },
      "outputs": [],
      "source": [
        "def solve_part1(input):\n",
        "  \"\"\"Count easy digits in the output value.\"\"\"\n",
        "  data = parse(input)\n",
        "  \n",
        "  # A dictionary of easy digits and their counts\n",
        "  digie = {1:0, 4:0, 7:0, 8:0}\n",
        "\n",
        "  for entry in data:\n",
        "    for digit in entry[1]:\n",
        "      count_easy_digits(digie, digit)\n",
        "  \n",
        "  return sum(digie.values())"
      ]
    },
    {
      "cell_type": "code",
      "execution_count": null,
      "id": "DMQPMZY6ECil",
      "metadata": {
        "colab": {
          "base_uri": "https://localhost:8080/"
        },
        "id": "DMQPMZY6ECil",
        "outputId": "ec5ea6d8-a734-45ee-c5d9-f243d9f1d13b"
      },
      "outputs": [
        {
          "data": {
            "text/plain": [
              "26"
            ]
          },
          "execution_count": 10,
          "metadata": {},
          "output_type": "execute_result"
        }
      ],
      "source": [
        "solve_part1(example)"
      ]
    },
    {
      "cell_type": "code",
      "execution_count": null,
      "id": "VnO_5gkIECfd",
      "metadata": {
        "colab": {
          "base_uri": "https://localhost:8080/"
        },
        "id": "VnO_5gkIECfd",
        "outputId": "efa55bbb-343c-4470-e6d3-224082c05dc4"
      },
      "outputs": [
        {
          "data": {
            "text/plain": [
              "321"
            ]
          },
          "execution_count": 11,
          "metadata": {},
          "output_type": "execute_result"
        }
      ],
      "source": [
        "solve_part1(r.text[:-1])"
      ]
    },
    {
      "cell_type": "markdown",
      "id": "TUDj8h5NIItO",
      "metadata": {
        "id": "TUDj8h5NIItO"
      },
      "source": [
        "### Part II\n",
        "- **Unknown**: Sum of decoded four digit seven-segment display's output values.\n",
        "- **Data**: A number of entries with 10 unique signal patterns and 4 digit output value separated by a `|` delimiter.\n",
        "- **Condition**: The mapping between signal wires and segments for each entry derived from signal pattern.\n",
        "\n",
        "To solve the puzzle:\n",
        "- for `entry` in `entries`:\n",
        "  - decode mapping between signal wires a to g and segments\n",
        "  - decode digits on the display\n",
        "  - transform digits into an integer value\n",
        "- sum values of all entries\n",
        "\n",
        "> **Hint**: I used sets. I converted each input to a set of characters and using set operations (difference, union, etc) you can determine any value using the set for four or one, which are trivial to calculate using length. Super easy and you can solve the whole thing once you've found those two sets. [PM_ME_YOUR_MECH](https://www.reddit.com/r/adventofcode/comments/rbj87a/2021_day_8_solutions/hnp3utf/?context=3)"
      ]
    },
    {
      "cell_type": "code",
      "execution_count": null,
      "id": "LDS-LrGYECce",
      "metadata": {
        "colab": {
          "base_uri": "https://localhost:8080/"
        },
        "id": "LDS-LrGYECce",
        "outputId": "3e4116be-3cef-4218-d697-54b76985c23b"
      },
      "outputs": [
        {
          "name": "stdout",
          "output_type": "stream",
          "text": [
            "0 ['a', 'b']\n",
            "1 ['a', 'b', 'd']\n",
            "2 ['a', 'b', 'e', 'f']\n",
            "3 ['b', 'c', 'd', 'e', 'f']\n",
            "4 ['a', 'c', 'd', 'f', 'g']\n",
            "5 ['a', 'b', 'c', 'd', 'f']\n",
            "6 ['a', 'b', 'c', 'd', 'e', 'f']\n",
            "7 ['b', 'c', 'd', 'e', 'f', 'g']\n",
            "8 ['a', 'b', 'c', 'd', 'e', 'g']\n",
            "9 ['a', 'b', 'c', 'd', 'e', 'f', 'g']\n"
          ]
        }
      ],
      "source": [
        "data = parse('acedgfb cdfbe gcdfa fbcad dab cefabd cdfgeb eafb cagedb ab | cdfeb fcadb cdfeb cdbaf')\n",
        "# A unique signal patterns\n",
        "usps = sorted([set(p) for p in data[0][0]], key=len)\n",
        "for i,s in enumerate(usps):\n",
        "  print(i,sorted(s))"
      ]
    },
    {
      "cell_type": "markdown",
      "id": "BNLTstZcACvM",
      "metadata": {
        "id": "BNLTstZcACvM"
      },
      "source": [
        "- The list `entry_0` holds the first part of the entry.\n",
        "- The list `usps` holds patterns sorted by length.\n",
        "- The list `dmap` holds patterns according their value.\n",
        "- The function `map_digits()` takes unique string patterns and sorts them to `map` by their decoded values."
      ]
    },
    {
      "cell_type": "markdown",
      "id": "RDjQzsLBV6nZ",
      "metadata": {
        "id": "RDjQzsLBV6nZ"
      },
      "source": [
        "The function `decode_digit()` returns the index of a set which is equivalent to `code` in input."
      ]
    },
    {
      "cell_type": "code",
      "execution_count": null,
      "id": "e_SEfjtvFDik",
      "metadata": {
        "id": "e_SEfjtvFDik"
      },
      "outputs": [],
      "source": [
        "def map_digits(entry_0):\n",
        "  \"\"\"Sort patterns according their value.\"\"\"\n",
        "  usps = sorted([set(p) for p in entry_0], key=len)\n",
        "  dmap = ['', usps[0], '', '', usps[2], '', '', usps[1], usps[9], '']\n",
        "  penta = [3,4,5]\n",
        "  # The digit 5 \n",
        "  for i in penta:\n",
        "    if usps[2].difference(usps[0]).issubset(usps[i]):\n",
        "      dmap[5] = usps[i]\n",
        "      penta.pop(penta.index(i))\n",
        "  # The digit 3\n",
        "  for i in penta:\n",
        "    if usps[0].issubset(usps[i]):\n",
        "      dmap[3] = usps[i]\n",
        "      penta.pop(penta.index(i))\n",
        "  # The digit 2 is last in penta index\n",
        "  dmap[2] = usps[penta[0]]\n",
        "\n",
        "  hexa = [6,7,8]\n",
        "  # The digit 0 \n",
        "  for i in hexa:\n",
        "    if not usps[2].difference(usps[0]).issubset(usps[i]):\n",
        "      dmap[0] = usps[i]\n",
        "      hexa.pop(hexa.index(i))\n",
        "  # The digit 9\n",
        "  for i in hexa:\n",
        "    if usps[0].issubset(usps[i]):\n",
        "      dmap[9] = usps[i]\n",
        "      hexa.pop(hexa.index(i))\n",
        "  # The digit 6 is last in hexa index\n",
        "  dmap[6] = usps[hexa[0]]\n",
        "\n",
        "  return dmap\n",
        "\n",
        "# Use dmap to decode the output\n",
        "def decode_digit(dmap, code):\n",
        "  \"\"\"Return an index of `code` in `dmap`.\"\"\"\n",
        "  for i in range(10):\n",
        "    if dmap[i] == set(code):\n",
        "      return i\n",
        "\n",
        "def solve_part2(input):\n",
        "  \"\"\"Map digits in patterns, transform outputs to values, return sum of values.\"\"\"\n",
        "\n",
        "  entries = parse(input)\n",
        "  # Initialize the output variable\n",
        "  sum = 0\n",
        "  # Iterate over entries to get the value\n",
        "  for entry in entries:\n",
        "    # Decode patterns\n",
        "    dmap = map_digits(entry[0])\n",
        "\n",
        "    # Decode output\n",
        "    value = int(''.join(map(str,[decode_digit(dmap, d) for d in entry[1]])))\n",
        "    sum += value\n",
        "\n",
        "  return sum"
      ]
    },
    {
      "cell_type": "code",
      "execution_count": null,
      "id": "39CciDlUaw1-",
      "metadata": {
        "colab": {
          "base_uri": "https://localhost:8080/"
        },
        "id": "39CciDlUaw1-",
        "outputId": "c7413261-fbee-4d72-aaff-7c6ce578df60"
      },
      "outputs": [
        {
          "data": {
            "text/plain": [
              "61229"
            ]
          },
          "execution_count": 24,
          "metadata": {},
          "output_type": "execute_result"
        }
      ],
      "source": [
        "solve_part2(example)"
      ]
    },
    {
      "cell_type": "code",
      "execution_count": null,
      "id": "diESTbwbVZIB",
      "metadata": {
        "colab": {
          "base_uri": "https://localhost:8080/"
        },
        "id": "diESTbwbVZIB",
        "outputId": "0b13f035-a8fa-4d92-f216-744eef0b3109"
      },
      "outputs": [
        {
          "data": {
            "text/plain": [
              "1028926"
            ]
          },
          "execution_count": 25,
          "metadata": {},
          "output_type": "execute_result"
        }
      ],
      "source": [
        "solve_part2(r.text[:-1])"
      ]
    },
    {
      "cell_type": "code",
      "execution_count": null,
      "id": "jOm_7bwpdyML",
      "metadata": {
        "id": "jOm_7bwpdyML"
      },
      "outputs": [],
      "source": []
    }
  ],
  "metadata": {
    "colab": {
      "include_colab_link": true,
      "name": "AoC_08.ipynb",
      "provenance": []
    },
    "kernelspec": {
      "display_name": "Python 3",
      "language": "python",
      "name": "python3"
    },
    "language_info": {
      "codemirror_mode": {
        "name": "ipython",
        "version": 3
      },
      "file_extension": ".py",
      "mimetype": "text/x-python",
      "name": "python",
      "nbconvert_exporter": "python",
      "pygments_lexer": "ipython3",
      "version": "3.7.11"
    }
  },
  "nbformat": 4,
  "nbformat_minor": 5
}
