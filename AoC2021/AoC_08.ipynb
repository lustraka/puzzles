{
  "nbformat": 4,
  "nbformat_minor": 5,
  "metadata": {
    "kernelspec": {
      "display_name": "Python 3",
      "language": "python",
      "name": "python3"
    },
    "language_info": {
      "codemirror_mode": {
        "name": "ipython",
        "version": 3
      },
      "file_extension": ".py",
      "mimetype": "text/x-python",
      "name": "python",
      "nbconvert_exporter": "python",
      "pygments_lexer": "ipython3",
      "version": "3.7.11"
    },
    "colab": {
      "name": "AoC_08.ipynb",
      "provenance": [],
      "include_colab_link": true
    }
  },
  "cells": [
    {
      "cell_type": "markdown",
      "metadata": {
        "id": "view-in-github",
        "colab_type": "text"
      },
      "source": [
        "<a href=\"https://colab.research.google.com/github/lustraka/puzzles/blob/main/AoC2021/AoC_08.ipynb\" target=\"_parent\"><img src=\"https://colab.research.google.com/assets/colab-badge.svg\" alt=\"Open In Colab\"/></a>"
      ]
    },
    {
      "cell_type": "markdown",
      "metadata": {
        "id": "dDZWBB4Ll10C"
      },
      "source": [
        "# Advent of Code Puzzles\n",
        "[Advent of Code 2021](https://adventofcode.com/2021) | [reddit/adventofcode](https://www.reddit.com/r/adventofcode/)"
      ],
      "id": "dDZWBB4Ll10C"
    },
    {
      "cell_type": "code",
      "metadata": {
        "id": "ri3O_1i3l2mo"
      },
      "source": [
        "import requests\n",
        "import pandas as pd\n",
        "import numpy as np\n",
        "path = 'https://raw.githubusercontent.com/lustraka/puzzles/main/AoC2021/data/'"
      ],
      "id": "ri3O_1i3l2mo",
      "execution_count": 1,
      "outputs": []
    },
    {
      "cell_type": "markdown",
      "metadata": {
        "id": "TnFAd8h1l8NI"
      },
      "source": [
        "## [Day 8](https://adventofcode.com/2021/day/8): Seven Segment Search\n",
        "### Part I\n",
        "- **Unknown**: Count of the *easy* digits with unique pattern (i.e. 1, 4, 7, 8) in the output.\n",
        "- **Data**: a number of entries with 10 unique signal patterns and 4 digit output value separated by a `|` delimiter.\n",
        "\n",
        "To solve part I, I need to sum strings of length either 2 (digit 1), 3 (digit 7), 4 (digit 4), or 8 (digit 8) in the output."
      ],
      "id": "TnFAd8h1l8NI"
    },
    {
      "cell_type": "code",
      "metadata": {
        "id": "HZXVSS9bl736"
      },
      "source": [
        "example = \"\"\"be cfbegad cbdgef fgaecd cgeb fdcge agebfd fecdb fabcd edb | fdgacbe cefdb cefbgd gcbe\n",
        "edbfga begcd cbg gc gcadebf fbgde acbgfd abcde gfcbed gfec | fcgedb cgb dgebacf gc\n",
        "fgaebd cg bdaec gdafb agbcfd gdcbef bgcad gfac gcb cdgabef | cg cg fdcagb cbg\n",
        "fbegcd cbd adcefb dageb afcb bc aefdc ecdab fgdeca fcdbega | efabcd cedba gadfec cb\n",
        "aecbfdg fbg gf bafeg dbefa fcge gcbea fcaegb dgceab fcbdga | gecf egdcabf bgf bfgea\n",
        "fgeab ca afcebg bdacfeg cfaedg gcfdb baec bfadeg bafgc acf | gebdcfa ecba ca fadegcb\n",
        "dbcfg fgd bdegcaf fgec aegbdf ecdfab fbedc dacgb gdcebf gf | cefg dcbef fcge gbcadfe\n",
        "bdfegc cbegaf gecbf dfcage bdacg ed bedf ced adcbefg gebcd | ed bcgafe cdgba cbgef\n",
        "egadfb cdbfeg cegd fecab cgb gbdefca cg fgcdab egfdb bfceg | gbdfcae bgc cg cgb\n",
        "gcafb gcf dcaebfg ecagb gf abcdeg gaef cafbge fdbac fegbdc | fgae cfgab fg bagce\"\"\""
      ],
      "id": "HZXVSS9bl736",
      "execution_count": 2,
      "outputs": []
    },
    {
      "cell_type": "code",
      "source": [
        "# A dictionary of easy digits and their counts\n",
        "digie = {1:0, 4:0, 7:0, 8:0}"
      ],
      "metadata": {
        "id": "MhSiVsu7ldZl"
      },
      "id": "MhSiVsu7ldZl",
      "execution_count": 19,
      "outputs": []
    },
    {
      "cell_type": "code",
      "source": [
        "# To add 1 to a digie counter\n",
        "digie[1] +=1\n",
        "digie"
      ],
      "metadata": {
        "id": "wxhC7GpWlnP1",
        "outputId": "71b6142c-dc3b-4372-d756-01a2cbd3d551",
        "colab": {
          "base_uri": "https://localhost:8080/"
        }
      },
      "id": "wxhC7GpWlnP1",
      "execution_count": 5,
      "outputs": [
        {
          "output_type": "execute_result",
          "data": {
            "text/plain": [
              "{1: 1, 4: 0, 7: 0, 8: 0}"
            ]
          },
          "metadata": {},
          "execution_count": 5
        }
      ]
    },
    {
      "cell_type": "code",
      "source": [
        "# Count values in dictionary using dictionary\n",
        "def count_easy_digits(digie, s):\n",
        "  \"\"\"Add 1 to the relevant digie key.\"\"\"\n",
        "  if len(s) == 2:\n",
        "    digie[1] += 1\n",
        "  elif len(s) == 3:\n",
        "    digie[7] += 1\n",
        "  elif len(s) == 4:\n",
        "    digie[4] += 1\n",
        "  elif len(s) == 8:\n",
        "    digie[8] += 1\n",
        " \n",
        "  return "
      ],
      "metadata": {
        "id": "IrnSZHthmCnM"
      },
      "id": "IrnSZHthmCnM",
      "execution_count": 23,
      "outputs": []
    },
    {
      "cell_type": "code",
      "source": [
        "# cg cg fdcagb cbg\n",
        "print(count_easy_digits(digie, 'cbce'))\n",
        "digie"
      ],
      "metadata": {
        "id": "G2ru8llYyVxZ",
        "outputId": "40b65daf-5889-4bdb-d9e3-c6ff9db93031",
        "colab": {
          "base_uri": "https://localhost:8080/"
        }
      },
      "id": "G2ru8llYyVxZ",
      "execution_count": 28,
      "outputs": [
        {
          "output_type": "stream",
          "name": "stdout",
          "text": [
            "None\n"
          ]
        },
        {
          "output_type": "execute_result",
          "data": {
            "text/plain": [
              "{1: 4, 4: 3, 7: 0, 8: 0}"
            ]
          },
          "metadata": {},
          "execution_count": 28
        }
      ]
    },
    {
      "cell_type": "code",
      "source": [
        ""
      ],
      "metadata": {
        "id": "qM5q0EVpyzUh"
      },
      "id": "qM5q0EVpyzUh",
      "execution_count": null,
      "outputs": []
    },
    {
      "cell_type": "markdown",
      "source": [
        "Is this a dead end?\n",
        "```python\n",
        "# Count values in dictionary using dictionary\n",
        "def count_easy_digits(digie, s):\n",
        "  \"\"\"Add 1 to the relevant digie key.\"\"\"\n",
        "\n",
        "  return {\n",
        "      2 : lambda: digie[1] + 1,\n",
        "      3 : lambda: digie[7] + 1,\n",
        "      4 : lambda: digie[4] + 1,\n",
        "      8 : lambda: digie[8] + 1,\n",
        "  }.get(len(s), lambda: None)()\n",
        "```"
      ],
      "metadata": {
        "id": "tDwsOAqPzk5H"
      },
      "id": "tDwsOAqPzk5H"
    }
  ]
}