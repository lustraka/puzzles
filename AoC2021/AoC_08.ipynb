{
  "nbformat": 4,
  "nbformat_minor": 5,
  "metadata": {
    "kernelspec": {
      "display_name": "Python 3",
      "language": "python",
      "name": "python3"
    },
    "language_info": {
      "codemirror_mode": {
        "name": "ipython",
        "version": 3
      },
      "file_extension": ".py",
      "mimetype": "text/x-python",
      "name": "python",
      "nbconvert_exporter": "python",
      "pygments_lexer": "ipython3",
      "version": "3.7.11"
    },
    "colab": {
      "name": "AoC_08.ipynb",
      "provenance": [],
      "include_colab_link": true
    }
  },
  "cells": [
    {
      "cell_type": "markdown",
      "metadata": {
        "id": "view-in-github",
        "colab_type": "text"
      },
      "source": [
        "<a href=\"https://colab.research.google.com/github/lustraka/puzzles/blob/main/AoC2021/AoC_08.ipynb\" target=\"_parent\"><img src=\"https://colab.research.google.com/assets/colab-badge.svg\" alt=\"Open In Colab\"/></a>"
      ]
    },
    {
      "cell_type": "markdown",
      "metadata": {
        "id": "dDZWBB4Ll10C"
      },
      "source": [
        "# Advent of Code Puzzles\n",
        "[Advent of Code 2021](https://adventofcode.com/2021) | [reddit/adventofcode](https://www.reddit.com/r/adventofcode/)"
      ],
      "id": "dDZWBB4Ll10C"
    },
    {
      "cell_type": "code",
      "metadata": {
        "id": "ri3O_1i3l2mo"
      },
      "source": [
        "import requests\n",
        "import pandas as pd\n",
        "import numpy as np\n",
        "path = 'https://raw.githubusercontent.com/lustraka/puzzles/main/AoC2021/data/'"
      ],
      "id": "ri3O_1i3l2mo",
      "execution_count": 1,
      "outputs": []
    },
    {
      "cell_type": "markdown",
      "metadata": {
        "id": "TnFAd8h1l8NI"
      },
      "source": [
        "## [Day 8](https://adventofcode.com/2021/day/8): Seven Segment Search\n",
        "### Part I\n",
        "- **Unknown**: Count of the *easy* digits with unique pattern (i.e. 1, 4, 7, 8) in the output.\n",
        "- **Data**: a number of entries with 10 unique signal patterns and 4 digit output value separated by a `|` delimiter.\n",
        "\n",
        "To solve part I, I need to sum strings of length either 2 (digit 1), 3 (digit 7), 4 (digit 4), or 8 (digit 8) in the output."
      ],
      "id": "TnFAd8h1l8NI"
    },
    {
      "cell_type": "code",
      "metadata": {
        "id": "HZXVSS9bl736"
      },
      "source": [
        "example = \"\"\"be cfbegad cbdgef fgaecd cgeb fdcge agebfd fecdb fabcd edb | fdgacbe cefdb cefbgd gcbe\n",
        "edbfga begcd cbg gc gcadebf fbgde acbgfd abcde gfcbed gfec | fcgedb cgb dgebacf gc\n",
        "fgaebd cg bdaec gdafb agbcfd gdcbef bgcad gfac gcb cdgabef | cg cg fdcagb cbg\n",
        "fbegcd cbd adcefb dageb afcb bc aefdc ecdab fgdeca fcdbega | efabcd cedba gadfec cb\n",
        "aecbfdg fbg gf bafeg dbefa fcge gcbea fcaegb dgceab fcbdga | gecf egdcabf bgf bfgea\n",
        "fgeab ca afcebg bdacfeg cfaedg gcfdb baec bfadeg bafgc acf | gebdcfa ecba ca fadegcb\n",
        "dbcfg fgd bdegcaf fgec aegbdf ecdfab fbedc dacgb gdcebf gf | cefg dcbef fcge gbcadfe\n",
        "bdfegc cbegaf gecbf dfcage bdacg ed bedf ced adcbefg gebcd | ed bcgafe cdgba cbgef\n",
        "egadfb cdbfeg cegd fecab cgb gbdefca cg fgcdab egfdb bfceg | gbdfcae bgc cg cgb\n",
        "gcafb gcf dcaebfg ecagb gf abcdeg gaef cafbge fdbac fegbdc | fgae cfgab fg bagce\"\"\""
      ],
      "id": "HZXVSS9bl736",
      "execution_count": 2,
      "outputs": []
    },
    {
      "cell_type": "code",
      "source": [
        "# A dictionary of easy digits and their counts\n",
        "digie = {1:0, 4:0, 7:0, 8:0}"
      ],
      "metadata": {
        "id": "MhSiVsu7ldZl"
      },
      "id": "MhSiVsu7ldZl",
      "execution_count": 19,
      "outputs": []
    },
    {
      "cell_type": "code",
      "source": [
        "# To add 1 to a digie counter\n",
        "digie[1] +=1\n",
        "digie"
      ],
      "metadata": {
        "colab": {
          "base_uri": "https://localhost:8080/"
        },
        "id": "wxhC7GpWlnP1",
        "outputId": "71b6142c-dc3b-4372-d756-01a2cbd3d551"
      },
      "id": "wxhC7GpWlnP1",
      "execution_count": 5,
      "outputs": [
        {
          "output_type": "execute_result",
          "data": {
            "text/plain": [
              "{1: 1, 4: 0, 7: 0, 8: 0}"
            ]
          },
          "metadata": {},
          "execution_count": 5
        }
      ]
    },
    {
      "cell_type": "code",
      "source": [
        "# Count values in dictionary using dictionary\n",
        "def count_easy_digits(digie, digit):\n",
        "  \"\"\"Add 1 to the relevant digie key accoding to the length\n",
        "  of the digit value.\"\"\"\n",
        "\n",
        "  x = len(digit)\n",
        "  if x == 2:\n",
        "    digie[1] += 1\n",
        "  elif x == 3:\n",
        "    digie[7] += 1\n",
        "  elif x == 4:\n",
        "    digie[4] += 1\n",
        "  elif x == 7:\n",
        "    digie[8] += 1\n",
        " \n",
        "  return "
      ],
      "metadata": {
        "id": "IrnSZHthmCnM"
      },
      "id": "IrnSZHthmCnM",
      "execution_count": 53,
      "outputs": []
    },
    {
      "cell_type": "code",
      "source": [
        "# Test the function\n",
        "count_easy_digits(digie, 'cbce')\n",
        "print(digie)\n",
        "sum(digie.values())"
      ],
      "metadata": {
        "colab": {
          "base_uri": "https://localhost:8080/"
        },
        "id": "G2ru8llYyVxZ",
        "outputId": "5a46a80b-73fe-4b11-fc2e-cc0f0214e614"
      },
      "id": "G2ru8llYyVxZ",
      "execution_count": 36,
      "outputs": [
        {
          "output_type": "stream",
          "name": "stdout",
          "text": [
            "None\n",
            "{1: 4, 4: 7, 7: 0, 8: 0}\n"
          ]
        },
        {
          "output_type": "execute_result",
          "data": {
            "text/plain": [
              "11"
            ]
          },
          "metadata": {},
          "execution_count": 36
        }
      ]
    },
    {
      "cell_type": "code",
      "source": [
        "# Define the parse function\n",
        "def parse(input):\n",
        "  \"\"\"Transform string to list of entries.\n",
        "  Each entry consists of 10 signal patterns\n",
        "  and four digit output value in two lists.\"\"\"\n",
        "\n",
        "  entries = [e.split('|') for e in input.split('\\n')]\n",
        "  for entry in entries:\n",
        "    entry[0] = entry[0].split()\n",
        "    entry[1] = entry[1].split()\n",
        "\n",
        "  return entries\n",
        "\n",
        "data = parse(example)\n",
        "data[-1]"
      ],
      "metadata": {
        "colab": {
          "base_uri": "https://localhost:8080/"
        },
        "id": "qM5q0EVpyzUh",
        "outputId": "17750873-4449-4d26-96a1-9d9390e3b5cd"
      },
      "id": "qM5q0EVpyzUh",
      "execution_count": 46,
      "outputs": [
        {
          "output_type": "execute_result",
          "data": {
            "text/plain": [
              "[['gcafb',\n",
              "  'gcf',\n",
              "  'dcaebfg',\n",
              "  'ecagb',\n",
              "  'gf',\n",
              "  'abcdeg',\n",
              "  'gaef',\n",
              "  'cafbge',\n",
              "  'fdbac',\n",
              "  'fegbdc'],\n",
              " ['fgae', 'cfgab', 'fg', 'bagce']]"
            ]
          },
          "metadata": {},
          "execution_count": 46
        }
      ]
    },
    {
      "cell_type": "code",
      "source": [
        "r = requests.get(path+'AoC2021_08.txt')\n",
        "parse(r.text[:-1])[-1]"
      ],
      "metadata": {
        "id": "2wGGHRpJC219",
        "outputId": "2cf807ad-443d-4eca-eee7-e10509fb0073",
        "colab": {
          "base_uri": "https://localhost:8080/"
        }
      },
      "id": "2wGGHRpJC219",
      "execution_count": 48,
      "outputs": [
        {
          "output_type": "execute_result",
          "data": {
            "text/plain": [
              "[['fcedg',\n",
              "  'cfdaegb',\n",
              "  'dbfg',\n",
              "  'egcfbd',\n",
              "  'bgc',\n",
              "  'cgbefa',\n",
              "  'cebgd',\n",
              "  'ecbad',\n",
              "  'bg',\n",
              "  'dceafg'],\n",
              " ['cgb', 'fcbgae', 'ecbda', 'gebcd']]"
            ]
          },
          "metadata": {},
          "execution_count": 48
        }
      ]
    },
    {
      "cell_type": "markdown",
      "source": [
        "Is this a dead end?\n",
        "```python\n",
        "# Count values in dictionary using dictionary\n",
        "def count_easy_digits(digie, s):\n",
        "  \"\"\"Add 1 to the relevant digie key.\"\"\"\n",
        "\n",
        "  return {\n",
        "      2 : lambda: digie[1] + 1,\n",
        "      3 : lambda: digie[7] + 1,\n",
        "      4 : lambda: digie[4] + 1,\n",
        "      8 : lambda: digie[8] + 1,\n",
        "  }.get(len(s), lambda: None)()\n",
        "```"
      ],
      "metadata": {
        "id": "tDwsOAqPzk5H"
      },
      "id": "tDwsOAqPzk5H"
    },
    {
      "cell_type": "code",
      "source": [
        "def solve_part1(input):\n",
        "  \"\"\"Count easy digits in the output value.\"\"\"\n",
        "  data = parse(input)\n",
        "  \n",
        "  # A dictionary of easy digits and their counts\n",
        "  digie = {1:0, 4:0, 7:0, 8:0}\n",
        "\n",
        "  for entry in data:\n",
        "    for digit in entry[1]:\n",
        "      count_easy_digits(digie, digit)\n",
        "  \n",
        "  return sum(digie.values())"
      ],
      "metadata": {
        "id": "th-KF8BIECl2"
      },
      "id": "th-KF8BIECl2",
      "execution_count": 51,
      "outputs": []
    },
    {
      "cell_type": "code",
      "source": [
        "solve_part1(example)"
      ],
      "metadata": {
        "id": "DMQPMZY6ECil",
        "outputId": "322ad876-332d-4a11-986c-b672d008d4c6",
        "colab": {
          "base_uri": "https://localhost:8080/"
        }
      },
      "id": "DMQPMZY6ECil",
      "execution_count": 54,
      "outputs": [
        {
          "output_type": "execute_result",
          "data": {
            "text/plain": [
              "26"
            ]
          },
          "metadata": {},
          "execution_count": 54
        }
      ]
    },
    {
      "cell_type": "code",
      "source": [
        "solve_part1(r.text[:-1])"
      ],
      "metadata": {
        "id": "VnO_5gkIECfd",
        "outputId": "a0022259-9256-4845-8e2c-423412aabb09",
        "colab": {
          "base_uri": "https://localhost:8080/"
        }
      },
      "id": "VnO_5gkIECfd",
      "execution_count": 55,
      "outputs": [
        {
          "output_type": "execute_result",
          "data": {
            "text/plain": [
              "321"
            ]
          },
          "metadata": {},
          "execution_count": 55
        }
      ]
    },
    {
      "cell_type": "markdown",
      "source": [
        "### Part II\n",
        "- **Unknown**: Sum of decoded four digit seven-segment display's output values.\n",
        "- **Data**: A number of entries with 10 unique signal patterns and 4 digit output value separated by a `|` delimiter.\n",
        "- **Condition**: The mapping between signal wires and segments for each entry derived from signal pattern.\n",
        "\n",
        "To solve the puzzle:\n",
        "- for `entry` in `entries`:\n",
        "  - decode mapping between signal wires a to g and segments\n",
        "  - decode digits on the display\n",
        "  - transform digits into an integer value\n",
        "- sum values of all entries\n",
        "\n",
        "> **Hint**: I used sets. I converted each input to a set of characters and using set operations (difference, union, etc) you can determine any value using the set for four or one, which are trivial to calculate using length. Super easy and you can solve the whole thing once you've found those two sets. [PM_ME_YOUR_MECH](https://www.reddit.com/r/adventofcode/comments/rbj87a/2021_day_8_solutions/hnp3utf/?context=3)"
      ],
      "metadata": {
        "id": "TUDj8h5NIItO"
      },
      "id": "TUDj8h5NIItO"
    },
    {
      "cell_type": "code",
      "source": [
        ""
      ],
      "metadata": {
        "id": "LDS-LrGYECce"
      },
      "id": "LDS-LrGYECce",
      "execution_count": null,
      "outputs": []
    }
  ]
}