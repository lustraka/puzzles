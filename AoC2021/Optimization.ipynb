{
  "nbformat": 4,
  "nbformat_minor": 5,
  "metadata": {
    "kernelspec": {
      "display_name": "Python 3",
      "language": "python",
      "name": "python3"
    },
    "language_info": {
      "codemirror_mode": {
        "name": "ipython",
        "version": 3
      },
      "file_extension": ".py",
      "mimetype": "text/x-python",
      "name": "python",
      "nbconvert_exporter": "python",
      "pygments_lexer": "ipython3",
      "version": "3.7.11"
    },
    "colab": {
      "name": "Optimization.ipynb",
      "provenance": [],
      "include_colab_link": true
    }
  },
  "cells": [
    {
      "cell_type": "markdown",
      "metadata": {
        "id": "view-in-github",
        "colab_type": "text"
      },
      "source": [
        "<a href=\"https://colab.research.google.com/github/lustraka/puzzles/blob/main/AoC2021/Optimization.ipynb\" target=\"_parent\"><img src=\"https://colab.research.google.com/assets/colab-badge.svg\" alt=\"Open In Colab\"/></a>"
      ]
    },
    {
      "cell_type": "markdown",
      "metadata": {
        "id": "dDZWBB4Ll10C"
      },
      "source": [
        "# Advent of Code Puzzles\n",
        "[Advent of Code 2021](https://adventofcode.com/2021) | [reddit/adventofcode](https://www.reddit.com/r/adventofcode/)"
      ],
      "id": "dDZWBB4Ll10C"
    },
    {
      "cell_type": "code",
      "metadata": {
        "id": "ri3O_1i3l2mo"
      },
      "source": [
        "import requests\n",
        "import pandas as pd\n",
        "import numpy as np\n",
        "path = 'https://raw.githubusercontent.com/lustraka/puzzles/main/AoC2021/data/'"
      ],
      "id": "ri3O_1i3l2mo",
      "execution_count": 1,
      "outputs": []
    },
    {
      "cell_type": "markdown",
      "metadata": {
        "id": "TnFAd8h1l8NI"
      },
      "source": [
        "## Day 7: The Treachery of Whales\n",
        "- [The Gaussian hare and the Laplacian tortoise: computability of squared-error versus absolute-error estimators](https://projecteuclid.org/journals/statistical-science/volume-12/issue-4/The-Gaussian-hare-and-the-Laplacian-tortoise--computability-of/10.1214/ss/1030037960.full)\n",
        "- [L1 regression estimates median whereas L2 regression estimates mean?](https://stats.stackexchange.com/questions/34613/l1-regression-estimates-median-whereas-l2-regression-estimates-mean)"
      ],
      "id": "TnFAd8h1l8NI"
    },
    {
      "cell_type": "code",
      "metadata": {
        "id": "HZXVSS9bl736",
        "outputId": "a4610eb4-86b1-487c-8c62-f3a91c6aca6b",
        "colab": {
          "base_uri": "https://localhost:8080/"
        }
      },
      "source": [
        "def parse(data):\n",
        "  print(data[-10:])\n",
        "  return np.array(data.split(',')).astype(int)\n",
        "\n",
        "example = \"\"\"16,1,2,0,4,2,7,1,2,14\"\"\"\n",
        "data = parse(example)\n",
        "data"
      ],
      "id": "HZXVSS9bl736",
      "execution_count": 3,
      "outputs": [
        {
          "output_type": "stream",
          "name": "stdout",
          "text": [
            "2,7,1,2,14\n"
          ]
        },
        {
          "output_type": "execute_result",
          "data": {
            "text/plain": [
              "array([16,  1,  2,  0,  4,  2,  7,  1,  2, 14])"
            ]
          },
          "metadata": {},
          "execution_count": 3
        }
      ]
    },
    {
      "cell_type": "markdown",
      "metadata": {
        "id": "M02h9rbdmDnJ"
      },
      "source": [
        "### Linear algebra ([numpy.linalg](https://numpy.org/doc/stable/reference/routines.linalg.html?highlight=linalg#module-numpy.linalg))\n",
        "The NumPy linear algebra functions rely on BLAS and LAPACK to provide efficient low level implementations of standard linear algebra algorithms.\n",
        "\n",
        "`linalg.norm(x, ord=None, axis=None, keepdims=False)` computes up to 8 matrix or vector norms (see `ord` param notes). I am not sure if computing some norm of a vector helps to solve this puzzle."
      ],
      "id": "M02h9rbdmDnJ"
    },
    {
      "cell_type": "code",
      "metadata": {
        "id": "pTEs_AiymGZg",
        "outputId": "351ac9ab-9146-4407-e824-8839a94fdb54",
        "colab": {
          "base_uri": "https://localhost:8080/"
        }
      },
      "source": [
        "from numpy import linalg as LA\n",
        "# Calculate norm of a vector \n",
        "for ord in [None, np.inf, -np.inf, 0, 1, -1, 2, -2]:\n",
        "  print(ord, '\\t:', LA.norm(data, ord))"
      ],
      "id": "pTEs_AiymGZg",
      "execution_count": 5,
      "outputs": [
        {
          "output_type": "stream",
          "name": "stdout",
          "text": [
            "None \t: 23.043437243605826\n",
            "inf \t: 16.0\n",
            "-inf \t: 0.0\n",
            "0 \t: 9.0\n",
            "1 \t: 49.0\n",
            "-1 \t: 0.0\n",
            "2 \t: 23.043437243605826\n",
            "-2 \t: 0.0\n"
          ]
        },
        {
          "output_type": "stream",
          "name": "stderr",
          "text": [
            "/usr/local/lib/python3.7/dist-packages/numpy/linalg/linalg.py:2568: RuntimeWarning: divide by zero encountered in reciprocal\n",
            "  absx **= ord\n",
            "/usr/local/lib/python3.7/dist-packages/numpy/linalg/linalg.py:2568: RuntimeWarning: divide by zero encountered in power\n",
            "  absx **= ord\n"
          ]
        }
      ]
    },
    {
      "cell_type": "markdown",
      "metadata": {
        "id": "wN8Z34nNpFKP"
      },
      "source": [
        "### Logistic Regression"
      ],
      "id": "wN8Z34nNpFKP"
    },
    {
      "cell_type": "code",
      "metadata": {
        "id": "cIv0u3Mhma-J",
        "outputId": "7d6e221b-1d2f-4cfd-b8e9-8dc123f54388",
        "colab": {
          "base_uri": "https://localhost:8080/"
        }
      },
      "source": [
        "from sklearn.linear_model import LogisticRegression\n",
        "# Fit a logit classifier\n",
        "clf = LogisticRegression(penalty='l1', solver='liblinear')\n",
        "clf.fit(data.reshape(-1,1), range(len(data)))\n",
        "print(clf.get_params())\n",
        "print(clf.coef_)"
      ],
      "id": "cIv0u3Mhma-J",
      "execution_count": 6,
      "outputs": [
        {
          "output_type": "stream",
          "name": "stdout",
          "text": [
            "{'C': 1.0, 'class_weight': None, 'dual': False, 'fit_intercept': True, 'intercept_scaling': 1, 'l1_ratio': None, 'max_iter': 100, 'multi_class': 'auto', 'n_jobs': None, 'penalty': 'l1', 'random_state': None, 'solver': 'liblinear', 'tol': 0.0001, 'verbose': 0, 'warm_start': False}\n",
            "[[ 0.09925042]\n",
            " [-0.73858838]\n",
            " [-0.40472746]\n",
            " [-1.19730294]\n",
            " [-0.1521671 ]\n",
            " [-0.40476536]\n",
            " [-0.04231978]\n",
            " [-0.7385805 ]\n",
            " [-0.40471565]\n",
            " [ 0.06277647]]\n"
          ]
        }
      ]
    },
    {
      "cell_type": "code",
      "metadata": {
        "id": "rONmDtFEpUgp"
      },
      "source": [
        ""
      ],
      "id": "rONmDtFEpUgp",
      "execution_count": null,
      "outputs": []
    }
  ]
}