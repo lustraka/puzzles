{
 "cells": [
  {
   "cell_type": "code",
   "execution_count": 1,
   "metadata": {},
   "outputs": [
    {
     "name": "stdout",
     "output_type": "stream",
     "text": [
      "- [Day 1: ]()\n",
      "\t- Part I\n",
      "\t- Part II\n",
      "- [Day 2: ]()\n",
      "\t- Part I\n",
      "\t- Part II\n",
      "- [Day 3: ]()\n",
      "\t- Part I\n",
      "\t- Part II\n",
      "- [Day 4: ]()\n",
      "\t- Part I\n",
      "\t- Part II\n",
      "- [Day 5: ]()\n",
      "\t- Part I\n",
      "\t- Part II\n",
      "- [Day 6: ]()\n",
      "\t- Part I\n",
      "\t- Part II\n",
      "- [Day 7: ]()\n",
      "\t- Part I\n",
      "\t- Part II\n",
      "- [Day 8: ]()\n",
      "\t- Part I\n",
      "\t- Part II\n",
      "- [Day 9: ]()\n",
      "\t- Part I\n",
      "\t- Part II\n",
      "- [Day 10: ]()\n",
      "\t- Part I\n",
      "\t- Part II\n",
      "- [Day 11: ]()\n",
      "\t- Part I\n",
      "\t- Part II\n",
      "- [Day 12: ]()\n",
      "\t- Part I\n",
      "\t- Part II\n",
      "- [Day 13: ]()\n",
      "\t- Part I\n",
      "\t- Part II\n",
      "- [Day 14: ]()\n",
      "\t- Part I\n",
      "\t- Part II\n",
      "- [Day 15: ]()\n",
      "\t- Part I\n",
      "\t- Part II\n",
      "- [Day 16: ]()\n",
      "\t- Part I\n",
      "\t- Part II\n",
      "- [Day 17: ]()\n",
      "\t- Part I\n",
      "\t- Part II\n",
      "- [Day 18: ]()\n",
      "\t- Part I\n",
      "\t- Part II\n",
      "- [Day 19: ]()\n",
      "\t- Part I\n",
      "\t- Part II\n",
      "- [Day 20: ]()\n",
      "\t- Part I\n",
      "\t- Part II\n",
      "- [Day 21: ]()\n",
      "\t- Part I\n",
      "\t- Part II\n",
      "- [Day 22: ]()\n",
      "\t- Part I\n",
      "\t- Part II\n",
      "- [Day 23: ]()\n",
      "\t- Part I\n",
      "\t- Part II\n",
      "- [Day 24: ]()\n",
      "\t- Part I\n",
      "\t- Part II\n",
      "- [Day 25: ]()\n",
      "\t- Part I\n",
      "\t- Part II\n"
     ]
    }
   ],
   "source": [
    "for d in range(1,26):\n",
    "    print(f\"- [Day {d}: ]()\")\n",
    "    print('\\t- Part I')\n",
    "    print('\\t- Part II')"
   ]
  },
  {
   "cell_type": "code",
   "execution_count": null,
   "metadata": {},
   "outputs": [],
   "source": []
  }
 ],
 "metadata": {
  "interpreter": {
   "hash": "7abf9b56ac517bedcfc5fddd01d3dc81f318d12e43fd744a3fbbe0f69873f226"
  },
  "kernelspec": {
   "display_name": "Python 3.9.7 64-bit ('base': conda)",
   "language": "python",
   "name": "python3"
  },
  "language_info": {
   "codemirror_mode": {
    "name": "ipython",
    "version": 3
   },
   "file_extension": ".py",
   "mimetype": "text/x-python",
   "name": "python",
   "nbconvert_exporter": "python",
   "pygments_lexer": "ipython3",
   "version": "3.9.7"
  },
  "orig_nbformat": 4
 },
 "nbformat": 4,
 "nbformat_minor": 2
}
