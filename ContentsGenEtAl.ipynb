{
 "cells": [
  {
   "cell_type": "code",
   "execution_count": 1,
   "metadata": {},
   "outputs": [],
   "source": [
    "from pathlib import Path\n",
    "from collections import Counter\n",
    "import datetime"
   ]
  },
  {
   "cell_type": "code",
   "execution_count": 2,
   "metadata": {},
   "outputs": [],
   "source": [
    "def print_contents():\n",
    "    \"\"\"Print bullets for 25 days of contest with two parts.\"\"\"\n",
    "    for d in range(1,26):\n",
    "        print(f\"- [Day {d}: ]()\")\n",
    "        print('\\t- Part I')\n",
    "        print('\\t- Part II')"
   ]
  },
  {
   "cell_type": "code",
   "execution_count": 13,
   "metadata": {},
   "outputs": [
    {
     "name": "stdout",
     "output_type": "stream",
     "text": [
      "## `puzzles` Directory Tree\n",
      "2022-01-10: {'': 5, '.ipynb': 1, '.md': 1}\n",
      "  - AoC2019 {'': 5, '.ipynb': 1, '.md': 1}\n",
      "    - 01_the_tyrany_of_the_rocket_equation {'': 3, '.py': 3, '.txt': 2}\n",
      "    - 02_1202_program_alarm {'': 2, '.ipynb': 1, '.py': 2, '.txt': 2}\n",
      "    - 03_crossed_wires {'.ipynb': 1, '.txt': 4}\n",
      "    - 04_secure_container {'.ipynb': 1}\n",
      "    - 05_sunny_asteroids {'.ipynb': 1}\n",
      "  - AoC2021 {'.ipynb': 10, '': 1, '.md': 1}\n",
      "    - data {'.txt': 19}\n"
     ]
    }
   ],
   "source": [
    "def print_dir_tree():\n",
    "    \"\"\"Print (current working) directory tree and indicate the content by counts.\"\"\"\n",
    "    path = Path.cwd()\n",
    "    ignore = ['.git', '.pytest_cache', '.vscode']\n",
    "    print(f\"## `{path.parts[-1]}` Directory Tree\")\n",
    "    print(f\"{str(datetime.date.today())}: {dict(Counter(p.suffix for p in path.iterdir()))}\")\n",
    "    for item in sorted(path.rglob('*')):\n",
    "        if item.is_dir() and not '.git' in str(item) and not '.pytest_cache' in str(item) and not '.vscode' in str(item) and not '__pycache__' in str(item):\n",
    "            depth = len(item.relative_to(path).parts)\n",
    "            spacer = '  ' * depth\n",
    "            print(f\"{spacer}- {item.name} {dict(Counter(p.suffix for p in item.iterdir()))}\")\n",
    "\n",
    "print_dir_tree()"
   ]
  },
  {
   "cell_type": "code",
   "execution_count": 17,
   "metadata": {},
   "outputs": [
    {
     "data": {
      "text/plain": [
       "-1"
      ]
     },
     "execution_count": 17,
     "metadata": {},
     "output_type": "execute_result"
    }
   ],
   "source": [
    "'abcdefg'.rfind('x')"
   ]
  },
  {
   "cell_type": "code",
   "execution_count": null,
   "metadata": {},
   "outputs": [],
   "source": []
  }
 ],
 "metadata": {
  "interpreter": {
   "hash": "7abf9b56ac517bedcfc5fddd01d3dc81f318d12e43fd744a3fbbe0f69873f226"
  },
  "kernelspec": {
   "display_name": "Python 3.9.7 64-bit ('base': conda)",
   "language": "python",
   "name": "python3"
  },
  "language_info": {
   "codemirror_mode": {
    "name": "ipython",
    "version": 3
   },
   "file_extension": ".py",
   "mimetype": "text/x-python",
   "name": "python",
   "nbconvert_exporter": "python",
   "pygments_lexer": "ipython3",
   "version": "3.9.7"
  },
  "orig_nbformat": 4
 },
 "nbformat": 4,
 "nbformat_minor": 2
}
